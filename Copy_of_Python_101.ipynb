{
  "nbformat": 4,
  "nbformat_minor": 0,
  "metadata": {
    "colab": {
      "name": "Copy of Python_101",
      "provenance": [],
      "collapsed_sections": [
        "66ZXA3t38RMY",
        "3221r27L9fi3",
        "Ns8vIU391Nlt",
        "YXl40TsX7MWw",
        "eY0DY9999AAu",
        "roJk0yzv9LYn",
        "KWQ6tgjOZioU",
        "9bLnJ_4N8Kfi",
        "jpz5t7DgF2cH",
        "Oc2SSHnWF4av",
        "W3QZA0KwIDSP",
        "Y3ew5B7vK3tr",
        "5m96hptCLOdb",
        "jiJ4fn0cLR_p",
        "2LcoUZ7oLdP-",
        "M_PpHpy9LjN2",
        "2cuudaraLx_B",
        "rrFmkw4GNIZf",
        "C6VjEHIaeQVw",
        "I6xT_yNLeX8f",
        "3PoEhfoTg_3V"
      ],
      "authorship_tag": "ABX9TyNVVMwyVyzi/YcajSxnQtHE",
      "include_colab_link": true
    },
    "kernelspec": {
      "name": "python3",
      "display_name": "Python 3"
    },
    "language_info": {
      "name": "python"
    }
  },
  "cells": [
    {
      "cell_type": "markdown",
      "metadata": {
        "id": "view-in-github",
        "colab_type": "text"
      },
      "source": [
        "<a href=\"https://colab.research.google.com/github/abalaji-blr/PythonLang/blob/main/Copy_of_Python_101.ipynb\" target=\"_parent\"><img src=\"https://colab.research.google.com/assets/colab-badge.svg\" alt=\"Open In Colab\"/></a>"
      ]
    },
    {
      "cell_type": "markdown",
      "metadata": {
        "id": "66ZXA3t38RMY"
      },
      "source": [
        "## Comments\n"
      ]
    },
    {
      "cell_type": "code",
      "metadata": {
        "id": "SRIqTwsc8J_O"
      },
      "source": [
        "# this is single line comment"
      ],
      "execution_count": null,
      "outputs": []
    },
    {
      "cell_type": "code",
      "metadata": {
        "colab": {
          "base_uri": "https://localhost:8080/",
          "height": 35
        },
        "id": "QXsY9jCj8XtK",
        "outputId": "bfaf7173-9f31-420e-ce6b-e8afdf98bcaa"
      },
      "source": [
        "\"\"\" Use mutli line strings as\n",
        "    multi line comments\"\"\""
      ],
      "execution_count": null,
      "outputs": [
        {
          "output_type": "execute_result",
          "data": {
            "application/vnd.google.colaboratory.intrinsic+json": {
              "type": "string"
            },
            "text/plain": [
              "' Use mutli line strings as\\n    multi line comments'"
            ]
          },
          "metadata": {},
          "execution_count": 2
        }
      ]
    },
    {
      "cell_type": "code",
      "metadata": {
        "colab": {
          "base_uri": "https://localhost:8080/",
          "height": 35
        },
        "id": "-kQiB22S88bX",
        "outputId": "38154a80-8f6d-4355-8ae5-43c06686c8a3"
      },
      "source": [
        "''' You can use single quotes as well\n",
        "for multi line comments'''"
      ],
      "execution_count": null,
      "outputs": [
        {
          "output_type": "execute_result",
          "data": {
            "application/vnd.google.colaboratory.intrinsic+json": {
              "type": "string"
            },
            "text/plain": [
              "' You can use single quotes as well\\nfor multi line comments'"
            ]
          },
          "metadata": {},
          "execution_count": 3
        }
      ]
    },
    {
      "cell_type": "code",
      "metadata": {
        "colab": {
          "base_uri": "https://localhost:8080/"
        },
        "id": "nbW2A8IbBtyh",
        "outputId": "5e1f5022-e2f7-498d-d68a-005f1866904f"
      },
      "source": [
        "def my_func():\n",
        "   \"\"\" this function does the following\n",
        "   it takes no argument.\n",
        "   it returns None.\n",
        "   You can use this for documentation\"\"\"\n",
        "   return None\n",
        "\n",
        "print(my_func)"
      ],
      "execution_count": null,
      "outputs": [
        {
          "output_type": "stream",
          "name": "stdout",
          "text": [
            "<function my_func at 0x7fb87ef470e0>\n"
          ]
        }
      ]
    },
    {
      "cell_type": "markdown",
      "metadata": {
        "id": "3221r27L9fi3"
      },
      "source": [
        "## Multi line statments"
      ]
    },
    {
      "cell_type": "code",
      "metadata": {
        "colab": {
          "base_uri": "https://localhost:8080/"
        },
        "id": "Ov6mAMan9Hun",
        "outputId": "f61f25f6-03c8-446a-fca1-fa461d372886"
      },
      "source": [
        "a = [ 1,\n",
        "     2,\n",
        "     3\n",
        "     ]\n",
        "print(a)\n",
        "\n",
        "b = [ 4, # first item\n",
        "     5,  # second item\n",
        "     6   # third item\n",
        "     ]\n",
        "print(b)\n",
        "\n",
        "def add( op1, # first operand\n",
        "        op2  # second operand\n",
        "        ):\n",
        "  return( op1 + op2)\n",
        "\n",
        "print(add(4, 5))\n",
        "\n",
        "# for line continuation, you have to escape with backslash\n",
        "if a[0] < b[0] \\\n",
        "  and a[1] < b[1] \\\n",
        "  and a[2] < b[2]:\n",
        "  print(\"I am here!\")"
      ],
      "execution_count": null,
      "outputs": [
        {
          "output_type": "stream",
          "name": "stdout",
          "text": [
            "[1, 2, 3]\n",
            "[4, 5, 6]\n",
            "9\n",
            "I am here!\n"
          ]
        }
      ]
    },
    {
      "cell_type": "markdown",
      "metadata": {
        "id": "Ns8vIU391Nlt"
      },
      "source": [
        "## Built in Data types"
      ]
    },
    {
      "cell_type": "markdown",
      "metadata": {
        "id": "YXl40TsX7MWw"
      },
      "source": [
        "### Sequences - Ordersed Set"
      ]
    },
    {
      "cell_type": "markdown",
      "metadata": {
        "id": "eY0DY9999AAu"
      },
      "source": [
        "#### Mutable Sequences : Lists and Bytearrays"
      ]
    },
    {
      "cell_type": "code",
      "metadata": {
        "colab": {
          "base_uri": "https://localhost:8080/"
        },
        "id": "pxT4bGHr9qO5",
        "outputId": "995053b5-70ae-4db4-a62f-7bc8c2dec5c4"
      },
      "source": [
        "a = [1, 2, 3]\n",
        "b = list(range(5)) # stop\n",
        "c = list(range(5, 10)) # start, stop\n",
        "d = list(range(5, 40, 5)) # start, stop, step\n",
        "print(a)\n",
        "print(b)\n",
        "print(c)\n",
        "print(d)"
      ],
      "execution_count": null,
      "outputs": [
        {
          "output_type": "stream",
          "name": "stdout",
          "text": [
            "[1, 2, 3]\n",
            "[0, 1, 2, 3, 4]\n",
            "[5, 6, 7, 8, 9]\n",
            "[5, 10, 15, 20, 25, 30, 35]\n"
          ]
        }
      ]
    },
    {
      "cell_type": "markdown",
      "metadata": {
        "id": "roJk0yzv9LYn"
      },
      "source": [
        "#### Immutable Sequence: Tuples, Strings, and Bytes\n",
        "Tuples - are like lists but they are immutable."
      ]
    },
    {
      "cell_type": "code",
      "metadata": {
        "colab": {
          "base_uri": "https://localhost:8080/"
        },
        "id": "YsScTP-BARVw",
        "outputId": "fd3c61c5-b042-42ea-9942-c71946d67cda"
      },
      "source": [
        "# different ways to build tuple objects\n",
        "a1 = ()\n",
        "one_element = (20,) # it needs a comma after first entry\n",
        "a2 = (1, \\\n",
        "      2, \\\n",
        "      3, \\\n",
        "      4, \\\n",
        "      2, \\\n",
        "      3, \\\n",
        "      \"hello\")\n",
        "a3 = tuple(range(2, 10, 2)) # tuple\n",
        "print(a1)\n",
        "print(one_element)\n",
        "print(a2)\n",
        "print('length:', len(a2))\n",
        "print(a3)"
      ],
      "execution_count": null,
      "outputs": [
        {
          "output_type": "stream",
          "name": "stdout",
          "text": [
            "()\n",
            "(20,)\n",
            "(1, 2, 3, 4, 2, 3, 'hello')\n",
            "length: 7\n",
            "(2, 4, 6, 8)\n"
          ]
        }
      ]
    },
    {
      "cell_type": "code",
      "metadata": {
        "id": "HfvrrHu59VqX"
      },
      "source": [
        ""
      ],
      "execution_count": null,
      "outputs": []
    },
    {
      "cell_type": "markdown",
      "metadata": {
        "id": "KWQ6tgjOZioU"
      },
      "source": [
        "## Set\n",
        "Set is unordered and finite set of unique (no duplicates) immutable objects. In python, it's implemented using Hash tables.\n",
        "\n",
        "Note that the set elements are immutable whereas the set itself is mutable, that is we can add and delete member entries."
      ]
    },
    {
      "cell_type": "code",
      "metadata": {
        "colab": {
          "base_uri": "https://localhost:8080/"
        },
        "id": "kPR50Uy1ZoZ1",
        "outputId": "58ffd630-0ca9-454a-8958-2203bc97db34"
      },
      "source": [
        "s1 = { 10, 2, 30, 2, 6, 2}\n",
        "print(s1)\n",
        "type(s1)\n",
        "#print(s1[0]) # set object is not subscriptable\n",
        "s1.add(34)\n",
        "print(s1)"
      ],
      "execution_count": null,
      "outputs": [
        {
          "output_type": "stream",
          "name": "stdout",
          "text": [
            "{10, 2, 30, 6}\n",
            "{2, 34, 6, 10, 30}\n"
          ]
        }
      ]
    },
    {
      "cell_type": "code",
      "metadata": {
        "colab": {
          "base_uri": "https://localhost:8080/"
        },
        "id": "cN49txU0pHj8",
        "outputId": "e00ab16a-c8b2-4ca6-b397-9903e38012ec"
      },
      "source": [
        "s2 = frozenset({10,20,30})\n",
        "print(s2)\n",
        "print(type(s2))\n",
        "#s2.add(40) # error: no add method. we can't add to frozenset.\n",
        "#print(s2)"
      ],
      "execution_count": null,
      "outputs": [
        {
          "output_type": "stream",
          "name": "stdout",
          "text": [
            "frozenset({10, 20, 30})\n",
            "<class 'frozenset'>\n"
          ]
        }
      ]
    },
    {
      "cell_type": "markdown",
      "metadata": {
        "id": "9bLnJ_4N8Kfi"
      },
      "source": [
        "## Mappings / Hash Tables / Dictionaries"
      ]
    },
    {
      "cell_type": "code",
      "metadata": {
        "colab": {
          "base_uri": "https://localhost:8080/"
        },
        "id": "7aOePPJZ8nNZ",
        "outputId": "c205614a-4909-4e6b-f7d6-75dc88f4421e"
      },
      "source": [
        "tbl = {'one': 2, 'two': 3}\n",
        "\n",
        "print(tbl)\n",
        "print(tbl.items())\n",
        "print(tbl.values())\n",
        "#dict({'one': 2, 'two': 3}.items())\n",
        "#dict({'one': 2, 'two': 3}.iteritems())"
      ],
      "execution_count": null,
      "outputs": [
        {
          "output_type": "stream",
          "name": "stdout",
          "text": [
            "{'one': 2, 'two': 3}\n",
            "dict_items([('one', 2), ('two', 3)])\n",
            "dict_values([2, 3])\n"
          ]
        }
      ]
    },
    {
      "cell_type": "code",
      "metadata": {
        "id": "pjgrMur68hN0"
      },
      "source": [
        ""
      ],
      "execution_count": null,
      "outputs": []
    },
    {
      "cell_type": "markdown",
      "metadata": {
        "id": "jpz5t7DgF2cH"
      },
      "source": [
        "## Statements"
      ]
    },
    {
      "cell_type": "markdown",
      "metadata": {
        "id": "Oc2SSHnWF4av"
      },
      "source": [
        "### if : elif: else\n",
        "elif: and else: are optional"
      ]
    },
    {
      "cell_type": "code",
      "metadata": {
        "colab": {
          "base_uri": "https://localhost:8080/"
        },
        "id": "IcHHK61lF3vc",
        "outputId": "4c699d19-0d9a-4799-e1fc-9c209a304966"
      },
      "source": [
        "a = 2\n",
        "if a < 3:\n",
        "    print(\"a < 3\")\n",
        "else:\n",
        "    print(\"a >=3\")"
      ],
      "execution_count": null,
      "outputs": [
        {
          "output_type": "stream",
          "name": "stdout",
          "text": [
            "a < 3\n"
          ]
        }
      ]
    },
    {
      "cell_type": "code",
      "metadata": {
        "colab": {
          "base_uri": "https://localhost:8080/"
        },
        "id": "IONk1epcGHUs",
        "outputId": "027a0b89-7aa0-45da-88c6-ef9e2edaec8e"
      },
      "source": [
        "a = 15\n",
        "\n",
        "if a < 5:\n",
        "    print(\"a < 5\")\n",
        "elif a < 10:\n",
        "    print(\"5 <= a < 10\")\n",
        "else:\n",
        "    print(\"a >=10\")"
      ],
      "execution_count": null,
      "outputs": [
        {
          "output_type": "stream",
          "name": "stdout",
          "text": [
            "a >=10\n"
          ]
        }
      ]
    },
    {
      "cell_type": "code",
      "metadata": {
        "colab": {
          "base_uri": "https://localhost:8080/"
        },
        "id": "YU9O8omhGMhx",
        "outputId": "0cbab75c-1016-45a7-d9a8-6582fcea6737"
      },
      "source": [
        "a = 15\n",
        "res = 'a < 10' if a < 10 else 'a >=10'\n",
        "print(res)"
      ],
      "execution_count": null,
      "outputs": [
        {
          "output_type": "stream",
          "name": "stdout",
          "text": [
            "a >=10\n"
          ]
        }
      ]
    },
    {
      "cell_type": "code",
      "metadata": {
        "colab": {
          "base_uri": "https://localhost:8080/"
        },
        "id": "4KKaNG_xGnS1",
        "outputId": "8c432d52-a04a-4850-e925-53afab30ff7c"
      },
      "source": [
        "def say_hello():\n",
        "    print(\"Hello\")\n",
        "def say_world():\n",
        "    print(\"World\")\n",
        "\n",
        "a = 15\n",
        "say_hello() if a < 10 else say_world()"
      ],
      "execution_count": null,
      "outputs": [
        {
          "output_type": "stream",
          "name": "stdout",
          "text": [
            "World\n"
          ]
        }
      ]
    },
    {
      "cell_type": "markdown",
      "metadata": {
        "id": "W3QZA0KwIDSP"
      },
      "source": [
        "### for statement \n",
        "Iterate over a sequence or iterable object.\n",
        "\n",
        "The for statement can have optional else: clause.\n",
        "\n",
        "The else: clause will be executed when the for loop completes normally ie., if a break statement is not executed."
      ]
    },
    {
      "cell_type": "code",
      "metadata": {
        "colab": {
          "base_uri": "https://localhost:8080/"
        },
        "id": "Faxa6KxOGykV",
        "outputId": "59631a29-85bf-4e33-ec1d-068b31d51433"
      },
      "source": [
        "fruits = ['apple', 'orange', 'pomegrante', 'cherry']\n",
        "\n",
        "# set the iterator\n",
        "gen1 = (item.upper() for item in fruits)\n",
        "print(gen1)\n",
        "for x in gen1:\n",
        "  print(x)"
      ],
      "execution_count": null,
      "outputs": [
        {
          "output_type": "stream",
          "name": "stdout",
          "text": [
            "<generator object <genexpr> at 0x7fa5da806450>\n",
            "APPLE\n",
            "ORANGE\n",
            "POMEGRANTE\n",
            "CHERRY\n"
          ]
        }
      ]
    },
    {
      "cell_type": "code",
      "metadata": {
        "colab": {
          "base_uri": "https://localhost:8080/"
        },
        "id": "ZuR6IMREJb8r",
        "outputId": "88835d80-a741-412b-bb05-e44e31803b94"
      },
      "source": [
        "data1 = [ 1, 2, 3, 4]\n",
        "for item in data1:\n",
        "    if item > 100:\n",
        "      value1 = item\n",
        "      break\n",
        "else:\n",
        "    value1 = 'not found'\n",
        "\n",
        "print ('value1:', value1)\n"
      ],
      "execution_count": null,
      "outputs": [
        {
          "output_type": "stream",
          "name": "stdout",
          "text": [
            "value1: not found\n"
          ]
        }
      ]
    },
    {
      "cell_type": "markdown",
      "metadata": {
        "id": "Y3ew5B7vK3tr"
      },
      "source": [
        "### while statement"
      ]
    },
    {
      "cell_type": "code",
      "metadata": {
        "id": "QmWHTHLLKTva"
      },
      "source": [
        ""
      ],
      "execution_count": null,
      "outputs": []
    },
    {
      "cell_type": "markdown",
      "metadata": {
        "id": "5m96hptCLOdb"
      },
      "source": [
        "### Continue, break statements"
      ]
    },
    {
      "cell_type": "code",
      "metadata": {
        "id": "JyJ_0GiMLQ7x"
      },
      "source": [
        ""
      ],
      "execution_count": null,
      "outputs": []
    },
    {
      "cell_type": "markdown",
      "metadata": {
        "id": "jiJ4fn0cLR_p"
      },
      "source": [
        "### try: except: statement"
      ]
    },
    {
      "cell_type": "code",
      "metadata": {
        "id": "eKvpEwL-LYA-"
      },
      "source": [
        ""
      ],
      "execution_count": null,
      "outputs": []
    },
    {
      "cell_type": "markdown",
      "metadata": {
        "id": "2LcoUZ7oLdP-"
      },
      "source": [
        "### raise statement - To throw exceptions"
      ]
    },
    {
      "cell_type": "code",
      "metadata": {
        "id": "7dL1K6lmLhAB"
      },
      "source": [
        ""
      ],
      "execution_count": null,
      "outputs": []
    },
    {
      "cell_type": "markdown",
      "metadata": {
        "id": "M_PpHpy9LjN2"
      },
      "source": [
        "### with: statement"
      ]
    },
    {
      "cell_type": "code",
      "metadata": {
        "id": "sOn53kPDLk1B"
      },
      "source": [
        ""
      ],
      "execution_count": null,
      "outputs": []
    },
    {
      "cell_type": "markdown",
      "metadata": {
        "id": "2cuudaraLx_B"
      },
      "source": [
        "### del statement\n",
        "To delete the objects."
      ]
    },
    {
      "cell_type": "code",
      "metadata": {
        "id": "UehN7ofhL1uH"
      },
      "source": [
        ""
      ],
      "execution_count": null,
      "outputs": []
    },
    {
      "cell_type": "markdown",
      "metadata": {
        "id": "rrFmkw4GNIZf"
      },
      "source": [
        "## Functions\n",
        "\n",
        "**def** - is used to define the funtion or method. It creates function object.\n",
        "\n",
        "**return** - to return values from function. It can take **zero or more values**, separated by commas. The caller have to unpack the return values. The default value is **None**.\n",
        "\n",
        "**About Function Parameters / Arguments:**\n",
        "\n",
        "The parameters should be given in the following order.\n",
        "* Normal arguments\n",
        "* Arguments with default values. This makes that it's an optional argument.\n",
        "* Argument List (*args) - It's a tuple.\n",
        "* Keyword arguments (*kwargs) - It's a dictionary.\n",
        "\n",
        "\n",
        "**Accessing the global variables**:\n",
        "\n",
        "Inside the function, you must use global, to access or set the global variables.\n",
        "\n",
        "\n",
        "\n",
        "\n"
      ]
    },
    {
      "cell_type": "code",
      "metadata": {
        "id": "IAf4QQ5ZNJrA",
        "colab": {
          "base_uri": "https://localhost:8080/"
        },
        "outputId": "4558d11d-2de3-47e6-cecb-e5b0082d6618"
      },
      "source": [
        "# by default returns None\n",
        "def compute():\n",
        "  # nothing to compute\n",
        "  pass\n",
        "\n",
        "def compute2():\n",
        "  return None\n",
        "\n",
        "## can return more than one value\n",
        "def compute_results(x, y, z):\n",
        "  return x*3, y*4, z*5\n",
        "\n",
        "print(compute())\n",
        "print(compute2())\n",
        "\n",
        "res = compute_results(1, 2, 3)\n",
        "print(res)\n",
        "\n",
        "r1, r2, r3 = compute_results(4, 5, 6)\n",
        "print('results: ', r1, r2, r3)"
      ],
      "execution_count": 5,
      "outputs": [
        {
          "output_type": "stream",
          "name": "stdout",
          "text": [
            "None\n",
            "None\n",
            "(3, 8, 15)\n",
            "results:  12 20 30\n"
          ]
        }
      ]
    },
    {
      "cell_type": "code",
      "metadata": {
        "colab": {
          "base_uri": "https://localhost:8080/"
        },
        "id": "4_I8wyMmXkp8",
        "outputId": "f22d2929-27d4-48d6-c90e-7fab49d4dfde"
      },
      "source": [
        "'''About function parameters\n",
        "\n",
        "*args = positional args - tuple - argList\n",
        "**kwargs = keyword args - dictionary\n",
        "'''\n",
        "def test(size, step=10, *args, **kwargs):\n",
        "  print(size)\n",
        "  print(step)\n",
        "  print(args)\n",
        "  print(kwargs)\n",
        "\n",
        "test(30)\n",
        "\n",
        "# override the default value\n",
        "test(40, 20)\n",
        "\n",
        "# provide the positional args - argList\n",
        "\n",
        "test(50, 30, 11, 22, 33, 44)\n",
        "\n",
        "# provide the positional and keyword args\n",
        "test(20, 15, 33, 44, param='xyz', otherParam = 'abc', yetAnotherParam = 'rst')"
      ],
      "execution_count": 11,
      "outputs": [
        {
          "output_type": "stream",
          "name": "stdout",
          "text": [
            "30\n",
            "10\n",
            "()\n",
            "{}\n",
            "40\n",
            "20\n",
            "()\n",
            "{}\n",
            "50\n",
            "30\n",
            "(11, 22, 33, 44)\n",
            "{}\n",
            "20\n",
            "15\n",
            "(33, 44)\n",
            "{'param': 'xyz', 'otherParam': 'abc', 'yetAnotherParam': 'rst'}\n"
          ]
        }
      ]
    },
    {
      "cell_type": "markdown",
      "metadata": {
        "id": "C6VjEHIaeQVw"
      },
      "source": [
        "### Decorators for functions\n",
        "\n",
        "Let's see this in more detail in Classes section"
      ]
    },
    {
      "cell_type": "markdown",
      "metadata": {
        "id": "I6xT_yNLeX8f"
      },
      "source": [
        "### Lambda Functions\n",
        "\n",
        "They are anonymous functions - that is no function name.\n",
        "\n",
        "They contain only expressions and no statements.\n"
      ]
    },
    {
      "cell_type": "code",
      "metadata": {
        "colab": {
          "base_uri": "https://localhost:8080/"
        },
        "id": "ZR4a8LaxcRcJ",
        "outputId": "4fb3c466-ef7f-4606-bc67-19b5b5afb231"
      },
      "source": [
        "fn = lambda x, y, z: x**2 + y**2 + z\n",
        "print(fn(1,2,3))\n",
        "print(fn(2,3,4))"
      ],
      "execution_count": 15,
      "outputs": [
        {
          "output_type": "stream",
          "name": "stdout",
          "text": [
            "8\n",
            "17\n"
          ]
        }
      ]
    },
    {
      "cell_type": "code",
      "metadata": {
        "id": "jTQYPcM_gNmb"
      },
      "source": [
        ""
      ],
      "execution_count": null,
      "outputs": []
    },
    {
      "cell_type": "markdown",
      "metadata": {
        "id": "3PoEhfoTg_3V"
      },
      "source": [
        "### Iterators and Generators"
      ]
    },
    {
      "cell_type": "code",
      "metadata": {
        "id": "dpz1i2aZhCEF"
      },
      "source": [
        ""
      ],
      "execution_count": null,
      "outputs": []
    },
    {
      "cell_type": "markdown",
      "metadata": {
        "id": "BG6TpZQnSTMT"
      },
      "source": [
        "## Classes\n",
        "\n",
        "Classes enables us to create new data types. They mimic the real world objects.\n",
        "\n",
        "The member variables hold the (current) state and the methods defines the behaviour of these objects.\n",
        "\n",
        "**About Methods:**\n",
        "* Instance Methods - Most of methods take **self** as first argument. The **self** refers to the instance. Hence it's called as instance method. Note that **instead of self**, it can be any name but usually everybody uses **self**.\n",
        "\n",
        "* **Class Method**: Takes class as its first argument. Note that we don't need to have an instance to invoke this method. Use @classmethod decorator.\n",
        "\n",
        "* **Static Method**: It takes **neither instance nor class name** as first argument. Use @staticmethod decorator\n",
        "\n",
        "**Constructor**: __init__(self, args_if_any)\n",
        "\n",
        "**Calling Methods:**\n",
        "* Use instance name and dot operator.\n",
        "* Within the class - use **self**, ex: self.method_name()\n",
        "* In the case of inheritance - you can invoke using class name - Need to verify this.\n",
        "\n",
        "**Class Variable**\n",
        "It is a static variable. Note that it's different from member varaible.\n",
        "\n",
        "\n",
        "\n",
        "\n",
        "\n",
        "\n",
        "\n",
        "\n",
        "\n"
      ]
    },
    {
      "cell_type": "code",
      "metadata": {
        "colab": {
          "base_uri": "https://localhost:8080/"
        },
        "id": "nDziCh1eSXNu",
        "outputId": "8b5ddc04-5831-4083-cfca-322b604ee3a4"
      },
      "source": [
        "# A simple class\n",
        "\n",
        "class A:\n",
        "  pass\n",
        "\n",
        "a = A()\n",
        "print(a)\n",
        "type(a)"
      ],
      "execution_count": 1,
      "outputs": [
        {
          "output_type": "stream",
          "name": "stdout",
          "text": [
            "<__main__.A object at 0x7f79ebb36550>\n"
          ]
        },
        {
          "output_type": "execute_result",
          "data": {
            "text/plain": [
              "__main__.A"
            ]
          },
          "metadata": {},
          "execution_count": 1
        }
      ]
    },
    {
      "cell_type": "code",
      "metadata": {
        "colab": {
          "base_uri": "https://localhost:8080/"
        },
        "id": "oldEMKxPTbIu",
        "outputId": "27474a65-7974-4728-f0b4-3025f7cb1da6"
      },
      "source": [
        "# inherit from another class\n",
        "class B(object):\n",
        "  pass\n",
        "\n",
        "b = B()\n",
        "print(b)"
      ],
      "execution_count": 2,
      "outputs": [
        {
          "output_type": "stream",
          "name": "stdout",
          "text": [
            "<__main__.B object at 0x7f79e3f120d0>\n"
          ]
        }
      ]
    },
    {
      "cell_type": "code",
      "metadata": {
        "colab": {
          "base_uri": "https://localhost:8080/"
        },
        "id": "BwZvkobSTo3B",
        "outputId": "e147d2e3-ce47-420e-819c-c9297d4d40be"
      },
      "source": [
        "## define methods\n",
        "class C(object):\n",
        "  def show(self):\n",
        "    print(\"hello from C\")\n",
        "\n",
        "c = C()\n",
        "c.show()"
      ],
      "execution_count": 3,
      "outputs": [
        {
          "output_type": "stream",
          "name": "stdout",
          "text": [
            "hello from C\n"
          ]
        }
      ]
    },
    {
      "cell_type": "code",
      "metadata": {
        "colab": {
          "base_uri": "https://localhost:8080/"
        },
        "id": "FeSIKrnIVQxj",
        "outputId": "621d2b04-4dfb-40d3-aea0-fd76e473110c"
      },
      "source": [
        "## constructor  \n",
        "class D(object):\n",
        "  def __init__(self, name):\n",
        "    self.name = name # set the member variable\n",
        "\n",
        "  def show(self):\n",
        "    print ('name: %s'% self.name)\n",
        "\n",
        "d = D('kumar')\n",
        "d.show() ## calling method\n"
      ],
      "execution_count": 6,
      "outputs": [
        {
          "output_type": "stream",
          "name": "stdout",
          "text": [
            "name: kumar\n"
          ]
        }
      ]
    },
    {
      "cell_type": "code",
      "metadata": {
        "colab": {
          "base_uri": "https://localhost:8080/"
        },
        "id": "VKvElGYwXnR8",
        "outputId": "26c84157-8893-4055-ae46-8abeb8dc642b"
      },
      "source": [
        "## static method & class method : use decorators\n",
        "class Buf():\n",
        "  size = 256  # static variable\n",
        "\n",
        "  @staticmethod\n",
        "  ## this does not receive reference to instance or class\n",
        "  def getName():\n",
        "    return \"Buf type\"\n",
        "    \n",
        "\n",
        "  @classmethod\n",
        "  # this gets the reference to class\n",
        "  def show_stat(cls):\n",
        "    print ('%s' % cls.size)\n",
        "\n",
        "print(Buf.getName())\n",
        "\n",
        "Buf.show_stat()\n",
        "\n"
      ],
      "execution_count": 11,
      "outputs": [
        {
          "output_type": "stream",
          "name": "stdout",
          "text": [
            "Buf type\n",
            "256\n"
          ]
        }
      ]
    },
    {
      "cell_type": "code",
      "metadata": {
        "id": "S_VEuo7mfZ0j"
      },
      "source": [
        ""
      ],
      "execution_count": null,
      "outputs": []
    }
  ]
}