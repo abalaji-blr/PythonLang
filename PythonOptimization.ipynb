{
  "nbformat": 4,
  "nbformat_minor": 0,
  "metadata": {
    "colab": {
      "name": "PythonOptimization.ipynb",
      "provenance": [],
      "collapsed_sections": [],
      "authorship_tag": "ABX9TyOkK7vURuokLPEMwUEJpp0N",
      "include_colab_link": true
    },
    "kernelspec": {
      "name": "python3",
      "display_name": "Python 3"
    },
    "language_info": {
      "name": "python"
    }
  },
  "cells": [
    {
      "cell_type": "markdown",
      "metadata": {
        "id": "view-in-github",
        "colab_type": "text"
      },
      "source": [
        "<a href=\"https://colab.research.google.com/github/abalaji-blr/PythonLang/blob/main/PythonOptimization.ipynb\" target=\"_parent\"><img src=\"https://colab.research.google.com/assets/colab-badge.svg\" alt=\"Open In Colab\"/></a>"
      ]
    },
    {
      "cell_type": "markdown",
      "metadata": {
        "id": "EBUzxhd4YAMu"
      },
      "source": [
        "# Python Optimization"
      ]
    },
    {
      "cell_type": "markdown",
      "metadata": {
        "id": "yr19NeH0YEYO"
      },
      "source": [
        "## Interning\n",
        "\n",
        "Interning means re-using of objects instead of creating new objects.\n",
        "\n",
        "The range for interning for integers is **[-5, 256]**\n",
        "\n",
        "**is** - compares two memory location.\n",
        "\n",
        "**id** - provides the memory location\n",
        "\n",
        "[More details refer to this article](https://towardsdatascience.com/optimization-in-python-interning-805be5e9fd3e)\n",
        "\n"
      ]
    },
    {
      "cell_type": "code",
      "metadata": {
        "colab": {
          "base_uri": "https://localhost:8080/"
        },
        "id": "uqIcl4MeX_by",
        "outputId": "b25aae1e-2306-4f46-9dd7-4b93ffdecb0a"
      },
      "source": [
        "a = 100\n",
        "b = 100\n",
        "\n",
        "# address will be same. they refer to the same object\n",
        "print( id(a), id(b))\n",
        "print('a is b:', a is b)\n"
      ],
      "execution_count": 5,
      "outputs": [
        {
          "output_type": "stream",
          "name": "stdout",
          "text": [
            "94779771999840 94779771999840\n",
            "a is b: True\n"
          ]
        }
      ]
    },
    {
      "cell_type": "code",
      "metadata": {
        "colab": {
          "base_uri": "https://localhost:8080/"
        },
        "id": "LccJV0s3YPoz",
        "outputId": "17a15d27-71ff-4ea0-d4b8-2815459d0588"
      },
      "source": [
        "a = 450\n",
        "b = 450\n",
        "\n",
        "print(id(a), id(b)) # they refer to different object even though same value,\n",
        "             # hence different addresses.\n",
        "print('a is b: ', a is b)"
      ],
      "execution_count": 6,
      "outputs": [
        {
          "output_type": "stream",
          "name": "stdout",
          "text": [
            "140434190445776 140434190445904\n",
            "a is b:  False\n"
          ]
        }
      ]
    },
    {
      "cell_type": "markdown",
      "metadata": {
        "id": "hAmSXXT0fNQV"
      },
      "source": [
        "## String Interning\n",
        "\n",
        "String will be reused, which looked like identifiers."
      ]
    },
    {
      "cell_type": "code",
      "metadata": {
        "colab": {
          "base_uri": "https://localhost:8080/"
        },
        "id": "UR96KxdZYnXn",
        "outputId": "865687a6-89e9-4f6d-b514-b665032004b8"
      },
      "source": [
        "a ='my_data'\n",
        "b = 'my_data'\n",
        "\n",
        "print(id(a), id (b))\n",
        "print('a is b', a is b)"
      ],
      "execution_count": 7,
      "outputs": [
        {
          "output_type": "stream",
          "name": "stdout",
          "text": [
            "140434190085424 140434190085424\n",
            "a is b True\n"
          ]
        }
      ]
    },
    {
      "cell_type": "code",
      "metadata": {
        "colab": {
          "base_uri": "https://localhost:8080/"
        },
        "id": "e_wy3G9rfmyD",
        "outputId": "051b8a6a-c606-4e71-e2d4-51e1925ac83a"
      },
      "source": [
        "a = 'hello world' # hello world is not an identifier.\n",
        "b = 'hello world'\n",
        "print(id(a), id (b))\n",
        "print('a is b', a is b)"
      ],
      "execution_count": 9,
      "outputs": [
        {
          "output_type": "stream",
          "name": "stdout",
          "text": [
            "140434190036912 140434190035824\n",
            "a is b False\n"
          ]
        }
      ]
    },
    {
      "cell_type": "code",
      "metadata": {
        "colab": {
          "base_uri": "https://localhost:8080/"
        },
        "id": "UKV6lZjhftBx",
        "outputId": "94c7a103-cf73-4532-ea60-00d91f4baac4"
      },
      "source": [
        "import sys\n",
        "\n",
        "# explicit intern the strings\n",
        "a = sys.intern('hello, world')\n",
        "b = sys.intern('hello, world')\n",
        "\n",
        "print(id(a), id (b))\n",
        "print('a is b', a is b)"
      ],
      "execution_count": 10,
      "outputs": [
        {
          "output_type": "stream",
          "name": "stdout",
          "text": [
            "140434190033648 140434190033648\n",
            "a is b True\n"
          ]
        }
      ]
    },
    {
      "cell_type": "markdown",
      "metadata": {
        "id": "i-ZUNw_5jv2N"
      },
      "source": [
        "## Peephole optimization\n",
        "\n",
        "It's another optimization technique. \n",
        "When python source code goes thru compilation step (converted to bytecode), **the things such as numeric expressions, strings and tuples get optimized and stored in bytecode instruction.**\n",
        "\n",
        "For more info, [refer this article](https://levelup.gitconnected.com/optimization-in-python-peephole-e9dc84cc184d)"
      ]
    },
    {
      "cell_type": "code",
      "metadata": {
        "id": "DF9XK0_pgGeb"
      },
      "source": [
        "size = 100\n",
        "def func():\n",
        "  a = 10\n",
        "  return a+size"
      ],
      "execution_count": 17,
      "outputs": []
    },
    {
      "cell_type": "code",
      "metadata": {
        "colab": {
          "base_uri": "https://localhost:8080/"
        },
        "id": "c-XAgb1eknh_",
        "outputId": "605de4f8-b047-4ce5-a5d8-83a9833a4168"
      },
      "source": [
        "print(func.__code__)\n",
        "print(func.__code__.co_consts) ## returns typle of literals\n",
        "print(func.__code__.co_varnames) ## returns tuple of local variables in function body\n",
        "print(func.__code__.co_names) ## return tuple of non local names referred"
      ],
      "execution_count": 20,
      "outputs": [
        {
          "output_type": "stream",
          "name": "stdout",
          "text": [
            "<code object func at 0x7fb961fbe9c0, file \"<ipython-input-17-31d48bae156c>\", line 2>\n",
            "(None, 10)\n",
            "('a',)\n",
            "('size',)\n"
          ]
        }
      ]
    },
    {
      "cell_type": "code",
      "metadata": {
        "id": "5seq5omQkqNq"
      },
      "source": [
        "def my_func():\n",
        "    a = 24 * 60\n",
        "    b = (1, 2) * 5\n",
        "    c = 'abc' * 3\n",
        "    d = 'ab' * 11\n",
        "    e = 'the quick brown fox' * 1000\n",
        "    f = [1, 2] * 5\n"
      ],
      "execution_count": 21,
      "outputs": []
    },
    {
      "cell_type": "code",
      "metadata": {
        "colab": {
          "base_uri": "https://localhost:8080/"
        },
        "id": "wCPAv4BwmKGN",
        "outputId": "bc96cd72-84ad-421a-b1d7-c2025aa10fe6"
      },
      "source": [
        "my_func.__code__.co_consts"
      ],
      "execution_count": 22,
      "outputs": [
        {
          "output_type": "execute_result",
          "data": {
            "text/plain": [
              "(None,\n",
              " 1440,\n",
              " (1, 2, 1, 2, 1, 2, 1, 2, 1, 2),\n",
              " 'abcabcabc',\n",
              " 'ababababababababababab',\n",
              " 'the quick brown fox',\n",
              " 1000,\n",
              " 1,\n",
              " 2,\n",
              " 5)"
            ]
          },
          "metadata": {},
          "execution_count": 22
        }
      ]
    },
    {
      "cell_type": "code",
      "metadata": {
        "colab": {
          "base_uri": "https://localhost:8080/"
        },
        "id": "7Gb-ZScumOyb",
        "outputId": "846efce7-44f3-429b-8022-2df7b767ae1d"
      },
      "source": [
        "my_func.__code__.co_varnames"
      ],
      "execution_count": 23,
      "outputs": [
        {
          "output_type": "execute_result",
          "data": {
            "text/plain": [
              "('a', 'b', 'c', 'd', 'e', 'f')"
            ]
          },
          "metadata": {},
          "execution_count": 23
        }
      ]
    },
    {
      "cell_type": "code",
      "metadata": {
        "colab": {
          "base_uri": "https://localhost:8080/"
        },
        "id": "aIFWzq-lmUn7",
        "outputId": "ae1eb3df-7113-494c-9a6d-a299b0fcc547"
      },
      "source": [
        "my_func.__code__.co_names"
      ],
      "execution_count": 24,
      "outputs": [
        {
          "output_type": "execute_result",
          "data": {
            "text/plain": [
              "()"
            ]
          },
          "metadata": {},
          "execution_count": 24
        }
      ]
    },
    {
      "cell_type": "code",
      "metadata": {
        "id": "FnyI5aSSmX4E"
      },
      "source": [
        ""
      ],
      "execution_count": null,
      "outputs": []
    }
  ]
}