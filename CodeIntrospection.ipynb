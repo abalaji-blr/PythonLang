{
  "nbformat": 4,
  "nbformat_minor": 0,
  "metadata": {
    "colab": {
      "name": "CodeIntrospection.ipynb",
      "provenance": [],
      "collapsed_sections": [],
      "authorship_tag": "ABX9TyPvDxMHrhELfYhU/T0BIwlA",
      "include_colab_link": true
    },
    "kernelspec": {
      "name": "python3",
      "display_name": "Python 3"
    },
    "language_info": {
      "name": "python"
    }
  },
  "cells": [
    {
      "cell_type": "markdown",
      "metadata": {
        "id": "view-in-github",
        "colab_type": "text"
      },
      "source": [
        "<a href=\"https://colab.research.google.com/github/abalaji-blr/PythonLang/blob/main/CodeIntrospection.ipynb\" target=\"_parent\"><img src=\"https://colab.research.google.com/assets/colab-badge.svg\" alt=\"Open In Colab\"/></a>"
      ]
    },
    {
      "cell_type": "markdown",
      "metadata": {
        "id": "at0JpRmf1aIx"
      },
      "source": [
        "# Code Introspection in Python\n",
        "\n",
        "**Introspection** is an ability to inspect the type of object at **run time**. In Python, everything is an object. Each object will have attributes and methods.\n",
        "\n",
        "By using introspection, we can examine the **objects dynamically**.\n",
        "\n",
        "Following are some of the **built-in** functions which assists in introspection.\n",
        "\n",
        "* type()\n",
        "* id()\n",
        "* dir()\n",
        "* isinstance()\n",
        "* str()\n",
        "* help()\n",
        "* callable() - whether a function is callable or not.\n",
        "* hasattr()\n",
        "* getattr()\n",
        "* __doc__\n",
        "* __name__\n",
        "* repr\n"
      ]
    },
    {
      "cell_type": "code",
      "metadata": {
        "id": "vF0Hu2pUTjaD"
      },
      "source": [
        "import types"
      ],
      "execution_count": 10,
      "outputs": []
    },
    {
      "cell_type": "code",
      "metadata": {
        "colab": {
          "base_uri": "https://localhost:8080/"
        },
        "id": "Kuszn1Ig1Ww5",
        "outputId": "4ead3e28-22a5-42c0-83a0-0e2f0f4e85dd"
      },
      "source": [
        "def mult(x : int, y : int) -> int:\n",
        "  '''\n",
        "  This is a multplication function.\n",
        "\n",
        "  Parameters: \n",
        "    x, y - two integers\n",
        "  Returns:\n",
        "    int value\n",
        "  '''\n",
        "  return x*y\n",
        "\n",
        "print(type(mult))"
      ],
      "execution_count": 6,
      "outputs": [
        {
          "output_type": "stream",
          "name": "stdout",
          "text": [
            "<class 'function'>\n"
          ]
        }
      ]
    },
    {
      "cell_type": "code",
      "metadata": {
        "colab": {
          "base_uri": "https://localhost:8080/",
          "height": 35
        },
        "id": "5uf5XCSf3J5y",
        "outputId": "9ab100eb-cfcb-4633-f372-5f6f911c3e80"
      },
      "source": [
        "repr(mult)"
      ],
      "execution_count": 2,
      "outputs": [
        {
          "output_type": "execute_result",
          "data": {
            "application/vnd.google.colaboratory.intrinsic+json": {
              "type": "string"
            },
            "text/plain": [
              "'<function mult at 0x7f200cbaad40>'"
            ]
          },
          "metadata": {},
          "execution_count": 2
        }
      ]
    },
    {
      "cell_type": "code",
      "metadata": {
        "colab": {
          "base_uri": "https://localhost:8080/",
          "height": 35
        },
        "id": "wtexZP3I3fTN",
        "outputId": "cb4835e4-f4e7-466a-9347-6e1646ab7457"
      },
      "source": [
        "f1 = mult\n",
        "f1.__name__"
      ],
      "execution_count": 4,
      "outputs": [
        {
          "output_type": "execute_result",
          "data": {
            "application/vnd.google.colaboratory.intrinsic+json": {
              "type": "string"
            },
            "text/plain": [
              "'mult'"
            ]
          },
          "metadata": {},
          "execution_count": 4
        }
      ]
    },
    {
      "cell_type": "code",
      "metadata": {
        "id": "qqMUgECn3huU"
      },
      "source": [
        "f1.__doc__"
      ],
      "execution_count": 7,
      "outputs": []
    },
    {
      "cell_type": "code",
      "metadata": {
        "colab": {
          "base_uri": "https://localhost:8080/",
          "height": 35
        },
        "id": "PMgTCzqc3pMk",
        "outputId": "eef8b71c-d98c-4d89-cfcd-0e464f3389c3"
      },
      "source": [
        "mult.__doc__"
      ],
      "execution_count": 8,
      "outputs": [
        {
          "output_type": "execute_result",
          "data": {
            "application/vnd.google.colaboratory.intrinsic+json": {
              "type": "string"
            },
            "text/plain": [
              "'\\n  This is a multplication function.\\n\\n  Parameters: \\n    x, y - two integers\\n  Returns:\\n    int value\\n  '"
            ]
          },
          "metadata": {},
          "execution_count": 8
        }
      ]
    },
    {
      "cell_type": "code",
      "metadata": {
        "colab": {
          "base_uri": "https://localhost:8080/"
        },
        "id": "Qfq29Ypu3vXb",
        "outputId": "55f4587f-731d-4fa3-c343-1d6795bf3d25"
      },
      "source": [
        "callable(mult)"
      ],
      "execution_count": 9,
      "outputs": [
        {
          "output_type": "execute_result",
          "data": {
            "text/plain": [
              "True"
            ]
          },
          "metadata": {},
          "execution_count": 9
        }
      ]
    },
    {
      "cell_type": "code",
      "metadata": {
        "colab": {
          "base_uri": "https://localhost:8080/"
        },
        "id": "DfEhdnlPTZw-",
        "outputId": "14a0a05c-2ee1-47f3-fdb8-cb5f24f84bb1"
      },
      "source": [
        "isinstance(mult, (types.FunctionType, types.BuiltinFunctionType))"
      ],
      "execution_count": 11,
      "outputs": [
        {
          "output_type": "execute_result",
          "data": {
            "text/plain": [
              "True"
            ]
          },
          "metadata": {},
          "execution_count": 11
        }
      ]
    },
    {
      "cell_type": "code",
      "metadata": {
        "colab": {
          "base_uri": "https://localhost:8080/"
        },
        "id": "nYAIIYMETqAU",
        "outputId": "1e857760-a1cf-4a29-95f6-df0a290c4980"
      },
      "source": [
        "dir(mult)"
      ],
      "execution_count": 12,
      "outputs": [
        {
          "output_type": "execute_result",
          "data": {
            "text/plain": [
              "['__annotations__',\n",
              " '__call__',\n",
              " '__class__',\n",
              " '__closure__',\n",
              " '__code__',\n",
              " '__defaults__',\n",
              " '__delattr__',\n",
              " '__dict__',\n",
              " '__dir__',\n",
              " '__doc__',\n",
              " '__eq__',\n",
              " '__format__',\n",
              " '__ge__',\n",
              " '__get__',\n",
              " '__getattribute__',\n",
              " '__globals__',\n",
              " '__gt__',\n",
              " '__hash__',\n",
              " '__init__',\n",
              " '__init_subclass__',\n",
              " '__kwdefaults__',\n",
              " '__le__',\n",
              " '__lt__',\n",
              " '__module__',\n",
              " '__name__',\n",
              " '__ne__',\n",
              " '__new__',\n",
              " '__qualname__',\n",
              " '__reduce__',\n",
              " '__reduce_ex__',\n",
              " '__repr__',\n",
              " '__setattr__',\n",
              " '__sizeof__',\n",
              " '__str__',\n",
              " '__subclasshook__']"
            ]
          },
          "metadata": {},
          "execution_count": 12
        }
      ]
    },
    {
      "cell_type": "code",
      "metadata": {
        "id": "TgCg6kaSTwQO"
      },
      "source": [
        "# you can add some description as well to the func.\n",
        "mult.my_description = 'this is customized my description of the function.'"
      ],
      "execution_count": 13,
      "outputs": []
    },
    {
      "cell_type": "code",
      "metadata": {
        "colab": {
          "base_uri": "https://localhost:8080/",
          "height": 35
        },
        "id": "uBrMMFWumhPP",
        "outputId": "d08dfa1e-7fed-4783-8979-2753cbca0499"
      },
      "source": [
        "mult.my_description"
      ],
      "execution_count": 14,
      "outputs": [
        {
          "output_type": "execute_result",
          "data": {
            "application/vnd.google.colaboratory.intrinsic+json": {
              "type": "string"
            },
            "text/plain": [
              "'this is customized my description of the function.'"
            ]
          },
          "metadata": {},
          "execution_count": 14
        }
      ]
    },
    {
      "cell_type": "code",
      "metadata": {
        "colab": {
          "base_uri": "https://localhost:8080/"
        },
        "id": "VlTk__K9mpJ4",
        "outputId": "2575b0ee-3b59-4ba7-a0b5-c43dc231e155"
      },
      "source": [
        "dir(mult)"
      ],
      "execution_count": 15,
      "outputs": [
        {
          "output_type": "execute_result",
          "data": {
            "text/plain": [
              "['__annotations__',\n",
              " '__call__',\n",
              " '__class__',\n",
              " '__closure__',\n",
              " '__code__',\n",
              " '__defaults__',\n",
              " '__delattr__',\n",
              " '__dict__',\n",
              " '__dir__',\n",
              " '__doc__',\n",
              " '__eq__',\n",
              " '__format__',\n",
              " '__ge__',\n",
              " '__get__',\n",
              " '__getattribute__',\n",
              " '__globals__',\n",
              " '__gt__',\n",
              " '__hash__',\n",
              " '__init__',\n",
              " '__init_subclass__',\n",
              " '__kwdefaults__',\n",
              " '__le__',\n",
              " '__lt__',\n",
              " '__module__',\n",
              " '__name__',\n",
              " '__ne__',\n",
              " '__new__',\n",
              " '__qualname__',\n",
              " '__reduce__',\n",
              " '__reduce_ex__',\n",
              " '__repr__',\n",
              " '__setattr__',\n",
              " '__sizeof__',\n",
              " '__str__',\n",
              " '__subclasshook__',\n",
              " 'my_description']"
            ]
          },
          "metadata": {},
          "execution_count": 15
        }
      ]
    },
    {
      "cell_type": "code",
      "metadata": {
        "colab": {
          "base_uri": "https://localhost:8080/"
        },
        "id": "TLlbQRkqms6f",
        "outputId": "d5d2fc66-1d0d-4214-88f7-dc70383ec7f7"
      },
      "source": [
        "mult.__code__"
      ],
      "execution_count": 17,
      "outputs": [
        {
          "output_type": "execute_result",
          "data": {
            "text/plain": [
              "<code object mult at 0x7f20087f7a50, file \"<ipython-input-6-d92efe4cf5c1>\", line 1>"
            ]
          },
          "metadata": {},
          "execution_count": 17
        }
      ]
    },
    {
      "cell_type": "code",
      "metadata": {
        "id": "4qJ9xP1um0OP"
      },
      "source": [
        ""
      ],
      "execution_count": null,
      "outputs": []
    }
  ]
}