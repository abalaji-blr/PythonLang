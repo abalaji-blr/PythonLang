{
  "nbformat": 4,
  "nbformat_minor": 0,
  "metadata": {
    "colab": {
      "name": "Decorators_updated.ipynb",
      "provenance": [],
      "collapsed_sections": [],
      "authorship_tag": "ABX9TyMU2UCRHM1Rmgp1D3slz1QP",
      "include_colab_link": true
    },
    "kernelspec": {
      "name": "python3",
      "display_name": "Python 3"
    },
    "language_info": {
      "name": "python"
    }
  },
  "cells": [
    {
      "cell_type": "markdown",
      "metadata": {
        "id": "view-in-github",
        "colab_type": "text"
      },
      "source": [
        "<a href=\"https://colab.research.google.com/github/abalaji-blr/PythonLang/blob/main/Decorators_updated.ipynb\" target=\"_parent\"><img src=\"https://colab.research.google.com/assets/colab-badge.svg\" alt=\"Open In Colab\"/></a>"
      ]
    },
    {
      "cell_type": "markdown",
      "metadata": {
        "id": "tKTa_PPy2Wc7"
      },
      "source": [
        "## Decorators in Python\n",
        "\n",
        "Decorator is a **higher order** function.\n",
        "\n",
        "In general, the decorator function:\n",
        "* **takes function as argument**\n",
        "* **returns a closure**\n",
        "* the closure usually accepts any combination of parameters\n",
        "* run some code in inner function (closure)\n",
        "* the closure function calls the passed-in function with arguments which is passed in as well.\n",
        "* returns whatever is returned by that function call\n",
        "\n",
        "\n",
        "Decorators can be added to existing function with **@** symbol.\n",
        "\n",
        "## Use wraps()\n",
        "\n",
        "We use wraps() to carry the original function's doc string and signature etc.\n",
        "\n",
        "## Built-in Decorators in Python\n",
        "\n",
        "1. @classmethod\n",
        "2. @staticmethod\n",
        "3. @property\n",
        "\n",
        "## Decorating a class\n",
        "\n",
        "This means, whenever the class is constructed, the decorator will invoked when the class is instantiated.\n",
        "\n",
        "## Decorating a class method\n",
        "\n",
        "## Stacked / Nesting Decorators\n",
        "\n",
        "Decorators are executed in the order they are listed.\n",
        "\n",
        "## Parameterized Decorators\n",
        "\n",
        "\n",
        "\n"
      ]
    },
    {
      "cell_type": "markdown",
      "metadata": {
        "id": "548ZRVs62_Ui"
      },
      "source": [
        "## Decorator Applications\n",
        "\n",
        "1. For calculating the time spent by a function for certain action.\n",
        "\n",
        "2. For logging certain information.\n",
        "\n",
        "3. For memoization - yes, that is the correct spelling (there is no r in the word). Remember / cache the recently used things.\n",
        "  * Different evictions techniques from the cache are:\n",
        "    * LRU - Least Recently Used\n",
        "    * LFU - Least Frequently Used\n",
        "  * Python has lru_cache()\n",
        "\n",
        "  "
      ]
    },
    {
      "cell_type": "markdown",
      "metadata": {
        "id": "I276vW193TmD"
      },
      "source": [
        "## First Attempt"
      ]
    },
    {
      "cell_type": "code",
      "metadata": {
        "id": "vDEmruwV397G"
      },
      "source": [
        "import inspect\n",
        "from functools import wraps"
      ],
      "execution_count": 9,
      "outputs": []
    },
    {
      "cell_type": "code",
      "metadata": {
        "colab": {
          "base_uri": "https://localhost:8080/"
        },
        "id": "RvV-hLRn2OCO",
        "outputId": "e4dc3b48-102b-491c-8513-28e407c691d0"
      },
      "source": [
        "# clousre for counter\n",
        "def counter(fn : 'funtion') -> 'closure':\n",
        "  \"\"\"\n",
        "  Closure funtion - Counter.\n",
        "  \"\"\"\n",
        "  cnt = 0 # free variable\n",
        "  def inner(*args, **kwargs):\n",
        "    nonlocal cnt\n",
        "    cnt += 1\n",
        "    print(f'{fn.__name__} is called {cnt} times.')\n",
        "    return fn(*args, **kwargs)\n",
        "  return inner\n",
        "\n",
        "# define mult\n",
        "def mult(a, b, c=1):\n",
        "  \"\"\"\n",
        "  Multiplies the inputs.\n",
        "  \"\"\"\n",
        "  return( a * b * c)\n",
        "\n",
        "# let's decorate it.\n",
        "mult = counter(mult)\n",
        "mult(3,4,2)"
      ],
      "execution_count": 2,
      "outputs": [
        {
          "output_type": "stream",
          "name": "stdout",
          "text": [
            "mult is called 1 times.\n"
          ]
        },
        {
          "output_type": "execute_result",
          "data": {
            "text/plain": [
              "24"
            ]
          },
          "metadata": {},
          "execution_count": 2
        }
      ]
    },
    {
      "cell_type": "code",
      "metadata": {
        "colab": {
          "base_uri": "https://localhost:8080/"
        },
        "id": "fSiXLarw3WyD",
        "outputId": "899a0e3b-101d-49cc-e75d-a1c9b8fb70ff"
      },
      "source": [
        "mult(3,5), mult(4,5), mult(5, 10)"
      ],
      "execution_count": 3,
      "outputs": [
        {
          "output_type": "stream",
          "name": "stdout",
          "text": [
            "mult is called 2 times.\n",
            "mult is called 3 times.\n",
            "mult is called 4 times.\n"
          ]
        },
        {
          "output_type": "execute_result",
          "data": {
            "text/plain": [
              "(15, 20, 50)"
            ]
          },
          "metadata": {},
          "execution_count": 3
        }
      ]
    },
    {
      "cell_type": "code",
      "metadata": {
        "colab": {
          "base_uri": "https://localhost:8080/"
        },
        "id": "CN7Gtjqu3kBj",
        "outputId": "53ea4cb3-0b42-40e6-9d2a-26ad0faeb64d"
      },
      "source": [
        "help(mult)"
      ],
      "execution_count": 4,
      "outputs": [
        {
          "output_type": "stream",
          "name": "stdout",
          "text": [
            "Help on function inner in module __main__:\n",
            "\n",
            "inner(*args, **kwargs)\n",
            "\n"
          ]
        }
      ]
    },
    {
      "cell_type": "code",
      "metadata": {
        "colab": {
          "base_uri": "https://localhost:8080/",
          "height": 52
        },
        "id": "oiGQDlZ83laX",
        "outputId": "c846c677-376a-40ed-8c5b-8fe968bdfc5d"
      },
      "source": [
        "inspect.getsource(mult)"
      ],
      "execution_count": 6,
      "outputs": [
        {
          "output_type": "execute_result",
          "data": {
            "application/vnd.google.colaboratory.intrinsic+json": {
              "type": "string"
            },
            "text/plain": [
              "\"  def inner(*args, **kwargs):\\n    nonlocal cnt\\n    cnt += 1\\n    print(f'{fn.__name__} is called {cnt} times.')\\n    return fn(*args, **kwargs)\\n\""
            ]
          },
          "metadata": {},
          "execution_count": 6
        }
      ]
    },
    {
      "cell_type": "code",
      "metadata": {
        "colab": {
          "base_uri": "https://localhost:8080/"
        },
        "id": "6Qp9CVFw4Biv",
        "outputId": "6d30e17e-c815-4ecb-c957-c6b9a87d6846"
      },
      "source": [
        "inspect.signature(mult)"
      ],
      "execution_count": 7,
      "outputs": [
        {
          "output_type": "execute_result",
          "data": {
            "text/plain": [
              "<Signature (*args, **kwargs)>"
            ]
          },
          "metadata": {},
          "execution_count": 7
        }
      ]
    },
    {
      "cell_type": "code",
      "metadata": {
        "colab": {
          "base_uri": "https://localhost:8080/"
        },
        "id": "ISpfMqAS4Eeu",
        "outputId": "a4067fb5-5701-48e4-b8fe-86c994c5360d"
      },
      "source": [
        "mult.__closure__"
      ],
      "execution_count": 8,
      "outputs": [
        {
          "output_type": "execute_result",
          "data": {
            "text/plain": [
              "(<cell at 0x7f77627e2a50: int object at 0x55e7ced04a60>,\n",
              " <cell at 0x7f77627e2a10: function object at 0x7f77627b3950>)"
            ]
          },
          "metadata": {},
          "execution_count": 8
        }
      ]
    },
    {
      "cell_type": "markdown",
      "metadata": {
        "id": "Is1Jj8dv4TMh"
      },
      "source": [
        "## Second Attempt - Use Wraps()"
      ]
    },
    {
      "cell_type": "code",
      "metadata": {
        "colab": {
          "base_uri": "https://localhost:8080/"
        },
        "id": "5MO_Rpyb4Pgj",
        "outputId": "3170af1f-d87a-49e9-be3e-93b351830621"
      },
      "source": [
        "# clousre for counter\n",
        "def counter(fn : 'funtion') -> 'closure':\n",
        "  \"\"\"\n",
        "  Closure funtion - Counter.\n",
        "  \"\"\"\n",
        "  cnt = 0 # free variable\n",
        "\n",
        "  @wraps(fn) ## use wraps from functools\n",
        "            ##  wraps() itself a decorator\n",
        "  def inner(*args, **kwargs):\n",
        "    nonlocal cnt\n",
        "    cnt += 1\n",
        "    print(f'{fn.__name__} is called {cnt} times.')\n",
        "    return fn(*args, **kwargs)\n",
        "  return inner\n",
        "\n",
        "# define mult\n",
        "@counter # using decorator\n",
        "def mult(a, b, c=1):  ## mult is a decorated function\n",
        "  \"\"\"\n",
        "  Multiplies the inputs.\n",
        "  \"\"\"\n",
        "  return( a * b * c)\n",
        "\n",
        "\n",
        "help(mult)\n"
      ],
      "execution_count": 10,
      "outputs": [
        {
          "output_type": "stream",
          "name": "stdout",
          "text": [
            "Help on function mult in module __main__:\n",
            "\n",
            "mult(a, b, c=1)\n",
            "    Multiplies the inputs.\n",
            "\n"
          ]
        }
      ]
    },
    {
      "cell_type": "code",
      "metadata": {
        "colab": {
          "base_uri": "https://localhost:8080/"
        },
        "id": "gJmf8jcV4mRR",
        "outputId": "d0f02be5-1f4f-45d8-9eea-a5e613a3ac60"
      },
      "source": [
        "mult.__wrapped__"
      ],
      "execution_count": 11,
      "outputs": [
        {
          "output_type": "execute_result",
          "data": {
            "text/plain": [
              "<function __main__.mult>"
            ]
          },
          "metadata": {},
          "execution_count": 11
        }
      ]
    },
    {
      "cell_type": "code",
      "metadata": {
        "colab": {
          "base_uri": "https://localhost:8080/",
          "height": 35
        },
        "id": "u5PCyODh4pSg",
        "outputId": "cb49431e-38c6-49a6-a62b-abaa661a1647"
      },
      "source": [
        "inspect.getsource(mult)"
      ],
      "execution_count": 12,
      "outputs": [
        {
          "output_type": "execute_result",
          "data": {
            "application/vnd.google.colaboratory.intrinsic+json": {
              "type": "string"
            },
            "text/plain": [
              "'@counter # using decorator\\ndef mult(a, b, c=1):\\n  \"\"\"\\n  Multiplies the inputs.\\n  \"\"\"\\n  return( a * b * c)\\n'"
            ]
          },
          "metadata": {},
          "execution_count": 12
        }
      ]
    },
    {
      "cell_type": "code",
      "metadata": {
        "colab": {
          "base_uri": "https://localhost:8080/"
        },
        "id": "-wdm0AGB4434",
        "outputId": "24369ba8-3082-4a2b-b118-dd4e003d59d0"
      },
      "source": [
        "inspect.signature(mult)"
      ],
      "execution_count": 13,
      "outputs": [
        {
          "output_type": "execute_result",
          "data": {
            "text/plain": [
              "<Signature (a, b, c=1)>"
            ]
          },
          "metadata": {},
          "execution_count": 13
        }
      ]
    },
    {
      "cell_type": "markdown",
      "metadata": {
        "id": "e-ugQwmW9DuW"
      },
      "source": [
        "## Examples of Decorators"
      ]
    },
    {
      "cell_type": "code",
      "metadata": {
        "id": "z5oPABAH47i5"
      },
      "source": [
        "import time\n",
        "import datetime\n",
        "from datetime import datetime\n",
        "import decimal\n",
        "from time import perf_counter\n",
        "from functools import wraps"
      ],
      "execution_count": 1,
      "outputs": []
    },
    {
      "cell_type": "code",
      "metadata": {
        "id": "69X602nm9IXN"
      },
      "source": [
        "def odd_it(fn: \"function\") -> 'closure / inner function':\n",
        "\t'''\n",
        "\tThe Decorator, which runs a function only at odd seconds.\n",
        "  Otherwise, it prints - We\\'re even.\n",
        "\t'''\n",
        "\t@wraps(fn)\n",
        "\tdef inner(*args, **kwargs):\n",
        "\t\tif datetime.now().second % 2 == 0:\n",
        "\t\t\tprint('We\\'re even!')\n",
        "\t\telse:\n",
        "\t\t\treturn fn(*args, **kwargs)\n",
        "\treturn inner\n",
        "\n",
        "@odd_it\n",
        "def add(a, b):\n",
        "  return a + b"
      ],
      "execution_count": 2,
      "outputs": []
    },
    {
      "cell_type": "code",
      "metadata": {
        "colab": {
          "base_uri": "https://localhost:8080/"
        },
        "id": "GRruBVyu9QQT",
        "outputId": "fd990de2-cc30-4847-936d-839cf8dec16f"
      },
      "source": [
        "help(odd_it)"
      ],
      "execution_count": 3,
      "outputs": [
        {
          "output_type": "stream",
          "name": "stdout",
          "text": [
            "Help on function odd_it in module __main__:\n",
            "\n",
            "odd_it(fn: 'function') -> 'closure / inner function'\n",
            "          The Decorator, which runs a function only at odd seconds.\n",
            "    Otherwise, it prints - We're even.\n",
            "\n"
          ]
        }
      ]
    },
    {
      "cell_type": "code",
      "metadata": {
        "colab": {
          "base_uri": "https://localhost:8080/"
        },
        "id": "aB-haz6P9UHb",
        "outputId": "5c40d36f-e811-4d75-a6cf-f39bca75cb8d"
      },
      "source": [
        "add(2,3)"
      ],
      "execution_count": 4,
      "outputs": [
        {
          "output_type": "execute_result",
          "data": {
            "text/plain": [
              "5"
            ]
          },
          "metadata": {},
          "execution_count": 4
        }
      ]
    },
    {
      "cell_type": "code",
      "metadata": {
        "colab": {
          "base_uri": "https://localhost:8080/"
        },
        "id": "jAEvHKOn9XvK",
        "outputId": "d9e59b92-5ad7-4332-b69e-931132521335"
      },
      "source": [
        "add(2,3), add(2,3), add(2,3)"
      ],
      "execution_count": 5,
      "outputs": [
        {
          "output_type": "stream",
          "name": "stdout",
          "text": [
            "We're even!\n",
            "We're even!\n",
            "We're even!\n"
          ]
        },
        {
          "output_type": "execute_result",
          "data": {
            "text/plain": [
              "(None, None, None)"
            ]
          },
          "metadata": {},
          "execution_count": 5
        }
      ]
    },
    {
      "cell_type": "code",
      "metadata": {
        "colab": {
          "base_uri": "https://localhost:8080/"
        },
        "id": "nsU2egjt9dpq",
        "outputId": "7de2ba50-d6a7-41cf-ca77-11ce01be9d3d"
      },
      "source": [
        "add(2,3), time.sleep(1), add(2,3)"
      ],
      "execution_count": 6,
      "outputs": [
        {
          "output_type": "stream",
          "name": "stdout",
          "text": [
            "We're even!\n"
          ]
        },
        {
          "output_type": "execute_result",
          "data": {
            "text/plain": [
              "(None, None, 5)"
            ]
          },
          "metadata": {},
          "execution_count": 6
        }
      ]
    },
    {
      "cell_type": "markdown",
      "metadata": {
        "id": "P9dx0Ej69pBl"
      },
      "source": [
        "## logger decorator"
      ]
    },
    {
      "cell_type": "code",
      "metadata": {
        "id": "655_4qFc9ioZ"
      },
      "source": [
        "  from functools import wraps\n",
        "  from datetime import datetime,timezone"
      ],
      "execution_count": 7,
      "outputs": []
    },
    {
      "cell_type": "code",
      "metadata": {
        "id": "0UOodznt9tSf"
      },
      "source": [
        "def logger(fn: \"function\") -> 'closure / inner function':\n",
        "\t'''\n",
        "\tThis is a logger decorator function.\n",
        "  This decorator logs the following information:\n",
        "      1. Name of the function called.\n",
        "      2. Execution time of the function.\n",
        "      3. Function description.\n",
        "      4. Function annotations.\n",
        "\t'''\n",
        "\tfrom functools import wraps\n",
        "\tfrom datetime import datetime, timezone\n",
        "\n",
        "\t@wraps(fn)\n",
        "\tdef inner(*args, **kwargs):\n",
        "\t\t'''\n",
        "\t\tThis is inner function of the logger decorator.\n",
        "\t\t'''\n",
        "\t\trun_dt = datetime.now(timezone.utc)\n",
        "\t\tprint(f'{run_dt}')\n",
        "\t\tresult = fn(*args, **kwargs)\n",
        "\t\tprint(f'{fn.__name__} was called at {run_dt}')\n",
        "\t\tprint(f'Execution time at {run_dt}')\n",
        "\t\tprint(f'The Function description is {fn.__code__}')\n",
        "\t\tprint(f'Function annotation is {fn.__annotations__}')\n",
        "\t\treturn result\n",
        "\treturn inner\n",
        "\n",
        "@logger\n",
        "def mult(a, b) -> 'product':\n",
        "  ''' multiply numbers'''\n",
        "  return a* b"
      ],
      "execution_count": 8,
      "outputs": []
    },
    {
      "cell_type": "code",
      "metadata": {
        "id": "U4MB-A059zI4"
      },
      "source": [
        "from inspect import signature"
      ],
      "execution_count": 9,
      "outputs": []
    },
    {
      "cell_type": "code",
      "metadata": {
        "colab": {
          "base_uri": "https://localhost:8080/"
        },
        "id": "UbV2uzh791_g",
        "outputId": "4e452907-079d-4954-8099-51460e82d14e"
      },
      "source": [
        "print(signature(mult))"
      ],
      "execution_count": 10,
      "outputs": [
        {
          "output_type": "stream",
          "name": "stdout",
          "text": [
            "(a, b) -> 'product'\n"
          ]
        }
      ]
    },
    {
      "cell_type": "code",
      "metadata": {
        "colab": {
          "base_uri": "https://localhost:8080/"
        },
        "id": "RuUAwn7F94m3",
        "outputId": "29e46448-0168-4207-dd17-3b385b3ce7bd"
      },
      "source": [
        "mult.__code__"
      ],
      "execution_count": 11,
      "outputs": [
        {
          "output_type": "execute_result",
          "data": {
            "text/plain": [
              "<code object inner at 0x7fa738d28270, file \"<ipython-input-8-33d2882f9b95>\", line 13>"
            ]
          },
          "metadata": {},
          "execution_count": 11
        }
      ]
    },
    {
      "cell_type": "code",
      "metadata": {
        "colab": {
          "base_uri": "https://localhost:8080/"
        },
        "id": "TufQRd5p98Kh",
        "outputId": "d01cc85d-11a7-4123-d46e-99d5f815c830"
      },
      "source": [
        "mult.__wrapped__"
      ],
      "execution_count": 12,
      "outputs": [
        {
          "output_type": "execute_result",
          "data": {
            "text/plain": [
              "<function __main__.mult>"
            ]
          },
          "metadata": {},
          "execution_count": 12
        }
      ]
    },
    {
      "cell_type": "code",
      "metadata": {
        "colab": {
          "base_uri": "https://localhost:8080/"
        },
        "id": "InI60M059-av",
        "outputId": "52772029-c50a-4d5a-d673-45c279b485ec"
      },
      "source": [
        "mult(2,3)"
      ],
      "execution_count": 13,
      "outputs": [
        {
          "output_type": "stream",
          "name": "stdout",
          "text": [
            "2021-11-20 10:50:49.626017+00:00\n",
            "mult was called at 2021-11-20 10:50:49.626017+00:00\n",
            "Execution time at 2021-11-20 10:50:49.626017+00:00\n",
            "The Function description is <code object mult at 0x7fa738d28150, file \"<ipython-input-8-33d2882f9b95>\", line 28>\n",
            "Function annotation is {'return': 'product'}\n"
          ]
        },
        {
          "output_type": "execute_result",
          "data": {
            "text/plain": [
              "6"
            ]
          },
          "metadata": {},
          "execution_count": 13
        }
      ]
    },
    {
      "cell_type": "code",
      "metadata": {
        "colab": {
          "base_uri": "https://localhost:8080/"
        },
        "id": "rR76Nxwm-FuW",
        "outputId": "08b1fce0-e202-47cc-9618-ca9a6f548fde"
      },
      "source": [
        "help(logger)"
      ],
      "execution_count": 14,
      "outputs": [
        {
          "output_type": "stream",
          "name": "stdout",
          "text": [
            "Help on function logger in module __main__:\n",
            "\n",
            "logger(fn: 'function') -> 'closure / inner function'\n",
            "          This is a logger decorator function.\n",
            "    This decorator logs the following information:\n",
            "        1. Name of the function called.\n",
            "        2. Execution time of the function.\n",
            "        3. Function description.\n",
            "        4. Function annotations.\n",
            "\n"
          ]
        }
      ]
    },
    {
      "cell_type": "markdown",
      "metadata": {
        "id": "gC21BLd2-iuY"
      },
      "source": [
        "## Authenticate decorator factory"
      ]
    },
    {
      "cell_type": "code",
      "metadata": {
        "id": "N46Uq0en-KxU"
      },
      "source": [
        "def authenticate(set_password) -> 'generates a decorator':\n",
        "\t'''\n",
        "\tThis is a decorator factory. \n",
        "\tThis will generate an authentication decorator.\n",
        "\n",
        "\tNote that set_password is a free variable for the \n",
        "\tdecorator and decorator's inner function as well.\n",
        "\t'''\n",
        "\tdef auth_decorator(fn) -> 'inner/closure function':\n",
        "\t\t'''\n",
        "\t\tThis is an anthentication decorator.\n",
        "\t\t'''\n",
        "\t\t@wraps(fn)\n",
        "\t\tdef inner(*args, **kwargs):\n",
        "\t\t\t'''\n",
        "\t\t\tThis is inner function of the authentication decorator.\n",
        "\t\t\t'''\n",
        "\t\t\tif len(args) == 0:\n",
        "\t\t\t\traise TypeError('Expecting one string argument.')\n",
        "\t\t\telif type(args[0]) != str:\n",
        "\t\t\t\traise TypeError('Expecting string argument')\n",
        "\n",
        "\t\t\tif args[0] != set_password:\n",
        "\t\t\t\treturn('Wrong Password')\n",
        "\t\t\telse:\n",
        "\t\t\t\treturn fn()\n",
        "\t\treturn inner\n",
        "\treturn auth_decorator"
      ],
      "execution_count": 15,
      "outputs": []
    },
    {
      "cell_type": "code",
      "metadata": {
        "id": "8Ey3kPvX-l0J"
      },
      "source": [
        "@authenticate(\"secret\")\n",
        "def my_func():\n",
        "\t\treturn \"Amazing!\""
      ],
      "execution_count": 16,
      "outputs": []
    },
    {
      "cell_type": "code",
      "metadata": {
        "colab": {
          "base_uri": "https://localhost:8080/",
          "height": 35
        },
        "id": "-kBGRcmh-sM9",
        "outputId": "4d65c4ef-74ef-487b-fcfa-1f03f317d2f2"
      },
      "source": [
        "my_func('hello')"
      ],
      "execution_count": 17,
      "outputs": [
        {
          "output_type": "execute_result",
          "data": {
            "application/vnd.google.colaboratory.intrinsic+json": {
              "type": "string"
            },
            "text/plain": [
              "'Wrong Password'"
            ]
          },
          "metadata": {},
          "execution_count": 17
        }
      ]
    },
    {
      "cell_type": "code",
      "metadata": {
        "colab": {
          "base_uri": "https://localhost:8080/",
          "height": 35
        },
        "id": "Zi1JSA9_-uls",
        "outputId": "e72b302b-9b6c-475e-e4eb-70d871ffcef6"
      },
      "source": [
        "my_func(\"secret\")"
      ],
      "execution_count": 18,
      "outputs": [
        {
          "output_type": "execute_result",
          "data": {
            "application/vnd.google.colaboratory.intrinsic+json": {
              "type": "string"
            },
            "text/plain": [
              "'Amazing!'"
            ]
          },
          "metadata": {},
          "execution_count": 18
        }
      ]
    },
    {
      "cell_type": "code",
      "metadata": {
        "colab": {
          "base_uri": "https://localhost:8080/"
        },
        "id": "zuok99vh-woY",
        "outputId": "9db6d8d7-4e2f-4865-ae3c-3c19bc66554b"
      },
      "source": [
        "help(authenticate)"
      ],
      "execution_count": 19,
      "outputs": [
        {
          "output_type": "stream",
          "name": "stdout",
          "text": [
            "Help on function authenticate in module __main__:\n",
            "\n",
            "authenticate(set_password) -> 'generates a decorator'\n",
            "    This is a decorator factory. \n",
            "    This will generate an authentication decorator.\n",
            "    \n",
            "    Note that set_password is a free variable for the \n",
            "    decorator and decorator's inner function as well.\n",
            "\n"
          ]
        }
      ]
    },
    {
      "cell_type": "markdown",
      "metadata": {
        "id": "eG_uSHr8-3Vy"
      },
      "source": [
        "## Timed decorator factory"
      ]
    },
    {
      "cell_type": "code",
      "metadata": {
        "id": "AFCg2ej--yvY"
      },
      "source": [
        "def timed(reps) -> 'decorator':\n",
        "\t\"\"\"\n",
        "\tThis is a timed decorator factory.\n",
        "\tThis will return a timed decorator.\n",
        "\tThe timed decorator in turn provides the average execution time based on repetition.\n",
        "\t\"\"\"\n",
        "\tdef timed_deco(fn):\n",
        "\t\t\"\"\"\n",
        "\t\tThis is a timed decorator.\n",
        "\t\tThis will give the average execution time based on reps.\n",
        "\t\t\"\"\"\n",
        "\t\tfrom time import perf_counter\n",
        "\t\ttotal_elapsed = 0\n",
        "\t\tdef inner(*args, **kwargs):\n",
        "\t\t\t\"\"\"\n",
        "\t\t\tThis is inner function of timed decorator.\n",
        "\t\t\t\"\"\"\n",
        "\t\t\tnonlocal total_elapsed\n",
        "\t\t\tfor i in range(reps):\n",
        "\t\t\t\tstart = perf_counter()\n",
        "\t\t\t\tresult =fn(*args, **kwargs)\n",
        "\t\t\t\tend = perf_counter()\n",
        "\t\t\t\telapsed = end - start\n",
        "\t\t\t\ttotal_elapsed += elapsed\n",
        "\t\t\tavg_elapsed = total_elapsed / reps\n",
        "\t\t\tprint(f'Average execution time for {reps} runs is {avg_elapsed:.2f}.')\n",
        "\t\t\treturn result\n",
        "\t\treturn inner\n",
        "\treturn timed_deco"
      ],
      "execution_count": 20,
      "outputs": []
    },
    {
      "cell_type": "code",
      "metadata": {
        "id": "iSc6uL4Y-6Q3"
      },
      "source": [
        "@timed(10)\n",
        "def func(*args):\n",
        "\ttime.sleep(0.2)\n",
        "\tpass"
      ],
      "execution_count": 21,
      "outputs": []
    },
    {
      "cell_type": "code",
      "metadata": {
        "colab": {
          "base_uri": "https://localhost:8080/"
        },
        "id": "esGsuZ_p-87v",
        "outputId": "b419a4d7-81ff-4c36-d5a7-db211db8ad15"
      },
      "source": [
        "func()"
      ],
      "execution_count": 22,
      "outputs": [
        {
          "output_type": "stream",
          "name": "stdout",
          "text": [
            "Average execution time for 10 runs is 0.20.\n"
          ]
        }
      ]
    },
    {
      "cell_type": "code",
      "metadata": {
        "colab": {
          "base_uri": "https://localhost:8080/"
        },
        "id": "dSfIPupz-_Rn",
        "outputId": "22ea423f-eb8b-4da7-888d-f83ae8043fc4"
      },
      "source": [
        "help(timed)"
      ],
      "execution_count": 23,
      "outputs": [
        {
          "output_type": "stream",
          "name": "stdout",
          "text": [
            "Help on function timed in module __main__:\n",
            "\n",
            "timed(reps) -> 'decorator'\n",
            "    This is a timed decorator factory.\n",
            "    This will return a timed decorator.\n",
            "    The timed decorator in turn provides the average execution time based on repetition.\n",
            "\n"
          ]
        }
      ]
    },
    {
      "cell_type": "markdown",
      "metadata": {
        "id": "dPgzshwk_K4a"
      },
      "source": [
        "## Access Decorator Factory"
      ]
    },
    {
      "cell_type": "code",
      "metadata": {
        "id": "l8_KDh-u_Csf"
      },
      "source": [
        "def decorator_factory(access:str) -> 'access decorator':\n",
        "\t'''\n",
        "\tThis is a acces decorator factory, which returns a access decorator.\n",
        "\n",
        "\tThe access can be one from the following list: [high, mid, low, no]\n",
        "\tBased on the access, the access decorator provides a list of functions it can run.\n",
        "\t'''\n",
        "\tdef access_decorator(fn):\n",
        "\t\t'''\n",
        "\t\tThis is a access decorator.\n",
        "\t\t'''\n",
        "\t\tlevel1 = level2 = level3 = level4 = no_access = 0\n",
        "\t\tif access == 'high':\n",
        "\t\t\tlevel4 = 4\n",
        "\t\telif access == 'mid':\n",
        "\t\t\tlevel3 = 3\n",
        "\t\telif access == 'low':\n",
        "\t\t\tlevel2 = 2\n",
        "\t\telif access == 'no':\n",
        "\t\t\tlevel1 = 1\n",
        "\t\telse:\n",
        "\t\t\tno_access = 1\n",
        "\t\t\t\n",
        "\t\tdef inner(*args, **kwargs):\n",
        "\t\t\tnonlocal level1, level2, level3, level4\n",
        "\n",
        "\t\t\tif level1 != 0:\n",
        "\t\t\t\treturn [odd_it]\n",
        "\t\t\tif level2 != 0:\n",
        "\t\t\t\treturn [odd_it, logger]\n",
        "\t\t\tif level3 != 0:\n",
        "\t\t\t\treturn [odd_it, logger, authenticate]\n",
        "\t\t\tif level4 != 0:\n",
        "\t\t\t\treturn [odd_it, logger, authenticate, timed]\n",
        "\t\t\tif no_access == 1:\n",
        "\t\t\t\treturn \"Improper access keyword set\"\n",
        "\t\treturn inner\n",
        "\treturn access_decorator"
      ],
      "execution_count": 24,
      "outputs": []
    },
    {
      "cell_type": "code",
      "metadata": {
        "id": "g3xHAwaS_O7-"
      },
      "source": [
        "@decorator_factory('mid')\n",
        "def func_mid(*args):\n",
        "  return args"
      ],
      "execution_count": 25,
      "outputs": []
    },
    {
      "cell_type": "code",
      "metadata": {
        "colab": {
          "base_uri": "https://localhost:8080/"
        },
        "id": "QVR6wgGm_XXc",
        "outputId": "c47b0cde-1f94-47b7-b4c0-473a89bed144"
      },
      "source": [
        "func_mid()"
      ],
      "execution_count": 26,
      "outputs": [
        {
          "output_type": "execute_result",
          "data": {
            "text/plain": [
              "[<function __main__.odd_it>,\n",
              " <function __main__.logger>,\n",
              " <function __main__.authenticate>]"
            ]
          },
          "metadata": {},
          "execution_count": 26
        }
      ]
    },
    {
      "cell_type": "code",
      "metadata": {
        "colab": {
          "base_uri": "https://localhost:8080/"
        },
        "id": "ZvUoMTuU_ZQl",
        "outputId": "60572106-d2b8-45fa-ca2f-a4fc5fa7f5c9"
      },
      "source": [
        "help(decorator_factory)"
      ],
      "execution_count": 27,
      "outputs": [
        {
          "output_type": "stream",
          "name": "stdout",
          "text": [
            "Help on function decorator_factory in module __main__:\n",
            "\n",
            "decorator_factory(access: str) -> 'access decorator'\n",
            "    This is a acces decorator factory, which returns a access decorator.\n",
            "    \n",
            "    The access can be one from the following list: [high, mid, low, no]\n",
            "    Based on the access, the access decorator provides a list of functions it can run.\n",
            "\n"
          ]
        }
      ]
    },
    {
      "cell_type": "code",
      "metadata": {
        "id": "yC0GLzBs_dK0"
      },
      "source": [
        ""
      ],
      "execution_count": null,
      "outputs": []
    }
  ]
}