{
  "nbformat": 4,
  "nbformat_minor": 0,
  "metadata": {
    "colab": {
      "name": "Generators.ipynb",
      "provenance": [],
      "collapsed_sections": [],
      "authorship_tag": "ABX9TyOFntLebH65K4AXX3PsMI5X",
      "include_colab_link": true
    },
    "kernelspec": {
      "name": "python3",
      "display_name": "Python 3"
    },
    "language_info": {
      "name": "python"
    }
  },
  "cells": [
    {
      "cell_type": "markdown",
      "metadata": {
        "id": "view-in-github",
        "colab_type": "text"
      },
      "source": [
        "<a href=\"https://colab.research.google.com/github/abalaji-blr/PythonLang/blob/main/Generators.ipynb\" target=\"_parent\"><img src=\"https://colab.research.google.com/assets/colab-badge.svg\" alt=\"Open In Colab\"/></a>"
      ]
    },
    {
      "cell_type": "markdown",
      "source": [
        "# Generators"
      ],
      "metadata": {
        "id": "y8eilG_M6eAd"
      }
    },
    {
      "cell_type": "markdown",
      "source": [
        "* yield\n",
        "* yield from\n",
        "* generator expressions\n",
        " ( )\n",
        " "
      ],
      "metadata": {
        "id": "5KA5EkF-x_Sa"
      }
    },
    {
      "cell_type": "markdown",
      "source": [
        "## What is a generator function in Python?\n",
        "Any function which has **yield** statement is called as **generator** function.\n",
        "\n",
        "**Generators** are nothing but **iterators** that **produces** the value of the expression passed to **yield**.\n",
        "\n",
        "When the body of the generator function completes, the generator object raises **StopIteration**.\n",
        "\n",
        "## Can we have **return** statement in generator function?\n",
        "\n",
        "Yes, one can use **return** statement in the generator function but it will raise **StopIteration**.\n",
        "\n",
        "\n",
        "## Yield From\n",
        "\n",
        "When there are multiple generators are involved to produce / yield values,\n",
        "one way to implement is using nested for loop. \n",
        "Another way it to replace the inner-loop with **yield from**.\n",
        "\n",
        "## Generator Expression\n",
        "\n",
        "The Generator Expression looks more like list comprehension but it is **enclosed in parentheses** rather than the square brackets.\n",
        "\n",
        "The genertor expressions produces a **generator**. Generator in turn is a **iterator**.\n",
        "\n"
      ],
      "metadata": {
        "id": "4Zy5zuTSA_Eo"
      }
    },
    {
      "cell_type": "markdown",
      "source": [
        "## Code Examples"
      ],
      "metadata": {
        "id": "lFhhDPdT-3LO"
      }
    },
    {
      "cell_type": "markdown",
      "source": [
        "## Simple Generator function"
      ],
      "metadata": {
        "id": "_532RfYvAVZI"
      }
    },
    {
      "cell_type": "code",
      "source": [
        "def gen_123():\n",
        "  yield 1\n",
        "  yield 2\n",
        "  yield 3\n"
      ],
      "metadata": {
        "id": "IuSD9QRMAf5m"
      },
      "execution_count": 12,
      "outputs": []
    },
    {
      "cell_type": "code",
      "source": [
        "gen_123"
      ],
      "metadata": {
        "colab": {
          "base_uri": "https://localhost:8080/"
        },
        "id": "mCXqIa9YAn_0",
        "outputId": "4135f612-9d71-4ca8-e424-218376230851"
      },
      "execution_count": 13,
      "outputs": [
        {
          "output_type": "execute_result",
          "data": {
            "text/plain": [
              "<function __main__.gen_123>"
            ]
          },
          "metadata": {},
          "execution_count": 13
        }
      ]
    },
    {
      "cell_type": "code",
      "source": [
        "g = gen_123()"
      ],
      "metadata": {
        "id": "QcokhXKbArBg"
      },
      "execution_count": 14,
      "outputs": []
    },
    {
      "cell_type": "code",
      "source": [
        "next(g)"
      ],
      "metadata": {
        "colab": {
          "base_uri": "https://localhost:8080/"
        },
        "id": "N-nJlajhAtTF",
        "outputId": "31c44bc3-85cb-47d0-8e3c-1e95bffc4a44"
      },
      "execution_count": 15,
      "outputs": [
        {
          "output_type": "execute_result",
          "data": {
            "text/plain": [
              "1"
            ]
          },
          "metadata": {},
          "execution_count": 15
        }
      ]
    },
    {
      "cell_type": "code",
      "source": [
        "next(g)"
      ],
      "metadata": {
        "colab": {
          "base_uri": "https://localhost:8080/"
        },
        "id": "Qs4_2rzOAwvS",
        "outputId": "bd036fe6-aaa0-4c26-9c69-316ec774814a"
      },
      "execution_count": 16,
      "outputs": [
        {
          "output_type": "execute_result",
          "data": {
            "text/plain": [
              "2"
            ]
          },
          "metadata": {},
          "execution_count": 16
        }
      ]
    },
    {
      "cell_type": "code",
      "source": [
        "next(g)"
      ],
      "metadata": {
        "colab": {
          "base_uri": "https://localhost:8080/"
        },
        "id": "3b8PINBfAyYO",
        "outputId": "cd132f70-673b-419e-bb7c-f981fc40192e"
      },
      "execution_count": 17,
      "outputs": [
        {
          "output_type": "execute_result",
          "data": {
            "text/plain": [
              "3"
            ]
          },
          "metadata": {},
          "execution_count": 17
        }
      ]
    },
    {
      "cell_type": "code",
      "source": [
        "next(g)"
      ],
      "metadata": {
        "colab": {
          "base_uri": "https://localhost:8080/",
          "height": 164
        },
        "id": "WsD9BXWGAz34",
        "outputId": "154069f4-b65c-4106-caa8-4a9be663dffd"
      },
      "execution_count": 18,
      "outputs": [
        {
          "output_type": "error",
          "ename": "StopIteration",
          "evalue": "ignored",
          "traceback": [
            "\u001b[0;31m---------------------------------------------------------------------------\u001b[0m",
            "\u001b[0;31mStopIteration\u001b[0m                             Traceback (most recent call last)",
            "\u001b[0;32m<ipython-input-18-e734f8aca5ac>\u001b[0m in \u001b[0;36m<module>\u001b[0;34m()\u001b[0m\n\u001b[0;32m----> 1\u001b[0;31m \u001b[0mnext\u001b[0m\u001b[0;34m(\u001b[0m\u001b[0mg\u001b[0m\u001b[0;34m)\u001b[0m\u001b[0;34m\u001b[0m\u001b[0;34m\u001b[0m\u001b[0m\n\u001b[0m",
            "\u001b[0;31mStopIteration\u001b[0m: "
          ]
        }
      ]
    },
    {
      "cell_type": "markdown",
      "source": [
        "## Return Statement in Generator"
      ],
      "metadata": {
        "id": "mQjqJJ9YCwQx"
      }
    },
    {
      "cell_type": "code",
      "source": [
        "def gen_456():\n",
        "  yield 4\n",
        "  yield 5\n",
        "  return\n",
        "  yield 6"
      ],
      "metadata": {
        "id": "LABJgsZGCzf7"
      },
      "execution_count": 19,
      "outputs": []
    },
    {
      "cell_type": "code",
      "source": [
        "g2 = gen_456()"
      ],
      "metadata": {
        "id": "FXOhHFOpC82t"
      },
      "execution_count": 20,
      "outputs": []
    },
    {
      "cell_type": "code",
      "source": [
        "next(g2)"
      ],
      "metadata": {
        "colab": {
          "base_uri": "https://localhost:8080/"
        },
        "id": "FV9ZN8cxDBSe",
        "outputId": "93e0f8ca-9a10-4bbf-d4c0-0e80cc3e9232"
      },
      "execution_count": 21,
      "outputs": [
        {
          "output_type": "execute_result",
          "data": {
            "text/plain": [
              "4"
            ]
          },
          "metadata": {},
          "execution_count": 21
        }
      ]
    },
    {
      "cell_type": "code",
      "source": [
        "next(g2)"
      ],
      "metadata": {
        "colab": {
          "base_uri": "https://localhost:8080/"
        },
        "id": "pk_6r9d4DC44",
        "outputId": "37f2d1e2-fa63-46d2-bf7b-8ba1b570a11b"
      },
      "execution_count": 22,
      "outputs": [
        {
          "output_type": "execute_result",
          "data": {
            "text/plain": [
              "5"
            ]
          },
          "metadata": {},
          "execution_count": 22
        }
      ]
    },
    {
      "cell_type": "code",
      "source": [
        "next(g2)"
      ],
      "metadata": {
        "colab": {
          "base_uri": "https://localhost:8080/",
          "height": 164
        },
        "id": "QvWDlpSyDEk9",
        "outputId": "560a252b-2ec4-4147-a4a1-5b53e2b820d1"
      },
      "execution_count": 23,
      "outputs": [
        {
          "output_type": "error",
          "ename": "StopIteration",
          "evalue": "ignored",
          "traceback": [
            "\u001b[0;31m---------------------------------------------------------------------------\u001b[0m",
            "\u001b[0;31mStopIteration\u001b[0m                             Traceback (most recent call last)",
            "\u001b[0;32m<ipython-input-23-a6dbba519a9b>\u001b[0m in \u001b[0;36m<module>\u001b[0;34m()\u001b[0m\n\u001b[0;32m----> 1\u001b[0;31m \u001b[0mnext\u001b[0m\u001b[0;34m(\u001b[0m\u001b[0mg2\u001b[0m\u001b[0;34m)\u001b[0m\u001b[0;34m\u001b[0m\u001b[0;34m\u001b[0m\u001b[0m\n\u001b[0m",
            "\u001b[0;31mStopIteration\u001b[0m: "
          ]
        }
      ]
    },
    {
      "cell_type": "markdown",
      "source": [
        "## Go Over Sequence using Generator"
      ],
      "metadata": {
        "id": "atFUC9jPAZs2"
      }
    },
    {
      "cell_type": "code",
      "source": [
        "class Squares:\n",
        "  def __init__(self):\n",
        "    print('init...')\n",
        "    self.seq = [1, 2, 3, 4]\n",
        "\n",
        "  def __iter__(self):\n",
        "    print('iter...')\n",
        "    for item in self.seq:\n",
        "      print('get next item')\n",
        "      yield item\n"
      ],
      "metadata": {
        "id": "IPRGhj_w-5Dq"
      },
      "execution_count": 8,
      "outputs": []
    },
    {
      "cell_type": "code",
      "source": [
        "sq = Squares()"
      ],
      "metadata": {
        "colab": {
          "base_uri": "https://localhost:8080/"
        },
        "id": "Cmw1AXPc_X0y",
        "outputId": "866493bf-b9d3-4735-cf56-65c5970df885"
      },
      "execution_count": 9,
      "outputs": [
        {
          "output_type": "stream",
          "name": "stdout",
          "text": [
            "init...\n"
          ]
        }
      ]
    },
    {
      "cell_type": "code",
      "source": [
        "for s in sq:\n",
        "  print(s)"
      ],
      "metadata": {
        "colab": {
          "base_uri": "https://localhost:8080/"
        },
        "id": "Y7w03EvG_aE5",
        "outputId": "dea6ea3a-6b7f-4d84-9172-2796caf8b81c"
      },
      "execution_count": 10,
      "outputs": [
        {
          "output_type": "stream",
          "name": "stdout",
          "text": [
            "iter...\n",
            "get next item\n",
            "1\n",
            "get next item\n",
            "2\n",
            "get next item\n",
            "3\n",
            "get next item\n",
            "4\n"
          ]
        }
      ]
    },
    {
      "cell_type": "code",
      "source": [
        "for s in sq:\n",
        "  print(s)"
      ],
      "metadata": {
        "colab": {
          "base_uri": "https://localhost:8080/"
        },
        "id": "_jMiMrtB_c2x",
        "outputId": "e2e9e7f5-55d3-472a-f9e3-214ae0c5029a"
      },
      "execution_count": 11,
      "outputs": [
        {
          "output_type": "stream",
          "name": "stdout",
          "text": [
            "iter...\n",
            "get next item\n",
            "1\n",
            "get next item\n",
            "2\n",
            "get next item\n",
            "3\n",
            "get next item\n",
            "4\n"
          ]
        }
      ]
    },
    {
      "cell_type": "markdown",
      "source": [
        "## Generator Expressions\n",
        "\n",
        "The Generator Expression looks more like list comprehension but it is **enclosed in parentheses** rather than the square brackets. \n",
        "\n",
        "The genertor expressions produces a **generator**. Generator in turn is a **iterator**."
      ],
      "metadata": {
        "id": "bsZlfCJttaRM"
      }
    },
    {
      "cell_type": "code",
      "source": [
        "def gen_123():\n",
        "  yield 1\n",
        "  yield 2\n",
        "  yield 3"
      ],
      "metadata": {
        "id": "OMRNkP6P_fVw"
      },
      "execution_count": 1,
      "outputs": []
    },
    {
      "cell_type": "code",
      "source": [
        "res1 = [x*2 for x in gen_123()]"
      ],
      "metadata": {
        "id": "OZ4e028YydMD"
      },
      "execution_count": 2,
      "outputs": []
    },
    {
      "cell_type": "code",
      "source": [
        "res1"
      ],
      "metadata": {
        "colab": {
          "base_uri": "https://localhost:8080/"
        },
        "id": "dYLwQ-j3y6En",
        "outputId": "b92aeb83-6984-4e48-f89a-92fa186fe717"
      },
      "execution_count": 3,
      "outputs": [
        {
          "output_type": "execute_result",
          "data": {
            "text/plain": [
              "[2, 4, 6]"
            ]
          },
          "metadata": {},
          "execution_count": 3
        }
      ]
    },
    {
      "cell_type": "code",
      "source": [
        "res2 = (x*2 for x in gen_123())"
      ],
      "metadata": {
        "id": "JVC-j3AMy7ab"
      },
      "execution_count": 4,
      "outputs": []
    },
    {
      "cell_type": "code",
      "source": [
        "res2"
      ],
      "metadata": {
        "colab": {
          "base_uri": "https://localhost:8080/"
        },
        "id": "2C1ldLipzB64",
        "outputId": "4e5db972-8e26-4861-f359-52620e9c557b"
      },
      "execution_count": 5,
      "outputs": [
        {
          "output_type": "execute_result",
          "data": {
            "text/plain": [
              "<generator object <genexpr> at 0x7fd483d00c50>"
            ]
          },
          "metadata": {},
          "execution_count": 5
        }
      ]
    },
    {
      "cell_type": "code",
      "source": [
        "# lazy evaluation.\n",
        "for x in res2:\n",
        "  print(x)"
      ],
      "metadata": {
        "colab": {
          "base_uri": "https://localhost:8080/"
        },
        "id": "lp1Z9P25zC_4",
        "outputId": "4beab6f2-de47-4070-e52d-e4e0a58e73fd"
      },
      "execution_count": 6,
      "outputs": [
        {
          "output_type": "stream",
          "name": "stdout",
          "text": [
            "2\n",
            "4\n",
            "6\n"
          ]
        }
      ]
    },
    {
      "cell_type": "markdown",
      "source": [
        "## Yield From"
      ],
      "metadata": {
        "id": "YJdDHNCl4B7v"
      }
    },
    {
      "cell_type": "code",
      "source": [
        "def chain_gen(*iterables):\n",
        "  for it in iterables:\n",
        "    for i in it:\n",
        "      yield i"
      ],
      "metadata": {
        "id": "NAXedTYAzM4r"
      },
      "execution_count": 7,
      "outputs": []
    },
    {
      "cell_type": "code",
      "source": [
        "#let's construct the bunch of iterables\n",
        "\n",
        "s = 'ABC'\n",
        "t = tuple(range(3))"
      ],
      "metadata": {
        "id": "FZzVJAd76QHN"
      },
      "execution_count": 8,
      "outputs": []
    },
    {
      "cell_type": "code",
      "source": [
        "list(chain_gen(s,t))"
      ],
      "metadata": {
        "colab": {
          "base_uri": "https://localhost:8080/"
        },
        "id": "pVtQnOim6gAk",
        "outputId": "2c9d0fc1-ef3d-4553-b099-db4c064fb6b7"
      },
      "execution_count": 9,
      "outputs": [
        {
          "output_type": "execute_result",
          "data": {
            "text/plain": [
              "['A', 'B', 'C', 0, 1, 2]"
            ]
          },
          "metadata": {},
          "execution_count": 9
        }
      ]
    },
    {
      "cell_type": "markdown",
      "source": [
        "Let's redefine and use yield from."
      ],
      "metadata": {
        "id": "552K9KbE6x54"
      }
    },
    {
      "cell_type": "code",
      "source": [
        "def chain_gen(*iterables):\n",
        "  for it in iterables:\n",
        "    yield from it"
      ],
      "metadata": {
        "id": "GaeCT_6q6lNw"
      },
      "execution_count": 10,
      "outputs": []
    },
    {
      "cell_type": "code",
      "source": [
        "list(chain_gen(s,t))"
      ],
      "metadata": {
        "colab": {
          "base_uri": "https://localhost:8080/"
        },
        "id": "IrXiIhHW67xh",
        "outputId": "f39c6697-fbde-4bab-80d8-ad74b3479948"
      },
      "execution_count": 11,
      "outputs": [
        {
          "output_type": "execute_result",
          "data": {
            "text/plain": [
              "['A', 'B', 'C', 0, 1, 2]"
            ]
          },
          "metadata": {},
          "execution_count": 11
        }
      ]
    },
    {
      "cell_type": "code",
      "source": [
        ""
      ],
      "metadata": {
        "id": "VY8E1nlB6-mA"
      },
      "execution_count": null,
      "outputs": []
    }
  ]
}