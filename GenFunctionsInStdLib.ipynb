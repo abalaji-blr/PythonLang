{
  "nbformat": 4,
  "nbformat_minor": 0,
  "metadata": {
    "colab": {
      "name": "GenFunctionsInStdLib.ipynb",
      "provenance": [],
      "collapsed_sections": [],
      "authorship_tag": "ABX9TyPhabnyRGnwoNuI4Yle2L3p",
      "include_colab_link": true
    },
    "kernelspec": {
      "name": "python3",
      "display_name": "Python 3"
    },
    "language_info": {
      "name": "python"
    }
  },
  "cells": [
    {
      "cell_type": "markdown",
      "metadata": {
        "id": "view-in-github",
        "colab_type": "text"
      },
      "source": [
        "<a href=\"https://colab.research.google.com/github/abalaji-blr/PythonLang/blob/main/GenFunctionsInStdLib.ipynb\" target=\"_parent\"><img src=\"https://colab.research.google.com/assets/colab-badge.svg\" alt=\"Open In Colab\"/></a>"
      ]
    },
    {
      "cell_type": "markdown",
      "source": [
        "# Generator Functions in Stadard Library"
      ],
      "metadata": {
        "id": "ZkWtlAkeuz1E"
      }
    },
    {
      "cell_type": "markdown",
      "source": [
        "## Filtering Generator Functions\n",
        "\n",
        "* Built-in Module\n",
        "  * **filter(predicate, it)** - yields item when predicate returns truthy.\n",
        "\n",
        "* itertools\n",
        "  * **filterfalse(predicate, it)** - yields item when predicate returns falsy.\n",
        "  * **takewhile(predicate, it)** - yields item while predicate computes truthy and then it stops.\n",
        "  * **dropwhile(predicate, it)** - drop item(s) till the predicate is truthy. After that, all items are reported.\n",
        "  * **compress(it, selector_it)** - consumes two iterables. Yields item from first iter based on second iter's truthy-ness.\n",
        "  * **islice(it, stop)**\n",
        "  * **islice(it, start, stop, step)**\n",
        "  "
      ],
      "metadata": {
        "id": "U5uT4Sq7u-JQ"
      }
    },
    {
      "cell_type": "markdown",
      "source": [
        "## Mapping Generators\n",
        "\n",
        "* Built-in module\n",
        "  * **enumerate(iterable, start=0)**\n",
        "  * **map(func, it1, [it2...itn])** - Applies func to each item in the iterable."
      ],
      "metadata": {
        "id": "JbZcEkH68mNZ"
      }
    },
    {
      "cell_type": "markdown",
      "source": [
        "## Merging Generators\n",
        "\n",
        "* **chain** \n",
        "* **chain.from_iterable()** - all of these yield items from multiple iterables. They consume iterables **sequentially**.\n",
        "\n",
        "* **zip**\n",
        "* **zip_longest**\n",
        "* **product** - they all consume **iterables** parallelly."
      ],
      "metadata": {
        "id": "uDRdn9fbpmtx"
      }
    },
    {
      "cell_type": "markdown",
      "source": [
        "## Code Examples"
      ],
      "metadata": {
        "id": "AcYiGUL2vgTn"
      }
    },
    {
      "cell_type": "code",
      "execution_count": 1,
      "metadata": {
        "colab": {
          "base_uri": "https://localhost:8080/"
        },
        "id": "bBh64z7vuvJ7",
        "outputId": "302f7aac-463d-4a4e-f7b5-e67a94ba68c5"
      },
      "outputs": [
        {
          "output_type": "execute_result",
          "data": {
            "text/plain": [
              "['e', 'o', 'o', 'a', 'e', 'o', 'u']"
            ]
          },
          "metadata": {},
          "execution_count": 1
        }
      ],
      "source": [
        "def vowel(c):\n",
        "  return c.lower() in 'aeiou'\n",
        "\n",
        "list(filter(vowel, 'hello, how are you?'))"
      ]
    },
    {
      "cell_type": "code",
      "source": [
        "help(filter)"
      ],
      "metadata": {
        "colab": {
          "base_uri": "https://localhost:8080/"
        },
        "id": "mkNLTSpnvyf7",
        "outputId": "53561258-6bfd-4175-fcf3-b7d2abc25b3e"
      },
      "execution_count": 2,
      "outputs": [
        {
          "output_type": "stream",
          "name": "stdout",
          "text": [
            "Help on class filter in module builtins:\n",
            "\n",
            "class filter(object)\n",
            " |  filter(function or None, iterable) --> filter object\n",
            " |  \n",
            " |  Return an iterator yielding those items of iterable for which function(item)\n",
            " |  is true. If function is None, return the items that are true.\n",
            " |  \n",
            " |  Methods defined here:\n",
            " |  \n",
            " |  __getattribute__(self, name, /)\n",
            " |      Return getattr(self, name).\n",
            " |  \n",
            " |  __iter__(self, /)\n",
            " |      Implement iter(self).\n",
            " |  \n",
            " |  __next__(self, /)\n",
            " |      Implement next(self).\n",
            " |  \n",
            " |  __reduce__(...)\n",
            " |      Return state information for pickling.\n",
            " |  \n",
            " |  ----------------------------------------------------------------------\n",
            " |  Static methods defined here:\n",
            " |  \n",
            " |  __new__(*args, **kwargs) from builtins.type\n",
            " |      Create and return a new object.  See help(type) for accurate signature.\n",
            "\n"
          ]
        }
      ]
    },
    {
      "cell_type": "code",
      "source": [
        "gen_exp = (filter(vowel, \"hello, how are you?\"))"
      ],
      "metadata": {
        "id": "ZttFCkoQv4vB"
      },
      "execution_count": 3,
      "outputs": []
    },
    {
      "cell_type": "code",
      "source": [
        "type(gen_exp)"
      ],
      "metadata": {
        "colab": {
          "base_uri": "https://localhost:8080/"
        },
        "id": "aYe5OyWJv-Eo",
        "outputId": "9381a2f0-d454-4699-afc8-d40682fb92f3"
      },
      "execution_count": 4,
      "outputs": [
        {
          "output_type": "execute_result",
          "data": {
            "text/plain": [
              "filter"
            ]
          },
          "metadata": {},
          "execution_count": 4
        }
      ]
    },
    {
      "cell_type": "code",
      "source": [
        "gen_exp"
      ],
      "metadata": {
        "colab": {
          "base_uri": "https://localhost:8080/"
        },
        "id": "_v7MQID9wVfH",
        "outputId": "f929efa4-9daa-4881-c76e-5e1304996d3c"
      },
      "execution_count": 5,
      "outputs": [
        {
          "output_type": "execute_result",
          "data": {
            "text/plain": [
              "<filter at 0x7ff0c5702a50>"
            ]
          },
          "metadata": {},
          "execution_count": 5
        }
      ]
    },
    {
      "cell_type": "code",
      "source": [
        "list(gen_exp)"
      ],
      "metadata": {
        "colab": {
          "base_uri": "https://localhost:8080/"
        },
        "id": "aMsAvJalwXkk",
        "outputId": "522e7b79-7d26-466d-ba0b-a4d1cb35469a"
      },
      "execution_count": 6,
      "outputs": [
        {
          "output_type": "execute_result",
          "data": {
            "text/plain": [
              "['e', 'o', 'o', 'a', 'e', 'o', 'u']"
            ]
          },
          "metadata": {},
          "execution_count": 6
        }
      ]
    },
    {
      "cell_type": "code",
      "source": [
        ""
      ],
      "metadata": {
        "id": "Di62p7w5wZtF"
      },
      "execution_count": 6,
      "outputs": []
    },
    {
      "cell_type": "markdown",
      "source": [
        "## itertools"
      ],
      "metadata": {
        "id": "LU5WbWAPxJdf"
      }
    },
    {
      "cell_type": "code",
      "source": [
        "import itertools"
      ],
      "metadata": {
        "id": "xj3ka_Z3xLOZ"
      },
      "execution_count": 7,
      "outputs": []
    },
    {
      "cell_type": "code",
      "source": [
        "list(itertools.filterfalse(vowel, \"hello, how are you?\"))"
      ],
      "metadata": {
        "colab": {
          "base_uri": "https://localhost:8080/"
        },
        "id": "Lqc4AkQaxMNy",
        "outputId": "d7bdccca-1b53-43bd-b0bb-d83515035730"
      },
      "execution_count": 8,
      "outputs": [
        {
          "output_type": "execute_result",
          "data": {
            "text/plain": [
              "['h', 'l', 'l', ',', ' ', 'h', 'w', ' ', 'r', ' ', 'y', '?']"
            ]
          },
          "metadata": {},
          "execution_count": 8
        }
      ]
    },
    {
      "cell_type": "code",
      "source": [
        ""
      ],
      "metadata": {
        "id": "1IZX5boPxVcC"
      },
      "execution_count": 8,
      "outputs": []
    },
    {
      "cell_type": "code",
      "source": [
        "list(itertools.takewhile(vowel, \"i'm fine. how are you?\"))"
      ],
      "metadata": {
        "colab": {
          "base_uri": "https://localhost:8080/"
        },
        "id": "4MBatrKiyZN5",
        "outputId": "9bf510a2-d3a9-40a3-949b-ebe99d4acc2a"
      },
      "execution_count": 9,
      "outputs": [
        {
          "output_type": "execute_result",
          "data": {
            "text/plain": [
              "['i']"
            ]
          },
          "metadata": {},
          "execution_count": 9
        }
      ]
    },
    {
      "cell_type": "code",
      "source": [
        ""
      ],
      "metadata": {
        "id": "SNtR6dJjyetD"
      },
      "execution_count": 9,
      "outputs": []
    },
    {
      "cell_type": "code",
      "source": [
        "list(itertools.dropwhile(vowel, \"i'm fine. how are you?\"))"
      ],
      "metadata": {
        "colab": {
          "base_uri": "https://localhost:8080/"
        },
        "id": "NWOiXUQKy7Jr",
        "outputId": "45408de6-78eb-44e6-8d86-916796e1f8b1"
      },
      "execution_count": 10,
      "outputs": [
        {
          "output_type": "execute_result",
          "data": {
            "text/plain": [
              "[\"'\",\n",
              " 'm',\n",
              " ' ',\n",
              " 'f',\n",
              " 'i',\n",
              " 'n',\n",
              " 'e',\n",
              " '.',\n",
              " ' ',\n",
              " 'h',\n",
              " 'o',\n",
              " 'w',\n",
              " ' ',\n",
              " 'a',\n",
              " 'r',\n",
              " 'e',\n",
              " ' ',\n",
              " 'y',\n",
              " 'o',\n",
              " 'u',\n",
              " '?']"
            ]
          },
          "metadata": {},
          "execution_count": 10
        }
      ]
    },
    {
      "cell_type": "code",
      "source": [
        ""
      ],
      "metadata": {
        "id": "63vTksTAzBTN"
      },
      "execution_count": 10,
      "outputs": []
    },
    {
      "cell_type": "code",
      "source": [
        "list(itertools.compress(\"hello, how are you?\", (1,0,1,0,1)))"
      ],
      "metadata": {
        "colab": {
          "base_uri": "https://localhost:8080/"
        },
        "id": "LHi-1qbe0CiC",
        "outputId": "037c2297-fc3b-4757-a598-8058ef899e88"
      },
      "execution_count": 11,
      "outputs": [
        {
          "output_type": "execute_result",
          "data": {
            "text/plain": [
              "['h', 'l', 'o']"
            ]
          },
          "metadata": {},
          "execution_count": 11
        }
      ]
    },
    {
      "cell_type": "code",
      "source": [
        ""
      ],
      "metadata": {
        "id": "aMCi-O-R0NU_"
      },
      "execution_count": 11,
      "outputs": []
    },
    {
      "cell_type": "code",
      "source": [
        "list(itertools.islice(\"hello, how are you?\", 5))"
      ],
      "metadata": {
        "colab": {
          "base_uri": "https://localhost:8080/"
        },
        "id": "GXcBFKOW8AA4",
        "outputId": "3eac8d9b-d325-4e12-86d0-e963abd1d51e"
      },
      "execution_count": 12,
      "outputs": [
        {
          "output_type": "execute_result",
          "data": {
            "text/plain": [
              "['h', 'e', 'l', 'l', 'o']"
            ]
          },
          "metadata": {},
          "execution_count": 12
        }
      ]
    },
    {
      "cell_type": "code",
      "source": [
        "list(itertools.islice(\"hello, how are you?\", 1, 11, 2))"
      ],
      "metadata": {
        "colab": {
          "base_uri": "https://localhost:8080/"
        },
        "id": "BvlbetQg8G_Q",
        "outputId": "7e944b23-5c59-425e-a6a4-eb1dd702514c"
      },
      "execution_count": 13,
      "outputs": [
        {
          "output_type": "execute_result",
          "data": {
            "text/plain": [
              "['e', 'l', ',', 'h', 'w']"
            ]
          },
          "metadata": {},
          "execution_count": 13
        }
      ]
    },
    {
      "cell_type": "code",
      "source": [
        ""
      ],
      "metadata": {
        "id": "4eYIfQ-V8Sxe"
      },
      "execution_count": 13,
      "outputs": []
    },
    {
      "cell_type": "markdown",
      "source": [
        "## Mapping Generators"
      ],
      "metadata": {
        "id": "P_yP1oci-aKC"
      }
    },
    {
      "cell_type": "code",
      "source": [
        "list(enumerate('albatorz', 1))"
      ],
      "metadata": {
        "colab": {
          "base_uri": "https://localhost:8080/"
        },
        "id": "d963Q0b2-bjo",
        "outputId": "da391c39-f4ef-4c43-bc3b-b1b62f241a44"
      },
      "execution_count": 14,
      "outputs": [
        {
          "output_type": "execute_result",
          "data": {
            "text/plain": [
              "[(1, 'a'),\n",
              " (2, 'l'),\n",
              " (3, 'b'),\n",
              " (4, 'a'),\n",
              " (5, 't'),\n",
              " (6, 'o'),\n",
              " (7, 'r'),\n",
              " (8, 'z')]"
            ]
          },
          "metadata": {},
          "execution_count": 14
        }
      ]
    },
    {
      "cell_type": "code",
      "source": [
        "list(enumerate('albatorz', 5))"
      ],
      "metadata": {
        "colab": {
          "base_uri": "https://localhost:8080/"
        },
        "id": "9JXCmsVh-jxC",
        "outputId": "1f266375-788d-4b0d-b537-0229240d7e30"
      },
      "execution_count": 15,
      "outputs": [
        {
          "output_type": "execute_result",
          "data": {
            "text/plain": [
              "[(5, 'a'),\n",
              " (6, 'l'),\n",
              " (7, 'b'),\n",
              " (8, 'a'),\n",
              " (9, 't'),\n",
              " (10, 'o'),\n",
              " (11, 'r'),\n",
              " (12, 'z')]"
            ]
          },
          "metadata": {},
          "execution_count": 15
        }
      ]
    },
    {
      "cell_type": "code",
      "source": [
        "import operator"
      ],
      "metadata": {
        "id": "ZHJaj4PJ-q8v"
      },
      "execution_count": 16,
      "outputs": []
    },
    {
      "cell_type": "code",
      "source": [
        "list(map(operator.mul, range(11), range(11)))"
      ],
      "metadata": {
        "colab": {
          "base_uri": "https://localhost:8080/"
        },
        "id": "ekS95Q-A_Nmo",
        "outputId": "1dcc7771-cc03-4288-cbc2-024ff1467910"
      },
      "execution_count": 17,
      "outputs": [
        {
          "output_type": "execute_result",
          "data": {
            "text/plain": [
              "[0, 1, 4, 9, 16, 25, 36, 49, 64, 81, 100]"
            ]
          },
          "metadata": {},
          "execution_count": 17
        }
      ]
    },
    {
      "cell_type": "code",
      "source": [
        "list(map(operator.mul, range(11), (10, 20, 30)))"
      ],
      "metadata": {
        "colab": {
          "base_uri": "https://localhost:8080/"
        },
        "id": "6H4ARDOC_XiZ",
        "outputId": "61cf186d-eb9f-4cc2-8a49-aa073743f616"
      },
      "execution_count": 18,
      "outputs": [
        {
          "output_type": "execute_result",
          "data": {
            "text/plain": [
              "[0, 20, 60]"
            ]
          },
          "metadata": {},
          "execution_count": 18
        }
      ]
    },
    {
      "cell_type": "code",
      "source": [
        "list(map(lambda a, b: (a, b), range(11), (10, 20, 30)))"
      ],
      "metadata": {
        "colab": {
          "base_uri": "https://localhost:8080/"
        },
        "id": "JQ5TWROX_vsl",
        "outputId": "78b18fc5-0321-461e-c17a-a13ea1fe9484"
      },
      "execution_count": 19,
      "outputs": [
        {
          "output_type": "execute_result",
          "data": {
            "text/plain": [
              "[(0, 10), (1, 20), (2, 30)]"
            ]
          },
          "metadata": {},
          "execution_count": 19
        }
      ]
    },
    {
      "cell_type": "code",
      "source": [
        ""
      ],
      "metadata": {
        "id": "9cukhFk5ACVl"
      },
      "execution_count": 19,
      "outputs": []
    },
    {
      "cell_type": "markdown",
      "source": [
        "## Merging Generators"
      ],
      "metadata": {
        "id": "pfpBJiQtqd-z"
      }
    },
    {
      "cell_type": "code",
      "source": [
        "list(itertools.chain('ABC', range(2)))"
      ],
      "metadata": {
        "colab": {
          "base_uri": "https://localhost:8080/"
        },
        "id": "WbnN4163qfmH",
        "outputId": "5ee98f7a-15e7-4532-e4cc-ae4763e805e4"
      },
      "execution_count": 20,
      "outputs": [
        {
          "output_type": "execute_result",
          "data": {
            "text/plain": [
              "['A', 'B', 'C', 0, 1]"
            ]
          },
          "metadata": {},
          "execution_count": 20
        }
      ]
    },
    {
      "cell_type": "code",
      "source": [
        "list(itertools.chain(enumerate('ABC')))"
      ],
      "metadata": {
        "colab": {
          "base_uri": "https://localhost:8080/"
        },
        "id": "ydYPu5ojqnos",
        "outputId": "6a65e14f-533f-433c-c923-5db3b5c27a4d"
      },
      "execution_count": 21,
      "outputs": [
        {
          "output_type": "execute_result",
          "data": {
            "text/plain": [
              "[(0, 'A'), (1, 'B'), (2, 'C')]"
            ]
          },
          "metadata": {},
          "execution_count": 21
        }
      ]
    },
    {
      "cell_type": "code",
      "source": [
        "list(itertools.chain.from_iterable(enumerate('ABC')))"
      ],
      "metadata": {
        "colab": {
          "base_uri": "https://localhost:8080/"
        },
        "id": "pvZ_PvUjq6rS",
        "outputId": "f488d3d0-8c94-4886-bef8-9abd68749406"
      },
      "execution_count": 22,
      "outputs": [
        {
          "output_type": "execute_result",
          "data": {
            "text/plain": [
              "[0, 'A', 1, 'B', 2, 'C']"
            ]
          },
          "metadata": {},
          "execution_count": 22
        }
      ]
    },
    {
      "cell_type": "markdown",
      "source": [
        "### zip"
      ],
      "metadata": {
        "id": "kysfV54orINy"
      }
    },
    {
      "cell_type": "code",
      "source": [
        "list(zip('ABC', range(4)))"
      ],
      "metadata": {
        "colab": {
          "base_uri": "https://localhost:8080/"
        },
        "id": "1WrcU4gjrAPM",
        "outputId": "c1bcbfbd-ed53-4594-f9d4-fd2f70a1448d"
      },
      "execution_count": 23,
      "outputs": [
        {
          "output_type": "execute_result",
          "data": {
            "text/plain": [
              "[('A', 0), ('B', 1), ('C', 2)]"
            ]
          },
          "metadata": {},
          "execution_count": 23
        }
      ]
    },
    {
      "cell_type": "code",
      "source": [
        "list(zip('ABC', range(4), (10, 20, 30, 40)))"
      ],
      "metadata": {
        "colab": {
          "base_uri": "https://localhost:8080/"
        },
        "id": "7OmFRsOOrM8I",
        "outputId": "62dd73c4-f737-4a08-d3e1-f38483fa4485"
      },
      "execution_count": 24,
      "outputs": [
        {
          "output_type": "execute_result",
          "data": {
            "text/plain": [
              "[('A', 0, 10), ('B', 1, 20), ('C', 2, 30)]"
            ]
          },
          "metadata": {},
          "execution_count": 24
        }
      ]
    },
    {
      "cell_type": "code",
      "source": [
        "list(itertools.product('ABC', range(4)))"
      ],
      "metadata": {
        "colab": {
          "base_uri": "https://localhost:8080/"
        },
        "id": "W6--u9ygrYC1",
        "outputId": "f83a854d-030e-4b9b-9366-42051ea4c545"
      },
      "execution_count": 25,
      "outputs": [
        {
          "output_type": "execute_result",
          "data": {
            "text/plain": [
              "[('A', 0),\n",
              " ('A', 1),\n",
              " ('A', 2),\n",
              " ('A', 3),\n",
              " ('B', 0),\n",
              " ('B', 1),\n",
              " ('B', 2),\n",
              " ('B', 3),\n",
              " ('C', 0),\n",
              " ('C', 1),\n",
              " ('C', 2),\n",
              " ('C', 3)]"
            ]
          },
          "metadata": {},
          "execution_count": 25
        }
      ]
    },
    {
      "cell_type": "markdown",
      "source": [
        "## Combinations"
      ],
      "metadata": {
        "id": "AVoNSqzzsjMw"
      }
    },
    {
      "cell_type": "code",
      "source": [
        "list(itertools.combinations('ABC', 2))"
      ],
      "metadata": {
        "colab": {
          "base_uri": "https://localhost:8080/"
        },
        "id": "uSsZ8fULrogO",
        "outputId": "8aa41cb8-9f15-4b4a-df4c-8d9e2cd84944"
      },
      "execution_count": 26,
      "outputs": [
        {
          "output_type": "execute_result",
          "data": {
            "text/plain": [
              "[('A', 'B'), ('A', 'C'), ('B', 'C')]"
            ]
          },
          "metadata": {},
          "execution_count": 26
        }
      ]
    },
    {
      "cell_type": "code",
      "source": [
        "help(itertools.repeat)"
      ],
      "metadata": {
        "colab": {
          "base_uri": "https://localhost:8080/"
        },
        "id": "FgaVWxi9twk-",
        "outputId": "333e506f-2763-463d-dec4-0402465e3529"
      },
      "execution_count": 28,
      "outputs": [
        {
          "output_type": "stream",
          "name": "stdout",
          "text": [
            "Help on class repeat in module itertools:\n",
            "\n",
            "class repeat(builtins.object)\n",
            " |  repeat(object [,times]) -> create an iterator which returns the object\n",
            " |  for the specified number of times.  If not specified, returns the object\n",
            " |  endlessly.\n",
            " |  \n",
            " |  Methods defined here:\n",
            " |  \n",
            " |  __getattribute__(self, name, /)\n",
            " |      Return getattr(self, name).\n",
            " |  \n",
            " |  __iter__(self, /)\n",
            " |      Implement iter(self).\n",
            " |  \n",
            " |  __length_hint__(...)\n",
            " |      Private method returning an estimate of len(list(it)).\n",
            " |  \n",
            " |  __next__(self, /)\n",
            " |      Implement next(self).\n",
            " |  \n",
            " |  __reduce__(...)\n",
            " |      Return state information for pickling.\n",
            " |  \n",
            " |  __repr__(self, /)\n",
            " |      Return repr(self).\n",
            " |  \n",
            " |  ----------------------------------------------------------------------\n",
            " |  Static methods defined here:\n",
            " |  \n",
            " |  __new__(*args, **kwargs) from builtins.type\n",
            " |      Create and return a new object.  See help(type) for accurate signature.\n",
            "\n"
          ]
        }
      ]
    },
    {
      "cell_type": "code",
      "source": [
        "list(itertools.repeat(8, 4))"
      ],
      "metadata": {
        "colab": {
          "base_uri": "https://localhost:8080/"
        },
        "id": "Xmc6GHzasueY",
        "outputId": "8a541129-e53e-4d6e-93a7-29c35e05e53f"
      },
      "execution_count": 29,
      "outputs": [
        {
          "output_type": "execute_result",
          "data": {
            "text/plain": [
              "[8, 8, 8, 8]"
            ]
          },
          "metadata": {},
          "execution_count": 29
        }
      ]
    },
    {
      "cell_type": "code",
      "source": [
        "list(itertools.repeat('XYZ', 4))"
      ],
      "metadata": {
        "colab": {
          "base_uri": "https://localhost:8080/"
        },
        "id": "z-r5JBDat0fn",
        "outputId": "ba30929a-bf86-4430-c16d-6f39200d00bd"
      },
      "execution_count": 30,
      "outputs": [
        {
          "output_type": "execute_result",
          "data": {
            "text/plain": [
              "['XYZ', 'XYZ', 'XYZ', 'XYZ']"
            ]
          },
          "metadata": {},
          "execution_count": 30
        }
      ]
    },
    {
      "cell_type": "code",
      "source": [
        ""
      ],
      "metadata": {
        "id": "ygJzEznyt9J5"
      },
      "execution_count": null,
      "outputs": []
    }
  ]
}