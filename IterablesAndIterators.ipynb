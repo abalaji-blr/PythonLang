{
  "nbformat": 4,
  "nbformat_minor": 0,
  "metadata": {
    "colab": {
      "name": "IterablesAndIterators.ipynb",
      "provenance": [],
      "collapsed_sections": [],
      "authorship_tag": "ABX9TyPgFUFOejhP2kprGi9BrRgr",
      "include_colab_link": true
    },
    "kernelspec": {
      "name": "python3",
      "display_name": "Python 3"
    },
    "language_info": {
      "name": "python"
    }
  },
  "cells": [
    {
      "cell_type": "markdown",
      "metadata": {
        "id": "view-in-github",
        "colab_type": "text"
      },
      "source": [
        "<a href=\"https://colab.research.google.com/github/abalaji-blr/PythonLang/blob/main/IterablesAndIterators.ipynb\" target=\"_parent\"><img src=\"https://colab.research.google.com/assets/colab-badge.svg\" alt=\"Open In Colab\"/></a>"
      ]
    },
    {
      "cell_type": "markdown",
      "source": [
        "# Control Flow: Iterables and Iterators"
      ],
      "metadata": {
        "id": "Lw9n-DZ55noL"
      }
    },
    {
      "cell_type": "markdown",
      "source": [
        "## Iterables:\n",
        "\n",
        "Every collection in python is an *iterable*.\n",
        "\n",
        "**Sequences** are always *iterable*; as are objects implementing *__getitem__* method that takes 0 based indexes.\n",
        "\n",
        "**objects** which implements *__iter__* method returning an **iterator** are **iterables**.\n",
        "\n",
        "---\n",
        "\n",
        "## Iterators:\n",
        "\n",
        "**Iterators** are internally used to support:\n",
        "* for loops\n",
        "* Collection types construction and extension\n",
        "*  Looping over text files line by line\n",
        "* List, dict, and set comprehensions\n",
        "* Tuple unpacking\n",
        "* Unpacking actual parameters with * in function calls\n",
        "\n",
        "The standard **interface** for an interator has two methods:\n",
        "\n",
        "1. __next__\n",
        "  * Returns the next available item.\n",
        "  * Raises **StopIteration** when no more items.\n",
        "\n",
        "2. __iter__\n",
        "  * Returns *self*.\n",
        "\n",
        "---\n",
        "\n",
        "**It's important to note that Python obtains the iterators from iterables**.\n",
        "\n",
        "---\n",
        "\n",
        "### What makes the Sequences iterable?\n",
        "\n",
        "* The short answer - **iter** function.\n",
        "\n",
        "* The long answer:\n",
        "When the interpreter wants to iterate over an object x, it calls **iter(x)**.\n",
        "\n",
        "1. Checks whether the object implements **__iter__** method and calls to obtain the iterator.\n",
        "2. If __iter__ is not implemented but __getitem__ is implemented, Python creates an iterator and fetches the items starting with index zero (0).\n",
        "3. If that fails, Python raises **TypeError**.\n",
        "\n",
        "**Approach #2**\n",
        "* Implement __iter__ and __next__ methods\n",
        "\n",
        "**Approach #3**: Classic Iterator\n",
        "* Implement GoF iterator design pattern. Basically, decouple data source and iterator.\n",
        "\n",
        "\n"
      ],
      "metadata": {
        "id": "8dATo9_Bu-XZ"
      }
    },
    {
      "cell_type": "markdown",
      "source": [
        "# Code Segments"
      ],
      "metadata": {
        "id": "LPzDctMoxlC7"
      }
    },
    {
      "cell_type": "markdown",
      "source": [
        "## What makes the Sequence iterable? "
      ],
      "metadata": {
        "id": "lTtPfqTDxny4"
      }
    },
    {
      "cell_type": "markdown",
      "source": [
        "### Using getitem() method"
      ],
      "metadata": {
        "id": "ci9opt6xy7Qj"
      }
    },
    {
      "cell_type": "code",
      "execution_count": 1,
      "metadata": {
        "id": "W1f1ojw05jdc"
      },
      "outputs": [],
      "source": [
        "class Squares:\n",
        "  '''\n",
        "  This class implements just getitem() method\n",
        "  to illustrate how the iter protocol works in Python.\n",
        "  '''\n",
        "  def __init__(self):\n",
        "    self.seq = [1, 2, 3, 4]\n",
        "\n",
        "  def __getitem__(self, index):\n",
        "    if index >= len(self.seq):\n",
        "      raise StopIteration\n",
        "    else:\n",
        "      return self.seq[index] ** 2"
      ]
    },
    {
      "cell_type": "code",
      "source": [
        "sq = Squares()"
      ],
      "metadata": {
        "id": "xCyPJU1FyNIj"
      },
      "execution_count": 2,
      "outputs": []
    },
    {
      "cell_type": "code",
      "source": [
        "for s in sq:\n",
        "  print(s)"
      ],
      "metadata": {
        "colab": {
          "base_uri": "https://localhost:8080/"
        },
        "id": "QT7HgLDkyQAd",
        "outputId": "2b2b59d1-7ce0-41fc-8f9a-b2037da8bf8a"
      },
      "execution_count": 3,
      "outputs": [
        {
          "output_type": "stream",
          "name": "stdout",
          "text": [
            "1\n",
            "4\n",
            "9\n",
            "16\n"
          ]
        }
      ]
    },
    {
      "cell_type": "code",
      "source": [
        "# invoke one more time.\n",
        "for s in sq:\n",
        "  print(s)"
      ],
      "metadata": {
        "colab": {
          "base_uri": "https://localhost:8080/"
        },
        "id": "4YoOFiCX_5YT",
        "outputId": "3a3ea0b0-dde1-4370-b973-92a90079c7f2"
      },
      "execution_count": 4,
      "outputs": [
        {
          "output_type": "stream",
          "name": "stdout",
          "text": [
            "1\n",
            "4\n",
            "9\n",
            "16\n"
          ]
        }
      ]
    },
    {
      "cell_type": "markdown",
      "source": [
        "### Using iter() and next() methods - makes the sequence iterable"
      ],
      "metadata": {
        "id": "kXjioqury-aK"
      }
    },
    {
      "cell_type": "code",
      "source": [
        "class Squares:\n",
        "  def __init__(self):\n",
        "    self.seq = [5, 6, 7, 8]\n",
        "    self.index = 0\n",
        "\n",
        "  def __iter__(self):\n",
        "    return(self)\n",
        "\n",
        "  def __next__(self):\n",
        "    if self.index >= len(self.seq):\n",
        "      raise StopIteration\n",
        "    else:\n",
        "      item = self.seq[self.index]\n",
        "      self.index += 1\n",
        "      return item ** 2"
      ],
      "metadata": {
        "id": "vpfsx9DmyTOE"
      },
      "execution_count": 5,
      "outputs": []
    },
    {
      "cell_type": "code",
      "source": [
        "sq2 = Squares()"
      ],
      "metadata": {
        "id": "PTEDuRe6z4uu"
      },
      "execution_count": 6,
      "outputs": []
    },
    {
      "cell_type": "code",
      "source": [
        "for s in sq2:\n",
        "  print(s)"
      ],
      "metadata": {
        "colab": {
          "base_uri": "https://localhost:8080/"
        },
        "id": "YSW3vuTkz7st",
        "outputId": "83ea1c0f-40c1-4148-faa3-d37db5471f2d"
      },
      "execution_count": 7,
      "outputs": [
        {
          "output_type": "stream",
          "name": "stdout",
          "text": [
            "25\n",
            "36\n",
            "49\n",
            "64\n"
          ]
        }
      ]
    },
    {
      "cell_type": "code",
      "source": [
        "# nothing will print as it reached the end of sequence\n",
        "# in the prev. loop\n",
        "for s in sq2:\n",
        "  print(s)"
      ],
      "metadata": {
        "id": "beYtchMM_lMi"
      },
      "execution_count": 8,
      "outputs": []
    },
    {
      "cell_type": "markdown",
      "source": [
        "### Classic Iterator - GangOfFour  Iterator Design Pattern\n",
        "\n",
        "Basically, decouple the data source and iterator.\n",
        "\n",
        "This helps in creating multiple independent iterators from the same iterable instance."
      ],
      "metadata": {
        "id": "8msPRE_Y5JjA"
      }
    },
    {
      "cell_type": "code",
      "source": [
        "# Basically, decouple the data source and iterator.\n",
        "#\n",
        "# Later on, for some reason, we have to change the data source,\n",
        "# the interface won't change for the iterator.\n",
        "#\n",
        "class Squares:\n",
        "  def __init__(self):\n",
        "    self.seq = [9, 10, 11, 12]\n",
        "\n",
        "  def __len__(self):\n",
        "    return len(self.seq)\n",
        "\n",
        "  def __iter__(self):\n",
        "    return SquareIterator(self)\n",
        "\n",
        "class SquareIterator:\n",
        "  def __init__(self, seq_object):\n",
        "    self.seq_object = seq_object\n",
        "    self.index = 0\n",
        "\n",
        "  def __iter__(self):\n",
        "    return(self)\n",
        "\n",
        "  def __next__(self):\n",
        "    if self.index >= len(self.seq_object):\n",
        "      raise StopIteration\n",
        "    else:\n",
        "      # it access the sequence data from the data source.\n",
        "      item = self.seq_object.seq[self.index]\n",
        "      self.index += 1\n",
        "      return item ** 2"
      ],
      "metadata": {
        "id": "emVZa6c90B0P"
      },
      "execution_count": 9,
      "outputs": []
    },
    {
      "cell_type": "code",
      "source": [
        "sq3 = Squares()"
      ],
      "metadata": {
        "id": "JTd8B9ZA9DzY"
      },
      "execution_count": 10,
      "outputs": []
    },
    {
      "cell_type": "code",
      "source": [
        "for s in sq3:\n",
        "  print(s)"
      ],
      "metadata": {
        "colab": {
          "base_uri": "https://localhost:8080/"
        },
        "id": "yUakOErD9HGb",
        "outputId": "7c6dfa57-69b3-4f23-9b2d-7ee4b889599a"
      },
      "execution_count": 11,
      "outputs": [
        {
          "output_type": "stream",
          "name": "stdout",
          "text": [
            "81\n",
            "100\n",
            "121\n",
            "144\n"
          ]
        }
      ]
    },
    {
      "cell_type": "code",
      "source": [
        "# invoke one more time\n",
        "for s in sq3:\n",
        "  print(s)"
      ],
      "metadata": {
        "colab": {
          "base_uri": "https://localhost:8080/"
        },
        "id": "ddqaiAbQ9LlR",
        "outputId": "d0dac32e-c5cb-4aad-c2b4-723ef4c3f711"
      },
      "execution_count": 12,
      "outputs": [
        {
          "output_type": "stream",
          "name": "stdout",
          "text": [
            "81\n",
            "100\n",
            "121\n",
            "144\n"
          ]
        }
      ]
    },
    {
      "cell_type": "code",
      "source": [
        "# invoke one more time\n",
        "for s in sq3:\n",
        "  print(s)"
      ],
      "metadata": {
        "colab": {
          "base_uri": "https://localhost:8080/"
        },
        "id": "UplFpXHIAQ3r",
        "outputId": "2ba3b871-1d42-435b-df65-d979235685cd"
      },
      "execution_count": 13,
      "outputs": [
        {
          "output_type": "stream",
          "name": "stdout",
          "text": [
            "81\n",
            "100\n",
            "121\n",
            "144\n"
          ]
        }
      ]
    },
    {
      "cell_type": "markdown",
      "source": [
        "## Combine both the Iterable and Iterator in the nested class."
      ],
      "metadata": {
        "id": "_8MmtsoC1_Oq"
      }
    },
    {
      "cell_type": "code",
      "source": [
        "class Squares:\n",
        "  def __init__(self):\n",
        "    self.seq = [13, 14, 15, 16]\n",
        "\n",
        "  def __len__(self):\n",
        "    return len(self.seq)\n",
        "\n",
        "  def __iter__(self):\n",
        "    return SquareIterator(self)\n",
        "\n",
        "  class SquareIterator:\n",
        "    def __init__(self, seq_object):\n",
        "      self.seq_object = seq_object\n",
        "      self.index = 0\n",
        "\n",
        "    def __iter__(self):\n",
        "      return(self)\n",
        "\n",
        "    def __next__(self):\n",
        "      if self.index >= len(self.seq_object):\n",
        "        raise StopIteration\n",
        "      else:\n",
        "        # it access the sequence data from the data source.\n",
        "        item = self.seq_object.seq[self.index]\n",
        "        self.index += 1\n",
        "        return item ** 2"
      ],
      "metadata": {
        "id": "MZIA8gg22HGp"
      },
      "execution_count": 14,
      "outputs": []
    },
    {
      "cell_type": "code",
      "source": [
        "sq4 = Squares()"
      ],
      "metadata": {
        "id": "Bcu3O7VuATMi"
      },
      "execution_count": 15,
      "outputs": []
    },
    {
      "cell_type": "code",
      "source": [
        "for s in sq4:\n",
        "  print(s)"
      ],
      "metadata": {
        "colab": {
          "base_uri": "https://localhost:8080/"
        },
        "id": "0Gm5uyc92XMo",
        "outputId": "2faecd9f-0a0e-42aa-ab7a-e00f655f686d"
      },
      "execution_count": 16,
      "outputs": [
        {
          "output_type": "stream",
          "name": "stdout",
          "text": [
            "169\n",
            "196\n",
            "225\n",
            "256\n"
          ]
        }
      ]
    },
    {
      "cell_type": "code",
      "source": [
        "for s in sq4:\n",
        "  print(s)"
      ],
      "metadata": {
        "colab": {
          "base_uri": "https://localhost:8080/"
        },
        "id": "zHCc2IPT2ZKG",
        "outputId": "b154a11f-6395-4d58-cb65-4180ffcf03d6"
      },
      "execution_count": 17,
      "outputs": [
        {
          "output_type": "stream",
          "name": "stdout",
          "text": [
            "169\n",
            "196\n",
            "225\n",
            "256\n"
          ]
        }
      ]
    },
    {
      "cell_type": "code",
      "source": [
        ""
      ],
      "metadata": {
        "id": "SKvY8mTf2pAA"
      },
      "execution_count": null,
      "outputs": []
    }
  ]
}