{
  "nbformat": 4,
  "nbformat_minor": 0,
  "metadata": {
    "colab": {
      "name": "Tuples.ipynb",
      "provenance": [],
      "collapsed_sections": [],
      "authorship_tag": "ABX9TyMF8VcW1uNPodq/OHNxT/Zu",
      "include_colab_link": true
    },
    "kernelspec": {
      "name": "python3",
      "display_name": "Python 3"
    },
    "language_info": {
      "name": "python"
    }
  },
  "cells": [
    {
      "cell_type": "markdown",
      "metadata": {
        "id": "view-in-github",
        "colab_type": "text"
      },
      "source": [
        "<a href=\"https://colab.research.google.com/github/abalaji-blr/PythonLang/blob/main/Tuples.ipynb\" target=\"_parent\"><img src=\"https://colab.research.google.com/assets/colab-badge.svg\" alt=\"Open In Colab\"/></a>"
      ]
    },
    {
      "cell_type": "markdown",
      "metadata": {
        "id": "ZF7NjmhUNRQg"
      },
      "source": [
        "## Tuples\n",
        "\n",
        "**Tuples:**\n",
        "  * Hetrogeneous/Homogeneous containers.\n",
        "  * Order matters.\n",
        "  * Iterable, Indexable, and Immutable.\n",
        "  * Fixed Length, Fixed Order.\n",
        "    * Can not do in-place sorts\n",
        "    * can not do in-place reversals\n",
        "\n",
        "**Strings** are similar to **Tuples** except that strings are homogeneous.\n",
        "\n",
        "Immutability of Tuples:\n",
        " * Once created, items cannot be added or deleted.\n",
        " * Works well for representing the data structures.\n",
        " * The position of the data has **meaning**.\n",
        "\n",
        "Extracting / unpacking from tuples.\n"
      ]
    },
    {
      "cell_type": "markdown",
      "metadata": {
        "id": "kAt6N0taNTb2"
      },
      "source": [
        "## Named Tuples\n",
        "\n",
        "Named tuples is a **funtion** which generates a **new class** (class factory):\n",
        "\n",
        "* new class inherits from **tuple**\n",
        "* provides **name properties** to access elements of the tuple\n",
        "* but an instance of that class is still a tuple.\n",
        "\n",
        "1. **Assignment to the named tuple is NOT allowed. Note it's an immutable object.**\n",
        "2. Field names should be identifiers and should not start with underscore.\n",
        "3. If there are any underscore, rename option can be used to read in.\n",
        "\n",
        "Use _fields to get the field names.\n",
        "\n",
        "Use _asdict() to covert the named tuple to dictionary.\n"
      ]
    },
    {
      "cell_type": "markdown",
      "metadata": {
        "id": "omzeK47hPDRI"
      },
      "source": [
        "## Example Code"
      ]
    },
    {
      "cell_type": "markdown",
      "metadata": {
        "id": "ql5ao5ENR1E3"
      },
      "source": [
        "## Tuples"
      ]
    },
    {
      "cell_type": "code",
      "metadata": {
        "id": "iNafefkSNO43"
      },
      "source": [
        "t = ( 'Bangalore', 'Karnataka', '709')"
      ],
      "execution_count": 1,
      "outputs": []
    },
    {
      "cell_type": "code",
      "metadata": {
        "colab": {
          "base_uri": "https://localhost:8080/"
        },
        "id": "eVBLLyYhPSCk",
        "outputId": "44f0cf8c-774c-44b3-ba53-e859a00ac809"
      },
      "source": [
        "type(t)"
      ],
      "execution_count": 2,
      "outputs": [
        {
          "output_type": "execute_result",
          "data": {
            "text/plain": [
              "tuple"
            ]
          },
          "metadata": {},
          "execution_count": 2
        }
      ]
    },
    {
      "cell_type": "code",
      "metadata": {
        "colab": {
          "base_uri": "https://localhost:8080/",
          "height": 35
        },
        "id": "tr9OXhAUPS5J",
        "outputId": "65f06f73-3d18-47d3-9bc5-bf500770ca24"
      },
      "source": [
        "city, state, area = t\n",
        "city"
      ],
      "execution_count": 3,
      "outputs": [
        {
          "output_type": "execute_result",
          "data": {
            "application/vnd.google.colaboratory.intrinsic+json": {
              "type": "string"
            },
            "text/plain": [
              "'Bangalore'"
            ]
          },
          "metadata": {},
          "execution_count": 3
        }
      ]
    },
    {
      "cell_type": "code",
      "metadata": {
        "colab": {
          "base_uri": "https://localhost:8080/"
        },
        "id": "4Vx6WKrMPWn4",
        "outputId": "0935d5dc-c606-4fe5-c1de-02aa907a49b5"
      },
      "source": [
        "## underscore is a dummy variable or don't care\n",
        "city, _, area = t\n",
        "print(_)\n"
      ],
      "execution_count": 4,
      "outputs": [
        {
          "output_type": "stream",
          "name": "stdout",
          "text": [
            "Karnataka\n"
          ]
        }
      ]
    },
    {
      "cell_type": "code",
      "metadata": {
        "colab": {
          "base_uri": "https://localhost:8080/"
        },
        "id": "XBA61ANqPfY5",
        "outputId": "3c8b60c2-8212-44d9-f2e1-301aa0784b98"
      },
      "source": [
        "type(_)"
      ],
      "execution_count": 5,
      "outputs": [
        {
          "output_type": "execute_result",
          "data": {
            "text/plain": [
              "str"
            ]
          },
          "metadata": {},
          "execution_count": 5
        }
      ]
    },
    {
      "cell_type": "markdown",
      "metadata": {
        "id": "BrvXm-9dR27s"
      },
      "source": [
        "## Named Tuples"
      ]
    },
    {
      "cell_type": "code",
      "metadata": {
        "id": "t1xfedBfR6y4"
      },
      "source": [
        "from collections import namedtuple"
      ],
      "execution_count": 6,
      "outputs": []
    },
    {
      "cell_type": "code",
      "metadata": {
        "colab": {
          "base_uri": "https://localhost:8080/"
        },
        "id": "c1ws35nVYWtZ",
        "outputId": "ca9e8a41-3ade-4b80-ee5d-f8d70ccc6240"
      },
      "source": [
        "help(namedtuple)"
      ],
      "execution_count": 7,
      "outputs": [
        {
          "output_type": "stream",
          "name": "stdout",
          "text": [
            "Help on function namedtuple in module collections:\n",
            "\n",
            "namedtuple(typename, field_names, *, rename=False, defaults=None, module=None)\n",
            "    Returns a new subclass of tuple with named fields.\n",
            "    \n",
            "    >>> Point = namedtuple('Point', ['x', 'y'])\n",
            "    >>> Point.__doc__                   # docstring for the new class\n",
            "    'Point(x, y)'\n",
            "    >>> p = Point(11, y=22)             # instantiate with positional args or keywords\n",
            "    >>> p[0] + p[1]                     # indexable like a plain tuple\n",
            "    33\n",
            "    >>> x, y = p                        # unpack like a regular tuple\n",
            "    >>> x, y\n",
            "    (11, 22)\n",
            "    >>> p.x + p.y                       # fields also accessible by name\n",
            "    33\n",
            "    >>> d = p._asdict()                 # convert to a dictionary\n",
            "    >>> d['x']\n",
            "    11\n",
            "    >>> Point(**d)                      # convert from a dictionary\n",
            "    Point(x=11, y=22)\n",
            "    >>> p._replace(x=100)               # _replace() is like str.replace() but targets named fields\n",
            "    Point(x=100, y=22)\n",
            "\n"
          ]
        }
      ]
    },
    {
      "cell_type": "code",
      "metadata": {
        "id": "frd8-nJFPjf2"
      },
      "source": [
        "Point2D = namedtuple('Point2D', ['x', 'y']) # class-name field-names"
      ],
      "execution_count": 8,
      "outputs": []
    },
    {
      "cell_type": "code",
      "metadata": {
        "colab": {
          "base_uri": "https://localhost:8080/"
        },
        "id": "Uc-ALdb1YiN_",
        "outputId": "380ad3dc-8687-4c99-ee21-eaea017b0622"
      },
      "source": [
        "pt = Point2D(10, 20)\n",
        "type(pt)"
      ],
      "execution_count": 9,
      "outputs": [
        {
          "output_type": "execute_result",
          "data": {
            "text/plain": [
              "__main__.Point2D"
            ]
          },
          "metadata": {},
          "execution_count": 9
        }
      ]
    },
    {
      "cell_type": "code",
      "metadata": {
        "id": "-O8jEB5RYnzi"
      },
      "source": [
        "# name tuple can be created from list, tuple, str etc. \n",
        "# make sure the order matters.\n",
        "PT1 = namedtuple('Point2D', ('x', 'y'))\n",
        "PT2 = namedtuple('Point2D', ['x', 'y'])\n",
        "PT3 = namedtuple('Point2D', 'x y')"
      ],
      "execution_count": 10,
      "outputs": []
    },
    {
      "cell_type": "code",
      "metadata": {
        "colab": {
          "base_uri": "https://localhost:8080/"
        },
        "id": "NUyg-dpgZfYU",
        "outputId": "05b95a88-4b03-4c10-a18f-36eff5a900b6"
      },
      "source": [
        "t1 = PT1(1, 2)\n",
        "t2 = PT2(3, 4)\n",
        "t3 = PT3(5, 6)\n",
        "print(t1.x, t1.y)\n",
        "print(t2)\n",
        "print(t3)"
      ],
      "execution_count": 11,
      "outputs": [
        {
          "output_type": "stream",
          "name": "stdout",
          "text": [
            "1 2\n",
            "Point2D(x=3, y=4)\n",
            "Point2D(x=5, y=6)\n"
          ]
        }
      ]
    },
    {
      "cell_type": "code",
      "metadata": {
        "colab": {
          "base_uri": "https://localhost:8080/"
        },
        "id": "M7nzbX-eZxNO",
        "outputId": "728a08e4-f78b-4bc8-d294-2158b319bbcc"
      },
      "source": [
        "isinstance(t1, tuple)"
      ],
      "execution_count": 12,
      "outputs": [
        {
          "output_type": "execute_result",
          "data": {
            "text/plain": [
              "True"
            ]
          },
          "metadata": {},
          "execution_count": 12
        }
      ]
    },
    {
      "cell_type": "code",
      "metadata": {
        "colab": {
          "base_uri": "https://localhost:8080/"
        },
        "id": "1mjbm-VrQxh6",
        "outputId": "6c5b3c4c-ed43-4494-d416-c6c5c0d58996"
      },
      "source": [
        "x, y = t3\n",
        "print(x, y)"
      ],
      "execution_count": 13,
      "outputs": [
        {
          "output_type": "stream",
          "name": "stdout",
          "text": [
            "5 6\n"
          ]
        }
      ]
    },
    {
      "cell_type": "code",
      "metadata": {
        "colab": {
          "base_uri": "https://localhost:8080/"
        },
        "id": "01OkwkILQ7-g",
        "outputId": "14511395-93d1-43f9-cd99-8b214102f211"
      },
      "source": [
        "x = t2[0]\n",
        "print(x)"
      ],
      "execution_count": 14,
      "outputs": [
        {
          "output_type": "stream",
          "name": "stdout",
          "text": [
            "3\n"
          ]
        }
      ]
    },
    {
      "cell_type": "code",
      "metadata": {
        "colab": {
          "base_uri": "https://localhost:8080/",
          "height": 164
        },
        "id": "ttgeDyKxRB2L",
        "outputId": "b226e21a-1eb4-460a-e8fa-8c6557e5b239"
      },
      "source": [
        "t2.y = 100"
      ],
      "execution_count": 15,
      "outputs": [
        {
          "output_type": "error",
          "ename": "AttributeError",
          "evalue": "ignored",
          "traceback": [
            "\u001b[0;31m---------------------------------------------------------------------------\u001b[0m",
            "\u001b[0;31mAttributeError\u001b[0m                            Traceback (most recent call last)",
            "\u001b[0;32m<ipython-input-15-0e2d2a0ef2bc>\u001b[0m in \u001b[0;36m<module>\u001b[0;34m()\u001b[0m\n\u001b[0;32m----> 1\u001b[0;31m \u001b[0mt2\u001b[0m\u001b[0;34m.\u001b[0m\u001b[0my\u001b[0m \u001b[0;34m=\u001b[0m \u001b[0;36m100\u001b[0m\u001b[0;34m\u001b[0m\u001b[0;34m\u001b[0m\u001b[0m\n\u001b[0m",
            "\u001b[0;31mAttributeError\u001b[0m: can't set attribute"
          ]
        }
      ]
    },
    {
      "cell_type": "code",
      "metadata": {
        "colab": {
          "base_uri": "https://localhost:8080/",
          "height": 283
        },
        "id": "C1pj_5pARcuG",
        "outputId": "15407be0-35aa-4ece-8e81-0748dc24f294"
      },
      "source": [
        "person = namedtuple('Person', ['name', 'age', '_ssn'])"
      ],
      "execution_count": 16,
      "outputs": [
        {
          "output_type": "error",
          "ename": "ValueError",
          "evalue": "ignored",
          "traceback": [
            "\u001b[0;31m---------------------------------------------------------------------------\u001b[0m",
            "\u001b[0;31mValueError\u001b[0m                                Traceback (most recent call last)",
            "\u001b[0;32m<ipython-input-16-204b65dcefdd>\u001b[0m in \u001b[0;36m<module>\u001b[0;34m()\u001b[0m\n\u001b[0;32m----> 1\u001b[0;31m \u001b[0mperson\u001b[0m \u001b[0;34m=\u001b[0m \u001b[0mnamedtuple\u001b[0m\u001b[0;34m(\u001b[0m\u001b[0;34m'Person'\u001b[0m\u001b[0;34m,\u001b[0m \u001b[0;34m[\u001b[0m\u001b[0;34m'name'\u001b[0m\u001b[0;34m,\u001b[0m \u001b[0;34m'age'\u001b[0m\u001b[0;34m,\u001b[0m \u001b[0;34m'_ssn'\u001b[0m\u001b[0;34m]\u001b[0m\u001b[0;34m)\u001b[0m\u001b[0;34m\u001b[0m\u001b[0;34m\u001b[0m\u001b[0m\n\u001b[0m",
            "\u001b[0;32m/usr/lib/python3.7/collections/__init__.py\u001b[0m in \u001b[0;36mnamedtuple\u001b[0;34m(typename, field_names, rename, defaults, module)\u001b[0m\n\u001b[1;32m    368\u001b[0m     \u001b[0;32mfor\u001b[0m \u001b[0mname\u001b[0m \u001b[0;32min\u001b[0m \u001b[0mfield_names\u001b[0m\u001b[0;34m:\u001b[0m\u001b[0;34m\u001b[0m\u001b[0;34m\u001b[0m\u001b[0m\n\u001b[1;32m    369\u001b[0m         \u001b[0;32mif\u001b[0m \u001b[0mname\u001b[0m\u001b[0;34m.\u001b[0m\u001b[0mstartswith\u001b[0m\u001b[0;34m(\u001b[0m\u001b[0;34m'_'\u001b[0m\u001b[0;34m)\u001b[0m \u001b[0;32mand\u001b[0m \u001b[0;32mnot\u001b[0m \u001b[0mrename\u001b[0m\u001b[0;34m:\u001b[0m\u001b[0;34m\u001b[0m\u001b[0;34m\u001b[0m\u001b[0m\n\u001b[0;32m--> 370\u001b[0;31m             raise ValueError('Field names cannot start with an underscore: '\n\u001b[0m\u001b[1;32m    371\u001b[0m                              f'{name!r}')\n\u001b[1;32m    372\u001b[0m         \u001b[0;32mif\u001b[0m \u001b[0mname\u001b[0m \u001b[0;32min\u001b[0m \u001b[0mseen\u001b[0m\u001b[0;34m:\u001b[0m\u001b[0;34m\u001b[0m\u001b[0;34m\u001b[0m\u001b[0m\n",
            "\u001b[0;31mValueError\u001b[0m: Field names cannot start with an underscore: '_ssn'"
          ]
        }
      ]
    },
    {
      "cell_type": "code",
      "metadata": {
        "colab": {
          "base_uri": "https://localhost:8080/"
        },
        "id": "4Mr_X7hlSZWx",
        "outputId": "c170eeb3-0ab9-427a-f0e5-52a38f090df1"
      },
      "source": [
        "person = namedtuple('Person', ['name', 'age', '_ssn'], rename=True)\n",
        "person"
      ],
      "execution_count": 17,
      "outputs": [
        {
          "output_type": "execute_result",
          "data": {
            "text/plain": [
              "__main__.Person"
            ]
          },
          "metadata": {},
          "execution_count": 17
        }
      ]
    },
    {
      "cell_type": "code",
      "metadata": {
        "colab": {
          "base_uri": "https://localhost:8080/"
        },
        "id": "lKfbG9TWSfym",
        "outputId": "ee9922b8-a7ed-4c1a-d6f8-52249ac3d442"
      },
      "source": [
        "person._fields"
      ],
      "execution_count": 18,
      "outputs": [
        {
          "output_type": "execute_result",
          "data": {
            "text/plain": [
              "('name', 'age', '_2')"
            ]
          },
          "metadata": {},
          "execution_count": 18
        }
      ]
    },
    {
      "cell_type": "code",
      "metadata": {
        "id": "KDNAMjrW8yoW"
      },
      "source": [
        "personExt = namedtuple('PersonExt', person._fields + ('city',), rename=True)"
      ],
      "execution_count": 25,
      "outputs": []
    },
    {
      "cell_type": "code",
      "metadata": {
        "colab": {
          "base_uri": "https://localhost:8080/"
        },
        "id": "qPSXhO7g9SH-",
        "outputId": "9cd600ca-8333-4a32-e806-cb72c226db47"
      },
      "source": [
        "personExt._fields"
      ],
      "execution_count": 26,
      "outputs": [
        {
          "output_type": "execute_result",
          "data": {
            "text/plain": [
              "('name', 'age', '_2', 'city')"
            ]
          },
          "metadata": {},
          "execution_count": 26
        }
      ]
    },
    {
      "cell_type": "code",
      "metadata": {
        "colab": {
          "base_uri": "https://localhost:8080/",
          "height": 164
        },
        "id": "HlHMXGBFSoDP",
        "outputId": "5cdda816-db65-481d-faf8-3ae3602f2fe0"
      },
      "source": [
        "person._source"
      ],
      "execution_count": 19,
      "outputs": [
        {
          "output_type": "error",
          "ename": "AttributeError",
          "evalue": "ignored",
          "traceback": [
            "\u001b[0;31m---------------------------------------------------------------------------\u001b[0m",
            "\u001b[0;31mAttributeError\u001b[0m                            Traceback (most recent call last)",
            "\u001b[0;32m<ipython-input-19-a77eb9d89fb9>\u001b[0m in \u001b[0;36m<module>\u001b[0;34m()\u001b[0m\n\u001b[0;32m----> 1\u001b[0;31m \u001b[0mperson\u001b[0m\u001b[0;34m.\u001b[0m\u001b[0m_source\u001b[0m\u001b[0;34m\u001b[0m\u001b[0;34m\u001b[0m\u001b[0m\n\u001b[0m",
            "\u001b[0;31mAttributeError\u001b[0m: type object 'Person' has no attribute '_source'"
          ]
        }
      ]
    },
    {
      "cell_type": "code",
      "metadata": {
        "id": "2PQX5jzGTjc3"
      },
      "source": [
        "p1 = person('Eric', 30, 123456789)"
      ],
      "execution_count": 20,
      "outputs": []
    },
    {
      "cell_type": "code",
      "metadata": {
        "colab": {
          "base_uri": "https://localhost:8080/"
        },
        "id": "16btZKhWUREE",
        "outputId": "8be0bc02-9637-463a-bfca-db47d50912e7"
      },
      "source": [
        "p1._asdict()"
      ],
      "execution_count": 21,
      "outputs": [
        {
          "output_type": "execute_result",
          "data": {
            "text/plain": [
              "OrderedDict([('name', 'Eric'), ('age', 30), ('_2', 123456789)])"
            ]
          },
          "metadata": {},
          "execution_count": 21
        }
      ]
    },
    {
      "cell_type": "code",
      "metadata": {
        "colab": {
          "base_uri": "https://localhost:8080/"
        },
        "id": "0RuPq1J8Un1l",
        "outputId": "34ec3b91-9441-4f7a-81c5-6a181a3d36af"
      },
      "source": [
        "help(person)"
      ],
      "execution_count": 27,
      "outputs": [
        {
          "output_type": "stream",
          "name": "stdout",
          "text": [
            "Help on class Person in module __main__:\n",
            "\n",
            "class Person(builtins.tuple)\n",
            " |  Person(name, age, _2)\n",
            " |  \n",
            " |  Person(name, age, _2)\n",
            " |  \n",
            " |  Method resolution order:\n",
            " |      Person\n",
            " |      builtins.tuple\n",
            " |      builtins.object\n",
            " |  \n",
            " |  Methods defined here:\n",
            " |  \n",
            " |  __getnewargs__(self)\n",
            " |      Return self as a plain tuple.  Used by copy and pickle.\n",
            " |  \n",
            " |  __repr__(self)\n",
            " |      Return a nicely formatted representation string\n",
            " |  \n",
            " |  _asdict(self)\n",
            " |      Return a new OrderedDict which maps field names to their values.\n",
            " |  \n",
            " |  _replace(_self, **kwds)\n",
            " |      Return a new Person object replacing specified fields with new values\n",
            " |  \n",
            " |  ----------------------------------------------------------------------\n",
            " |  Class methods defined here:\n",
            " |  \n",
            " |  _make(iterable) from builtins.type\n",
            " |      Make a new Person object from a sequence or iterable\n",
            " |  \n",
            " |  ----------------------------------------------------------------------\n",
            " |  Static methods defined here:\n",
            " |  \n",
            " |  __new__(_cls, name, age, _2)\n",
            " |      Create new instance of Person(name, age, _2)\n",
            " |  \n",
            " |  ----------------------------------------------------------------------\n",
            " |  Data descriptors defined here:\n",
            " |  \n",
            " |  name\n",
            " |      Alias for field number 0\n",
            " |  \n",
            " |  age\n",
            " |      Alias for field number 1\n",
            " |  \n",
            " |  _2\n",
            " |      Alias for field number 2\n",
            " |  \n",
            " |  ----------------------------------------------------------------------\n",
            " |  Data and other attributes defined here:\n",
            " |  \n",
            " |  _field_defaults = {}\n",
            " |  \n",
            " |  _fields = ('name', 'age', '_2')\n",
            " |  \n",
            " |  _fields_defaults = {}\n",
            " |  \n",
            " |  ----------------------------------------------------------------------\n",
            " |  Methods inherited from builtins.tuple:\n",
            " |  \n",
            " |  __add__(self, value, /)\n",
            " |      Return self+value.\n",
            " |  \n",
            " |  __contains__(self, key, /)\n",
            " |      Return key in self.\n",
            " |  \n",
            " |  __eq__(self, value, /)\n",
            " |      Return self==value.\n",
            " |  \n",
            " |  __ge__(self, value, /)\n",
            " |      Return self>=value.\n",
            " |  \n",
            " |  __getattribute__(self, name, /)\n",
            " |      Return getattr(self, name).\n",
            " |  \n",
            " |  __getitem__(self, key, /)\n",
            " |      Return self[key].\n",
            " |  \n",
            " |  __gt__(self, value, /)\n",
            " |      Return self>value.\n",
            " |  \n",
            " |  __hash__(self, /)\n",
            " |      Return hash(self).\n",
            " |  \n",
            " |  __iter__(self, /)\n",
            " |      Implement iter(self).\n",
            " |  \n",
            " |  __le__(self, value, /)\n",
            " |      Return self<=value.\n",
            " |  \n",
            " |  __len__(self, /)\n",
            " |      Return len(self).\n",
            " |  \n",
            " |  __lt__(self, value, /)\n",
            " |      Return self<value.\n",
            " |  \n",
            " |  __mul__(self, value, /)\n",
            " |      Return self*value.\n",
            " |  \n",
            " |  __ne__(self, value, /)\n",
            " |      Return self!=value.\n",
            " |  \n",
            " |  __rmul__(self, value, /)\n",
            " |      Return value*self.\n",
            " |  \n",
            " |  count(self, value, /)\n",
            " |      Return number of occurrences of value.\n",
            " |  \n",
            " |  index(self, value, start=0, stop=9223372036854775807, /)\n",
            " |      Return first index of value.\n",
            " |      \n",
            " |      Raises ValueError if the value is not present.\n",
            "\n"
          ]
        }
      ]
    },
    {
      "cell_type": "markdown",
      "metadata": {
        "id": "_GkBTBgO9xzL"
      },
      "source": [
        "## Doc strings for namedtuple"
      ]
    },
    {
      "cell_type": "code",
      "metadata": {
        "id": "nHqVy2ig9sWC"
      },
      "source": [
        "person.__doc__ = 'All details about the person.'\n",
        "person.name.__doc__ = \"Name of the person\"\n",
        "person.age.__doc__ = 'Age of the person'\n"
      ],
      "execution_count": 28,
      "outputs": []
    },
    {
      "cell_type": "code",
      "metadata": {
        "colab": {
          "base_uri": "https://localhost:8080/"
        },
        "id": "IK4JTr-K-jhF",
        "outputId": "699c3068-704c-4e5e-d79f-b4c62b1a661a"
      },
      "source": [
        "help(person)"
      ],
      "execution_count": 30,
      "outputs": [
        {
          "output_type": "stream",
          "name": "stdout",
          "text": [
            "Help on class Person in module __main__:\n",
            "\n",
            "class Person(builtins.tuple)\n",
            " |  Person(name, age, _2)\n",
            " |  \n",
            " |  All details about the person.\n",
            " |  \n",
            " |  Method resolution order:\n",
            " |      Person\n",
            " |      builtins.tuple\n",
            " |      builtins.object\n",
            " |  \n",
            " |  Methods defined here:\n",
            " |  \n",
            " |  __getnewargs__(self)\n",
            " |      Return self as a plain tuple.  Used by copy and pickle.\n",
            " |  \n",
            " |  __repr__(self)\n",
            " |      Return a nicely formatted representation string\n",
            " |  \n",
            " |  _asdict(self)\n",
            " |      Return a new OrderedDict which maps field names to their values.\n",
            " |  \n",
            " |  _replace(_self, **kwds)\n",
            " |      Return a new Person object replacing specified fields with new values\n",
            " |  \n",
            " |  ----------------------------------------------------------------------\n",
            " |  Class methods defined here:\n",
            " |  \n",
            " |  _make(iterable) from builtins.type\n",
            " |      Make a new Person object from a sequence or iterable\n",
            " |  \n",
            " |  ----------------------------------------------------------------------\n",
            " |  Static methods defined here:\n",
            " |  \n",
            " |  __new__(_cls, name, age, _2)\n",
            " |      Create new instance of Person(name, age, _2)\n",
            " |  \n",
            " |  ----------------------------------------------------------------------\n",
            " |  Data descriptors defined here:\n",
            " |  \n",
            " |  name\n",
            " |      Name of the person\n",
            " |  \n",
            " |  age\n",
            " |      Age of the person\n",
            " |  \n",
            " |  _2\n",
            " |      Alias for field number 2\n",
            " |  \n",
            " |  ----------------------------------------------------------------------\n",
            " |  Data and other attributes defined here:\n",
            " |  \n",
            " |  _field_defaults = {}\n",
            " |  \n",
            " |  _fields = ('name', 'age', '_2')\n",
            " |  \n",
            " |  _fields_defaults = {}\n",
            " |  \n",
            " |  ----------------------------------------------------------------------\n",
            " |  Methods inherited from builtins.tuple:\n",
            " |  \n",
            " |  __add__(self, value, /)\n",
            " |      Return self+value.\n",
            " |  \n",
            " |  __contains__(self, key, /)\n",
            " |      Return key in self.\n",
            " |  \n",
            " |  __eq__(self, value, /)\n",
            " |      Return self==value.\n",
            " |  \n",
            " |  __ge__(self, value, /)\n",
            " |      Return self>=value.\n",
            " |  \n",
            " |  __getattribute__(self, name, /)\n",
            " |      Return getattr(self, name).\n",
            " |  \n",
            " |  __getitem__(self, key, /)\n",
            " |      Return self[key].\n",
            " |  \n",
            " |  __gt__(self, value, /)\n",
            " |      Return self>value.\n",
            " |  \n",
            " |  __hash__(self, /)\n",
            " |      Return hash(self).\n",
            " |  \n",
            " |  __iter__(self, /)\n",
            " |      Implement iter(self).\n",
            " |  \n",
            " |  __le__(self, value, /)\n",
            " |      Return self<=value.\n",
            " |  \n",
            " |  __len__(self, /)\n",
            " |      Return len(self).\n",
            " |  \n",
            " |  __lt__(self, value, /)\n",
            " |      Return self<value.\n",
            " |  \n",
            " |  __mul__(self, value, /)\n",
            " |      Return self*value.\n",
            " |  \n",
            " |  __ne__(self, value, /)\n",
            " |      Return self!=value.\n",
            " |  \n",
            " |  __rmul__(self, value, /)\n",
            " |      Return value*self.\n",
            " |  \n",
            " |  count(self, value, /)\n",
            " |      Return number of occurrences of value.\n",
            " |  \n",
            " |  index(self, value, start=0, stop=9223372036854775807, /)\n",
            " |      Return first index of value.\n",
            " |      \n",
            " |      Raises ValueError if the value is not present.\n",
            "\n"
          ]
        }
      ]
    },
    {
      "cell_type": "code",
      "metadata": {
        "id": "8Fn09SxD-kWd"
      },
      "source": [
        ""
      ],
      "execution_count": null,
      "outputs": []
    }
  ]
}