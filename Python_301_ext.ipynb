{
  "nbformat": 4,
  "nbformat_minor": 0,
  "metadata": {
    "colab": {
      "name": "Python_301_ext.ipynb",
      "provenance": [],
      "collapsed_sections": [],
      "authorship_tag": "ABX9TyMY7+wZzBZX+YTUN0ci0vbm",
      "include_colab_link": true
    },
    "kernelspec": {
      "name": "python3",
      "display_name": "Python 3"
    },
    "language_info": {
      "name": "python"
    }
  },
  "cells": [
    {
      "cell_type": "markdown",
      "metadata": {
        "id": "view-in-github",
        "colab_type": "text"
      },
      "source": [
        "<a href=\"https://colab.research.google.com/github/abalaji-blr/PythonLang/blob/main/Python_301_ext.ipynb\" target=\"_parent\"><img src=\"https://colab.research.google.com/assets/colab-badge.svg\" alt=\"Open In Colab\"/></a>"
      ]
    },
    {
      "cell_type": "markdown",
      "metadata": {
        "id": "HTcYBT7cB6AY"
      },
      "source": [
        "# Floats\n",
        "\n",
        "## Floats - Coercing to Integers\n",
        "\n",
        "Converting the floats to integer results in data loss.\n",
        "1. truncation - ignore the fractional part. - returns integer\n",
        "  * **for both positive and negative numbers - moves towards zero**\n",
        "\n",
        "2. ceil - smallest integer greater than the number - returns integer\n",
        "  * Also called as **rounding up**.\n",
        "  * **for positive numbers - moves away from zero**\n",
        "  * **for negative numbers - moves towards zero**\n",
        "\n",
        "3. floor - largest number less than or equal to the number - returns integer\n",
        "  * Also called as **rounding down**\n",
        "  * **for positive numbers - moves towards zero**\n",
        "  * **for negative numbers - moves away from zero**\n",
        "\n",
        "4. round - returns integer\n",
        "\n",
        "5. Bankers rounding - rounds to nearest value with an even significant digit.\n",
        "\n",
        "[Check this blog for more info.](https://www.learnbyexample.org/python-round-function/)\n",
        "\n"
      ]
    },
    {
      "cell_type": "code",
      "metadata": {
        "id": "yluissUyFjJj"
      },
      "source": [
        "import math"
      ],
      "execution_count": 2,
      "outputs": []
    },
    {
      "cell_type": "code",
      "metadata": {
        "colab": {
          "base_uri": "https://localhost:8080/"
        },
        "id": "01L_adEPG9Lc",
        "outputId": "f2d70c29-0533-4909-d790-53f8226cca10"
      },
      "source": [
        "math.trunc(10.5), math.trunc(-10.5)"
      ],
      "execution_count": 7,
      "outputs": [
        {
          "output_type": "execute_result",
          "data": {
            "text/plain": [
              "(10, -10)"
            ]
          },
          "metadata": {},
          "execution_count": 7
        }
      ]
    },
    {
      "cell_type": "code",
      "metadata": {
        "colab": {
          "base_uri": "https://localhost:8080/"
        },
        "id": "_a_DHNj8vDQQ",
        "outputId": "86988141-ac28-4cf3-fc6a-59a815e3290b"
      },
      "source": [
        "math.floor(10.5), math.floor(-10.5)"
      ],
      "execution_count": 4,
      "outputs": [
        {
          "output_type": "execute_result",
          "data": {
            "text/plain": [
              "(10, -11)"
            ]
          },
          "metadata": {},
          "execution_count": 4
        }
      ]
    },
    {
      "cell_type": "code",
      "metadata": {
        "colab": {
          "base_uri": "https://localhost:8080/"
        },
        "id": "H3vqG7nSGNTd",
        "outputId": "0d47f4ac-6af5-445c-c5da-9fd18d8399d6"
      },
      "source": [
        "math.ceil(10.4), math.ceil(10.5), math.ceil(10.6), math.ceil(-10.4), math.ceil(-10.5), math.ceil(-10.6)"
      ],
      "execution_count": 6,
      "outputs": [
        {
          "output_type": "execute_result",
          "data": {
            "text/plain": [
              "(11, 11, 11, -10, -10, -10)"
            ]
          },
          "metadata": {},
          "execution_count": 6
        }
      ]
    },
    {
      "cell_type": "code",
      "metadata": {
        "colab": {
          "base_uri": "https://localhost:8080/"
        },
        "id": "Nn2hDjqTINSX",
        "outputId": "abe2b5cf-b0d5-4971-9bc0-f7b46420776a"
      },
      "source": [
        "help(round)"
      ],
      "execution_count": 8,
      "outputs": [
        {
          "output_type": "stream",
          "name": "stdout",
          "text": [
            "Help on built-in function round in module builtins:\n",
            "\n",
            "round(number, ndigits=None)\n",
            "    Round a number to a given precision in decimal digits.\n",
            "    \n",
            "    The return value is an integer if ndigits is omitted or None.  Otherwise\n",
            "    the return value has the same type as the number.  ndigits may be negative.\n",
            "\n"
          ]
        }
      ]
    },
    {
      "cell_type": "code",
      "metadata": {
        "colab": {
          "base_uri": "https://localhost:8080/"
        },
        "id": "Jgrfzk9WIVIi",
        "outputId": "bbae6367-79ad-4816-db9c-3800d4da7534"
      },
      "source": [
        "# round to a given precision\n",
        "round(2.8), round(2.8, 0)"
      ],
      "execution_count": 13,
      "outputs": [
        {
          "output_type": "execute_result",
          "data": {
            "text/plain": [
              "(3, 3.0)"
            ]
          },
          "metadata": {},
          "execution_count": 13
        }
      ]
    },
    {
      "cell_type": "code",
      "metadata": {
        "colab": {
          "base_uri": "https://localhost:8080/"
        },
        "id": "6MKcIiAyKFyr",
        "outputId": "292fbdfd-b325-4410-da20-78060abf56bd"
      },
      "source": [
        "round(1.23), round(1.23, 1), round(1.25, 1), round(1.26,1), round(18.2, -1)"
      ],
      "execution_count": 14,
      "outputs": [
        {
          "output_type": "execute_result",
          "data": {
            "text/plain": [
              "(1, 1.2, 1.2, 1.3, 20.0)"
            ]
          },
          "metadata": {},
          "execution_count": 14
        }
      ]
    },
    {
      "cell_type": "code",
      "metadata": {
        "colab": {
          "base_uri": "https://localhost:8080/"
        },
        "id": "wvZko8_vKXXl",
        "outputId": "029336b9-f526-4706-c073-fc3e6056f7ad"
      },
      "source": [
        "# bankers rounding - rounding to even digit\n",
        "round(4.5), round(5.5)"
      ],
      "execution_count": 15,
      "outputs": [
        {
          "output_type": "execute_result",
          "data": {
            "text/plain": [
              "(4, 6)"
            ]
          },
          "metadata": {},
          "execution_count": 15
        }
      ]
    },
    {
      "cell_type": "markdown",
      "metadata": {
        "id": "EZiawzvZB9CI"
      },
      "source": [
        "# Decimals\n",
        "\n",
        "Finance, Banking etc needs exact finite representation. So Decimals are used.\n",
        "\n",
        "Finite representation is called as Rational numbers.\n",
        "\n",
        "Infinte representation (never ends) is called as Irrational numbers.\n",
        "\n",
        "The **context** for the Deciamls can be changed **globally** as well as **locally**.\n",
        "\n",
        "1. Constructors for Decimals\n",
        "2. Contexts of Decimals\n",
        "3. Performance consideration\n",
        "  * More memory overhead\n",
        "  * Much slower than floats."
      ]
    },
    {
      "cell_type": "code",
      "metadata": {
        "id": "vDQkw0HAB-Xc"
      },
      "source": [
        "#from decimal import Decimal\n",
        "import decimal"
      ],
      "execution_count": 10,
      "outputs": []
    },
    {
      "cell_type": "code",
      "metadata": {
        "colab": {
          "base_uri": "https://localhost:8080/"
        },
        "id": "NOz4_tFOdGRB",
        "outputId": "2a03381c-c95c-4a6f-d553-0635763661d1"
      },
      "source": [
        "a = Decimal(10.2)\n",
        "a"
      ],
      "execution_count": 2,
      "outputs": [
        {
          "output_type": "execute_result",
          "data": {
            "text/plain": [
              "Decimal('10.199999999999999289457264239899814128875732421875')"
            ]
          },
          "metadata": {},
          "execution_count": 2
        }
      ]
    },
    {
      "cell_type": "code",
      "metadata": {
        "colab": {
          "base_uri": "https://localhost:8080/"
        },
        "id": "VvZ9RtfadNpo",
        "outputId": "839c9bc6-a263-4c26-95c3-9349a2a437c6"
      },
      "source": [
        "# use tuple constructor\n",
        "b = Decimal((0, (3,1,4,1,5), -4))\n",
        "b"
      ],
      "execution_count": 4,
      "outputs": [
        {
          "output_type": "execute_result",
          "data": {
            "text/plain": [
              "Decimal('3.1415')"
            ]
          },
          "metadata": {},
          "execution_count": 4
        }
      ]
    },
    {
      "cell_type": "code",
      "metadata": {
        "colab": {
          "base_uri": "https://localhost:8080/"
        },
        "id": "8pUol6BNdlwA",
        "outputId": "c216df14-dbb7-46b7-ddf1-37d0a5a305cd"
      },
      "source": [
        "b = Decimal((1, (3, 1, 4, 1, 5), 4))\n",
        "b"
      ],
      "execution_count": 5,
      "outputs": [
        {
          "output_type": "execute_result",
          "data": {
            "text/plain": [
              "Decimal('-3.1415E+8')"
            ]
          },
          "metadata": {},
          "execution_count": 5
        }
      ]
    },
    {
      "cell_type": "code",
      "metadata": {
        "colab": {
          "base_uri": "https://localhost:8080/"
        },
        "id": "4stVzpyCfULJ",
        "outputId": "7155abd0-f465-478f-f039-92bd58ce1f0b"
      },
      "source": [
        "help(Decimal)"
      ],
      "execution_count": 8,
      "outputs": [
        {
          "output_type": "stream",
          "name": "stdout",
          "text": [
            "Help on class Decimal in module decimal:\n",
            "\n",
            "class Decimal(builtins.object)\n",
            " |  Decimal(value='0', context=None)\n",
            " |  \n",
            " |  Construct a new Decimal object. 'value' can be an integer, string, tuple,\n",
            " |  or another Decimal object. If no value is given, return Decimal('0'). The\n",
            " |  context does not affect the conversion and is only passed to determine if\n",
            " |  the InvalidOperation trap is active.\n",
            " |  \n",
            " |  Methods defined here:\n",
            " |  \n",
            " |  __abs__(self, /)\n",
            " |      abs(self)\n",
            " |  \n",
            " |  __add__(self, value, /)\n",
            " |      Return self+value.\n",
            " |  \n",
            " |  __bool__(self, /)\n",
            " |      self != 0\n",
            " |  \n",
            " |  __ceil__(...)\n",
            " |  \n",
            " |  __complex__(...)\n",
            " |  \n",
            " |  __copy__(...)\n",
            " |  \n",
            " |  __deepcopy__(...)\n",
            " |  \n",
            " |  __divmod__(self, value, /)\n",
            " |      Return divmod(self, value).\n",
            " |  \n",
            " |  __eq__(self, value, /)\n",
            " |      Return self==value.\n",
            " |  \n",
            " |  __float__(self, /)\n",
            " |      float(self)\n",
            " |  \n",
            " |  __floor__(...)\n",
            " |  \n",
            " |  __floordiv__(self, value, /)\n",
            " |      Return self//value.\n",
            " |  \n",
            " |  __format__(...)\n",
            " |      Default object formatter.\n",
            " |  \n",
            " |  __ge__(self, value, /)\n",
            " |      Return self>=value.\n",
            " |  \n",
            " |  __getattribute__(self, name, /)\n",
            " |      Return getattr(self, name).\n",
            " |  \n",
            " |  __gt__(self, value, /)\n",
            " |      Return self>value.\n",
            " |  \n",
            " |  __hash__(self, /)\n",
            " |      Return hash(self).\n",
            " |  \n",
            " |  __int__(self, /)\n",
            " |      int(self)\n",
            " |  \n",
            " |  __le__(self, value, /)\n",
            " |      Return self<=value.\n",
            " |  \n",
            " |  __lt__(self, value, /)\n",
            " |      Return self<value.\n",
            " |  \n",
            " |  __mod__(self, value, /)\n",
            " |      Return self%value.\n",
            " |  \n",
            " |  __mul__(self, value, /)\n",
            " |      Return self*value.\n",
            " |  \n",
            " |  __ne__(self, value, /)\n",
            " |      Return self!=value.\n",
            " |  \n",
            " |  __neg__(self, /)\n",
            " |      -self\n",
            " |  \n",
            " |  __pos__(self, /)\n",
            " |      +self\n",
            " |  \n",
            " |  __pow__(self, value, mod=None, /)\n",
            " |      Return pow(self, value, mod).\n",
            " |  \n",
            " |  __radd__(self, value, /)\n",
            " |      Return value+self.\n",
            " |  \n",
            " |  __rdivmod__(self, value, /)\n",
            " |      Return divmod(value, self).\n",
            " |  \n",
            " |  __reduce__(...)\n",
            " |      Helper for pickle.\n",
            " |  \n",
            " |  __repr__(self, /)\n",
            " |      Return repr(self).\n",
            " |  \n",
            " |  __rfloordiv__(self, value, /)\n",
            " |      Return value//self.\n",
            " |  \n",
            " |  __rmod__(self, value, /)\n",
            " |      Return value%self.\n",
            " |  \n",
            " |  __rmul__(self, value, /)\n",
            " |      Return value*self.\n",
            " |  \n",
            " |  __round__(...)\n",
            " |  \n",
            " |  __rpow__(self, value, mod=None, /)\n",
            " |      Return pow(value, self, mod).\n",
            " |  \n",
            " |  __rsub__(self, value, /)\n",
            " |      Return value-self.\n",
            " |  \n",
            " |  __rtruediv__(self, value, /)\n",
            " |      Return value/self.\n",
            " |  \n",
            " |  __sizeof__(...)\n",
            " |      Size of object in memory, in bytes.\n",
            " |  \n",
            " |  __str__(self, /)\n",
            " |      Return str(self).\n",
            " |  \n",
            " |  __sub__(self, value, /)\n",
            " |      Return self-value.\n",
            " |  \n",
            " |  __truediv__(self, value, /)\n",
            " |      Return self/value.\n",
            " |  \n",
            " |  __trunc__(...)\n",
            " |  \n",
            " |  adjusted(self, /)\n",
            " |      Return the adjusted exponent of the number.  Defined as exp + digits - 1.\n",
            " |  \n",
            " |  as_integer_ratio(self, /)\n",
            " |      Decimal.as_integer_ratio() -> (int, int)\n",
            " |      \n",
            " |      Return a pair of integers, whose ratio is exactly equal to the original\n",
            " |      Decimal and with a positive denominator. The ratio is in lowest terms.\n",
            " |      Raise OverflowError on infinities and a ValueError on NaNs.\n",
            " |  \n",
            " |  as_tuple(self, /)\n",
            " |      Return a tuple representation of the number.\n",
            " |  \n",
            " |  canonical(self, /)\n",
            " |      Return the canonical encoding of the argument.  Currently, the encoding\n",
            " |      of a Decimal instance is always canonical, so this operation returns its\n",
            " |      argument unchanged.\n",
            " |  \n",
            " |  compare(self, /, other, context=None)\n",
            " |      Compare self to other.  Return a decimal value:\n",
            " |      \n",
            " |      a or b is a NaN ==> Decimal('NaN')\n",
            " |      a < b           ==> Decimal('-1')\n",
            " |      a == b          ==> Decimal('0')\n",
            " |      a > b           ==> Decimal('1')\n",
            " |  \n",
            " |  compare_signal(self, /, other, context=None)\n",
            " |      Identical to compare, except that all NaNs signal.\n",
            " |  \n",
            " |  compare_total(self, /, other, context=None)\n",
            " |      Compare two operands using their abstract representation rather than\n",
            " |      their numerical value.  Similar to the compare() method, but the result\n",
            " |      gives a total ordering on Decimal instances.  Two Decimal instances with\n",
            " |      the same numeric value but different representations compare unequal\n",
            " |      in this ordering:\n",
            " |      \n",
            " |          >>> Decimal('12.0').compare_total(Decimal('12'))\n",
            " |          Decimal('-1')\n",
            " |      \n",
            " |      Quiet and signaling NaNs are also included in the total ordering. The result\n",
            " |      of this function is Decimal('0') if both operands have the same representation,\n",
            " |      Decimal('-1') if the first operand is lower in the total order than the second,\n",
            " |      and Decimal('1') if the first operand is higher in the total order than the\n",
            " |      second operand. See the specification for details of the total order.\n",
            " |      \n",
            " |      This operation is unaffected by context and is quiet: no flags are changed\n",
            " |      and no rounding is performed. As an exception, the C version may raise\n",
            " |      InvalidOperation if the second operand cannot be converted exactly.\n",
            " |  \n",
            " |  compare_total_mag(self, /, other, context=None)\n",
            " |      Compare two operands using their abstract representation rather than their\n",
            " |      value as in compare_total(), but ignoring the sign of each operand.\n",
            " |      \n",
            " |      x.compare_total_mag(y) is equivalent to x.copy_abs().compare_total(y.copy_abs()).\n",
            " |      \n",
            " |      This operation is unaffected by context and is quiet: no flags are changed\n",
            " |      and no rounding is performed. As an exception, the C version may raise\n",
            " |      InvalidOperation if the second operand cannot be converted exactly.\n",
            " |  \n",
            " |  conjugate(self, /)\n",
            " |      Return self.\n",
            " |  \n",
            " |  copy_abs(self, /)\n",
            " |      Return the absolute value of the argument.  This operation is unaffected by\n",
            " |      context and is quiet: no flags are changed and no rounding is performed.\n",
            " |  \n",
            " |  copy_negate(self, /)\n",
            " |      Return the negation of the argument.  This operation is unaffected by context\n",
            " |      and is quiet: no flags are changed and no rounding is performed.\n",
            " |  \n",
            " |  copy_sign(self, /, other, context=None)\n",
            " |      Return a copy of the first operand with the sign set to be the same as the\n",
            " |      sign of the second operand. For example:\n",
            " |      \n",
            " |          >>> Decimal('2.3').copy_sign(Decimal('-1.5'))\n",
            " |          Decimal('-2.3')\n",
            " |      \n",
            " |      This operation is unaffected by context and is quiet: no flags are changed\n",
            " |      and no rounding is performed. As an exception, the C version may raise\n",
            " |      InvalidOperation if the second operand cannot be converted exactly.\n",
            " |  \n",
            " |  exp(self, /, context=None)\n",
            " |      Return the value of the (natural) exponential function e**x at the given\n",
            " |      number.  The function always uses the ROUND_HALF_EVEN mode and the result\n",
            " |      is correctly rounded.\n",
            " |  \n",
            " |  fma(self, /, other, third, context=None)\n",
            " |      Fused multiply-add.  Return self*other+third with no rounding of the\n",
            " |      intermediate product self*other.\n",
            " |      \n",
            " |          >>> Decimal(2).fma(3, 5)\n",
            " |          Decimal('11')\n",
            " |  \n",
            " |  is_canonical(self, /)\n",
            " |      Return True if the argument is canonical and False otherwise.  Currently,\n",
            " |      a Decimal instance is always canonical, so this operation always returns\n",
            " |      True.\n",
            " |  \n",
            " |  is_finite(self, /)\n",
            " |      Return True if the argument is a finite number, and False if the argument\n",
            " |      is infinite or a NaN.\n",
            " |  \n",
            " |  is_infinite(self, /)\n",
            " |      Return True if the argument is either positive or negative infinity and\n",
            " |      False otherwise.\n",
            " |  \n",
            " |  is_nan(self, /)\n",
            " |      Return True if the argument is a (quiet or signaling) NaN and False\n",
            " |      otherwise.\n",
            " |  \n",
            " |  is_normal(self, /, context=None)\n",
            " |      Return True if the argument is a normal finite non-zero number with an\n",
            " |      adjusted exponent greater than or equal to Emin. Return False if the\n",
            " |      argument is zero, subnormal, infinite or a NaN.\n",
            " |  \n",
            " |  is_qnan(self, /)\n",
            " |      Return True if the argument is a quiet NaN, and False otherwise.\n",
            " |  \n",
            " |  is_signed(self, /)\n",
            " |      Return True if the argument has a negative sign and False otherwise.\n",
            " |      Note that both zeros and NaNs can carry signs.\n",
            " |  \n",
            " |  is_snan(self, /)\n",
            " |      Return True if the argument is a signaling NaN and False otherwise.\n",
            " |  \n",
            " |  is_subnormal(self, /, context=None)\n",
            " |      Return True if the argument is subnormal, and False otherwise. A number is\n",
            " |      subnormal if it is non-zero, finite, and has an adjusted exponent less\n",
            " |      than Emin.\n",
            " |  \n",
            " |  is_zero(self, /)\n",
            " |      Return True if the argument is a (positive or negative) zero and False\n",
            " |      otherwise.\n",
            " |  \n",
            " |  ln(self, /, context=None)\n",
            " |      Return the natural (base e) logarithm of the operand. The function always\n",
            " |      uses the ROUND_HALF_EVEN mode and the result is correctly rounded.\n",
            " |  \n",
            " |  log10(self, /, context=None)\n",
            " |      Return the base ten logarithm of the operand. The function always uses the\n",
            " |      ROUND_HALF_EVEN mode and the result is correctly rounded.\n",
            " |  \n",
            " |  logb(self, /, context=None)\n",
            " |      For a non-zero number, return the adjusted exponent of the operand as a\n",
            " |      Decimal instance.  If the operand is a zero, then Decimal('-Infinity') is\n",
            " |      returned and the DivisionByZero condition is raised. If the operand is\n",
            " |      an infinity then Decimal('Infinity') is returned.\n",
            " |  \n",
            " |  logical_and(self, /, other, context=None)\n",
            " |      Return the digit-wise 'and' of the two (logical) operands.\n",
            " |  \n",
            " |  logical_invert(self, /, context=None)\n",
            " |      Return the digit-wise inversion of the (logical) operand.\n",
            " |  \n",
            " |  logical_or(self, /, other, context=None)\n",
            " |      Return the digit-wise 'or' of the two (logical) operands.\n",
            " |  \n",
            " |  logical_xor(self, /, other, context=None)\n",
            " |      Return the digit-wise 'exclusive or' of the two (logical) operands.\n",
            " |  \n",
            " |  max(self, /, other, context=None)\n",
            " |      Maximum of self and other.  If one operand is a quiet NaN and the other is\n",
            " |      numeric, the numeric operand is returned.\n",
            " |  \n",
            " |  max_mag(self, /, other, context=None)\n",
            " |      Similar to the max() method, but the comparison is done using the absolute\n",
            " |      values of the operands.\n",
            " |  \n",
            " |  min(self, /, other, context=None)\n",
            " |      Minimum of self and other. If one operand is a quiet NaN and the other is\n",
            " |      numeric, the numeric operand is returned.\n",
            " |  \n",
            " |  min_mag(self, /, other, context=None)\n",
            " |      Similar to the min() method, but the comparison is done using the absolute\n",
            " |      values of the operands.\n",
            " |  \n",
            " |  next_minus(self, /, context=None)\n",
            " |      Return the largest number representable in the given context (or in the\n",
            " |      current default context if no context is given) that is smaller than the\n",
            " |      given operand.\n",
            " |  \n",
            " |  next_plus(self, /, context=None)\n",
            " |      Return the smallest number representable in the given context (or in the\n",
            " |      current default context if no context is given) that is larger than the\n",
            " |      given operand.\n",
            " |  \n",
            " |  next_toward(self, /, other, context=None)\n",
            " |      If the two operands are unequal, return the number closest to the first\n",
            " |      operand in the direction of the second operand.  If both operands are\n",
            " |      numerically equal, return a copy of the first operand with the sign set\n",
            " |      to be the same as the sign of the second operand.\n",
            " |  \n",
            " |  normalize(self, /, context=None)\n",
            " |      Normalize the number by stripping the rightmost trailing zeros and\n",
            " |      converting any result equal to Decimal('0') to Decimal('0e0').  Used\n",
            " |      for producing canonical values for members of an equivalence class.\n",
            " |      For example, Decimal('32.100') and Decimal('0.321000e+2') both normalize\n",
            " |      to the equivalent value Decimal('32.1').\n",
            " |  \n",
            " |  number_class(self, /, context=None)\n",
            " |      Return a string describing the class of the operand.  The returned value\n",
            " |      is one of the following ten strings:\n",
            " |      \n",
            " |          * '-Infinity', indicating that the operand is negative infinity.\n",
            " |          * '-Normal', indicating that the operand is a negative normal number.\n",
            " |          * '-Subnormal', indicating that the operand is negative and subnormal.\n",
            " |          * '-Zero', indicating that the operand is a negative zero.\n",
            " |          * '+Zero', indicating that the operand is a positive zero.\n",
            " |          * '+Subnormal', indicating that the operand is positive and subnormal.\n",
            " |          * '+Normal', indicating that the operand is a positive normal number.\n",
            " |          * '+Infinity', indicating that the operand is positive infinity.\n",
            " |          * 'NaN', indicating that the operand is a quiet NaN (Not a Number).\n",
            " |          * 'sNaN', indicating that the operand is a signaling NaN.\n",
            " |  \n",
            " |  quantize(self, /, exp, rounding=None, context=None)\n",
            " |      Return a value equal to the first operand after rounding and having the\n",
            " |      exponent of the second operand.\n",
            " |      \n",
            " |          >>> Decimal('1.41421356').quantize(Decimal('1.000'))\n",
            " |          Decimal('1.414')\n",
            " |      \n",
            " |      Unlike other operations, if the length of the coefficient after the quantize\n",
            " |      operation would be greater than precision, then an InvalidOperation is signaled.\n",
            " |      This guarantees that, unless there is an error condition, the quantized exponent\n",
            " |      is always equal to that of the right-hand operand.\n",
            " |      \n",
            " |      Also unlike other operations, quantize never signals Underflow, even if the\n",
            " |      result is subnormal and inexact.\n",
            " |      \n",
            " |      If the exponent of the second operand is larger than that of the first, then\n",
            " |      rounding may be necessary. In this case, the rounding mode is determined by the\n",
            " |      rounding argument if given, else by the given context argument; if neither\n",
            " |      argument is given, the rounding mode of the current thread's context is used.\n",
            " |  \n",
            " |  radix(self, /)\n",
            " |      Return Decimal(10), the radix (base) in which the Decimal class does\n",
            " |      all its arithmetic. Included for compatibility with the specification.\n",
            " |  \n",
            " |  remainder_near(self, /, other, context=None)\n",
            " |      Return the remainder from dividing self by other.  This differs from\n",
            " |      self % other in that the sign of the remainder is chosen so as to minimize\n",
            " |      its absolute value. More precisely, the return value is self - n * other\n",
            " |      where n is the integer nearest to the exact value of self / other, and\n",
            " |      if two integers are equally near then the even one is chosen.\n",
            " |      \n",
            " |      If the result is zero then its sign will be the sign of self.\n",
            " |  \n",
            " |  rotate(self, /, other, context=None)\n",
            " |      Return the result of rotating the digits of the first operand by an amount\n",
            " |      specified by the second operand.  The second operand must be an integer in\n",
            " |      the range -precision through precision. The absolute value of the second\n",
            " |      operand gives the number of places to rotate. If the second operand is\n",
            " |      positive then rotation is to the left; otherwise rotation is to the right.\n",
            " |      The coefficient of the first operand is padded on the left with zeros to\n",
            " |      length precision if necessary. The sign and exponent of the first operand are\n",
            " |      unchanged.\n",
            " |  \n",
            " |  same_quantum(self, /, other, context=None)\n",
            " |      Test whether self and other have the same exponent or whether both are NaN.\n",
            " |      \n",
            " |      This operation is unaffected by context and is quiet: no flags are changed\n",
            " |      and no rounding is performed. As an exception, the C version may raise\n",
            " |      InvalidOperation if the second operand cannot be converted exactly.\n",
            " |  \n",
            " |  scaleb(self, /, other, context=None)\n",
            " |      Return the first operand with the exponent adjusted the second.  Equivalently,\n",
            " |      return the first operand multiplied by 10**other. The second operand must be\n",
            " |      an integer.\n",
            " |  \n",
            " |  shift(self, /, other, context=None)\n",
            " |      Return the result of shifting the digits of the first operand by an amount\n",
            " |      specified by the second operand.  The second operand must be an integer in\n",
            " |      the range -precision through precision. The absolute value of the second\n",
            " |      operand gives the number of places to shift. If the second operand is\n",
            " |      positive, then the shift is to the left; otherwise the shift is to the\n",
            " |      right. Digits shifted into the coefficient are zeros. The sign and exponent\n",
            " |      of the first operand are unchanged.\n",
            " |  \n",
            " |  sqrt(self, /, context=None)\n",
            " |      Return the square root of the argument to full precision. The result is\n",
            " |      correctly rounded using the ROUND_HALF_EVEN rounding mode.\n",
            " |  \n",
            " |  to_eng_string(self, /, context=None)\n",
            " |      Convert to an engineering-type string.  Engineering notation has an exponent\n",
            " |      which is a multiple of 3, so there are up to 3 digits left of the decimal\n",
            " |      place. For example, Decimal('123E+1') is converted to Decimal('1.23E+3').\n",
            " |      \n",
            " |      The value of context.capitals determines whether the exponent sign is lower\n",
            " |      or upper case. Otherwise, the context does not affect the operation.\n",
            " |  \n",
            " |  to_integral(self, /, rounding=None, context=None)\n",
            " |      Identical to the to_integral_value() method.  The to_integral() name has been\n",
            " |      kept for compatibility with older versions.\n",
            " |  \n",
            " |  to_integral_exact(self, /, rounding=None, context=None)\n",
            " |      Round to the nearest integer, signaling Inexact or Rounded as appropriate if\n",
            " |      rounding occurs.  The rounding mode is determined by the rounding parameter\n",
            " |      if given, else by the given context. If neither parameter is given, then the\n",
            " |      rounding mode of the current default context is used.\n",
            " |  \n",
            " |  to_integral_value(self, /, rounding=None, context=None)\n",
            " |      Round to the nearest integer without signaling Inexact or Rounded.  The\n",
            " |      rounding mode is determined by the rounding parameter if given, else by\n",
            " |      the given context. If neither parameter is given, then the rounding mode\n",
            " |      of the current default context is used.\n",
            " |  \n",
            " |  ----------------------------------------------------------------------\n",
            " |  Class methods defined here:\n",
            " |  \n",
            " |  from_float(f, /) from builtins.type\n",
            " |      Class method that converts a float to a decimal number, exactly.\n",
            " |      Since 0.1 is not exactly representable in binary floating point,\n",
            " |      Decimal.from_float(0.1) is not the same as Decimal('0.1').\n",
            " |      \n",
            " |          >>> Decimal.from_float(0.1)\n",
            " |          Decimal('0.1000000000000000055511151231257827021181583404541015625')\n",
            " |          >>> Decimal.from_float(float('nan'))\n",
            " |          Decimal('NaN')\n",
            " |          >>> Decimal.from_float(float('inf'))\n",
            " |          Decimal('Infinity')\n",
            " |          >>> Decimal.from_float(float('-inf'))\n",
            " |          Decimal('-Infinity')\n",
            " |  \n",
            " |  ----------------------------------------------------------------------\n",
            " |  Static methods defined here:\n",
            " |  \n",
            " |  __new__(*args, **kwargs) from builtins.type\n",
            " |      Create and return a new object.  See help(type) for accurate signature.\n",
            " |  \n",
            " |  ----------------------------------------------------------------------\n",
            " |  Data descriptors defined here:\n",
            " |  \n",
            " |  imag\n",
            " |  \n",
            " |  real\n",
            "\n"
          ]
        }
      ]
    },
    {
      "cell_type": "code",
      "metadata": {
        "colab": {
          "base_uri": "https://localhost:8080/"
        },
        "id": "6XO7XnzaeYAv",
        "outputId": "23471456-4e49-40a4-a43b-1c482db6f286"
      },
      "source": [
        "from decimal import *\n",
        "ctx = getcontext()\n",
        "print(ctx)\n",
        "ctx.prec = 5 # total number of digits\n",
        "d = ctx.create_decimal(10.2356)\n",
        "print(d)\n",
        "\n",
        "ctx.rounding = ROUND_HALF_EVEN # bankers rounding\n",
        "print(d)\n",
        "\n",
        "e = ctx.create_decimal(10.2355)\n",
        "print(f'bankers rounding: {e}')\n",
        "f = Decimal(10.2356)\n",
        "print(f)"
      ],
      "execution_count": 27,
      "outputs": [
        {
          "output_type": "stream",
          "name": "stdout",
          "text": [
            "Context(prec=5, rounding=ROUND_HALF_EVEN, Emin=-999999, Emax=999999, capitals=1, clamp=0, flags=[Inexact, FloatOperation, Rounded], traps=[InvalidOperation, DivisionByZero, Overflow])\n",
            "10.236\n",
            "10.236\n",
            "bankers rounding: 10.236\n",
            "10.2355999999999998095745468162931501865386962890625\n"
          ]
        }
      ]
    },
    {
      "cell_type": "markdown",
      "metadata": {
        "id": "VX0uwJyoCFe7"
      },
      "source": [
        "# Complex Numbers"
      ]
    },
    {
      "cell_type": "code",
      "metadata": {
        "colab": {
          "base_uri": "https://localhost:8080/"
        },
        "id": "DHK1Q5VnFEHo",
        "outputId": "aa1b12ba-0195-46e6-fc80-dacc3fd68de3"
      },
      "source": [
        "a = 1+2j\n",
        "b = complex(1,2)\n",
        "print(a)\n",
        "print(b)\n",
        "print(a == b)"
      ],
      "execution_count": 5,
      "outputs": [
        {
          "output_type": "stream",
          "name": "stdout",
          "text": [
            "(1+2j)\n",
            "(1+2j)\n",
            "True\n"
          ]
        }
      ]
    },
    {
      "cell_type": "code",
      "metadata": {
        "colab": {
          "base_uri": "https://localhost:8080/"
        },
        "id": "e-qb-003Fm2a",
        "outputId": "ac430843-de4e-4c70-e732-36412d764b5f"
      },
      "source": [
        "print(a.imag, type(a.imag))\n",
        "print(a.conjugate())"
      ],
      "execution_count": 7,
      "outputs": [
        {
          "output_type": "stream",
          "name": "stdout",
          "text": [
            "2.0 <class 'float'>\n",
            "(1-2j)\n"
          ]
        }
      ]
    },
    {
      "cell_type": "code",
      "metadata": {
        "colab": {
          "base_uri": "https://localhost:8080/"
        },
        "id": "AvuAbaZjGAME",
        "outputId": "61c1ddca-4b2c-4f06-e76a-fa4997d5fe86"
      },
      "source": [
        "a = 1 + 2j\n",
        "b = 3 - 4j\n",
        "d = 10\n",
        "c = 5j\n",
        "print(a+b+c+d)\n",
        "print(b*c)\n",
        "print(a/b)"
      ],
      "execution_count": 8,
      "outputs": [
        {
          "output_type": "stream",
          "name": "stdout",
          "text": [
            "(14+3j)\n",
            "(20+15j)\n",
            "(-0.2+0.4j)\n"
          ]
        }
      ]
    },
    {
      "cell_type": "code",
      "metadata": {
        "colab": {
          "base_uri": "https://localhost:8080/"
        },
        "id": "FLK3seCWGRsm",
        "outputId": "7a6088d4-c0a6-4ead-9494-562c3caeaa9d"
      },
      "source": [
        "a = 0.1 + 0.1j\n",
        "0.3 + 0.3j == a + a + a"
      ],
      "execution_count": 9,
      "outputs": [
        {
          "output_type": "execute_result",
          "data": {
            "text/plain": [
              "False"
            ]
          },
          "metadata": {},
          "execution_count": 9
        }
      ]
    },
    {
      "cell_type": "code",
      "metadata": {
        "colab": {
          "base_uri": "https://localhost:8080/",
          "height": 164
        },
        "id": "M88kPe1HGkBZ",
        "outputId": "c9737268-827c-4ec9-a1ed-82f4dc049d5c"
      },
      "source": [
        "print(a//b)\n"
      ],
      "execution_count": 12,
      "outputs": [
        {
          "output_type": "error",
          "ename": "TypeError",
          "evalue": "ignored",
          "traceback": [
            "\u001b[0;31m---------------------------------------------------------------------------\u001b[0m",
            "\u001b[0;31mTypeError\u001b[0m                                 Traceback (most recent call last)",
            "\u001b[0;32m<ipython-input-12-1133a5709cb6>\u001b[0m in \u001b[0;36m<module>\u001b[0;34m()\u001b[0m\n\u001b[0;32m----> 1\u001b[0;31m \u001b[0mprint\u001b[0m\u001b[0;34m(\u001b[0m\u001b[0ma\u001b[0m\u001b[0;34m//\u001b[0m\u001b[0mb\u001b[0m\u001b[0;34m)\u001b[0m\u001b[0;34m\u001b[0m\u001b[0;34m\u001b[0m\u001b[0m\n\u001b[0m",
            "\u001b[0;31mTypeError\u001b[0m: can't take floor of complex number."
          ]
        }
      ]
    },
    {
      "cell_type": "code",
      "metadata": {
        "colab": {
          "base_uri": "https://localhost:8080/",
          "height": 164
        },
        "id": "BjCTbIHMGp9_",
        "outputId": "16a1de6d-0f12-4f37-fb27-a5b771432fd5"
      },
      "source": [
        "print(a%b)"
      ],
      "execution_count": 13,
      "outputs": [
        {
          "output_type": "error",
          "ename": "TypeError",
          "evalue": "ignored",
          "traceback": [
            "\u001b[0;31m---------------------------------------------------------------------------\u001b[0m",
            "\u001b[0;31mTypeError\u001b[0m                                 Traceback (most recent call last)",
            "\u001b[0;32m<ipython-input-13-95807d6dc8a5>\u001b[0m in \u001b[0;36m<module>\u001b[0;34m()\u001b[0m\n\u001b[0;32m----> 1\u001b[0;31m \u001b[0mprint\u001b[0m\u001b[0;34m(\u001b[0m\u001b[0ma\u001b[0m\u001b[0;34m%\u001b[0m\u001b[0mb\u001b[0m\u001b[0;34m)\u001b[0m\u001b[0;34m\u001b[0m\u001b[0;34m\u001b[0m\u001b[0m\n\u001b[0m",
            "\u001b[0;31mTypeError\u001b[0m: can't mod complex numbers."
          ]
        }
      ]
    },
    {
      "cell_type": "code",
      "metadata": {
        "colab": {
          "base_uri": "https://localhost:8080/",
          "height": 215
        },
        "id": "6YONwgmrGWrp",
        "outputId": "3a665a5a-c572-4333-9515-48015266130e"
      },
      "source": [
        "import cmath\n",
        "import math\n",
        "a = 2+5j\n",
        "print(cmath.sqrt(a))\n",
        "print(math.sqrt(a))"
      ],
      "execution_count": 15,
      "outputs": [
        {
          "output_type": "stream",
          "name": "stdout",
          "text": [
            "(1.921609326467597+1.3009928530039094j)\n"
          ]
        },
        {
          "output_type": "error",
          "ename": "TypeError",
          "evalue": "ignored",
          "traceback": [
            "\u001b[0;31m---------------------------------------------------------------------------\u001b[0m",
            "\u001b[0;31mTypeError\u001b[0m                                 Traceback (most recent call last)",
            "\u001b[0;32m<ipython-input-15-ef7a42f81338>\u001b[0m in \u001b[0;36m<module>\u001b[0;34m()\u001b[0m\n\u001b[1;32m      3\u001b[0m \u001b[0ma\u001b[0m \u001b[0;34m=\u001b[0m \u001b[0;36m2\u001b[0m\u001b[0;34m+\u001b[0m\u001b[0;36m5j\u001b[0m\u001b[0;34m\u001b[0m\u001b[0;34m\u001b[0m\u001b[0m\n\u001b[1;32m      4\u001b[0m \u001b[0mprint\u001b[0m\u001b[0;34m(\u001b[0m\u001b[0mcmath\u001b[0m\u001b[0;34m.\u001b[0m\u001b[0msqrt\u001b[0m\u001b[0;34m(\u001b[0m\u001b[0ma\u001b[0m\u001b[0;34m)\u001b[0m\u001b[0;34m)\u001b[0m\u001b[0;34m\u001b[0m\u001b[0;34m\u001b[0m\u001b[0m\n\u001b[0;32m----> 5\u001b[0;31m \u001b[0mprint\u001b[0m\u001b[0;34m(\u001b[0m\u001b[0mmath\u001b[0m\u001b[0;34m.\u001b[0m\u001b[0msqrt\u001b[0m\u001b[0;34m(\u001b[0m\u001b[0ma\u001b[0m\u001b[0;34m)\u001b[0m\u001b[0;34m)\u001b[0m\u001b[0;34m\u001b[0m\u001b[0;34m\u001b[0m\u001b[0m\n\u001b[0m",
            "\u001b[0;31mTypeError\u001b[0m: can't convert complex to float"
          ]
        }
      ]
    },
    {
      "cell_type": "markdown",
      "metadata": {
        "id": "NuhRw5VfCCO-"
      },
      "source": [
        "# Booleans\n",
        "\n",
        "0. Chained Comparison\n",
        "1. Opertor Precedence\n",
        "\n",
        "  ()\n",
        "\n",
        "  < > <= >= == != in is\n",
        "\n",
        "  not\n",
        "\n",
        "  and\n",
        "\n",
        "  or\n",
        "\n",
        "2. Short Circuiting\n"
      ]
    },
    {
      "cell_type": "markdown",
      "metadata": {
        "id": "D5iEtvonQAMm"
      },
      "source": [
        "### Chained comparison"
      ]
    },
    {
      "cell_type": "code",
      "metadata": {
        "colab": {
          "base_uri": "https://localhost:8080/"
        },
        "id": "ycgvYmm4CDNq",
        "outputId": "61cc9371-cd65-4d61-a576-01c8d1f6cad8"
      },
      "source": [
        "## chained comparison, \n",
        "1 == 2 == False # 1==2 AND 2 == FALSE"
      ],
      "execution_count": 17,
      "outputs": [
        {
          "output_type": "execute_result",
          "data": {
            "text/plain": [
              "False"
            ]
          },
          "metadata": {},
          "execution_count": 17
        }
      ]
    },
    {
      "cell_type": "code",
      "metadata": {
        "colab": {
          "base_uri": "https://localhost:8080/"
        },
        "id": "dYZtF-L7HEAX",
        "outputId": "094f9979-e5ba-41b4-f1ab-d01aae52c835"
      },
      "source": [
        "(1 == 2) == False"
      ],
      "execution_count": 19,
      "outputs": [
        {
          "output_type": "execute_result",
          "data": {
            "text/plain": [
              "True"
            ]
          },
          "metadata": {},
          "execution_count": 19
        }
      ]
    },
    {
      "cell_type": "code",
      "metadata": {
        "colab": {
          "base_uri": "https://localhost:8080/"
        },
        "id": "Y6GD_InSQJ-b",
        "outputId": "39616f36-1af0-4984-92bc-2713139fdac0"
      },
      "source": [
        "1 < 2 < 3"
      ],
      "execution_count": 41,
      "outputs": [
        {
          "output_type": "execute_result",
          "data": {
            "text/plain": [
              "True"
            ]
          },
          "metadata": {},
          "execution_count": 41
        }
      ]
    },
    {
      "cell_type": "code",
      "metadata": {
        "colab": {
          "base_uri": "https://localhost:8080/"
        },
        "id": "ti6at0zeHPaZ",
        "outputId": "32f68f04-2ade-4220-b4ef-80a8f4339a51"
      },
      "source": [
        "# results in tuples\n",
        "1 == 2, 2 == False, 1 == 2 and 2 == False, 1 == 2 == True, (1 == 2) == True"
      ],
      "execution_count": 21,
      "outputs": [
        {
          "output_type": "execute_result",
          "data": {
            "text/plain": [
              "(False, False, False, False, False)"
            ]
          },
          "metadata": {},
          "execution_count": 21
        }
      ]
    },
    {
      "cell_type": "code",
      "metadata": {
        "colab": {
          "base_uri": "https://localhost:8080/"
        },
        "id": "e0i48eYZHXZ_",
        "outputId": "be9dd4c8-51bc-4169-f458-81640586dae1"
      },
      "source": [
        "[] == False"
      ],
      "execution_count": 22,
      "outputs": [
        {
          "output_type": "execute_result",
          "data": {
            "text/plain": [
              "False"
            ]
          },
          "metadata": {},
          "execution_count": 22
        }
      ]
    },
    {
      "cell_type": "code",
      "metadata": {
        "colab": {
          "base_uri": "https://localhost:8080/"
        },
        "id": "06N2xmaJHjTu",
        "outputId": "59ba34a2-4ce6-43f5-a11c-a59da70268a3"
      },
      "source": [
        "bool(1), bool(0), bool(-100), bool(-123.123)"
      ],
      "execution_count": 23,
      "outputs": [
        {
          "output_type": "execute_result",
          "data": {
            "text/plain": [
              "(True, False, True, True)"
            ]
          },
          "metadata": {},
          "execution_count": 23
        }
      ]
    },
    {
      "cell_type": "code",
      "metadata": {
        "colab": {
          "base_uri": "https://localhost:8080/"
        },
        "id": "4Ve4uX-yHs0W",
        "outputId": "bba770db-f0bd-4b70-8eff-af074cf25dec"
      },
      "source": [
        "(100).__bool__()"
      ],
      "execution_count": 24,
      "outputs": [
        {
          "output_type": "execute_result",
          "data": {
            "text/plain": [
              "True"
            ]
          },
          "metadata": {},
          "execution_count": 24
        }
      ]
    },
    {
      "cell_type": "code",
      "metadata": {
        "colab": {
          "base_uri": "https://localhost:8080/"
        },
        "id": "1qUC1SF6H2B7",
        "outputId": "2dca9972-25d3-437a-9680-b83f6fc093d1"
      },
      "source": [
        "# sequence types\n",
        "bool([]), bool(()), bool(\"\"), bool([1, 2, 3]), bool((1,2)), bool(\"123\")"
      ],
      "execution_count": 25,
      "outputs": [
        {
          "output_type": "execute_result",
          "data": {
            "text/plain": [
              "(False, False, False, True, True, True)"
            ]
          },
          "metadata": {},
          "execution_count": 25
        }
      ]
    },
    {
      "cell_type": "code",
      "metadata": {
        "colab": {
          "base_uri": "https://localhost:8080/"
        },
        "id": "CHq-b8djNRUm",
        "outputId": "1f13ca7d-5907-4293-c757-ecca16dad2b0"
      },
      "source": [
        "bool({}), bool({a: 1, 'b': 2, 'c': 'rohan'})"
      ],
      "execution_count": 26,
      "outputs": [
        {
          "output_type": "execute_result",
          "data": {
            "text/plain": [
              "(False, True)"
            ]
          },
          "metadata": {},
          "execution_count": 26
        }
      ]
    },
    {
      "cell_type": "code",
      "metadata": {
        "colab": {
          "base_uri": "https://localhost:8080/"
        },
        "id": "V2-snVDTNWJf",
        "outputId": "53110675-6433-4ca7-b947-fcc51203fa4f"
      },
      "source": [
        "bool(None)"
      ],
      "execution_count": 27,
      "outputs": [
        {
          "output_type": "execute_result",
          "data": {
            "text/plain": [
              "False"
            ]
          },
          "metadata": {},
          "execution_count": 27
        }
      ]
    },
    {
      "cell_type": "markdown",
      "metadata": {
        "id": "c1wn5JykOKOB"
      },
      "source": [
        "### Opertor Precedence"
      ]
    },
    {
      "cell_type": "code",
      "metadata": {
        "colab": {
          "base_uri": "https://localhost:8080/"
        },
        "id": "dtvSnnIjNXdf",
        "outputId": "d6ae354a-13b3-41d6-ff05-4cb28181f001"
      },
      "source": [
        "True or True and False"
      ],
      "execution_count": 28,
      "outputs": [
        {
          "output_type": "execute_result",
          "data": {
            "text/plain": [
              "True"
            ]
          },
          "metadata": {},
          "execution_count": 28
        }
      ]
    },
    {
      "cell_type": "code",
      "metadata": {
        "colab": {
          "base_uri": "https://localhost:8080/"
        },
        "id": "i0g1H70cOMu6",
        "outputId": "a23d1173-637a-46a2-e06e-1d73b67b963a"
      },
      "source": [
        "True or (True and False)"
      ],
      "execution_count": 29,
      "outputs": [
        {
          "output_type": "execute_result",
          "data": {
            "text/plain": [
              "True"
            ]
          },
          "metadata": {},
          "execution_count": 29
        }
      ]
    },
    {
      "cell_type": "markdown",
      "metadata": {
        "id": "8hvgd6ygO24j"
      },
      "source": [
        "## Short Circuiting\n",
        "\n",
        "X or Y: if X is falsy, return Y, else it is going to return X"
      ]
    },
    {
      "cell_type": "code",
      "metadata": {
        "colab": {
          "base_uri": "https://localhost:8080/",
          "height": 35
        },
        "id": "QnyFjzc0OQUe",
        "outputId": "52e6ce2f-b3d9-48bc-e5a1-5dd2511f5d82"
      },
      "source": [
        "'this' or 'that'"
      ],
      "execution_count": 30,
      "outputs": [
        {
          "output_type": "execute_result",
          "data": {
            "application/vnd.google.colaboratory.intrinsic+json": {
              "type": "string"
            },
            "text/plain": [
              "'this'"
            ]
          },
          "metadata": {},
          "execution_count": 30
        }
      ]
    },
    {
      "cell_type": "code",
      "metadata": {
        "colab": {
          "base_uri": "https://localhost:8080/"
        },
        "id": "an94AzU7PDHk",
        "outputId": "f668c8ba-5b39-4be1-eaae-86cb51c81a9d"
      },
      "source": [
        "0 or 100"
      ],
      "execution_count": 31,
      "outputs": [
        {
          "output_type": "execute_result",
          "data": {
            "text/plain": [
              "100"
            ]
          },
          "metadata": {},
          "execution_count": 31
        }
      ]
    },
    {
      "cell_type": "code",
      "metadata": {
        "colab": {
          "base_uri": "https://localhost:8080/"
        },
        "id": "UXxK6cAYPFsy",
        "outputId": "eee4bd58-f0e9-4a5b-faf6-3bf03b593dd0"
      },
      "source": [
        "10 or 100"
      ],
      "execution_count": 32,
      "outputs": [
        {
          "output_type": "execute_result",
          "data": {
            "text/plain": [
              "10"
            ]
          },
          "metadata": {},
          "execution_count": 32
        }
      ]
    },
    {
      "cell_type": "code",
      "metadata": {
        "colab": {
          "base_uri": "https://localhost:8080/"
        },
        "id": "dbiSg6aXPHpb",
        "outputId": "1352172d-e0ce-4ea7-cdd5-378d26b51c05"
      },
      "source": [
        "[] or [1, 2, 3]"
      ],
      "execution_count": 33,
      "outputs": [
        {
          "output_type": "execute_result",
          "data": {
            "text/plain": [
              "[1, 2, 3]"
            ]
          },
          "metadata": {},
          "execution_count": 33
        }
      ]
    },
    {
      "cell_type": "code",
      "metadata": {
        "colab": {
          "base_uri": "https://localhost:8080/"
        },
        "id": "9U_yarTjPLge",
        "outputId": "39af6266-3849-453b-95b3-51e5ad42dbaf"
      },
      "source": [
        "[1,2] or [1,2,3]"
      ],
      "execution_count": 34,
      "outputs": [
        {
          "output_type": "execute_result",
          "data": {
            "text/plain": [
              "[1, 2]"
            ]
          },
          "metadata": {},
          "execution_count": 34
        }
      ]
    },
    {
      "cell_type": "markdown",
      "metadata": {
        "id": "sMCzWMQZPgYR"
      },
      "source": [
        "### Comparison Operators"
      ]
    },
    {
      "cell_type": "code",
      "metadata": {
        "colab": {
          "base_uri": "https://localhost:8080/"
        },
        "id": "xVZ4yCs4PWAf",
        "outputId": "75b603c4-e409-4a35-a339-1c36c0240a33"
      },
      "source": [
        "0.1 is 2+3j"
      ],
      "execution_count": 36,
      "outputs": [
        {
          "output_type": "execute_result",
          "data": {
            "text/plain": [
              "False"
            ]
          },
          "metadata": {},
          "execution_count": 36
        }
      ]
    },
    {
      "cell_type": "code",
      "metadata": {
        "colab": {
          "base_uri": "https://localhost:8080/"
        },
        "id": "CV3G_GDlPmkR",
        "outputId": "4182e621-6b35-42e2-8ab6-da0e07f5b00c"
      },
      "source": [
        "1 in [1, 2, 3]"
      ],
      "execution_count": 37,
      "outputs": [
        {
          "output_type": "execute_result",
          "data": {
            "text/plain": [
              "True"
            ]
          },
          "metadata": {},
          "execution_count": 37
        }
      ]
    },
    {
      "cell_type": "code",
      "metadata": {
        "colab": {
          "base_uri": "https://localhost:8080/"
        },
        "id": "vCAnz213Pun9",
        "outputId": "016c0308-46f0-4d67-de40-fc4cc33050e8"
      },
      "source": [
        "[1] in [1,2, 3]"
      ],
      "execution_count": 38,
      "outputs": [
        {
          "output_type": "execute_result",
          "data": {
            "text/plain": [
              "False"
            ]
          },
          "metadata": {},
          "execution_count": 38
        }
      ]
    },
    {
      "cell_type": "code",
      "metadata": {
        "colab": {
          "base_uri": "https://localhost:8080/"
        },
        "id": "9mKV6NI8Pw3e",
        "outputId": "0761cdb1-6fbb-485e-f00b-b6ed24f667f2"
      },
      "source": [
        "[1, 2] in [1, 2, 3]"
      ],
      "execution_count": 39,
      "outputs": [
        {
          "output_type": "execute_result",
          "data": {
            "text/plain": [
              "False"
            ]
          },
          "metadata": {},
          "execution_count": 39
        }
      ]
    },
    {
      "cell_type": "code",
      "metadata": {
        "colab": {
          "base_uri": "https://localhost:8080/"
        },
        "id": "oW630h49PzEE",
        "outputId": "dcaedbe2-b3ef-4a3a-fab5-21e6fbc70167"
      },
      "source": [
        "[1, 2] in [ [1, 2], 2, 3]"
      ],
      "execution_count": 40,
      "outputs": [
        {
          "output_type": "execute_result",
          "data": {
            "text/plain": [
              "True"
            ]
          },
          "metadata": {},
          "execution_count": 40
        }
      ]
    },
    {
      "cell_type": "markdown",
      "metadata": {
        "id": "dy4URAWRSyPH"
      },
      "source": [
        "# Unpacking Iterables"
      ]
    },
    {
      "cell_type": "markdown",
      "metadata": {
        "id": "7ebkHQa6TA-R"
      },
      "source": [
        "Comma makes it a tuple."
      ]
    },
    {
      "cell_type": "code",
      "metadata": {
        "colab": {
          "base_uri": "https://localhost:8080/"
        },
        "id": "ohLf_mopP2LU",
        "outputId": "c298a8c9-2a00-4cd8-cfd8-d216aa2b8695"
      },
      "source": [
        "a = (1, 2, 3)\n",
        "type(a)"
      ],
      "execution_count": 42,
      "outputs": [
        {
          "output_type": "execute_result",
          "data": {
            "text/plain": [
              "tuple"
            ]
          },
          "metadata": {},
          "execution_count": 42
        }
      ]
    },
    {
      "cell_type": "code",
      "metadata": {
        "colab": {
          "base_uri": "https://localhost:8080/"
        },
        "id": "zkeF-P4uS5Gw",
        "outputId": "8b62ea5e-d7db-4cbf-c617-75f9ae49809b"
      },
      "source": [
        "a= 1, 2, 3\n",
        "type(a)"
      ],
      "execution_count": 43,
      "outputs": [
        {
          "output_type": "execute_result",
          "data": {
            "text/plain": [
              "tuple"
            ]
          },
          "metadata": {},
          "execution_count": 43
        }
      ]
    },
    {
      "cell_type": "code",
      "metadata": {
        "colab": {
          "base_uri": "https://localhost:8080/"
        },
        "id": "Nfyba1qRS7jY",
        "outputId": "1eb3c78e-67f2-428e-cc12-8bce7e446997"
      },
      "source": [
        "a = (1)\n",
        "type(a)"
      ],
      "execution_count": 44,
      "outputs": [
        {
          "output_type": "execute_result",
          "data": {
            "text/plain": [
              "int"
            ]
          },
          "metadata": {},
          "execution_count": 44
        }
      ]
    },
    {
      "cell_type": "code",
      "metadata": {
        "colab": {
          "base_uri": "https://localhost:8080/"
        },
        "id": "1bWfyriqTNuZ",
        "outputId": "ca395528-a987-4a57-e6b4-b7f1079d5cf5"
      },
      "source": [
        "a = ()\n",
        "type(a)"
      ],
      "execution_count": 45,
      "outputs": [
        {
          "output_type": "execute_result",
          "data": {
            "text/plain": [
              "tuple"
            ]
          },
          "metadata": {},
          "execution_count": 45
        }
      ]
    },
    {
      "cell_type": "code",
      "metadata": {
        "colab": {
          "base_uri": "https://localhost:8080/"
        },
        "id": "8g5GLM1LTT2r",
        "outputId": "3f9ea851-82e2-44c6-c880-5771b1ddc3c6"
      },
      "source": [
        "list1 = [1, 2, 3, 4]\n",
        "\n",
        "a, b, c, d = list1\n",
        "print(a, b, c, d)"
      ],
      "execution_count": 46,
      "outputs": [
        {
          "output_type": "stream",
          "name": "stdout",
          "text": [
            "1 2 3 4\n"
          ]
        }
      ]
    },
    {
      "cell_type": "code",
      "metadata": {
        "colab": {
          "base_uri": "https://localhost:8080/"
        },
        "id": "1aOFCL2QTmyu",
        "outputId": "308e1cbd-f53d-43c0-9137-4ec626cd0045"
      },
      "source": [
        "a, b, c = 'xyz'\n",
        "print(a, b, c)"
      ],
      "execution_count": 47,
      "outputs": [
        {
          "output_type": "stream",
          "name": "stdout",
          "text": [
            "x y z\n"
          ]
        }
      ]
    },
    {
      "cell_type": "code",
      "metadata": {
        "colab": {
          "base_uri": "https://localhost:8080/",
          "height": 181
        },
        "id": "9RkRFCtET8b1",
        "outputId": "5227657b-a108-4b59-ddb1-5123b5080793"
      },
      "source": [
        "a, b, c = 'rstuvw'\n",
        "print(a, b, c)"
      ],
      "execution_count": 48,
      "outputs": [
        {
          "output_type": "error",
          "ename": "ValueError",
          "evalue": "ignored",
          "traceback": [
            "\u001b[0;31m---------------------------------------------------------------------------\u001b[0m",
            "\u001b[0;31mValueError\u001b[0m                                Traceback (most recent call last)",
            "\u001b[0;32m<ipython-input-48-4d5ae15e8a56>\u001b[0m in \u001b[0;36m<module>\u001b[0;34m()\u001b[0m\n\u001b[0;32m----> 1\u001b[0;31m \u001b[0ma\u001b[0m\u001b[0;34m,\u001b[0m \u001b[0mb\u001b[0m\u001b[0;34m,\u001b[0m \u001b[0mc\u001b[0m \u001b[0;34m=\u001b[0m \u001b[0;34m'rstuvw'\u001b[0m\u001b[0;34m\u001b[0m\u001b[0;34m\u001b[0m\u001b[0m\n\u001b[0m\u001b[1;32m      2\u001b[0m \u001b[0mprint\u001b[0m\u001b[0;34m(\u001b[0m\u001b[0ma\u001b[0m\u001b[0;34m,\u001b[0m \u001b[0mb\u001b[0m\u001b[0;34m,\u001b[0m \u001b[0mc\u001b[0m\u001b[0;34m)\u001b[0m\u001b[0;34m\u001b[0m\u001b[0;34m\u001b[0m\u001b[0m\n",
            "\u001b[0;31mValueError\u001b[0m: too many values to unpack (expected 3)"
          ]
        }
      ]
    },
    {
      "cell_type": "markdown",
      "metadata": {
        "id": "N6wUNBnIUEVO"
      },
      "source": [
        "Swap variables, without any temporary variables"
      ]
    },
    {
      "cell_type": "code",
      "metadata": {
        "colab": {
          "base_uri": "https://localhost:8080/"
        },
        "id": "woHAzbwaUAaq",
        "outputId": "69fda574-1890-4e31-9189-99ea86297e98"
      },
      "source": [
        "a = 10\n",
        "b = 25\n",
        "a, b = b, a\n",
        "print(a, b)"
      ],
      "execution_count": 49,
      "outputs": [
        {
          "output_type": "stream",
          "name": "stdout",
          "text": [
            "25 10\n"
          ]
        }
      ]
    },
    {
      "cell_type": "code",
      "metadata": {
        "colab": {
          "base_uri": "https://localhost:8080/"
        },
        "id": "XXphixCdUNEe",
        "outputId": "cec3938b-0137-4864-eeb3-f457ff0ab6ab"
      },
      "source": [
        "dict1 = { 1: 'a1', 2: 'b1', 3: 'c1'}\n",
        "a, b, c = dict1\n",
        "print(a, b, c)"
      ],
      "execution_count": 51,
      "outputs": [
        {
          "output_type": "stream",
          "name": "stdout",
          "text": [
            "1 2 3\n"
          ]
        }
      ]
    },
    {
      "cell_type": "markdown",
      "metadata": {
        "id": "CySfskb2UwA5"
      },
      "source": [
        "## Extended Unpacking"
      ]
    },
    {
      "cell_type": "code",
      "metadata": {
        "colab": {
          "base_uri": "https://localhost:8080/"
        },
        "id": "j9VWM8joUohk",
        "outputId": "ee7c2fdf-c5bf-4301-df9c-e9a53b94b406"
      },
      "source": [
        "a, *b = [1, 2, 3, 4, 5,6]\n",
        "print(a, b)"
      ],
      "execution_count": 52,
      "outputs": [
        {
          "output_type": "stream",
          "name": "stdout",
          "text": [
            "1 [2, 3, 4, 5, 6]\n"
          ]
        }
      ]
    },
    {
      "cell_type": "code",
      "metadata": {
        "colab": {
          "base_uri": "https://localhost:8080/"
        },
        "id": "2Qo6r4OlU3je",
        "outputId": "d6b1fbe7-3262-46ff-805a-a87ab5a95f20"
      },
      "source": [
        "a, *b = -10, 2, 3, 4, 5\n",
        "print(a, b)"
      ],
      "execution_count": 53,
      "outputs": [
        {
          "output_type": "stream",
          "name": "stdout",
          "text": [
            "-10 [2, 3, 4, 5]\n"
          ]
        }
      ]
    },
    {
      "cell_type": "code",
      "metadata": {
        "colab": {
          "base_uri": "https://localhost:8080/"
        },
        "id": "N8kIf6MdVAEr",
        "outputId": "608fa5a2-f6d6-4b0a-b58e-2720cdb983cf"
      },
      "source": [
        "a, b, c, d, *e = -10, 2, 3, 4\n",
        "print(e)"
      ],
      "execution_count": 54,
      "outputs": [
        {
          "output_type": "stream",
          "name": "stdout",
          "text": [
            "[]\n"
          ]
        }
      ]
    },
    {
      "cell_type": "code",
      "metadata": {
        "colab": {
          "base_uri": "https://localhost:8080/"
        },
        "id": "eO76V_0FVIux",
        "outputId": "6e9de3ee-3929-44a8-aaff-f0fc89812116"
      },
      "source": [
        "list1 = [1, 2,3]\n",
        "list2 = [4, 5, 6]\n",
        "\n",
        "new_list = [*list1, *list2]\n",
        "print(new_list)\n",
        "         "
      ],
      "execution_count": 55,
      "outputs": [
        {
          "output_type": "stream",
          "name": "stdout",
          "text": [
            "[1, 2, 3, 4, 5, 6]\n"
          ]
        }
      ]
    },
    {
      "cell_type": "code",
      "metadata": {
        "colab": {
          "base_uri": "https://localhost:8080/"
        },
        "id": "jbUk06qzVlFw",
        "outputId": "d918421a-f4ff-4f7a-f237-12f3a514dd4a"
      },
      "source": [
        "list1 = [1, 2, 3]\n",
        "s = \"XYZ\"\n",
        "print([*list1, *s])"
      ],
      "execution_count": 56,
      "outputs": [
        {
          "output_type": "stream",
          "name": "stdout",
          "text": [
            "[1, 2, 3, 'X', 'Y', 'Z']\n"
          ]
        }
      ]
    },
    {
      "cell_type": "code",
      "metadata": {
        "colab": {
          "base_uri": "https://localhost:8080/"
        },
        "id": "DnvGIbu4VyXb",
        "outputId": "b293716d-3312-459e-bef0-d9fa6c0ff23b"
      },
      "source": [
        "dict1 = { 1: 'a', 2: 'b', 3: 'c'}\n",
        "print(dict1)"
      ],
      "execution_count": 57,
      "outputs": [
        {
          "output_type": "stream",
          "name": "stdout",
          "text": [
            "{1: 'a', 2: 'b', 3: 'c'}\n"
          ]
        }
      ]
    },
    {
      "cell_type": "code",
      "metadata": {
        "colab": {
          "base_uri": "https://localhost:8080/"
        },
        "id": "wW59lMTsnmjr",
        "outputId": "ff0cbd46-fdd3-43d1-808b-755113b2550a"
      },
      "source": [
        "for k in dict1: # iterate over keys\n",
        "  print(k)"
      ],
      "execution_count": 59,
      "outputs": [
        {
          "output_type": "stream",
          "name": "stdout",
          "text": [
            "1\n",
            "2\n",
            "3\n"
          ]
        }
      ]
    },
    {
      "cell_type": "code",
      "metadata": {
        "colab": {
          "base_uri": "https://localhost:8080/"
        },
        "id": "7Jf4UnIanqrC",
        "outputId": "b5d63a85-33a6-4852-936e-be891eb900b4"
      },
      "source": [
        "a, b, c = dict1\n",
        "print(a, b, c)"
      ],
      "execution_count": 61,
      "outputs": [
        {
          "output_type": "stream",
          "name": "stdout",
          "text": [
            "1 2 3\n"
          ]
        }
      ]
    },
    {
      "cell_type": "code",
      "metadata": {
        "colab": {
          "base_uri": "https://localhost:8080/"
        },
        "id": "RLx5tA7ynyKr",
        "outputId": "7df2bdc0-3a0a-427e-b8d0-a9c965e78788"
      },
      "source": [
        "d1 = { 'key1': 'Tesla', 'key2': '50B', 'key3': '1B'}\n",
        "d2 = { 'key1': 'Google', 'key2': '55B', 'key3': '5B'}\n",
        "\n",
        "{ * d1, *d2}"
      ],
      "execution_count": 62,
      "outputs": [
        {
          "output_type": "execute_result",
          "data": {
            "text/plain": [
              "{'key1', 'key2', 'key3'}"
            ]
          },
          "metadata": {},
          "execution_count": 62
        }
      ]
    },
    {
      "cell_type": "code",
      "metadata": {
        "colab": {
          "base_uri": "https://localhost:8080/"
        },
        "id": "5xqGtKSfouXQ",
        "outputId": "ec0805de-62fb-4ea1-f5ff-db3a56aaff28"
      },
      "source": [
        "[ *d1, *d2]"
      ],
      "execution_count": 63,
      "outputs": [
        {
          "output_type": "execute_result",
          "data": {
            "text/plain": [
              "['key1', 'key2', 'key3', 'key1', 'key2', 'key3']"
            ]
          },
          "metadata": {},
          "execution_count": 63
        }
      ]
    },
    {
      "cell_type": "code",
      "metadata": {
        "colab": {
          "base_uri": "https://localhost:8080/"
        },
        "id": "G30iVp9JowoQ",
        "outputId": "7759d593-6a89-4ec8-d261-037e2c7629dc"
      },
      "source": [
        "{ **d1, **d2}"
      ],
      "execution_count": 64,
      "outputs": [
        {
          "output_type": "execute_result",
          "data": {
            "text/plain": [
              "{'key1': 'Google', 'key2': '55B', 'key3': '5B'}"
            ]
          },
          "metadata": {},
          "execution_count": 64
        }
      ]
    },
    {
      "cell_type": "code",
      "metadata": {
        "colab": {
          "base_uri": "https://localhost:8080/"
        },
        "id": "cM-RcRr8ozn8",
        "outputId": "d288258f-afc0-441b-a897-967ed93a80a7"
      },
      "source": [
        "{ **d2, **d1}"
      ],
      "execution_count": 65,
      "outputs": [
        {
          "output_type": "execute_result",
          "data": {
            "text/plain": [
              "{'key1': 'Tesla', 'key2': '50B', 'key3': '1B'}"
            ]
          },
          "metadata": {},
          "execution_count": 65
        }
      ]
    },
    {
      "cell_type": "code",
      "metadata": {
        "colab": {
          "base_uri": "https://localhost:8080/"
        },
        "id": "xNcVGsDwo3yq",
        "outputId": "2a4a0316-0012-4be0-f2c1-83edbc0dea1c"
      },
      "source": [
        "a, b, (*c, c1, c2, c3, c4, c5,c6) = [1, 2, 'nikola tesla']\n",
        "c"
      ],
      "execution_count": 66,
      "outputs": [
        {
          "output_type": "execute_result",
          "data": {
            "text/plain": [
              "['n', 'i', 'k', 'o', 'l', 'a']"
            ]
          },
          "metadata": {},
          "execution_count": 66
        }
      ]
    },
    {
      "cell_type": "code",
      "metadata": {
        "colab": {
          "base_uri": "https://localhost:8080/"
        },
        "id": "U8jtLPRYpGSl",
        "outputId": "0289f7c1-c288-41cc-f82b-46aed4d5d0fb"
      },
      "source": [
        "a, b, *c = 10, 20, 30, 40\n",
        "c"
      ],
      "execution_count": 67,
      "outputs": [
        {
          "output_type": "execute_result",
          "data": {
            "text/plain": [
              "[30, 40]"
            ]
          },
          "metadata": {},
          "execution_count": 67
        }
      ]
    },
    {
      "cell_type": "markdown",
      "metadata": {
        "id": "JbR_4o9vpVMw"
      },
      "source": [
        "# Functional Arguments\n",
        "\n",
        "*args - positional arguments\n",
        "\n",
        "**kwargs - keyword arguments aka named argument"
      ]
    },
    {
      "cell_type": "code",
      "metadata": {
        "colab": {
          "base_uri": "https://localhost:8080/"
        },
        "id": "fktOiN-qpM1N",
        "outputId": "83391a35-0036-478f-f03b-1a575beb1c0a"
      },
      "source": [
        "def func1(a, b, *args):\n",
        "    print(args)\n",
        "\n",
        "func1(1, 2, 3, 4, 5, 6, 7, 8, 9)"
      ],
      "execution_count": 68,
      "outputs": [
        {
          "output_type": "stream",
          "name": "stdout",
          "text": [
            "(3, 4, 5, 6, 7, 8, 9)\n"
          ]
        }
      ]
    },
    {
      "cell_type": "code",
      "metadata": {
        "colab": {
          "base_uri": "https://localhost:8080/"
        },
        "id": "zXiHH03RpT-8",
        "outputId": "cd6af569-52e3-4703-f016-aeb5df35a0cb"
      },
      "source": [
        "def func1(a, b, *args, c):\n",
        "    print(args)\n",
        "\n",
        "func1(1, 2, 3, 4, 5, 6, 7, 8, 9, c = 10)"
      ],
      "execution_count": 69,
      "outputs": [
        {
          "output_type": "stream",
          "name": "stdout",
          "text": [
            "(3, 4, 5, 6, 7, 8, 9)\n"
          ]
        }
      ]
    },
    {
      "cell_type": "code",
      "metadata": {
        "colab": {
          "base_uri": "https://localhost:8080/"
        },
        "id": "hD1vbHO4pijH",
        "outputId": "430c7abf-250a-4369-e39b-16da5315c7f5"
      },
      "source": [
        "def func(*args, **kwargs):\n",
        "    print(args, kwargs)\n",
        "\n",
        "func(1, 2, 3, x=100, y=200, z=300)"
      ],
      "execution_count": 70,
      "outputs": [
        {
          "output_type": "stream",
          "name": "stdout",
          "text": [
            "(1, 2, 3) {'x': 100, 'y': 200, 'z': 300}\n"
          ]
        }
      ]
    },
    {
      "cell_type": "code",
      "metadata": {
        "colab": {
          "base_uri": "https://localhost:8080/"
        },
        "id": "CJjcoBAGrd01",
        "outputId": "96ff024f-705b-4998-ee12-94d63bc513c6"
      },
      "source": [
        "def func(a, b, *, c, d=4, **kwargs):\n",
        "    print(a, b, c, d, kwargs)\n",
        "\n",
        "func(1, 2, c = 45, e = 34)"
      ],
      "execution_count": 71,
      "outputs": [
        {
          "output_type": "stream",
          "name": "stdout",
          "text": [
            "1 2 45 4 {'e': 34}\n"
          ]
        }
      ]
    },
    {
      "cell_type": "code",
      "metadata": {
        "colab": {
          "base_uri": "https://localhost:8080/"
        },
        "id": "2hfxphw8rrmL",
        "outputId": "4eca77fa-6a41-4a83-af34-14099615af59"
      },
      "source": [
        "def func(*, a=1, b, c=2):\n",
        "    print(a, b, c)\n",
        "\n",
        "func(b = 34)"
      ],
      "execution_count": 72,
      "outputs": [
        {
          "output_type": "stream",
          "name": "stdout",
          "text": [
            "1 34 2\n"
          ]
        }
      ]
    },
    {
      "cell_type": "code",
      "metadata": {
        "colab": {
          "base_uri": "https://localhost:8080/"
        },
        "id": "SE9-SB76r2EI",
        "outputId": "3162ea76-cbe1-4686-9cda-8020e5b550f8"
      },
      "source": [
        "def func(a, b, *, c, d):\n",
        "    print(a, b, c, d)\n",
        "\n",
        "func(1, 2, c=3, d=4)"
      ],
      "execution_count": 73,
      "outputs": [
        {
          "output_type": "stream",
          "name": "stdout",
          "text": [
            "1 2 3 4\n"
          ]
        }
      ]
    },
    {
      "cell_type": "code",
      "metadata": {
        "colab": {
          "base_uri": "https://localhost:8080/"
        },
        "id": "arjs-v-Gr7wn",
        "outputId": "a7ce09dc-38b4-40cf-e564-11567f9136ab"
      },
      "source": [
        "def func(x, y, *, a, b):\n",
        "    print(x, y, a, b)\n",
        "\n",
        "func(23, 43, a = 53, b = 64)"
      ],
      "execution_count": 74,
      "outputs": [
        {
          "output_type": "stream",
          "name": "stdout",
          "text": [
            "23 43 53 64\n"
          ]
        }
      ]
    },
    {
      "cell_type": "code",
      "metadata": {
        "colab": {
          "base_uri": "https://localhost:8080/"
        },
        "id": "StbwNshrsFum",
        "outputId": "0a6f5fe4-50dd-4e56-e669-a403b1b98954"
      },
      "source": [
        "def func(a, b, *args):\n",
        "    print(a, b, args)\n",
        "    \n",
        "func(1, 2, 'x', 'y', 'z')"
      ],
      "execution_count": 75,
      "outputs": [
        {
          "output_type": "stream",
          "name": "stdout",
          "text": [
            "1 2 ('x', 'y', 'z')\n"
          ]
        }
      ]
    },
    {
      "cell_type": "code",
      "metadata": {
        "colab": {
          "base_uri": "https://localhost:8080/"
        },
        "id": "2F3yJuGosQp1",
        "outputId": "353d0a91-38cd-4d2d-c7d0-845727412b0d"
      },
      "source": [
        "def func(a, b, **kwargs):\n",
        "    print(a)\n",
        "    print(b)\n",
        "    print(kwargs)\n",
        "\n",
        "func(1, 2, x=100, y=200)"
      ],
      "execution_count": 76,
      "outputs": [
        {
          "output_type": "stream",
          "name": "stdout",
          "text": [
            "1\n",
            "2\n",
            "{'x': 100, 'y': 200}\n"
          ]
        }
      ]
    },
    {
      "cell_type": "code",
      "metadata": {
        "colab": {
          "base_uri": "https://localhost:8080/",
          "height": 198
        },
        "id": "CfZ-tbJqsfmz",
        "outputId": "993fde34-dcb6-49c1-a05c-c5f179ce7338"
      },
      "source": [
        "def func(**kwargs):\n",
        "    print(kwargs)\n",
        "\n",
        "func(1, 2, 3)"
      ],
      "execution_count": 77,
      "outputs": [
        {
          "output_type": "error",
          "ename": "TypeError",
          "evalue": "ignored",
          "traceback": [
            "\u001b[0;31m---------------------------------------------------------------------------\u001b[0m",
            "\u001b[0;31mTypeError\u001b[0m                                 Traceback (most recent call last)",
            "\u001b[0;32m<ipython-input-77-25fa90dcddc2>\u001b[0m in \u001b[0;36m<module>\u001b[0;34m()\u001b[0m\n\u001b[1;32m      2\u001b[0m     \u001b[0mprint\u001b[0m\u001b[0;34m(\u001b[0m\u001b[0mkwargs\u001b[0m\u001b[0;34m)\u001b[0m\u001b[0;34m\u001b[0m\u001b[0;34m\u001b[0m\u001b[0m\n\u001b[1;32m      3\u001b[0m \u001b[0;34m\u001b[0m\u001b[0m\n\u001b[0;32m----> 4\u001b[0;31m \u001b[0mfunc\u001b[0m\u001b[0;34m(\u001b[0m\u001b[0;36m1\u001b[0m\u001b[0;34m,\u001b[0m \u001b[0;36m2\u001b[0m\u001b[0;34m,\u001b[0m \u001b[0;36m3\u001b[0m\u001b[0;34m)\u001b[0m\u001b[0;34m\u001b[0m\u001b[0;34m\u001b[0m\u001b[0m\n\u001b[0m",
            "\u001b[0;31mTypeError\u001b[0m: func() takes 0 positional arguments but 3 were given"
          ]
        }
      ]
    },
    {
      "cell_type": "code",
      "metadata": {
        "colab": {
          "base_uri": "https://localhost:8080/"
        },
        "id": "nH7_e95Tsyrb",
        "outputId": "433b5201-8678-46ca-9939-b4f09f25f19e"
      },
      "source": [
        "def func(**kwargs):\n",
        "    print(kwargs)\n",
        "\n",
        "func(x = 10, y = 300, z = 450)"
      ],
      "execution_count": 78,
      "outputs": [
        {
          "output_type": "stream",
          "name": "stdout",
          "text": [
            "{'x': 10, 'y': 300, 'z': 450}\n"
          ]
        }
      ]
    },
    {
      "cell_type": "code",
      "metadata": {
        "colab": {
          "base_uri": "https://localhost:8080/"
        },
        "id": "kM447ivxs1vb",
        "outputId": "e32d9834-c159-43d4-f51c-7614b4a4c325"
      },
      "source": [
        "print(\"hello\", \"world\", 1, 2, 3, sep='___')"
      ],
      "execution_count": 79,
      "outputs": [
        {
          "output_type": "stream",
          "name": "stdout",
          "text": [
            "hello___world___1___2___3\n"
          ]
        }
      ]
    },
    {
      "cell_type": "code",
      "metadata": {
        "id": "oIIGiU6ltJHA"
      },
      "source": [
        ""
      ],
      "execution_count": null,
      "outputs": []
    }
  ]
}