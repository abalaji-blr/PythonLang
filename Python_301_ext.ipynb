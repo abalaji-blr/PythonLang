{
  "nbformat": 4,
  "nbformat_minor": 0,
  "metadata": {
    "colab": {
      "name": "Python_301_ext.ipynb",
      "provenance": [],
      "collapsed_sections": [],
      "authorship_tag": "ABX9TyPGQUR/Gh5bf/3HVCCnihBA",
      "include_colab_link": true
    },
    "kernelspec": {
      "name": "python3",
      "display_name": "Python 3"
    },
    "language_info": {
      "name": "python"
    }
  },
  "cells": [
    {
      "cell_type": "markdown",
      "metadata": {
        "id": "view-in-github",
        "colab_type": "text"
      },
      "source": [
        "<a href=\"https://colab.research.google.com/github/abalaji-blr/PythonLang/blob/main/Python_301_ext.ipynb\" target=\"_parent\"><img src=\"https://colab.research.google.com/assets/colab-badge.svg\" alt=\"Open In Colab\"/></a>"
      ]
    },
    {
      "cell_type": "markdown",
      "metadata": {
        "id": "HTcYBT7cB6AY"
      },
      "source": [
        "# Floats\n",
        "\n",
        "## Floats - Coercing to Integers\n",
        "1. trunc\n",
        "2. ceil\n",
        "3. floor\n",
        "3. round\n",
        "4. Bankers rounding\n"
      ]
    },
    {
      "cell_type": "code",
      "metadata": {
        "id": "_a_DHNj8vDQQ"
      },
      "source": [
        ""
      ],
      "execution_count": null,
      "outputs": []
    },
    {
      "cell_type": "markdown",
      "metadata": {
        "id": "EZiawzvZB9CI"
      },
      "source": [
        "# Decimals\n",
        "\n",
        "Finance, Banking etc needs exact finite representation. So Decimals are used.\n",
        "\n",
        "Finite representation is called as Rational numbers.\n",
        "\n",
        "Infinte representation (never ends) is called as Irrational numbers.\n",
        "\n",
        "The **context** for the Deciamls can be changed **globally** as well as **locally**.\n",
        "\n",
        "1. Constructors for Decimals\n",
        "2. Contexts of Decimals\n",
        "3. Performance consideration\n",
        "  * More memory overhead\n",
        "  * Much slower than floats."
      ]
    },
    {
      "cell_type": "code",
      "metadata": {
        "id": "vDQkw0HAB-Xc"
      },
      "source": [
        ""
      ],
      "execution_count": null,
      "outputs": []
    },
    {
      "cell_type": "markdown",
      "metadata": {
        "id": "VX0uwJyoCFe7"
      },
      "source": [
        "# Complex Numbers"
      ]
    },
    {
      "cell_type": "code",
      "metadata": {
        "colab": {
          "base_uri": "https://localhost:8080/"
        },
        "id": "DHK1Q5VnFEHo",
        "outputId": "aa1b12ba-0195-46e6-fc80-dacc3fd68de3"
      },
      "source": [
        "a = 1+2j\n",
        "b = complex(1,2)\n",
        "print(a)\n",
        "print(b)\n",
        "print(a == b)"
      ],
      "execution_count": 5,
      "outputs": [
        {
          "output_type": "stream",
          "name": "stdout",
          "text": [
            "(1+2j)\n",
            "(1+2j)\n",
            "True\n"
          ]
        }
      ]
    },
    {
      "cell_type": "code",
      "metadata": {
        "colab": {
          "base_uri": "https://localhost:8080/"
        },
        "id": "e-qb-003Fm2a",
        "outputId": "ac430843-de4e-4c70-e732-36412d764b5f"
      },
      "source": [
        "print(a.imag, type(a.imag))\n",
        "print(a.conjugate())"
      ],
      "execution_count": 7,
      "outputs": [
        {
          "output_type": "stream",
          "name": "stdout",
          "text": [
            "2.0 <class 'float'>\n",
            "(1-2j)\n"
          ]
        }
      ]
    },
    {
      "cell_type": "code",
      "metadata": {
        "colab": {
          "base_uri": "https://localhost:8080/"
        },
        "id": "AvuAbaZjGAME",
        "outputId": "61c1ddca-4b2c-4f06-e76a-fa4997d5fe86"
      },
      "source": [
        "a = 1 + 2j\n",
        "b = 3 - 4j\n",
        "d = 10\n",
        "c = 5j\n",
        "print(a+b+c+d)\n",
        "print(b*c)\n",
        "print(a/b)"
      ],
      "execution_count": 8,
      "outputs": [
        {
          "output_type": "stream",
          "name": "stdout",
          "text": [
            "(14+3j)\n",
            "(20+15j)\n",
            "(-0.2+0.4j)\n"
          ]
        }
      ]
    },
    {
      "cell_type": "code",
      "metadata": {
        "colab": {
          "base_uri": "https://localhost:8080/"
        },
        "id": "FLK3seCWGRsm",
        "outputId": "7a6088d4-c0a6-4ead-9494-562c3caeaa9d"
      },
      "source": [
        "a = 0.1 + 0.1j\n",
        "0.3 + 0.3j == a + a + a"
      ],
      "execution_count": 9,
      "outputs": [
        {
          "output_type": "execute_result",
          "data": {
            "text/plain": [
              "False"
            ]
          },
          "metadata": {},
          "execution_count": 9
        }
      ]
    },
    {
      "cell_type": "code",
      "metadata": {
        "colab": {
          "base_uri": "https://localhost:8080/",
          "height": 164
        },
        "id": "M88kPe1HGkBZ",
        "outputId": "c9737268-827c-4ec9-a1ed-82f4dc049d5c"
      },
      "source": [
        "print(a//b)\n"
      ],
      "execution_count": 12,
      "outputs": [
        {
          "output_type": "error",
          "ename": "TypeError",
          "evalue": "ignored",
          "traceback": [
            "\u001b[0;31m---------------------------------------------------------------------------\u001b[0m",
            "\u001b[0;31mTypeError\u001b[0m                                 Traceback (most recent call last)",
            "\u001b[0;32m<ipython-input-12-1133a5709cb6>\u001b[0m in \u001b[0;36m<module>\u001b[0;34m()\u001b[0m\n\u001b[0;32m----> 1\u001b[0;31m \u001b[0mprint\u001b[0m\u001b[0;34m(\u001b[0m\u001b[0ma\u001b[0m\u001b[0;34m//\u001b[0m\u001b[0mb\u001b[0m\u001b[0;34m)\u001b[0m\u001b[0;34m\u001b[0m\u001b[0;34m\u001b[0m\u001b[0m\n\u001b[0m",
            "\u001b[0;31mTypeError\u001b[0m: can't take floor of complex number."
          ]
        }
      ]
    },
    {
      "cell_type": "code",
      "metadata": {
        "colab": {
          "base_uri": "https://localhost:8080/",
          "height": 164
        },
        "id": "BjCTbIHMGp9_",
        "outputId": "16a1de6d-0f12-4f37-fb27-a5b771432fd5"
      },
      "source": [
        "print(a%b)"
      ],
      "execution_count": 13,
      "outputs": [
        {
          "output_type": "error",
          "ename": "TypeError",
          "evalue": "ignored",
          "traceback": [
            "\u001b[0;31m---------------------------------------------------------------------------\u001b[0m",
            "\u001b[0;31mTypeError\u001b[0m                                 Traceback (most recent call last)",
            "\u001b[0;32m<ipython-input-13-95807d6dc8a5>\u001b[0m in \u001b[0;36m<module>\u001b[0;34m()\u001b[0m\n\u001b[0;32m----> 1\u001b[0;31m \u001b[0mprint\u001b[0m\u001b[0;34m(\u001b[0m\u001b[0ma\u001b[0m\u001b[0;34m%\u001b[0m\u001b[0mb\u001b[0m\u001b[0;34m)\u001b[0m\u001b[0;34m\u001b[0m\u001b[0;34m\u001b[0m\u001b[0m\n\u001b[0m",
            "\u001b[0;31mTypeError\u001b[0m: can't mod complex numbers."
          ]
        }
      ]
    },
    {
      "cell_type": "code",
      "metadata": {
        "colab": {
          "base_uri": "https://localhost:8080/",
          "height": 215
        },
        "id": "6YONwgmrGWrp",
        "outputId": "3a665a5a-c572-4333-9515-48015266130e"
      },
      "source": [
        "import cmath\n",
        "import math\n",
        "a = 2+5j\n",
        "print(cmath.sqrt(a))\n",
        "print(math.sqrt(a))"
      ],
      "execution_count": 15,
      "outputs": [
        {
          "output_type": "stream",
          "name": "stdout",
          "text": [
            "(1.921609326467597+1.3009928530039094j)\n"
          ]
        },
        {
          "output_type": "error",
          "ename": "TypeError",
          "evalue": "ignored",
          "traceback": [
            "\u001b[0;31m---------------------------------------------------------------------------\u001b[0m",
            "\u001b[0;31mTypeError\u001b[0m                                 Traceback (most recent call last)",
            "\u001b[0;32m<ipython-input-15-ef7a42f81338>\u001b[0m in \u001b[0;36m<module>\u001b[0;34m()\u001b[0m\n\u001b[1;32m      3\u001b[0m \u001b[0ma\u001b[0m \u001b[0;34m=\u001b[0m \u001b[0;36m2\u001b[0m\u001b[0;34m+\u001b[0m\u001b[0;36m5j\u001b[0m\u001b[0;34m\u001b[0m\u001b[0;34m\u001b[0m\u001b[0m\n\u001b[1;32m      4\u001b[0m \u001b[0mprint\u001b[0m\u001b[0;34m(\u001b[0m\u001b[0mcmath\u001b[0m\u001b[0;34m.\u001b[0m\u001b[0msqrt\u001b[0m\u001b[0;34m(\u001b[0m\u001b[0ma\u001b[0m\u001b[0;34m)\u001b[0m\u001b[0;34m)\u001b[0m\u001b[0;34m\u001b[0m\u001b[0;34m\u001b[0m\u001b[0m\n\u001b[0;32m----> 5\u001b[0;31m \u001b[0mprint\u001b[0m\u001b[0;34m(\u001b[0m\u001b[0mmath\u001b[0m\u001b[0;34m.\u001b[0m\u001b[0msqrt\u001b[0m\u001b[0;34m(\u001b[0m\u001b[0ma\u001b[0m\u001b[0;34m)\u001b[0m\u001b[0;34m)\u001b[0m\u001b[0;34m\u001b[0m\u001b[0;34m\u001b[0m\u001b[0m\n\u001b[0m",
            "\u001b[0;31mTypeError\u001b[0m: can't convert complex to float"
          ]
        }
      ]
    },
    {
      "cell_type": "markdown",
      "metadata": {
        "id": "NuhRw5VfCCO-"
      },
      "source": [
        "# Booleans\n",
        "\n",
        "0. Chained Comparison\n",
        "1. Opertor Precedence\n",
        "\n",
        "  ()\n",
        "\n",
        "  < > <= >= == != in is\n",
        "\n",
        "  not\n",
        "\n",
        "  and\n",
        "\n",
        "  or\n",
        "\n",
        "2. Short Circuiting\n"
      ]
    },
    {
      "cell_type": "markdown",
      "metadata": {
        "id": "D5iEtvonQAMm"
      },
      "source": [
        "### Chained comparison"
      ]
    },
    {
      "cell_type": "code",
      "metadata": {
        "colab": {
          "base_uri": "https://localhost:8080/"
        },
        "id": "ycgvYmm4CDNq",
        "outputId": "61cc9371-cd65-4d61-a576-01c8d1f6cad8"
      },
      "source": [
        "## chained comparison, \n",
        "1 == 2 == False # 1==2 AND 2 == FALSE"
      ],
      "execution_count": 17,
      "outputs": [
        {
          "output_type": "execute_result",
          "data": {
            "text/plain": [
              "False"
            ]
          },
          "metadata": {},
          "execution_count": 17
        }
      ]
    },
    {
      "cell_type": "code",
      "metadata": {
        "colab": {
          "base_uri": "https://localhost:8080/"
        },
        "id": "dYZtF-L7HEAX",
        "outputId": "094f9979-e5ba-41b4-f1ab-d01aae52c835"
      },
      "source": [
        "(1 == 2) == False"
      ],
      "execution_count": 19,
      "outputs": [
        {
          "output_type": "execute_result",
          "data": {
            "text/plain": [
              "True"
            ]
          },
          "metadata": {},
          "execution_count": 19
        }
      ]
    },
    {
      "cell_type": "code",
      "metadata": {
        "colab": {
          "base_uri": "https://localhost:8080/"
        },
        "id": "Y6GD_InSQJ-b",
        "outputId": "39616f36-1af0-4984-92bc-2713139fdac0"
      },
      "source": [
        "1 < 2 < 3"
      ],
      "execution_count": 41,
      "outputs": [
        {
          "output_type": "execute_result",
          "data": {
            "text/plain": [
              "True"
            ]
          },
          "metadata": {},
          "execution_count": 41
        }
      ]
    },
    {
      "cell_type": "code",
      "metadata": {
        "colab": {
          "base_uri": "https://localhost:8080/"
        },
        "id": "ti6at0zeHPaZ",
        "outputId": "32f68f04-2ade-4220-b4ef-80a8f4339a51"
      },
      "source": [
        "# results in tuples\n",
        "1 == 2, 2 == False, 1 == 2 and 2 == False, 1 == 2 == True, (1 == 2) == True"
      ],
      "execution_count": 21,
      "outputs": [
        {
          "output_type": "execute_result",
          "data": {
            "text/plain": [
              "(False, False, False, False, False)"
            ]
          },
          "metadata": {},
          "execution_count": 21
        }
      ]
    },
    {
      "cell_type": "code",
      "metadata": {
        "colab": {
          "base_uri": "https://localhost:8080/"
        },
        "id": "e0i48eYZHXZ_",
        "outputId": "be9dd4c8-51bc-4169-f458-81640586dae1"
      },
      "source": [
        "[] == False"
      ],
      "execution_count": 22,
      "outputs": [
        {
          "output_type": "execute_result",
          "data": {
            "text/plain": [
              "False"
            ]
          },
          "metadata": {},
          "execution_count": 22
        }
      ]
    },
    {
      "cell_type": "code",
      "metadata": {
        "colab": {
          "base_uri": "https://localhost:8080/"
        },
        "id": "06N2xmaJHjTu",
        "outputId": "59ba34a2-4ce6-43f5-a11c-a59da70268a3"
      },
      "source": [
        "bool(1), bool(0), bool(-100), bool(-123.123)"
      ],
      "execution_count": 23,
      "outputs": [
        {
          "output_type": "execute_result",
          "data": {
            "text/plain": [
              "(True, False, True, True)"
            ]
          },
          "metadata": {},
          "execution_count": 23
        }
      ]
    },
    {
      "cell_type": "code",
      "metadata": {
        "colab": {
          "base_uri": "https://localhost:8080/"
        },
        "id": "4Ve4uX-yHs0W",
        "outputId": "bba770db-f0bd-4b70-8eff-af074cf25dec"
      },
      "source": [
        "(100).__bool__()"
      ],
      "execution_count": 24,
      "outputs": [
        {
          "output_type": "execute_result",
          "data": {
            "text/plain": [
              "True"
            ]
          },
          "metadata": {},
          "execution_count": 24
        }
      ]
    },
    {
      "cell_type": "code",
      "metadata": {
        "colab": {
          "base_uri": "https://localhost:8080/"
        },
        "id": "1qUC1SF6H2B7",
        "outputId": "2dca9972-25d3-437a-9680-b83f6fc093d1"
      },
      "source": [
        "# sequence types\n",
        "bool([]), bool(()), bool(\"\"), bool([1, 2, 3]), bool((1,2)), bool(\"123\")"
      ],
      "execution_count": 25,
      "outputs": [
        {
          "output_type": "execute_result",
          "data": {
            "text/plain": [
              "(False, False, False, True, True, True)"
            ]
          },
          "metadata": {},
          "execution_count": 25
        }
      ]
    },
    {
      "cell_type": "code",
      "metadata": {
        "colab": {
          "base_uri": "https://localhost:8080/"
        },
        "id": "CHq-b8djNRUm",
        "outputId": "1f13ca7d-5907-4293-c757-ecca16dad2b0"
      },
      "source": [
        "bool({}), bool({a: 1, 'b': 2, 'c': 'rohan'})"
      ],
      "execution_count": 26,
      "outputs": [
        {
          "output_type": "execute_result",
          "data": {
            "text/plain": [
              "(False, True)"
            ]
          },
          "metadata": {},
          "execution_count": 26
        }
      ]
    },
    {
      "cell_type": "code",
      "metadata": {
        "colab": {
          "base_uri": "https://localhost:8080/"
        },
        "id": "V2-snVDTNWJf",
        "outputId": "53110675-6433-4ca7-b947-fcc51203fa4f"
      },
      "source": [
        "bool(None)"
      ],
      "execution_count": 27,
      "outputs": [
        {
          "output_type": "execute_result",
          "data": {
            "text/plain": [
              "False"
            ]
          },
          "metadata": {},
          "execution_count": 27
        }
      ]
    },
    {
      "cell_type": "markdown",
      "metadata": {
        "id": "c1wn5JykOKOB"
      },
      "source": [
        "### Opertor Precedence"
      ]
    },
    {
      "cell_type": "code",
      "metadata": {
        "colab": {
          "base_uri": "https://localhost:8080/"
        },
        "id": "dtvSnnIjNXdf",
        "outputId": "d6ae354a-13b3-41d6-ff05-4cb28181f001"
      },
      "source": [
        "True or True and False"
      ],
      "execution_count": 28,
      "outputs": [
        {
          "output_type": "execute_result",
          "data": {
            "text/plain": [
              "True"
            ]
          },
          "metadata": {},
          "execution_count": 28
        }
      ]
    },
    {
      "cell_type": "code",
      "metadata": {
        "colab": {
          "base_uri": "https://localhost:8080/"
        },
        "id": "i0g1H70cOMu6",
        "outputId": "a23d1173-637a-46a2-e06e-1d73b67b963a"
      },
      "source": [
        "True or (True and False)"
      ],
      "execution_count": 29,
      "outputs": [
        {
          "output_type": "execute_result",
          "data": {
            "text/plain": [
              "True"
            ]
          },
          "metadata": {},
          "execution_count": 29
        }
      ]
    },
    {
      "cell_type": "markdown",
      "metadata": {
        "id": "8hvgd6ygO24j"
      },
      "source": [
        "## Short Circuiting\n",
        "\n",
        "X or Y: if X is falsy, return Y, else it is going to return X"
      ]
    },
    {
      "cell_type": "code",
      "metadata": {
        "colab": {
          "base_uri": "https://localhost:8080/",
          "height": 35
        },
        "id": "QnyFjzc0OQUe",
        "outputId": "52e6ce2f-b3d9-48bc-e5a1-5dd2511f5d82"
      },
      "source": [
        "'this' or 'that'"
      ],
      "execution_count": 30,
      "outputs": [
        {
          "output_type": "execute_result",
          "data": {
            "application/vnd.google.colaboratory.intrinsic+json": {
              "type": "string"
            },
            "text/plain": [
              "'this'"
            ]
          },
          "metadata": {},
          "execution_count": 30
        }
      ]
    },
    {
      "cell_type": "code",
      "metadata": {
        "colab": {
          "base_uri": "https://localhost:8080/"
        },
        "id": "an94AzU7PDHk",
        "outputId": "f668c8ba-5b39-4be1-eaae-86cb51c81a9d"
      },
      "source": [
        "0 or 100"
      ],
      "execution_count": 31,
      "outputs": [
        {
          "output_type": "execute_result",
          "data": {
            "text/plain": [
              "100"
            ]
          },
          "metadata": {},
          "execution_count": 31
        }
      ]
    },
    {
      "cell_type": "code",
      "metadata": {
        "colab": {
          "base_uri": "https://localhost:8080/"
        },
        "id": "UXxK6cAYPFsy",
        "outputId": "eee4bd58-f0e9-4a5b-faf6-3bf03b593dd0"
      },
      "source": [
        "10 or 100"
      ],
      "execution_count": 32,
      "outputs": [
        {
          "output_type": "execute_result",
          "data": {
            "text/plain": [
              "10"
            ]
          },
          "metadata": {},
          "execution_count": 32
        }
      ]
    },
    {
      "cell_type": "code",
      "metadata": {
        "colab": {
          "base_uri": "https://localhost:8080/"
        },
        "id": "dbiSg6aXPHpb",
        "outputId": "1352172d-e0ce-4ea7-cdd5-378d26b51c05"
      },
      "source": [
        "[] or [1, 2, 3]"
      ],
      "execution_count": 33,
      "outputs": [
        {
          "output_type": "execute_result",
          "data": {
            "text/plain": [
              "[1, 2, 3]"
            ]
          },
          "metadata": {},
          "execution_count": 33
        }
      ]
    },
    {
      "cell_type": "code",
      "metadata": {
        "colab": {
          "base_uri": "https://localhost:8080/"
        },
        "id": "9U_yarTjPLge",
        "outputId": "39af6266-3849-453b-95b3-51e5ad42dbaf"
      },
      "source": [
        "[1,2] or [1,2,3]"
      ],
      "execution_count": 34,
      "outputs": [
        {
          "output_type": "execute_result",
          "data": {
            "text/plain": [
              "[1, 2]"
            ]
          },
          "metadata": {},
          "execution_count": 34
        }
      ]
    },
    {
      "cell_type": "markdown",
      "metadata": {
        "id": "sMCzWMQZPgYR"
      },
      "source": [
        "### Comparison Operators"
      ]
    },
    {
      "cell_type": "code",
      "metadata": {
        "colab": {
          "base_uri": "https://localhost:8080/"
        },
        "id": "xVZ4yCs4PWAf",
        "outputId": "75b603c4-e409-4a35-a339-1c36c0240a33"
      },
      "source": [
        "0.1 is 2+3j"
      ],
      "execution_count": 36,
      "outputs": [
        {
          "output_type": "execute_result",
          "data": {
            "text/plain": [
              "False"
            ]
          },
          "metadata": {},
          "execution_count": 36
        }
      ]
    },
    {
      "cell_type": "code",
      "metadata": {
        "colab": {
          "base_uri": "https://localhost:8080/"
        },
        "id": "CV3G_GDlPmkR",
        "outputId": "4182e621-6b35-42e2-8ab6-da0e07f5b00c"
      },
      "source": [
        "1 in [1, 2, 3]"
      ],
      "execution_count": 37,
      "outputs": [
        {
          "output_type": "execute_result",
          "data": {
            "text/plain": [
              "True"
            ]
          },
          "metadata": {},
          "execution_count": 37
        }
      ]
    },
    {
      "cell_type": "code",
      "metadata": {
        "colab": {
          "base_uri": "https://localhost:8080/"
        },
        "id": "vCAnz213Pun9",
        "outputId": "016c0308-46f0-4d67-de40-fc4cc33050e8"
      },
      "source": [
        "[1] in [1,2, 3]"
      ],
      "execution_count": 38,
      "outputs": [
        {
          "output_type": "execute_result",
          "data": {
            "text/plain": [
              "False"
            ]
          },
          "metadata": {},
          "execution_count": 38
        }
      ]
    },
    {
      "cell_type": "code",
      "metadata": {
        "colab": {
          "base_uri": "https://localhost:8080/"
        },
        "id": "9mKV6NI8Pw3e",
        "outputId": "0761cdb1-6fbb-485e-f00b-b6ed24f667f2"
      },
      "source": [
        "[1, 2] in [1, 2, 3]"
      ],
      "execution_count": 39,
      "outputs": [
        {
          "output_type": "execute_result",
          "data": {
            "text/plain": [
              "False"
            ]
          },
          "metadata": {},
          "execution_count": 39
        }
      ]
    },
    {
      "cell_type": "code",
      "metadata": {
        "colab": {
          "base_uri": "https://localhost:8080/"
        },
        "id": "oW630h49PzEE",
        "outputId": "dcaedbe2-b3ef-4a3a-fab5-21e6fbc70167"
      },
      "source": [
        "[1, 2] in [ [1, 2], 2, 3]"
      ],
      "execution_count": 40,
      "outputs": [
        {
          "output_type": "execute_result",
          "data": {
            "text/plain": [
              "True"
            ]
          },
          "metadata": {},
          "execution_count": 40
        }
      ]
    },
    {
      "cell_type": "markdown",
      "metadata": {
        "id": "dy4URAWRSyPH"
      },
      "source": [
        "# Unpacking Iterables"
      ]
    },
    {
      "cell_type": "markdown",
      "metadata": {
        "id": "7ebkHQa6TA-R"
      },
      "source": [
        "Comma makes it a tuple."
      ]
    },
    {
      "cell_type": "code",
      "metadata": {
        "colab": {
          "base_uri": "https://localhost:8080/"
        },
        "id": "ohLf_mopP2LU",
        "outputId": "c298a8c9-2a00-4cd8-cfd8-d216aa2b8695"
      },
      "source": [
        "a = (1, 2, 3)\n",
        "type(a)"
      ],
      "execution_count": 42,
      "outputs": [
        {
          "output_type": "execute_result",
          "data": {
            "text/plain": [
              "tuple"
            ]
          },
          "metadata": {},
          "execution_count": 42
        }
      ]
    },
    {
      "cell_type": "code",
      "metadata": {
        "colab": {
          "base_uri": "https://localhost:8080/"
        },
        "id": "zkeF-P4uS5Gw",
        "outputId": "8b62ea5e-d7db-4cbf-c617-75f9ae49809b"
      },
      "source": [
        "a= 1, 2, 3\n",
        "type(a)"
      ],
      "execution_count": 43,
      "outputs": [
        {
          "output_type": "execute_result",
          "data": {
            "text/plain": [
              "tuple"
            ]
          },
          "metadata": {},
          "execution_count": 43
        }
      ]
    },
    {
      "cell_type": "code",
      "metadata": {
        "colab": {
          "base_uri": "https://localhost:8080/"
        },
        "id": "Nfyba1qRS7jY",
        "outputId": "1eb3c78e-67f2-428e-cc12-8bce7e446997"
      },
      "source": [
        "a = (1)\n",
        "type(a)"
      ],
      "execution_count": 44,
      "outputs": [
        {
          "output_type": "execute_result",
          "data": {
            "text/plain": [
              "int"
            ]
          },
          "metadata": {},
          "execution_count": 44
        }
      ]
    },
    {
      "cell_type": "code",
      "metadata": {
        "colab": {
          "base_uri": "https://localhost:8080/"
        },
        "id": "1bWfyriqTNuZ",
        "outputId": "ca395528-a987-4a57-e6b4-b7f1079d5cf5"
      },
      "source": [
        "a = ()\n",
        "type(a)"
      ],
      "execution_count": 45,
      "outputs": [
        {
          "output_type": "execute_result",
          "data": {
            "text/plain": [
              "tuple"
            ]
          },
          "metadata": {},
          "execution_count": 45
        }
      ]
    },
    {
      "cell_type": "code",
      "metadata": {
        "colab": {
          "base_uri": "https://localhost:8080/"
        },
        "id": "8g5GLM1LTT2r",
        "outputId": "3f9ea851-82e2-44c6-c880-5771b1ddc3c6"
      },
      "source": [
        "list1 = [1, 2, 3, 4]\n",
        "\n",
        "a, b, c, d = list1\n",
        "print(a, b, c, d)"
      ],
      "execution_count": 46,
      "outputs": [
        {
          "output_type": "stream",
          "name": "stdout",
          "text": [
            "1 2 3 4\n"
          ]
        }
      ]
    },
    {
      "cell_type": "code",
      "metadata": {
        "colab": {
          "base_uri": "https://localhost:8080/"
        },
        "id": "1aOFCL2QTmyu",
        "outputId": "308e1cbd-f53d-43c0-9137-4ec626cd0045"
      },
      "source": [
        "a, b, c = 'xyz'\n",
        "print(a, b, c)"
      ],
      "execution_count": 47,
      "outputs": [
        {
          "output_type": "stream",
          "name": "stdout",
          "text": [
            "x y z\n"
          ]
        }
      ]
    },
    {
      "cell_type": "code",
      "metadata": {
        "colab": {
          "base_uri": "https://localhost:8080/",
          "height": 181
        },
        "id": "9RkRFCtET8b1",
        "outputId": "5227657b-a108-4b59-ddb1-5123b5080793"
      },
      "source": [
        "a, b, c = 'rstuvw'\n",
        "print(a, b, c)"
      ],
      "execution_count": 48,
      "outputs": [
        {
          "output_type": "error",
          "ename": "ValueError",
          "evalue": "ignored",
          "traceback": [
            "\u001b[0;31m---------------------------------------------------------------------------\u001b[0m",
            "\u001b[0;31mValueError\u001b[0m                                Traceback (most recent call last)",
            "\u001b[0;32m<ipython-input-48-4d5ae15e8a56>\u001b[0m in \u001b[0;36m<module>\u001b[0;34m()\u001b[0m\n\u001b[0;32m----> 1\u001b[0;31m \u001b[0ma\u001b[0m\u001b[0;34m,\u001b[0m \u001b[0mb\u001b[0m\u001b[0;34m,\u001b[0m \u001b[0mc\u001b[0m \u001b[0;34m=\u001b[0m \u001b[0;34m'rstuvw'\u001b[0m\u001b[0;34m\u001b[0m\u001b[0;34m\u001b[0m\u001b[0m\n\u001b[0m\u001b[1;32m      2\u001b[0m \u001b[0mprint\u001b[0m\u001b[0;34m(\u001b[0m\u001b[0ma\u001b[0m\u001b[0;34m,\u001b[0m \u001b[0mb\u001b[0m\u001b[0;34m,\u001b[0m \u001b[0mc\u001b[0m\u001b[0;34m)\u001b[0m\u001b[0;34m\u001b[0m\u001b[0;34m\u001b[0m\u001b[0m\n",
            "\u001b[0;31mValueError\u001b[0m: too many values to unpack (expected 3)"
          ]
        }
      ]
    },
    {
      "cell_type": "markdown",
      "metadata": {
        "id": "N6wUNBnIUEVO"
      },
      "source": [
        "Swap variables, without any temporary variables"
      ]
    },
    {
      "cell_type": "code",
      "metadata": {
        "colab": {
          "base_uri": "https://localhost:8080/"
        },
        "id": "woHAzbwaUAaq",
        "outputId": "69fda574-1890-4e31-9189-99ea86297e98"
      },
      "source": [
        "a = 10\n",
        "b = 25\n",
        "a, b = b, a\n",
        "print(a, b)"
      ],
      "execution_count": 49,
      "outputs": [
        {
          "output_type": "stream",
          "name": "stdout",
          "text": [
            "25 10\n"
          ]
        }
      ]
    },
    {
      "cell_type": "code",
      "metadata": {
        "colab": {
          "base_uri": "https://localhost:8080/"
        },
        "id": "XXphixCdUNEe",
        "outputId": "cec3938b-0137-4864-eeb3-f457ff0ab6ab"
      },
      "source": [
        "dict1 = { 1: 'a1', 2: 'b1', 3: 'c1'}\n",
        "a, b, c = dict1\n",
        "print(a, b, c)"
      ],
      "execution_count": 51,
      "outputs": [
        {
          "output_type": "stream",
          "name": "stdout",
          "text": [
            "1 2 3\n"
          ]
        }
      ]
    },
    {
      "cell_type": "markdown",
      "metadata": {
        "id": "CySfskb2UwA5"
      },
      "source": [
        "## Extended Unpacking"
      ]
    },
    {
      "cell_type": "code",
      "metadata": {
        "colab": {
          "base_uri": "https://localhost:8080/"
        },
        "id": "j9VWM8joUohk",
        "outputId": "ee7c2fdf-c5bf-4301-df9c-e9a53b94b406"
      },
      "source": [
        "a, *b = [1, 2, 3, 4, 5,6]\n",
        "print(a, b)"
      ],
      "execution_count": 52,
      "outputs": [
        {
          "output_type": "stream",
          "name": "stdout",
          "text": [
            "1 [2, 3, 4, 5, 6]\n"
          ]
        }
      ]
    },
    {
      "cell_type": "code",
      "metadata": {
        "colab": {
          "base_uri": "https://localhost:8080/"
        },
        "id": "2Qo6r4OlU3je",
        "outputId": "d6b1fbe7-3262-46ff-805a-a87ab5a95f20"
      },
      "source": [
        "a, *b = -10, 2, 3, 4, 5\n",
        "print(a, b)"
      ],
      "execution_count": 53,
      "outputs": [
        {
          "output_type": "stream",
          "name": "stdout",
          "text": [
            "-10 [2, 3, 4, 5]\n"
          ]
        }
      ]
    },
    {
      "cell_type": "code",
      "metadata": {
        "colab": {
          "base_uri": "https://localhost:8080/"
        },
        "id": "N8kIf6MdVAEr",
        "outputId": "608fa5a2-f6d6-4b0a-b58e-2720cdb983cf"
      },
      "source": [
        "a, b, c, d, *e = -10, 2, 3, 4\n",
        "print(e)"
      ],
      "execution_count": 54,
      "outputs": [
        {
          "output_type": "stream",
          "name": "stdout",
          "text": [
            "[]\n"
          ]
        }
      ]
    },
    {
      "cell_type": "code",
      "metadata": {
        "colab": {
          "base_uri": "https://localhost:8080/"
        },
        "id": "eO76V_0FVIux",
        "outputId": "6e9de3ee-3929-44a8-aaff-f0fc89812116"
      },
      "source": [
        "list1 = [1, 2,3]\n",
        "list2 = [4, 5, 6]\n",
        "\n",
        "new_list = [*list1, *list2]\n",
        "print(new_list)\n",
        "         "
      ],
      "execution_count": 55,
      "outputs": [
        {
          "output_type": "stream",
          "name": "stdout",
          "text": [
            "[1, 2, 3, 4, 5, 6]\n"
          ]
        }
      ]
    },
    {
      "cell_type": "code",
      "metadata": {
        "colab": {
          "base_uri": "https://localhost:8080/"
        },
        "id": "jbUk06qzVlFw",
        "outputId": "d918421a-f4ff-4f7a-f237-12f3a514dd4a"
      },
      "source": [
        "list1 = [1, 2, 3]\n",
        "s = \"XYZ\"\n",
        "print([*list1, *s])"
      ],
      "execution_count": 56,
      "outputs": [
        {
          "output_type": "stream",
          "name": "stdout",
          "text": [
            "[1, 2, 3, 'X', 'Y', 'Z']\n"
          ]
        }
      ]
    },
    {
      "cell_type": "code",
      "metadata": {
        "colab": {
          "base_uri": "https://localhost:8080/"
        },
        "id": "DnvGIbu4VyXb",
        "outputId": "b293716d-3312-459e-bef0-d9fa6c0ff23b"
      },
      "source": [
        "dict1 = { 1: 'a', 2: 'b', 3: 'c'}\n",
        "print(dict1)"
      ],
      "execution_count": 57,
      "outputs": [
        {
          "output_type": "stream",
          "name": "stdout",
          "text": [
            "{1: 'a', 2: 'b', 3: 'c'}\n"
          ]
        }
      ]
    },
    {
      "cell_type": "code",
      "metadata": {
        "colab": {
          "base_uri": "https://localhost:8080/"
        },
        "id": "wW59lMTsnmjr",
        "outputId": "ff0cbd46-fdd3-43d1-808b-755113b2550a"
      },
      "source": [
        "for k in dict1: # iterate over keys\n",
        "  print(k)"
      ],
      "execution_count": 59,
      "outputs": [
        {
          "output_type": "stream",
          "name": "stdout",
          "text": [
            "1\n",
            "2\n",
            "3\n"
          ]
        }
      ]
    },
    {
      "cell_type": "code",
      "metadata": {
        "colab": {
          "base_uri": "https://localhost:8080/"
        },
        "id": "7Jf4UnIanqrC",
        "outputId": "b5d63a85-33a6-4852-936e-be891eb900b4"
      },
      "source": [
        "a, b, c = dict1\n",
        "print(a, b, c)"
      ],
      "execution_count": 61,
      "outputs": [
        {
          "output_type": "stream",
          "name": "stdout",
          "text": [
            "1 2 3\n"
          ]
        }
      ]
    },
    {
      "cell_type": "code",
      "metadata": {
        "colab": {
          "base_uri": "https://localhost:8080/"
        },
        "id": "RLx5tA7ynyKr",
        "outputId": "7df2bdc0-3a0a-427e-b8d0-a9c965e78788"
      },
      "source": [
        "d1 = { 'key1': 'Tesla', 'key2': '50B', 'key3': '1B'}\n",
        "d2 = { 'key1': 'Google', 'key2': '55B', 'key3': '5B'}\n",
        "\n",
        "{ * d1, *d2}"
      ],
      "execution_count": 62,
      "outputs": [
        {
          "output_type": "execute_result",
          "data": {
            "text/plain": [
              "{'key1', 'key2', 'key3'}"
            ]
          },
          "metadata": {},
          "execution_count": 62
        }
      ]
    },
    {
      "cell_type": "code",
      "metadata": {
        "colab": {
          "base_uri": "https://localhost:8080/"
        },
        "id": "5xqGtKSfouXQ",
        "outputId": "ec0805de-62fb-4ea1-f5ff-db3a56aaff28"
      },
      "source": [
        "[ *d1, *d2]"
      ],
      "execution_count": 63,
      "outputs": [
        {
          "output_type": "execute_result",
          "data": {
            "text/plain": [
              "['key1', 'key2', 'key3', 'key1', 'key2', 'key3']"
            ]
          },
          "metadata": {},
          "execution_count": 63
        }
      ]
    },
    {
      "cell_type": "code",
      "metadata": {
        "colab": {
          "base_uri": "https://localhost:8080/"
        },
        "id": "G30iVp9JowoQ",
        "outputId": "7759d593-6a89-4ec8-d261-037e2c7629dc"
      },
      "source": [
        "{ **d1, **d2}"
      ],
      "execution_count": 64,
      "outputs": [
        {
          "output_type": "execute_result",
          "data": {
            "text/plain": [
              "{'key1': 'Google', 'key2': '55B', 'key3': '5B'}"
            ]
          },
          "metadata": {},
          "execution_count": 64
        }
      ]
    },
    {
      "cell_type": "code",
      "metadata": {
        "colab": {
          "base_uri": "https://localhost:8080/"
        },
        "id": "cM-RcRr8ozn8",
        "outputId": "d288258f-afc0-441b-a897-967ed93a80a7"
      },
      "source": [
        "{ **d2, **d1}"
      ],
      "execution_count": 65,
      "outputs": [
        {
          "output_type": "execute_result",
          "data": {
            "text/plain": [
              "{'key1': 'Tesla', 'key2': '50B', 'key3': '1B'}"
            ]
          },
          "metadata": {},
          "execution_count": 65
        }
      ]
    },
    {
      "cell_type": "code",
      "metadata": {
        "colab": {
          "base_uri": "https://localhost:8080/"
        },
        "id": "xNcVGsDwo3yq",
        "outputId": "2a4a0316-0012-4be0-f2c1-83edbc0dea1c"
      },
      "source": [
        "a, b, (*c, c1, c2, c3, c4, c5,c6) = [1, 2, 'nikola tesla']\n",
        "c"
      ],
      "execution_count": 66,
      "outputs": [
        {
          "output_type": "execute_result",
          "data": {
            "text/plain": [
              "['n', 'i', 'k', 'o', 'l', 'a']"
            ]
          },
          "metadata": {},
          "execution_count": 66
        }
      ]
    },
    {
      "cell_type": "code",
      "metadata": {
        "colab": {
          "base_uri": "https://localhost:8080/"
        },
        "id": "U8jtLPRYpGSl",
        "outputId": "0289f7c1-c288-41cc-f82b-46aed4d5d0fb"
      },
      "source": [
        "a, b, *c = 10, 20, 30, 40\n",
        "c"
      ],
      "execution_count": 67,
      "outputs": [
        {
          "output_type": "execute_result",
          "data": {
            "text/plain": [
              "[30, 40]"
            ]
          },
          "metadata": {},
          "execution_count": 67
        }
      ]
    },
    {
      "cell_type": "markdown",
      "metadata": {
        "id": "JbR_4o9vpVMw"
      },
      "source": [
        "# Functional Arguments\n",
        "\n",
        "*args - positional arguments\n",
        "\n",
        "**kwargs - keyword arguments aka named argument"
      ]
    },
    {
      "cell_type": "code",
      "metadata": {
        "colab": {
          "base_uri": "https://localhost:8080/"
        },
        "id": "fktOiN-qpM1N",
        "outputId": "83391a35-0036-478f-f03b-1a575beb1c0a"
      },
      "source": [
        "def func1(a, b, *args):\n",
        "    print(args)\n",
        "\n",
        "func1(1, 2, 3, 4, 5, 6, 7, 8, 9)"
      ],
      "execution_count": 68,
      "outputs": [
        {
          "output_type": "stream",
          "name": "stdout",
          "text": [
            "(3, 4, 5, 6, 7, 8, 9)\n"
          ]
        }
      ]
    },
    {
      "cell_type": "code",
      "metadata": {
        "colab": {
          "base_uri": "https://localhost:8080/"
        },
        "id": "zXiHH03RpT-8",
        "outputId": "cd6af569-52e3-4703-f016-aeb5df35a0cb"
      },
      "source": [
        "def func1(a, b, *args, c):\n",
        "    print(args)\n",
        "\n",
        "func1(1, 2, 3, 4, 5, 6, 7, 8, 9, c = 10)"
      ],
      "execution_count": 69,
      "outputs": [
        {
          "output_type": "stream",
          "name": "stdout",
          "text": [
            "(3, 4, 5, 6, 7, 8, 9)\n"
          ]
        }
      ]
    },
    {
      "cell_type": "code",
      "metadata": {
        "colab": {
          "base_uri": "https://localhost:8080/"
        },
        "id": "hD1vbHO4pijH",
        "outputId": "430c7abf-250a-4369-e39b-16da5315c7f5"
      },
      "source": [
        "def func(*args, **kwargs):\n",
        "    print(args, kwargs)\n",
        "\n",
        "func(1, 2, 3, x=100, y=200, z=300)"
      ],
      "execution_count": 70,
      "outputs": [
        {
          "output_type": "stream",
          "name": "stdout",
          "text": [
            "(1, 2, 3) {'x': 100, 'y': 200, 'z': 300}\n"
          ]
        }
      ]
    },
    {
      "cell_type": "code",
      "metadata": {
        "colab": {
          "base_uri": "https://localhost:8080/"
        },
        "id": "CJjcoBAGrd01",
        "outputId": "96ff024f-705b-4998-ee12-94d63bc513c6"
      },
      "source": [
        "def func(a, b, *, c, d=4, **kwargs):\n",
        "    print(a, b, c, d, kwargs)\n",
        "\n",
        "func(1, 2, c = 45, e = 34)"
      ],
      "execution_count": 71,
      "outputs": [
        {
          "output_type": "stream",
          "name": "stdout",
          "text": [
            "1 2 45 4 {'e': 34}\n"
          ]
        }
      ]
    },
    {
      "cell_type": "code",
      "metadata": {
        "colab": {
          "base_uri": "https://localhost:8080/"
        },
        "id": "2hfxphw8rrmL",
        "outputId": "4eca77fa-6a41-4a83-af34-14099615af59"
      },
      "source": [
        "def func(*, a=1, b, c=2):\n",
        "    print(a, b, c)\n",
        "\n",
        "func(b = 34)"
      ],
      "execution_count": 72,
      "outputs": [
        {
          "output_type": "stream",
          "name": "stdout",
          "text": [
            "1 34 2\n"
          ]
        }
      ]
    },
    {
      "cell_type": "code",
      "metadata": {
        "colab": {
          "base_uri": "https://localhost:8080/"
        },
        "id": "SE9-SB76r2EI",
        "outputId": "3162ea76-cbe1-4686-9cda-8020e5b550f8"
      },
      "source": [
        "def func(a, b, *, c, d):\n",
        "    print(a, b, c, d)\n",
        "\n",
        "func(1, 2, c=3, d=4)"
      ],
      "execution_count": 73,
      "outputs": [
        {
          "output_type": "stream",
          "name": "stdout",
          "text": [
            "1 2 3 4\n"
          ]
        }
      ]
    },
    {
      "cell_type": "code",
      "metadata": {
        "colab": {
          "base_uri": "https://localhost:8080/"
        },
        "id": "arjs-v-Gr7wn",
        "outputId": "a7ce09dc-38b4-40cf-e564-11567f9136ab"
      },
      "source": [
        "def func(x, y, *, a, b):\n",
        "    print(x, y, a, b)\n",
        "\n",
        "func(23, 43, a = 53, b = 64)"
      ],
      "execution_count": 74,
      "outputs": [
        {
          "output_type": "stream",
          "name": "stdout",
          "text": [
            "23 43 53 64\n"
          ]
        }
      ]
    },
    {
      "cell_type": "code",
      "metadata": {
        "colab": {
          "base_uri": "https://localhost:8080/"
        },
        "id": "StbwNshrsFum",
        "outputId": "0a6f5fe4-50dd-4e56-e669-a403b1b98954"
      },
      "source": [
        "def func(a, b, *args):\n",
        "    print(a, b, args)\n",
        "    \n",
        "func(1, 2, 'x', 'y', 'z')"
      ],
      "execution_count": 75,
      "outputs": [
        {
          "output_type": "stream",
          "name": "stdout",
          "text": [
            "1 2 ('x', 'y', 'z')\n"
          ]
        }
      ]
    },
    {
      "cell_type": "code",
      "metadata": {
        "colab": {
          "base_uri": "https://localhost:8080/"
        },
        "id": "2F3yJuGosQp1",
        "outputId": "353d0a91-38cd-4d2d-c7d0-845727412b0d"
      },
      "source": [
        "def func(a, b, **kwargs):\n",
        "    print(a)\n",
        "    print(b)\n",
        "    print(kwargs)\n",
        "\n",
        "func(1, 2, x=100, y=200)"
      ],
      "execution_count": 76,
      "outputs": [
        {
          "output_type": "stream",
          "name": "stdout",
          "text": [
            "1\n",
            "2\n",
            "{'x': 100, 'y': 200}\n"
          ]
        }
      ]
    },
    {
      "cell_type": "code",
      "metadata": {
        "colab": {
          "base_uri": "https://localhost:8080/",
          "height": 198
        },
        "id": "CfZ-tbJqsfmz",
        "outputId": "993fde34-dcb6-49c1-a05c-c5f179ce7338"
      },
      "source": [
        "def func(**kwargs):\n",
        "    print(kwargs)\n",
        "\n",
        "func(1, 2, 3)"
      ],
      "execution_count": 77,
      "outputs": [
        {
          "output_type": "error",
          "ename": "TypeError",
          "evalue": "ignored",
          "traceback": [
            "\u001b[0;31m---------------------------------------------------------------------------\u001b[0m",
            "\u001b[0;31mTypeError\u001b[0m                                 Traceback (most recent call last)",
            "\u001b[0;32m<ipython-input-77-25fa90dcddc2>\u001b[0m in \u001b[0;36m<module>\u001b[0;34m()\u001b[0m\n\u001b[1;32m      2\u001b[0m     \u001b[0mprint\u001b[0m\u001b[0;34m(\u001b[0m\u001b[0mkwargs\u001b[0m\u001b[0;34m)\u001b[0m\u001b[0;34m\u001b[0m\u001b[0;34m\u001b[0m\u001b[0m\n\u001b[1;32m      3\u001b[0m \u001b[0;34m\u001b[0m\u001b[0m\n\u001b[0;32m----> 4\u001b[0;31m \u001b[0mfunc\u001b[0m\u001b[0;34m(\u001b[0m\u001b[0;36m1\u001b[0m\u001b[0;34m,\u001b[0m \u001b[0;36m2\u001b[0m\u001b[0;34m,\u001b[0m \u001b[0;36m3\u001b[0m\u001b[0;34m)\u001b[0m\u001b[0;34m\u001b[0m\u001b[0;34m\u001b[0m\u001b[0m\n\u001b[0m",
            "\u001b[0;31mTypeError\u001b[0m: func() takes 0 positional arguments but 3 were given"
          ]
        }
      ]
    },
    {
      "cell_type": "code",
      "metadata": {
        "colab": {
          "base_uri": "https://localhost:8080/"
        },
        "id": "nH7_e95Tsyrb",
        "outputId": "433b5201-8678-46ca-9939-b4f09f25f19e"
      },
      "source": [
        "def func(**kwargs):\n",
        "    print(kwargs)\n",
        "\n",
        "func(x = 10, y = 300, z = 450)"
      ],
      "execution_count": 78,
      "outputs": [
        {
          "output_type": "stream",
          "name": "stdout",
          "text": [
            "{'x': 10, 'y': 300, 'z': 450}\n"
          ]
        }
      ]
    },
    {
      "cell_type": "code",
      "metadata": {
        "colab": {
          "base_uri": "https://localhost:8080/"
        },
        "id": "kM447ivxs1vb",
        "outputId": "e32d9834-c159-43d4-f51c-7614b4a4c325"
      },
      "source": [
        "print(\"hello\", \"world\", 1, 2, 3, sep='___')"
      ],
      "execution_count": 79,
      "outputs": [
        {
          "output_type": "stream",
          "name": "stdout",
          "text": [
            "hello___world___1___2___3\n"
          ]
        }
      ]
    },
    {
      "cell_type": "code",
      "metadata": {
        "id": "oIIGiU6ltJHA"
      },
      "source": [
        ""
      ],
      "execution_count": null,
      "outputs": []
    }
  ]
}