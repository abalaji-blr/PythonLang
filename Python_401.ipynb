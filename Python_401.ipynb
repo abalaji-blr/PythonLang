{
  "nbformat": 4,
  "nbformat_minor": 0,
  "metadata": {
    "colab": {
      "name": "Python_401.ipynb",
      "provenance": [],
      "collapsed_sections": [],
      "authorship_tag": "ABX9TyO6xEToUJZMQ4emI/rmPBIT",
      "include_colab_link": true
    },
    "kernelspec": {
      "name": "python3",
      "display_name": "Python 3"
    },
    "language_info": {
      "name": "python"
    }
  },
  "cells": [
    {
      "cell_type": "markdown",
      "metadata": {
        "id": "view-in-github",
        "colab_type": "text"
      },
      "source": [
        "<a href=\"https://colab.research.google.com/github/abalaji-blr/PythonLang/blob/main/Python_401.ipynb\" target=\"_parent\"><img src=\"https://colab.research.google.com/assets/colab-badge.svg\" alt=\"Open In Colab\"/></a>"
      ]
    },
    {
      "cell_type": "markdown",
      "metadata": {
        "id": "Jjr3Bx6dJqEl"
      },
      "source": [
        "# Functions"
      ]
    },
    {
      "cell_type": "markdown",
      "metadata": {
        "id": "T8tUJRzEJ1G3"
      },
      "source": [
        "## Doc Strings and Annotations"
      ]
    },
    {
      "cell_type": "code",
      "metadata": {
        "id": "mWQvCfohJlcM"
      },
      "source": [
        "def fact(n):\n",
        "    '''\n",
        "        Calculates n! (factorial function)\n",
        "        Inputs:\n",
        "            n: non-negative interger\n",
        "        Returns: \n",
        "            the factorial of n\n",
        "    '''\n",
        "    if n < 0:\n",
        "        '''Note that this is not a part of the doctstring!'''\n",
        "        return 1\n",
        "    else:\n",
        "        return n * fact (n - 1)"
      ],
      "execution_count": 1,
      "outputs": []
    },
    {
      "cell_type": "code",
      "metadata": {
        "colab": {
          "base_uri": "https://localhost:8080/"
        },
        "id": "rlxhyjU_Q4Eq",
        "outputId": "fd0caf0a-58e5-4970-b44b-610d79068b4a"
      },
      "source": [
        "help(fact)"
      ],
      "execution_count": 2,
      "outputs": [
        {
          "output_type": "stream",
          "name": "stdout",
          "text": [
            "Help on function fact in module __main__:\n",
            "\n",
            "fact(n)\n",
            "    Calculates n! (factorial function)\n",
            "    Inputs:\n",
            "        n: non-negative interger\n",
            "    Returns: \n",
            "        the factorial of n\n",
            "\n"
          ]
        }
      ]
    },
    {
      "cell_type": "code",
      "metadata": {
        "colab": {
          "base_uri": "https://localhost:8080/",
          "height": 52
        },
        "id": "BVe4hFH4Q_DD",
        "outputId": "f74848fa-9746-4945-c9d3-2b5a83712d75"
      },
      "source": [
        "fact.__doc__"
      ],
      "execution_count": 3,
      "outputs": [
        {
          "output_type": "execute_result",
          "data": {
            "application/vnd.google.colaboratory.intrinsic+json": {
              "type": "string"
            },
            "text/plain": [
              "'\\n        Calculates n! (factorial function)\\n        Inputs:\\n            n: non-negative interger\\n        Returns: \\n            the factorial of n\\n    '"
            ]
          },
          "metadata": {},
          "execution_count": 3
        }
      ]
    },
    {
      "cell_type": "code",
      "metadata": {
        "colab": {
          "base_uri": "https://localhost:8080/"
        },
        "id": "SjcJjXIBRD6f",
        "outputId": "a579bc28-347e-46a9-9607-ceabbb8ebc89"
      },
      "source": [
        "def fact(n: 'int >=0')->int: # these are annotations\n",
        "    '''\n",
        "        Calculates n! (factorial function)\n",
        "        Inputs:\n",
        "            n: non-negative interger\n",
        "        Returns: \n",
        "            the factorial of n\n",
        "    '''\n",
        "    if n < 0:\n",
        "        '''Note that this is not a part of the doctstring!'''\n",
        "        return 1\n",
        "    else:\n",
        "        return n * fact (n - 1)\n",
        "\n",
        "help(fact)"
      ],
      "execution_count": 4,
      "outputs": [
        {
          "output_type": "stream",
          "name": "stdout",
          "text": [
            "Help on function fact in module __main__:\n",
            "\n",
            "fact(n: 'int >=0') -> int\n",
            "    Calculates n! (factorial function)\n",
            "    Inputs:\n",
            "        n: non-negative interger\n",
            "    Returns: \n",
            "        the factorial of n\n",
            "\n"
          ]
        }
      ]
    },
    {
      "cell_type": "code",
      "metadata": {
        "colab": {
          "base_uri": "https://localhost:8080/"
        },
        "id": "Rl2PLnWbRgkB",
        "outputId": "31d997b9-2700-48d7-964a-1239885a7d5c"
      },
      "source": [
        "fact.__annotations__"
      ],
      "execution_count": 5,
      "outputs": [
        {
          "output_type": "execute_result",
          "data": {
            "text/plain": [
              "{'n': 'int >=0', 'return': int}"
            ]
          },
          "metadata": {},
          "execution_count": 5
        }
      ]
    },
    {
      "cell_type": "markdown",
      "metadata": {
        "id": "-JcF3Tb6Jwhq"
      },
      "source": [
        "## Lambda Expressions, Lambda Functions\n",
        "\n",
        "Lambda functions are \n",
        "  * **anonymous** functions, ie., they don't have a name.\n",
        "  * usually represented in just one line.\n",
        "  * used as arg to other function\n",
        "  * No assignments in the body.\n",
        "  * No annotation are allowed.\n",
        "  * Lambda functions return expressions when called.\n",
        "\n"
      ]
    },
    {
      "cell_type": "code",
      "metadata": {
        "colab": {
          "base_uri": "https://localhost:8080/"
        },
        "id": "sUihTPmcJzmK",
        "outputId": "6b6035c6-a75f-47e3-f2af-ed1a9a5f130c"
      },
      "source": [
        "def mult(x, y):\n",
        "  return x*y\n",
        "\n",
        "func = lambda x, y: x*y\n",
        "\n",
        "func(2,3)"
      ],
      "execution_count": 6,
      "outputs": [
        {
          "output_type": "execute_result",
          "data": {
            "text/plain": [
              "6"
            ]
          },
          "metadata": {},
          "execution_count": 6
        }
      ]
    },
    {
      "cell_type": "code",
      "metadata": {
        "colab": {
          "base_uri": "https://localhost:8080/",
          "height": 130
        },
        "id": "ZSC00UPXUC_b",
        "outputId": "e16f08c8-c095-499a-fe67-80d59c3b0cc5"
      },
      "source": [
        "lambda x : x =5"
      ],
      "execution_count": 8,
      "outputs": [
        {
          "output_type": "error",
          "ename": "SyntaxError",
          "evalue": "ignored",
          "traceback": [
            "\u001b[0;36m  File \u001b[0;32m\"<ipython-input-8-6472528685d6>\"\u001b[0;36m, line \u001b[0;32m1\u001b[0m\n\u001b[0;31m    lambda x : x =5\u001b[0m\n\u001b[0m                   ^\u001b[0m\n\u001b[0;31mSyntaxError\u001b[0m\u001b[0;31m:\u001b[0m can't assign to lambda\n"
          ]
        }
      ]
    },
    {
      "cell_type": "code",
      "metadata": {
        "colab": {
          "base_uri": "https://localhost:8080/",
          "height": 130
        },
        "id": "qS0dPPOiUHos",
        "outputId": "23646b2d-0f23-4939-f0ea-1a99e55efeea"
      },
      "source": [
        "lambda x : int : x*2"
      ],
      "execution_count": 9,
      "outputs": [
        {
          "output_type": "error",
          "ename": "SyntaxError",
          "evalue": "ignored",
          "traceback": [
            "\u001b[0;36m  File \u001b[0;32m\"<ipython-input-9-e3761f4be2da>\"\u001b[0;36m, line \u001b[0;32m1\u001b[0m\n\u001b[0;31m    lambda x : int : x*2\u001b[0m\n\u001b[0m                        ^\u001b[0m\n\u001b[0;31mSyntaxError\u001b[0m\u001b[0;31m:\u001b[0m illegal target for annotation\n"
          ]
        }
      ]
    },
    {
      "cell_type": "code",
      "metadata": {
        "colab": {
          "base_uri": "https://localhost:8080/"
        },
        "id": "5I7vnPOfTpNu",
        "outputId": "47557226-31c5-46e9-cf93-54e2be044722"
      },
      "source": [
        "type(func)"
      ],
      "execution_count": 7,
      "outputs": [
        {
          "output_type": "execute_result",
          "data": {
            "text/plain": [
              "function"
            ]
          },
          "metadata": {},
          "execution_count": 7
        }
      ]
    },
    {
      "cell_type": "markdown",
      "metadata": {
        "id": "nbtwU_1KK3Eq"
      },
      "source": [
        ""
      ]
    },
    {
      "cell_type": "markdown",
      "metadata": {
        "id": "UwqzIwc2J67h"
      },
      "source": [
        "## Higher Order Functions: Lazy Funtions - map(), filter()\n",
        "\n",
        "A function is called as higher order function if it contains other function as a parameter or returns function as an output. ie., functions that operate with another function are called as higher order function.\n",
        "\n",
        "The following are some of the higher order functions in Python:\n",
        "\n",
        "* map(), filter(), reduce()\n",
        "* Decorators."
      ]
    },
    {
      "cell_type": "code",
      "metadata": {
        "colab": {
          "base_uri": "https://localhost:8080/"
        },
        "id": "pLBKM9pgK6aN",
        "outputId": "3f39c11c-4dd8-49c9-c647-0a0cf815c023"
      },
      "source": [
        "def squared(x):\n",
        "  return x*x\n",
        "\n",
        "map(squared, [1, 2, 3, 4, 5, 6])"
      ],
      "execution_count": 9,
      "outputs": [
        {
          "output_type": "execute_result",
          "data": {
            "text/plain": [
              "<map at 0x7fd625491fd0>"
            ]
          },
          "metadata": {},
          "execution_count": 9
        }
      ]
    },
    {
      "cell_type": "code",
      "metadata": {
        "colab": {
          "base_uri": "https://localhost:8080/"
        },
        "id": "7fuZFcqQri_b",
        "outputId": "043f4780-62b7-4eae-a630-c3dff3aff4ef"
      },
      "source": [
        "# maps are lazy functions. \n",
        "# to execute, we need to call with say list.\n",
        "list(map(squared, [1, 2, 3, 4, 5, 6]))"
      ],
      "execution_count": 10,
      "outputs": [
        {
          "output_type": "execute_result",
          "data": {
            "text/plain": [
              "[1, 4, 9, 16, 25, 36]"
            ]
          },
          "metadata": {},
          "execution_count": 10
        }
      ]
    },
    {
      "cell_type": "code",
      "metadata": {
        "colab": {
          "base_uri": "https://localhost:8080/"
        },
        "id": "rG4rFransAi3",
        "outputId": "7fd94577-7b77-413d-ed50-b8ac93116f62"
      },
      "source": [
        "list1 = [1, 2, 3, 4, 5]\n",
        "list2 = [10, 20, 30, 40 , 50 ,60]\n",
        "\n",
        "func = lambda x, y : x+y\n",
        "\n",
        "# pass the iterables - stops at the 5th element.\n",
        "list(map(func, list1, list2))"
      ],
      "execution_count": 12,
      "outputs": [
        {
          "output_type": "execute_result",
          "data": {
            "text/plain": [
              "[11, 22, 33, 44, 55]"
            ]
          },
          "metadata": {},
          "execution_count": 12
        }
      ]
    },
    {
      "cell_type": "markdown",
      "metadata": {
        "id": "2N7W8bCquXV5"
      },
      "source": [
        "### filter()\n",
        "\n",
        "Returns the items that are **True**."
      ]
    },
    {
      "cell_type": "code",
      "metadata": {
        "colab": {
          "base_uri": "https://localhost:8080/"
        },
        "id": "5gxyHqIUuZ27",
        "outputId": "ddf9ac88-06c1-4fe7-9918-0a75d7bb6e4a"
      },
      "source": [
        "help(filter)"
      ],
      "execution_count": 13,
      "outputs": [
        {
          "output_type": "stream",
          "name": "stdout",
          "text": [
            "Help on class filter in module builtins:\n",
            "\n",
            "class filter(object)\n",
            " |  filter(function or None, iterable) --> filter object\n",
            " |  \n",
            " |  Return an iterator yielding those items of iterable for which function(item)\n",
            " |  is true. If function is None, return the items that are true.\n",
            " |  \n",
            " |  Methods defined here:\n",
            " |  \n",
            " |  __getattribute__(self, name, /)\n",
            " |      Return getattr(self, name).\n",
            " |  \n",
            " |  __iter__(self, /)\n",
            " |      Implement iter(self).\n",
            " |  \n",
            " |  __next__(self, /)\n",
            " |      Implement next(self).\n",
            " |  \n",
            " |  __reduce__(...)\n",
            " |      Return state information for pickling.\n",
            " |  \n",
            " |  ----------------------------------------------------------------------\n",
            " |  Static methods defined here:\n",
            " |  \n",
            " |  __new__(*args, **kwargs) from builtins.type\n",
            " |      Create and return a new object.  See help(type) for accurate signature.\n",
            "\n"
          ]
        }
      ]
    },
    {
      "cell_type": "code",
      "metadata": {
        "colab": {
          "base_uri": "https://localhost:8080/"
        },
        "id": "qYm041m7uk25",
        "outputId": "2e8ec0be-43a5-41b8-f3ba-f2d29fb42049"
      },
      "source": [
        "filter(None, [0, 1, 2, 3,4])"
      ],
      "execution_count": 14,
      "outputs": [
        {
          "output_type": "execute_result",
          "data": {
            "text/plain": [
              "<filter at 0x7fd62548ac10>"
            ]
          },
          "metadata": {},
          "execution_count": 14
        }
      ]
    },
    {
      "cell_type": "code",
      "metadata": {
        "colab": {
          "base_uri": "https://localhost:8080/"
        },
        "id": "O8l_GyTcupHs",
        "outputId": "717bdcb9-24dc-467c-f7dc-1f9fa6b8c0e4"
      },
      "source": [
        "## lazy function, so let's execute it with list\n",
        "list(filter(None, [0, 1, 2,3, 4,5]))"
      ],
      "execution_count": 15,
      "outputs": [
        {
          "output_type": "execute_result",
          "data": {
            "text/plain": [
              "[1, 2, 3, 4, 5]"
            ]
          },
          "metadata": {},
          "execution_count": 15
        }
      ]
    },
    {
      "cell_type": "code",
      "metadata": {
        "colab": {
          "base_uri": "https://localhost:8080/"
        },
        "id": "MAVbsPqLuyeA",
        "outputId": "5981ab6c-dede-4bd3-b741-1eeef082a08c"
      },
      "source": [
        "def is_even(x):\n",
        "  return x % 2 == 0\n",
        "\n",
        "# returns which are True as per the passed function - is_even\n",
        "list(filter(is_even, [1, 2, 3, 4, 5, 6, 7, 8]))"
      ],
      "execution_count": 17,
      "outputs": [
        {
          "output_type": "execute_result",
          "data": {
            "text/plain": [
              "[2, 4, 6, 8]"
            ]
          },
          "metadata": {},
          "execution_count": 17
        }
      ]
    },
    {
      "cell_type": "code",
      "metadata": {
        "colab": {
          "base_uri": "https://localhost:8080/"
        },
        "id": "woCFK02VvbZw",
        "outputId": "b3b33c37-c26a-4c4f-b975-b70266bde50e"
      },
      "source": [
        "list(filter(lambda x: x%2 == 0, [1, 2, 3,4,5,6,7,8]))"
      ],
      "execution_count": 18,
      "outputs": [
        {
          "output_type": "execute_result",
          "data": {
            "text/plain": [
              "[2, 4, 6, 8]"
            ]
          },
          "metadata": {},
          "execution_count": 18
        }
      ]
    },
    {
      "cell_type": "code",
      "metadata": {
        "colab": {
          "base_uri": "https://localhost:8080/"
        },
        "id": "inaep3V_wusq",
        "outputId": "c8525925-8dae-43c2-f195-129eb96ca715"
      },
      "source": [
        "help(zip)"
      ],
      "execution_count": 19,
      "outputs": [
        {
          "output_type": "stream",
          "name": "stdout",
          "text": [
            "Help on class zip in module builtins:\n",
            "\n",
            "class zip(object)\n",
            " |  zip(*iterables) --> zip object\n",
            " |  \n",
            " |  Return a zip object whose .__next__() method returns a tuple where\n",
            " |  the i-th element comes from the i-th iterable argument.  The .__next__()\n",
            " |  method continues until the shortest iterable in the argument sequence\n",
            " |  is exhausted and then it raises StopIteration.\n",
            " |  \n",
            " |  Methods defined here:\n",
            " |  \n",
            " |  __getattribute__(self, name, /)\n",
            " |      Return getattr(self, name).\n",
            " |  \n",
            " |  __iter__(self, /)\n",
            " |      Implement iter(self).\n",
            " |  \n",
            " |  __next__(self, /)\n",
            " |      Implement next(self).\n",
            " |  \n",
            " |  __reduce__(...)\n",
            " |      Return state information for pickling.\n",
            " |  \n",
            " |  ----------------------------------------------------------------------\n",
            " |  Static methods defined here:\n",
            " |  \n",
            " |  __new__(*args, **kwargs) from builtins.type\n",
            " |      Create and return a new object.  See help(type) for accurate signature.\n",
            "\n"
          ]
        }
      ]
    },
    {
      "cell_type": "code",
      "metadata": {
        "colab": {
          "base_uri": "https://localhost:8080/"
        },
        "id": "A_RqimHKw3-I",
        "outputId": "c95b34b6-4ccf-4a46-af7f-b372c06a048b"
      },
      "source": [
        "t1 = 1, 2, 3, 4, 5\n",
        "t2 = 'a', 'b', 'c', 'd'\n",
        "\n",
        "zip(t1, t2)"
      ],
      "execution_count": 34,
      "outputs": [
        {
          "output_type": "execute_result",
          "data": {
            "text/plain": [
              "<zip at 0x7fd62553ab90>"
            ]
          },
          "metadata": {},
          "execution_count": 34
        }
      ]
    },
    {
      "cell_type": "code",
      "metadata": {
        "colab": {
          "base_uri": "https://localhost:8080/"
        },
        "id": "sKTfw5EVxGUQ",
        "outputId": "d64b3600-a499-42e5-98ab-db1e46dc8218"
      },
      "source": [
        "list(zip(t1, t2))"
      ],
      "execution_count": 35,
      "outputs": [
        {
          "output_type": "execute_result",
          "data": {
            "text/plain": [
              "[(1, 'a'), (2, 'b'), (3, 'c'), (4, 'd')]"
            ]
          },
          "metadata": {},
          "execution_count": 35
        }
      ]
    },
    {
      "cell_type": "code",
      "metadata": {
        "colab": {
          "base_uri": "https://localhost:8080/"
        },
        "id": "QtxfBvgZyAQv",
        "outputId": "1041eb77-36c7-4cb9-b6f1-0808f824d6ac"
      },
      "source": [
        "list(zip(t2, t1))"
      ],
      "execution_count": 36,
      "outputs": [
        {
          "output_type": "execute_result",
          "data": {
            "text/plain": [
              "[('a', 1), ('b', 2), ('c', 3), ('d', 4)]"
            ]
          },
          "metadata": {},
          "execution_count": 36
        }
      ]
    },
    {
      "cell_type": "code",
      "metadata": {
        "colab": {
          "base_uri": "https://localhost:8080/"
        },
        "id": "FRVUp8aPyDru",
        "outputId": "65b3edc3-7d83-4090-d059-7c5079eb95cb"
      },
      "source": [
        "list1 = [1, 2, 3,4,5]\n",
        "list2 = [10, 20 , 30 ,40]\n",
        "list3 = 'abc'\n",
        "\n",
        "list(zip(list1, list2, list3))"
      ],
      "execution_count": 38,
      "outputs": [
        {
          "output_type": "execute_result",
          "data": {
            "text/plain": [
              "[(1, 10, 'a'), (2, 20, 'b'), (3, 30, 'c')]"
            ]
          },
          "metadata": {},
          "execution_count": 38
        }
      ]
    },
    {
      "cell_type": "code",
      "metadata": {
        "colab": {
          "base_uri": "https://localhost:8080/"
        },
        "id": "Q6KwCADHygLh",
        "outputId": "f3a46f01-6cb3-4720-f953-6064aa2dce48"
      },
      "source": [
        "for i, j in zip(list1, list2):\n",
        "  print(i, j)"
      ],
      "execution_count": 40,
      "outputs": [
        {
          "output_type": "stream",
          "name": "stdout",
          "text": [
            "1 10\n",
            "2 20\n",
            "3 30\n",
            "4 40\n"
          ]
        }
      ]
    },
    {
      "cell_type": "markdown",
      "metadata": {
        "id": "5o-kKl6AKoSh"
      },
      "source": [
        "## Reducing Functions\n",
        "\n",
        "Functions which reduces and results in one value finally."
      ]
    },
    {
      "cell_type": "code",
      "metadata": {
        "colab": {
          "base_uri": "https://localhost:8080/"
        },
        "id": "aNAFb1q1zMh5",
        "outputId": "3ae2c612-02ff-4741-9917-6e235f7069bd"
      },
      "source": [
        "min([1,2,3,4,5,6])"
      ],
      "execution_count": 41,
      "outputs": [
        {
          "output_type": "execute_result",
          "data": {
            "text/plain": [
              "1"
            ]
          },
          "metadata": {},
          "execution_count": 41
        }
      ]
    },
    {
      "cell_type": "code",
      "metadata": {
        "colab": {
          "base_uri": "https://localhost:8080/"
        },
        "id": "t6wOw_c_J3kg",
        "outputId": "167bded9-fdc9-4851-8d36-c59de1d97e03"
      },
      "source": [
        "max([10, 2,3, 56, 78, 90,76,3456])"
      ],
      "execution_count": 42,
      "outputs": [
        {
          "output_type": "execute_result",
          "data": {
            "text/plain": [
              "3456"
            ]
          },
          "metadata": {},
          "execution_count": 42
        }
      ]
    },
    {
      "cell_type": "markdown",
      "metadata": {
        "id": "bP2TGCVuz-Bz"
      },
      "source": [
        "## Partial Functions"
      ]
    },
    {
      "cell_type": "code",
      "metadata": {
        "id": "nCx-zL290BAZ"
      },
      "source": [
        "from functools import partial"
      ],
      "execution_count": 43,
      "outputs": []
    },
    {
      "cell_type": "code",
      "metadata": {
        "id": "lvUe8Eam0Es4"
      },
      "source": [
        ""
      ],
      "execution_count": null,
      "outputs": []
    },
    {
      "cell_type": "markdown",
      "metadata": {
        "id": "oYfld6PyLA_S"
      },
      "source": [
        "## Operator Module"
      ]
    },
    {
      "cell_type": "code",
      "metadata": {
        "id": "JalavyIkLFeE"
      },
      "source": [
        "import operator"
      ],
      "execution_count": 44,
      "outputs": []
    },
    {
      "cell_type": "code",
      "metadata": {
        "colab": {
          "base_uri": "https://localhost:8080/"
        },
        "id": "9cURB9z8LKqF",
        "outputId": "b7ecd364-3ea1-46b7-e706-1f9f50a95b49"
      },
      "source": [
        "dir(operator)"
      ],
      "execution_count": 45,
      "outputs": [
        {
          "output_type": "execute_result",
          "data": {
            "text/plain": [
              "['__abs__',\n",
              " '__add__',\n",
              " '__all__',\n",
              " '__and__',\n",
              " '__builtins__',\n",
              " '__cached__',\n",
              " '__concat__',\n",
              " '__contains__',\n",
              " '__delitem__',\n",
              " '__doc__',\n",
              " '__eq__',\n",
              " '__file__',\n",
              " '__floordiv__',\n",
              " '__ge__',\n",
              " '__getitem__',\n",
              " '__gt__',\n",
              " '__iadd__',\n",
              " '__iand__',\n",
              " '__iconcat__',\n",
              " '__ifloordiv__',\n",
              " '__ilshift__',\n",
              " '__imatmul__',\n",
              " '__imod__',\n",
              " '__imul__',\n",
              " '__index__',\n",
              " '__inv__',\n",
              " '__invert__',\n",
              " '__ior__',\n",
              " '__ipow__',\n",
              " '__irshift__',\n",
              " '__isub__',\n",
              " '__itruediv__',\n",
              " '__ixor__',\n",
              " '__le__',\n",
              " '__loader__',\n",
              " '__lshift__',\n",
              " '__lt__',\n",
              " '__matmul__',\n",
              " '__mod__',\n",
              " '__mul__',\n",
              " '__name__',\n",
              " '__ne__',\n",
              " '__neg__',\n",
              " '__not__',\n",
              " '__or__',\n",
              " '__package__',\n",
              " '__pos__',\n",
              " '__pow__',\n",
              " '__rshift__',\n",
              " '__setitem__',\n",
              " '__spec__',\n",
              " '__sub__',\n",
              " '__truediv__',\n",
              " '__xor__',\n",
              " '_abs',\n",
              " 'abs',\n",
              " 'add',\n",
              " 'and_',\n",
              " 'attrgetter',\n",
              " 'concat',\n",
              " 'contains',\n",
              " 'countOf',\n",
              " 'delitem',\n",
              " 'eq',\n",
              " 'floordiv',\n",
              " 'ge',\n",
              " 'getitem',\n",
              " 'gt',\n",
              " 'iadd',\n",
              " 'iand',\n",
              " 'iconcat',\n",
              " 'ifloordiv',\n",
              " 'ilshift',\n",
              " 'imatmul',\n",
              " 'imod',\n",
              " 'imul',\n",
              " 'index',\n",
              " 'indexOf',\n",
              " 'inv',\n",
              " 'invert',\n",
              " 'ior',\n",
              " 'ipow',\n",
              " 'irshift',\n",
              " 'is_',\n",
              " 'is_not',\n",
              " 'isub',\n",
              " 'itemgetter',\n",
              " 'itruediv',\n",
              " 'ixor',\n",
              " 'le',\n",
              " 'length_hint',\n",
              " 'lshift',\n",
              " 'lt',\n",
              " 'matmul',\n",
              " 'methodcaller',\n",
              " 'mod',\n",
              " 'mul',\n",
              " 'ne',\n",
              " 'neg',\n",
              " 'not_',\n",
              " 'or_',\n",
              " 'pos',\n",
              " 'pow',\n",
              " 'rshift',\n",
              " 'setitem',\n",
              " 'sub',\n",
              " 'truediv',\n",
              " 'truth',\n",
              " 'xor']"
            ]
          },
          "metadata": {},
          "execution_count": 45
        }
      ]
    },
    {
      "cell_type": "code",
      "metadata": {
        "colab": {
          "base_uri": "https://localhost:8080/"
        },
        "id": "Iow41vvDLJCU",
        "outputId": "780415ab-0ad2-474b-a325-94cc1e845d0c"
      },
      "source": [
        "operator.add(1, 24)"
      ],
      "execution_count": 47,
      "outputs": [
        {
          "output_type": "execute_result",
          "data": {
            "text/plain": [
              "25"
            ]
          },
          "metadata": {},
          "execution_count": 47
        }
      ]
    },
    {
      "cell_type": "code",
      "metadata": {
        "colab": {
          "base_uri": "https://localhost:8080/"
        },
        "id": "9kHxUVSc0rEk",
        "outputId": "8309dd02-2b17-439e-de44-992831e3c26a"
      },
      "source": [
        "operator.mul(3, 4)"
      ],
      "execution_count": 48,
      "outputs": [
        {
          "output_type": "execute_result",
          "data": {
            "text/plain": [
              "12"
            ]
          },
          "metadata": {},
          "execution_count": 48
        }
      ]
    },
    {
      "cell_type": "code",
      "metadata": {
        "colab": {
          "base_uri": "https://localhost:8080/"
        },
        "id": "o40uUsmd0xN6",
        "outputId": "faf92a0c-4dad-425b-9dee-5dacfa1bffe2"
      },
      "source": [
        "from functools import reduce\n",
        "\n",
        "reduce(operator.mul, [1, 2, 3, 4,5])"
      ],
      "execution_count": 50,
      "outputs": [
        {
          "output_type": "execute_result",
          "data": {
            "text/plain": [
              "120"
            ]
          },
          "metadata": {},
          "execution_count": 50
        }
      ]
    },
    {
      "cell_type": "code",
      "metadata": {
        "colab": {
          "base_uri": "https://localhost:8080/"
        },
        "id": "uY33wRxG1ZUQ",
        "outputId": "c4fbb331-8def-45ea-b5c7-a50defbff75c"
      },
      "source": [
        "reduce(operator.add, [1, 2,3, 4, 5])"
      ],
      "execution_count": 52,
      "outputs": [
        {
          "output_type": "execute_result",
          "data": {
            "text/plain": [
              "15"
            ]
          },
          "metadata": {},
          "execution_count": 52
        }
      ]
    },
    {
      "cell_type": "code",
      "metadata": {
        "id": "ieGBNTNd1k2p"
      },
      "source": [
        ""
      ],
      "execution_count": null,
      "outputs": []
    }
  ]
}