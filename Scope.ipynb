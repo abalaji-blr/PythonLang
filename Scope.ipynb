{
  "nbformat": 4,
  "nbformat_minor": 0,
  "metadata": {
    "colab": {
      "name": "Scope.ipynb",
      "provenance": [],
      "collapsed_sections": [],
      "authorship_tag": "ABX9TyO1E9sM9Sz8WeOf/4EWSxsn",
      "include_colab_link": true
    },
    "kernelspec": {
      "name": "python3",
      "display_name": "Python 3"
    },
    "language_info": {
      "name": "python"
    }
  },
  "cells": [
    {
      "cell_type": "markdown",
      "metadata": {
        "id": "view-in-github",
        "colab_type": "text"
      },
      "source": [
        "<a href=\"https://colab.research.google.com/github/abalaji-blr/PythonLang/blob/main/Scope.ipynb\" target=\"_parent\"><img src=\"https://colab.research.google.com/assets/colab-badge.svg\" alt=\"Open In Colab\"/></a>"
      ]
    },
    {
      "cell_type": "markdown",
      "metadata": {
        "id": "vLxKKSo0hJ_w"
      },
      "source": [
        "# Scope\n",
        "\n",
        "The portion of code where the variable/binding is defined is called as **scope** aka **lexical scope**.\n",
        "\n",
        "The bindings are stored in **namespaces**.\n",
        "\n",
        "Each scope has it's own namespace. Scopes are often nested.\n",
        "\n",
        "**Built-in scope** >>> ***Global/Moduel scope** >>> **Local scope** \n",
        "\n",
        "* Global / Module Scope\n",
        "  It's essentially **module** scope. It spans  to a file only.\n",
        "\n",
        "  There is NO notion of truly global scope which can span across all modules in python.\n",
        "\n",
        "  Few exception exits - the following are few global objects can be accessed / used across any module.s\n",
        "  True, False, None, dict, print.\n",
        "\n",
        "  **Built-in scope** >>> **Global / Module scope**\n",
        "\n",
        "* Local Scope\n",
        "  When we create functions, **local variables** are created using **assignments**. \n",
        "\n",
        "  These **local** variables are created only when the **function** is invoked / called.\n",
        "\n",
        "  **Checks whether the variable is bound to local scope, other wise, works up the chain of scopes**.\n",
        "\n",
        "* Nonlocal Scope:\n",
        "\n",
        "  In the case of **nested functions**, the **inner function** has access to the scope which is **neither local** nor **global**, that is it has access to **outer function's scope variables**, they are called as **non local scope** (with respect to inner function)."
      ]
    },
    {
      "cell_type": "code",
      "metadata": {
        "colab": {
          "base_uri": "https://localhost:8080/"
        },
        "id": "7WYpfM2EhGq2",
        "outputId": "11beb000-3d9b-4861-8ed5-ba1c785d0b5c"
      },
      "source": [
        "var = 100\n",
        "\n",
        "# use the global variable\n",
        "def my_func():\n",
        "  print(f'inside function: {var}')\n",
        "\n",
        "my_func()\n",
        "print(var)"
      ],
      "execution_count": 2,
      "outputs": [
        {
          "output_type": "stream",
          "name": "stdout",
          "text": [
            "inside function: 100\n",
            "100\n"
          ]
        }
      ]
    },
    {
      "cell_type": "code",
      "metadata": {
        "colab": {
          "base_uri": "https://localhost:8080/"
        },
        "id": "vj8MHzhO43KP",
        "outputId": "2142d149-b74b-4762-e615-6ccc0d25af3b"
      },
      "source": [
        "var = 100\n",
        "\n",
        "# explicitly mentioning the global variable\n",
        "def my_func():\n",
        "  global var\n",
        "  var = 50\n",
        "  print(f'inside function: {var}')\n",
        "\n",
        "my_func()\n",
        "print(var)"
      ],
      "execution_count": 3,
      "outputs": [
        {
          "output_type": "stream",
          "name": "stdout",
          "text": [
            "inside function: 50\n",
            "50\n"
          ]
        }
      ]
    },
    {
      "cell_type": "code",
      "metadata": {
        "colab": {
          "base_uri": "https://localhost:8080/"
        },
        "id": "EAV0NUW35HKj",
        "outputId": "323cd3fd-651e-46f9-dbca-d5f56cd76a79"
      },
      "source": [
        "var = 100\n",
        "\n",
        "def my_func():\n",
        "  var = 25 # local variable is defined\n",
        "  print(f'inside function: {var}')\n",
        "\n",
        "my_func()\n",
        "print(var)"
      ],
      "execution_count": 4,
      "outputs": [
        {
          "output_type": "stream",
          "name": "stdout",
          "text": [
            "inside function: 25\n",
            "100\n"
          ]
        }
      ]
    },
    {
      "cell_type": "code",
      "metadata": {
        "colab": {
          "base_uri": "https://localhost:8080/",
          "height": 334
        },
        "id": "uO2bz9Xm5RJi",
        "outputId": "7e02e6a3-4ec5-421f-9f5b-2b63f3b4b6fe"
      },
      "source": [
        "var = 100\n",
        "\n",
        " \n",
        "def my_func():\n",
        "  print(f'inside function: {var}') # at compile time - var is undefined. so Error!\n",
        "  var = 20 # at this point a local variable is defined\n",
        "\n",
        "my_func()\n",
        "print(var)"
      ],
      "execution_count": 5,
      "outputs": [
        {
          "output_type": "error",
          "ename": "UnboundLocalError",
          "evalue": "ignored",
          "traceback": [
            "\u001b[0;31m---------------------------------------------------------------------------\u001b[0m",
            "\u001b[0;31mUnboundLocalError\u001b[0m                         Traceback (most recent call last)",
            "\u001b[0;32m<ipython-input-5-a6d8499c324d>\u001b[0m in \u001b[0;36m<module>\u001b[0;34m()\u001b[0m\n\u001b[1;32m      6\u001b[0m   \u001b[0mvar\u001b[0m \u001b[0;34m=\u001b[0m \u001b[0;36m20\u001b[0m \u001b[0;31m# at this point a local variable is defined\u001b[0m\u001b[0;34m\u001b[0m\u001b[0;34m\u001b[0m\u001b[0m\n\u001b[1;32m      7\u001b[0m \u001b[0;34m\u001b[0m\u001b[0m\n\u001b[0;32m----> 8\u001b[0;31m \u001b[0mmy_func\u001b[0m\u001b[0;34m(\u001b[0m\u001b[0;34m)\u001b[0m\u001b[0;34m\u001b[0m\u001b[0;34m\u001b[0m\u001b[0m\n\u001b[0m\u001b[1;32m      9\u001b[0m \u001b[0mprint\u001b[0m\u001b[0;34m(\u001b[0m\u001b[0mvar\u001b[0m\u001b[0;34m)\u001b[0m\u001b[0;34m\u001b[0m\u001b[0;34m\u001b[0m\u001b[0m\n",
            "\u001b[0;32m<ipython-input-5-a6d8499c324d>\u001b[0m in \u001b[0;36mmy_func\u001b[0;34m()\u001b[0m\n\u001b[1;32m      3\u001b[0m \u001b[0;34m\u001b[0m\u001b[0m\n\u001b[1;32m      4\u001b[0m \u001b[0;32mdef\u001b[0m \u001b[0mmy_func\u001b[0m\u001b[0;34m(\u001b[0m\u001b[0;34m)\u001b[0m\u001b[0;34m:\u001b[0m\u001b[0;34m\u001b[0m\u001b[0;34m\u001b[0m\u001b[0m\n\u001b[0;32m----> 5\u001b[0;31m   \u001b[0mprint\u001b[0m\u001b[0;34m(\u001b[0m\u001b[0;34mf'inside function: {var}'\u001b[0m\u001b[0;34m)\u001b[0m \u001b[0;31m# at compile time - var is undefined. so Error!\u001b[0m\u001b[0;34m\u001b[0m\u001b[0;34m\u001b[0m\u001b[0m\n\u001b[0m\u001b[1;32m      6\u001b[0m   \u001b[0mvar\u001b[0m \u001b[0;34m=\u001b[0m \u001b[0;36m20\u001b[0m \u001b[0;31m# at this point a local variable is defined\u001b[0m\u001b[0;34m\u001b[0m\u001b[0;34m\u001b[0m\u001b[0m\n\u001b[1;32m      7\u001b[0m \u001b[0;34m\u001b[0m\u001b[0m\n",
            "\u001b[0;31mUnboundLocalError\u001b[0m: local variable 'var' referenced before assignment"
          ]
        }
      ]
    },
    {
      "cell_type": "markdown",
      "metadata": {
        "id": "egiiFIsN7LU3"
      },
      "source": [
        "## Nonlocal scope"
      ]
    },
    {
      "cell_type": "code",
      "metadata": {
        "colab": {
          "base_uri": "https://localhost:8080/"
        },
        "id": "EGn58WNG5ktU",
        "outputId": "1cde4bf9-7267-4b33-8c39-629323933198"
      },
      "source": [
        "def outer():\n",
        "  a = 100\n",
        "\n",
        "  def inner():\n",
        "    print(f'inner: {a}') # a is nonlocal scope of inner\n",
        "\n",
        "  inner() # invoke inner()\n",
        "\n",
        "outer() # invoke outer function"
      ],
      "execution_count": 7,
      "outputs": [
        {
          "output_type": "stream",
          "name": "stdout",
          "text": [
            "inner: 100\n"
          ]
        }
      ]
    },
    {
      "cell_type": "code",
      "metadata": {
        "colab": {
          "base_uri": "https://localhost:8080/"
        },
        "id": "jNWuMNIT7hEk",
        "outputId": "98b5c547-3484-4bb3-a873-bc2340a2ce45"
      },
      "source": [
        "def outer():\n",
        "  a = 'hello'\n",
        "\n",
        "  def inner():\n",
        "    a = 'python' # note : this assignment creates a local variable.\n",
        "  \n",
        "  inner()\n",
        "  print(f'outer: {a}')\n",
        "\n",
        "outer() # invoke outer"
      ],
      "execution_count": 9,
      "outputs": [
        {
          "output_type": "stream",
          "name": "stdout",
          "text": [
            "outer: hello\n"
          ]
        }
      ]
    },
    {
      "cell_type": "code",
      "metadata": {
        "colab": {
          "base_uri": "https://localhost:8080/"
        },
        "id": "Im5wNWZw8fZY",
        "outputId": "631e7396-6c26-49a1-effd-4a179c4e0742"
      },
      "source": [
        "a = 'my world'\n",
        "def outer():\n",
        "  a = 'hello'\n",
        "\n",
        "  def inner():\n",
        "    nonlocal a\n",
        "    a = 'python' # use the outer scope\n",
        "  \n",
        "  inner()\n",
        "  print(f'outer: {a}')\n",
        "\n",
        "outer() # invoke outer"
      ],
      "execution_count": 11,
      "outputs": [
        {
          "output_type": "stream",
          "name": "stdout",
          "text": [
            "outer: python\n"
          ]
        }
      ]
    },
    {
      "cell_type": "code",
      "metadata": {
        "id": "PIw_6BzG8t4j"
      },
      "source": [
        ""
      ],
      "execution_count": null,
      "outputs": []
    }
  ]
}