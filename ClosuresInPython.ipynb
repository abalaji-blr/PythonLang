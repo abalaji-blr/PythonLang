{
  "nbformat": 4,
  "nbformat_minor": 0,
  "metadata": {
    "colab": {
      "name": "ClosuresInPython.ipynb",
      "provenance": [],
      "collapsed_sections": [],
      "authorship_tag": "ABX9TyO+brvVFJ3t3cLEmmITTz4o",
      "include_colab_link": true
    },
    "kernelspec": {
      "name": "python3",
      "display_name": "Python 3"
    },
    "language_info": {
      "name": "python"
    }
  },
  "cells": [
    {
      "cell_type": "markdown",
      "metadata": {
        "id": "view-in-github",
        "colab_type": "text"
      },
      "source": [
        "<a href=\"https://colab.research.google.com/github/abalaji-blr/PythonLang/blob/main/ClosuresInPython.ipynb\" target=\"_parent\"><img src=\"https://colab.research.google.com/assets/colab-badge.svg\" alt=\"Open In Colab\"/></a>"
      ]
    },
    {
      "cell_type": "markdown",
      "metadata": {
        "id": "fVyQx6JJAgAL"
      },
      "source": [
        "# Closures in Python\n",
        "\n",
        "* Nested function.\n",
        "* Nonlocal scope\n",
        "* **Closure**\n",
        "  * In the case of closure, the inner function references the a value at its enclosing scope (non local).\n",
        "\n",
        "* How to create a closures?\n",
        "  * Have a nested function.\n",
        "  * Make inner function uses the outer function's variable/value.\n",
        "  * The outer/enclosing function to return the inner function.\n"
      ]
    },
    {
      "cell_type": "code",
      "metadata": {
        "colab": {
          "base_uri": "https://localhost:8080/"
        },
        "id": "0ArRPkk6-zl7",
        "outputId": "4cffb298-b889-498e-9ceb-21c7de81ef18"
      },
      "source": [
        "# Nested function using nonlocal scope variable aka free variable.\n",
        "\n",
        "def outer():\n",
        "  x = 25\n",
        "\n",
        "  def inner():\n",
        "    print(f'inner: {x}') # uses nonlocal scope x\n",
        "\n",
        "  inner() # invoke inner function\n",
        "\n",
        "# invoke outer function\n",
        "outer()"
      ],
      "execution_count": 40,
      "outputs": [
        {
          "output_type": "stream",
          "name": "stdout",
          "text": [
            "inner: 25\n"
          ]
        }
      ]
    },
    {
      "cell_type": "code",
      "metadata": {
        "id": "RS1X6lw19tS6"
      },
      "source": [
        "outer.__closure__"
      ],
      "execution_count": 36,
      "outputs": []
    },
    {
      "cell_type": "code",
      "metadata": {
        "colab": {
          "base_uri": "https://localhost:8080/"
        },
        "id": "q7p-_-nF-MdP",
        "outputId": "1c7892bf-5d3f-4a06-9717-296c2a6e0aa1"
      },
      "source": [
        "outer.__code__.co_freevars"
      ],
      "execution_count": 39,
      "outputs": [
        {
          "output_type": "execute_result",
          "data": {
            "text/plain": [
              "()"
            ]
          },
          "metadata": {},
          "execution_count": 39
        }
      ]
    },
    {
      "cell_type": "code",
      "metadata": {
        "colab": {
          "base_uri": "https://localhost:8080/"
        },
        "id": "8DNTXJWmB9uz",
        "outputId": "e6514401-59a8-45bb-86b2-5036655a1d9e"
      },
      "source": [
        "# Nested function using local scope variable  \n",
        "\n",
        "def outer():\n",
        "  x = 25\n",
        "\n",
        "  def inner():\n",
        "    x = 10 # this is a local scope now\n",
        "    print(f'inner: {x}')  \n",
        "\n",
        "  inner() # invoke inner function\n",
        "\n",
        "# invoke outer function\n",
        "outer()"
      ],
      "execution_count": 37,
      "outputs": [
        {
          "output_type": "stream",
          "name": "stdout",
          "text": [
            "inner: 10\n"
          ]
        }
      ]
    },
    {
      "cell_type": "code",
      "metadata": {
        "id": "SM1QgvOF94TA"
      },
      "source": [
        "outer.__closure__"
      ],
      "execution_count": 38,
      "outputs": []
    },
    {
      "cell_type": "code",
      "metadata": {
        "colab": {
          "base_uri": "https://localhost:8080/"
        },
        "id": "uD20S_cbCaAM",
        "outputId": "1d23f663-6731-4f39-8a0f-4d78063512b0"
      },
      "source": [
        "# Nested function using nonlocal scope variable aka free variable.\n",
        "\n",
        "def outer():\n",
        "  x = 25\n",
        "\n",
        "  def inner():\n",
        "    nonlocal x # use nonlocal scope x\n",
        "    x = x +1\n",
        "    print(f'inner: {x}')  \n",
        "\n",
        "  inner() # invoke inner function\n",
        "\n",
        "# invoke outer function\n",
        "outer()"
      ],
      "execution_count": 3,
      "outputs": [
        {
          "output_type": "stream",
          "name": "stdout",
          "text": [
            "inner: 26\n"
          ]
        }
      ]
    },
    {
      "cell_type": "code",
      "metadata": {
        "colab": {
          "base_uri": "https://localhost:8080/"
        },
        "id": "s2gbYJbpCncZ",
        "outputId": "e34855ed-aabd-4730-b6b8-e51caa9060d7"
      },
      "source": [
        "outer()\n",
        "outer()"
      ],
      "execution_count": 5,
      "outputs": [
        {
          "output_type": "stream",
          "name": "stdout",
          "text": [
            "inner: 26\n",
            "inner: 26\n"
          ]
        }
      ]
    },
    {
      "cell_type": "markdown",
      "metadata": {
        "id": "iEvpLw81C9DQ"
      },
      "source": [
        "## Closure\n",
        "\n",
        "In the case of **closure, the inner() is returned from the outer() instead of invoking the inner**."
      ]
    },
    {
      "cell_type": "code",
      "metadata": {
        "id": "Wt9eAD8sCp8J"
      },
      "source": [
        "# Nested function using nonlocal scope variable aka free variable.\n",
        "# Closure\n",
        "def outer():\n",
        "  x = 25\n",
        "\n",
        "  def inner():\n",
        "    nonlocal x\n",
        "    x = x +1\n",
        "    print(f'inner: {x}') # uses nonlocal scope x\n",
        "\n",
        "  return inner # return inner function\n",
        "\n",
        "# invoke outer function\n",
        "func = outer()"
      ],
      "execution_count": 41,
      "outputs": []
    },
    {
      "cell_type": "code",
      "metadata": {
        "colab": {
          "base_uri": "https://localhost:8080/"
        },
        "id": "KG5QhVf6DcqE",
        "outputId": "ff61cde7-48bc-448f-d8c3-1da11f0d03f1"
      },
      "source": [
        "func()"
      ],
      "execution_count": 42,
      "outputs": [
        {
          "output_type": "stream",
          "name": "stdout",
          "text": [
            "inner: 26\n"
          ]
        }
      ]
    },
    {
      "cell_type": "code",
      "metadata": {
        "colab": {
          "base_uri": "https://localhost:8080/"
        },
        "id": "Gifnjjyr-hJV",
        "outputId": "57c910fc-4033-4132-dc3b-bff5fb327ef5"
      },
      "source": [
        "func.__code__.co_freevars"
      ],
      "execution_count": 43,
      "outputs": [
        {
          "output_type": "execute_result",
          "data": {
            "text/plain": [
              "('x',)"
            ]
          },
          "metadata": {},
          "execution_count": 43
        }
      ]
    },
    {
      "cell_type": "code",
      "metadata": {
        "colab": {
          "base_uri": "https://localhost:8080/"
        },
        "id": "Y7ZTKIOP-nD5",
        "outputId": "e7fc5681-7013-4871-8cb0-3c917632865d"
      },
      "source": [
        "len(func.__code__.co_freevars)"
      ],
      "execution_count": 44,
      "outputs": [
        {
          "output_type": "execute_result",
          "data": {
            "text/plain": [
              "1"
            ]
          },
          "metadata": {},
          "execution_count": 44
        }
      ]
    },
    {
      "cell_type": "code",
      "metadata": {
        "colab": {
          "base_uri": "https://localhost:8080/"
        },
        "id": "jGwXtRTD-rVY",
        "outputId": "927fec00-d5a2-4f04-c779-6cff3f72078b"
      },
      "source": [
        "func.__closure__"
      ],
      "execution_count": 45,
      "outputs": [
        {
          "output_type": "execute_result",
          "data": {
            "text/plain": [
              "(<cell at 0x7f3c24ebc290: int object at 0x55c59891ed20>,)"
            ]
          },
          "metadata": {},
          "execution_count": 45
        }
      ]
    },
    {
      "cell_type": "code",
      "metadata": {
        "colab": {
          "base_uri": "https://localhost:8080/"
        },
        "id": "Tv-c8X0I-zN7",
        "outputId": "6528d862-bca3-4155-a330-dcc869fb4c14"
      },
      "source": [
        "len(func.__closure__)"
      ],
      "execution_count": 46,
      "outputs": [
        {
          "output_type": "execute_result",
          "data": {
            "text/plain": [
              "1"
            ]
          },
          "metadata": {},
          "execution_count": 46
        }
      ]
    },
    {
      "cell_type": "code",
      "metadata": {
        "colab": {
          "base_uri": "https://localhost:8080/"
        },
        "id": "r2UoeJHWDjps",
        "outputId": "bb6aaa7f-132f-49d6-d7fa-43663e898d2c"
      },
      "source": [
        "func(), func(), func()"
      ],
      "execution_count": 10,
      "outputs": [
        {
          "output_type": "stream",
          "name": "stdout",
          "text": [
            "inner: 27\n",
            "inner: 28\n",
            "inner: 29\n"
          ]
        },
        {
          "output_type": "execute_result",
          "data": {
            "text/plain": [
              "(None, None, None)"
            ]
          },
          "metadata": {},
          "execution_count": 10
        }
      ]
    },
    {
      "cell_type": "code",
      "metadata": {
        "colab": {
          "base_uri": "https://localhost:8080/"
        },
        "id": "XjwdCtNEDxD3",
        "outputId": "d43e5637-0d56-4476-f25f-13948c363c74"
      },
      "source": [
        "func.__closure__"
      ],
      "execution_count": 11,
      "outputs": [
        {
          "output_type": "execute_result",
          "data": {
            "text/plain": [
              "(<cell at 0x7ff030410990: int object at 0x5636c54bdd80>,)"
            ]
          },
          "metadata": {},
          "execution_count": 11
        }
      ]
    },
    {
      "cell_type": "markdown",
      "metadata": {
        "id": "IzENi3zHFaIy"
      },
      "source": [
        "### Counter using Closures"
      ]
    },
    {
      "cell_type": "code",
      "metadata": {
        "id": "dlR1I9w9FN4f"
      },
      "source": [
        "def counter():\n",
        "  count = 0\n",
        "\n",
        "  def inc():\n",
        "    nonlocal count\n",
        "    count += 1\n",
        "    return count\n",
        "\n",
        "  return inc # return inner function\n",
        "\n",
        "\n",
        "f = counter()"
      ],
      "execution_count": 12,
      "outputs": []
    },
    {
      "cell_type": "code",
      "metadata": {
        "colab": {
          "base_uri": "https://localhost:8080/"
        },
        "id": "6atF8KrcFw6V",
        "outputId": "071b68cb-1a33-490b-cfb4-7b03e5aacb97"
      },
      "source": [
        "f(), f(), f()"
      ],
      "execution_count": 13,
      "outputs": [
        {
          "output_type": "execute_result",
          "data": {
            "text/plain": [
              "(1, 2, 3)"
            ]
          },
          "metadata": {},
          "execution_count": 13
        }
      ]
    },
    {
      "cell_type": "markdown",
      "metadata": {
        "id": "5_GEJErDw60S"
      },
      "source": [
        "**Write a closure that takes a function and then check whether the function passed has a docstring with more than 50 characters. 50 is stored as a free variable.**"
      ]
    },
    {
      "cell_type": "code",
      "metadata": {
        "id": "bHvaAY6bymeA"
      },
      "source": [
        "def test_func():\n",
        "  '''\n",
        "  This is a test function.\n",
        "  '''\n",
        "  pass\n",
        "\n",
        "def test2_func():\n",
        "  '''\n",
        "  This is a test function using closures in python. This checks the length of the doc string.\n",
        "  '''\n",
        "  pass"
      ],
      "execution_count": 1,
      "outputs": []
    },
    {
      "cell_type": "code",
      "metadata": {
        "colab": {
          "base_uri": "https://localhost:8080/"
        },
        "id": "kprcG4fsyqqp",
        "outputId": "870b90db-8530-4fb0-c9c2-1b02d3051998"
      },
      "source": [
        "test_func.__doc__, len(test_func.__doc__)"
      ],
      "execution_count": 3,
      "outputs": [
        {
          "output_type": "execute_result",
          "data": {
            "text/plain": [
              "('\\n  This is a test function.\\n  ', 30)"
            ]
          },
          "metadata": {},
          "execution_count": 3
        }
      ]
    },
    {
      "cell_type": "code",
      "metadata": {
        "colab": {
          "base_uri": "https://localhost:8080/"
        },
        "id": "_U2qZU0byys_",
        "outputId": "5d28c6d4-1489-40a6-fa48-5000487ee372"
      },
      "source": [
        "test2_func.__doc__, len(test2_func.__doc__)"
      ],
      "execution_count": 4,
      "outputs": [
        {
          "output_type": "execute_result",
          "data": {
            "text/plain": [
              "('\\n  This is a test function using closures in python. This checks the length of the doc string.\\n  ',\n",
              " 97)"
            ]
          },
          "metadata": {},
          "execution_count": 4
        }
      ]
    },
    {
      "cell_type": "code",
      "metadata": {
        "id": "YFrGPXozFyqp"
      },
      "source": [
        "\n",
        "def check_doc_string(fn : 'function'):\n",
        "  '''\n",
        "  This is a closure.\n",
        "  '''\n",
        "  max_size = 50\n",
        "\n",
        "  if callable(fn) == False:\n",
        "    raise TypeError(f'{fn} is not a function')\n",
        "\n",
        "  def inner():\n",
        "    if len(fn.__doc__) > max_size:\n",
        "      return True\n",
        "    else:\n",
        "      return False\n",
        "\n",
        "  return inner # return the inner function\n",
        "\n",
        "\n",
        "func = check_doc_string(test_func)"
      ],
      "execution_count": 9,
      "outputs": []
    },
    {
      "cell_type": "code",
      "metadata": {
        "colab": {
          "base_uri": "https://localhost:8080/"
        },
        "id": "JouOSdLhy5cx",
        "outputId": "9b67c861-cc59-4728-b02a-76fe52683eb5"
      },
      "source": [
        "func()"
      ],
      "execution_count": 10,
      "outputs": [
        {
          "output_type": "execute_result",
          "data": {
            "text/plain": [
              "False"
            ]
          },
          "metadata": {},
          "execution_count": 10
        }
      ]
    },
    {
      "cell_type": "code",
      "metadata": {
        "colab": {
          "base_uri": "https://localhost:8080/"
        },
        "id": "RhiiS-NAzRYt",
        "outputId": "95f7520e-606c-4ccf-feb6-2fa55f3bf05d"
      },
      "source": [
        "check_doc_string(test2_func)()"
      ],
      "execution_count": 13,
      "outputs": [
        {
          "output_type": "execute_result",
          "data": {
            "text/plain": [
              "True"
            ]
          },
          "metadata": {},
          "execution_count": 13
        }
      ]
    },
    {
      "cell_type": "code",
      "metadata": {
        "colab": {
          "base_uri": "https://localhost:8080/",
          "height": 300
        },
        "id": "3iPNlRTQzf6z",
        "outputId": "a29ff2b5-2fff-406a-ee00-e383da7361d4"
      },
      "source": [
        "fn2 = 10\n",
        "check_doc_string(fn2)()"
      ],
      "execution_count": 16,
      "outputs": [
        {
          "output_type": "error",
          "ename": "TypeError",
          "evalue": "ignored",
          "traceback": [
            "\u001b[0;31m---------------------------------------------------------------------------\u001b[0m",
            "\u001b[0;31mTypeError\u001b[0m                                 Traceback (most recent call last)",
            "\u001b[0;32m<ipython-input-16-106c07c97d2f>\u001b[0m in \u001b[0;36m<module>\u001b[0;34m()\u001b[0m\n\u001b[1;32m      1\u001b[0m \u001b[0mfn2\u001b[0m \u001b[0;34m=\u001b[0m \u001b[0;36m10\u001b[0m\u001b[0;34m\u001b[0m\u001b[0;34m\u001b[0m\u001b[0m\n\u001b[0;32m----> 2\u001b[0;31m \u001b[0mcheck_doc_string\u001b[0m\u001b[0;34m(\u001b[0m\u001b[0mfn2\u001b[0m\u001b[0;34m)\u001b[0m\u001b[0;34m\u001b[0m\u001b[0;34m\u001b[0m\u001b[0m\n\u001b[0m",
            "\u001b[0;32m<ipython-input-9-757c77366953>\u001b[0m in \u001b[0;36mcheck_doc_string\u001b[0;34m(fn)\u001b[0m\n\u001b[1;32m      7\u001b[0m \u001b[0;34m\u001b[0m\u001b[0m\n\u001b[1;32m      8\u001b[0m   \u001b[0;32mif\u001b[0m \u001b[0mcallable\u001b[0m\u001b[0;34m(\u001b[0m\u001b[0mfn\u001b[0m\u001b[0;34m)\u001b[0m \u001b[0;34m==\u001b[0m \u001b[0;32mFalse\u001b[0m\u001b[0;34m:\u001b[0m\u001b[0;34m\u001b[0m\u001b[0;34m\u001b[0m\u001b[0m\n\u001b[0;32m----> 9\u001b[0;31m     \u001b[0;32mraise\u001b[0m \u001b[0mTypeError\u001b[0m\u001b[0;34m(\u001b[0m\u001b[0;34mf'{fn} is not a function'\u001b[0m\u001b[0;34m)\u001b[0m\u001b[0;34m\u001b[0m\u001b[0;34m\u001b[0m\u001b[0m\n\u001b[0m\u001b[1;32m     10\u001b[0m \u001b[0;34m\u001b[0m\u001b[0m\n\u001b[1;32m     11\u001b[0m   \u001b[0;32mdef\u001b[0m \u001b[0minner\u001b[0m\u001b[0;34m(\u001b[0m\u001b[0;34m)\u001b[0m\u001b[0;34m:\u001b[0m\u001b[0;34m\u001b[0m\u001b[0;34m\u001b[0m\u001b[0m\n",
            "\u001b[0;31mTypeError\u001b[0m: 10 is not a function"
          ]
        }
      ]
    },
    {
      "cell_type": "code",
      "metadata": {
        "id": "mw76fmX6Abt8"
      },
      "source": [
        "def check_func_doc_string(fn : 'function') -> 'closure\\'s inner function':\n",
        "    '''\n",
        "    This function checks the input function's doc string length is\n",
        "    atleast 50 characters long.\n",
        "\n",
        "    Input:\n",
        "        fn: function\n",
        "\n",
        "    Returns:\n",
        "        function - inner function which checks doc string.\n",
        "    '''\n",
        "    min_doc_str_size = 50 \n",
        "\n",
        "    if not callable(fn):\n",
        "        raise TypeError(f'The input {fn} is not a function.')\n",
        "\n",
        "    def check_doc_string() -> bool:\n",
        "        '''\n",
        "        This inner function checks the input functions doc string length.\n",
        "        Returns\n",
        "            True - if it is/more than min_doc_str_size.\n",
        "            False - otherwise\n",
        "        '''\n",
        "        if len(fn.__doc__) >= min_doc_str_size:\n",
        "            print(f'check_doc_string: doc str len - {len(fn.__doc__)}')\n",
        "            print(f'{fn.__doc__}')\n",
        "            return True\n",
        "        else:\n",
        "            return False\n",
        "\n",
        "    return check_doc_string"
      ],
      "execution_count": 49,
      "outputs": []
    },
    {
      "cell_type": "code",
      "metadata": {
        "colab": {
          "base_uri": "https://localhost:8080/"
        },
        "id": "lYs7-oerAeTE",
        "outputId": "75173546-a68e-4150-9a20-47d9cd0caa11"
      },
      "source": [
        "help(check_func_doc_string)"
      ],
      "execution_count": 50,
      "outputs": [
        {
          "output_type": "stream",
          "name": "stdout",
          "text": [
            "Help on function check_func_doc_string in module __main__:\n",
            "\n",
            "check_func_doc_string(fn: 'function') -> \"closure's inner function\"\n",
            "    This function checks the input function's doc string length is\n",
            "    atleast 50 characters long.\n",
            "    \n",
            "    Input:\n",
            "        fn: function\n",
            "    \n",
            "    Returns:\n",
            "        function - inner function which checks doc string.\n",
            "\n"
          ]
        }
      ]
    },
    {
      "cell_type": "markdown",
      "metadata": {
        "id": "ZM6qkfwl2LSf"
      },
      "source": [
        "**Write a closure that gives you the next Fibonacci number**"
      ]
    },
    {
      "cell_type": "code",
      "metadata": {
        "id": "3_-xANWw0wCv"
      },
      "source": [
        "def next_fibonaaci_num():\n",
        "  fib_num = 1\n",
        "  prev_fib_num = 0\n",
        "  is_first = True\n",
        "\n",
        "  def inner():\n",
        "    nonlocal is_first\n",
        "    nonlocal fib_num\n",
        "    nonlocal prev_fib_num\n",
        "\n",
        "    if is_first:\n",
        "      is_first = False # reset the flag\n",
        "      return fib_num\n",
        "    else:\n",
        "      temp = fib_num\n",
        "      fib_num = fib_num + prev_fib_num # get new fib num\n",
        "      prev_fib_num = temp # update \n",
        "      return fib_num\n",
        "\n",
        "  return inner\n",
        "\n",
        "\n",
        "fib = next_fibonaaci_num()"
      ],
      "execution_count": 21,
      "outputs": []
    },
    {
      "cell_type": "code",
      "metadata": {
        "colab": {
          "base_uri": "https://localhost:8080/"
        },
        "id": "16OTWaHF6-mK",
        "outputId": "a07bbcc8-d214-4fe8-d9fd-10eeae44565c"
      },
      "source": [
        "fib(), fib(), fib(), fib(), fib(), fib(), fib()"
      ],
      "execution_count": 22,
      "outputs": [
        {
          "output_type": "execute_result",
          "data": {
            "text/plain": [
              "(1, 1, 2, 3, 5, 8, 13)"
            ]
          },
          "metadata": {},
          "execution_count": 22
        }
      ]
    },
    {
      "cell_type": "code",
      "metadata": {
        "id": "bZ4AbSYzE5EU"
      },
      "source": [
        "def gen_fibonacci_num() -> 'closure function':\n",
        "    '''\n",
        "    This is a closure function, which generates the fibonacci numbers.\n",
        "\n",
        "    Input: \n",
        "        None\n",
        "\n",
        "    Returns:\n",
        "        closure function - on invocation generates fibonacci numbers\n",
        "    '''\n",
        "    fib_num = 1\n",
        "    prev_fib_num = 0\n",
        "    is_first = True\n",
        "\n",
        "    def next_fibonacci_num() -> int:\n",
        "        '''\n",
        "        generate the next fibonacci number.\n",
        "        '''\n",
        "        nonlocal fib_num, prev_fib_num, is_first\n",
        "\n",
        "        if is_first:\n",
        "            # reset the flag\n",
        "            is_first = False\n",
        "            return fib_num\n",
        "        else:\n",
        "            # generate the next fib num\n",
        "            temp = fib_num\n",
        "            fib_num = fib_num + prev_fib_num\n",
        "            prev_fib_num = temp\n",
        "            return fib_num\n",
        "    \n",
        "    return next_fibonacci_num"
      ],
      "execution_count": 59,
      "outputs": []
    },
    {
      "cell_type": "code",
      "metadata": {
        "id": "onCet_U7E626"
      },
      "source": [
        "fib = gen_fibonacci_num()"
      ],
      "execution_count": 60,
      "outputs": []
    },
    {
      "cell_type": "code",
      "metadata": {
        "colab": {
          "base_uri": "https://localhost:8080/"
        },
        "id": "6d9K2IFpE96C",
        "outputId": "7b5ae1c6-0c91-4321-ed74-749ce9e33255"
      },
      "source": [
        "fib.__closure__"
      ],
      "execution_count": 61,
      "outputs": [
        {
          "output_type": "execute_result",
          "data": {
            "text/plain": [
              "(<cell at 0x7f3c24f33ad0: int object at 0x55c59891ea00>,\n",
              " <cell at 0x7f3c24f33610: bool object at 0x55c59887a100>,\n",
              " <cell at 0x7f3c24f33590: int object at 0x55c59891e9e0>)"
            ]
          },
          "metadata": {},
          "execution_count": 61
        }
      ]
    },
    {
      "cell_type": "code",
      "metadata": {
        "colab": {
          "base_uri": "https://localhost:8080/"
        },
        "id": "64pMs_UpFB6F",
        "outputId": "b8c308bf-9635-412a-e7d7-3f0e1243bcc0"
      },
      "source": [
        "fib(), fib(), fib(), fib(), fib(), fib()"
      ],
      "execution_count": 62,
      "outputs": [
        {
          "output_type": "execute_result",
          "data": {
            "text/plain": [
              "(1, 1, 2, 3, 5, 8)"
            ]
          },
          "metadata": {},
          "execution_count": 62
        }
      ]
    },
    {
      "cell_type": "code",
      "metadata": {
        "colab": {
          "base_uri": "https://localhost:8080/"
        },
        "id": "7qZ01UTOI7mw",
        "outputId": "aa1d15f1-33c9-4af9-8532-fa3fa0b8d25b"
      },
      "source": [
        "help(gen_fibonacci_num)"
      ],
      "execution_count": 63,
      "outputs": [
        {
          "output_type": "stream",
          "name": "stdout",
          "text": [
            "Help on function gen_fibonacci_num in module __main__:\n",
            "\n",
            "gen_fibonacci_num() -> 'closure function'\n",
            "    This is a closure function, which generates the fibonacci numbers.\n",
            "    \n",
            "    Input: \n",
            "        None\n",
            "    \n",
            "    Returns:\n",
            "        closure function - on invocation generates fibonacci numbers\n",
            "\n"
          ]
        }
      ]
    },
    {
      "cell_type": "markdown",
      "metadata": {
        "id": "VIAhmS8dDjTz"
      },
      "source": [
        "**Write a closure that keeps track how many times add/mult/div functions were called and update the global dictionary with the counts.**"
      ]
    },
    {
      "cell_type": "code",
      "metadata": {
        "id": "Lv1DNKAz7Sbj"
      },
      "source": [
        "count_dict = { 'add': 0, 'mult': 0, 'div': 0 }\n",
        "\n",
        "def counter(fn):\n",
        " \n",
        "  cnt = 0\n",
        "\n",
        "  if not callable(fn):\n",
        "    raise TypeError(f'The input {fn} is not a function.')\n",
        "\n",
        "  if fn.__name__ not in ['add', 'mult', 'div']:\n",
        "    raise ValueError(f'The input function {fn} is not add/ mult/ div.')\n",
        "\n",
        "  def operation(*args, **kwargs):\n",
        "    global count_dict \n",
        "    nonlocal cnt\n",
        "    cnt += 1\n",
        "    count_dict[fn.__name__] = cnt\n",
        "\n",
        "    return fn(*args, **kwargs)\n",
        "\n",
        "  return operation\n",
        "\n",
        "\n",
        "###\n",
        "def add(x, y):\n",
        "  return x + y\n",
        "\n",
        "def mult(x, y):\n",
        "  return x * y\n",
        "\n",
        "def div(x, y):\n",
        "  return x/y\n",
        "\n",
        "counter_add = counter(add)\n",
        "counter_mult = counter(mult)\n",
        "counter_div  = counter(div)"
      ],
      "execution_count": 35,
      "outputs": []
    },
    {
      "cell_type": "code",
      "metadata": {
        "colab": {
          "base_uri": "https://localhost:8080/"
        },
        "id": "67iW19FXGUO7",
        "outputId": "4c33d8f6-341e-49be-d875-a5f62ea7967f"
      },
      "source": [
        "counter_add(1, 2)"
      ],
      "execution_count": 36,
      "outputs": [
        {
          "output_type": "execute_result",
          "data": {
            "text/plain": [
              "3"
            ]
          },
          "metadata": {},
          "execution_count": 36
        }
      ]
    },
    {
      "cell_type": "code",
      "metadata": {
        "colab": {
          "base_uri": "https://localhost:8080/"
        },
        "id": "YZJYcMvxGW1B",
        "outputId": "e288cdf5-0026-43fb-f009-83d49afffd19"
      },
      "source": [
        "count_dict"
      ],
      "execution_count": 37,
      "outputs": [
        {
          "output_type": "execute_result",
          "data": {
            "text/plain": [
              "{'add': 1, 'div': 0, 'mult': 0}"
            ]
          },
          "metadata": {},
          "execution_count": 37
        }
      ]
    },
    {
      "cell_type": "code",
      "metadata": {
        "colab": {
          "base_uri": "https://localhost:8080/"
        },
        "id": "99LPfDUjGZCP",
        "outputId": "5fefc0e1-163a-44e6-df68-ec9d1292f19f"
      },
      "source": [
        "counter_add(2,3), counter_add(3, 7), count_dict"
      ],
      "execution_count": 38,
      "outputs": [
        {
          "output_type": "execute_result",
          "data": {
            "text/plain": [
              "(5, 10, {'add': 3, 'div': 0, 'mult': 0})"
            ]
          },
          "metadata": {},
          "execution_count": 38
        }
      ]
    },
    {
      "cell_type": "code",
      "metadata": {
        "colab": {
          "base_uri": "https://localhost:8080/"
        },
        "id": "LAFwM8jCGe9I",
        "outputId": "6e3b5415-3e54-47fc-ff1e-c29f9cef78ec"
      },
      "source": [
        "counter_mult(2, 3), counter_mult(4, 5), counter_mult(6, 6), counter_div(4, 2), counter_div(64, 8) "
      ],
      "execution_count": 39,
      "outputs": [
        {
          "output_type": "execute_result",
          "data": {
            "text/plain": [
              "(6, 20, 36, 2.0, 8.0)"
            ]
          },
          "metadata": {},
          "execution_count": 39
        }
      ]
    },
    {
      "cell_type": "code",
      "metadata": {
        "colab": {
          "base_uri": "https://localhost:8080/"
        },
        "id": "gllCH0LYGyw_",
        "outputId": "589e2b73-6637-4c4e-b271-18ae5df33029"
      },
      "source": [
        "count_dict"
      ],
      "execution_count": 40,
      "outputs": [
        {
          "output_type": "execute_result",
          "data": {
            "text/plain": [
              "{'add': 3, 'div': 2, 'mult': 3}"
            ]
          },
          "metadata": {},
          "execution_count": 40
        }
      ]
    },
    {
      "cell_type": "code",
      "metadata": {
        "colab": {
          "base_uri": "https://localhost:8080/",
          "height": 300
        },
        "id": "Jj5tC2YfG0zg",
        "outputId": "202a3e58-ea9b-4303-9e3b-1bc902656b66"
      },
      "source": [
        "a = 10\n",
        "counter(a)"
      ],
      "execution_count": 41,
      "outputs": [
        {
          "output_type": "error",
          "ename": "TypeError",
          "evalue": "ignored",
          "traceback": [
            "\u001b[0;31m---------------------------------------------------------------------------\u001b[0m",
            "\u001b[0;31mTypeError\u001b[0m                                 Traceback (most recent call last)",
            "\u001b[0;32m<ipython-input-41-0ceaa37ff2f2>\u001b[0m in \u001b[0;36m<module>\u001b[0;34m()\u001b[0m\n\u001b[1;32m      1\u001b[0m \u001b[0ma\u001b[0m \u001b[0;34m=\u001b[0m \u001b[0;36m10\u001b[0m\u001b[0;34m\u001b[0m\u001b[0;34m\u001b[0m\u001b[0m\n\u001b[0;32m----> 2\u001b[0;31m \u001b[0mcounter\u001b[0m\u001b[0;34m(\u001b[0m\u001b[0ma\u001b[0m\u001b[0;34m)\u001b[0m\u001b[0;34m\u001b[0m\u001b[0;34m\u001b[0m\u001b[0m\n\u001b[0m",
            "\u001b[0;32m<ipython-input-35-b4b15f0b68a4>\u001b[0m in \u001b[0;36mcounter\u001b[0;34m(fn)\u001b[0m\n\u001b[1;32m      4\u001b[0m \u001b[0;34m\u001b[0m\u001b[0m\n\u001b[1;32m      5\u001b[0m   \u001b[0;32mif\u001b[0m \u001b[0;32mnot\u001b[0m \u001b[0mcallable\u001b[0m\u001b[0;34m(\u001b[0m\u001b[0mfn\u001b[0m\u001b[0;34m)\u001b[0m\u001b[0;34m:\u001b[0m\u001b[0;34m\u001b[0m\u001b[0;34m\u001b[0m\u001b[0m\n\u001b[0;32m----> 6\u001b[0;31m     \u001b[0;32mraise\u001b[0m \u001b[0mTypeError\u001b[0m\u001b[0;34m(\u001b[0m\u001b[0;34mf'The input {fn} is not a function type.'\u001b[0m\u001b[0;34m)\u001b[0m\u001b[0;34m\u001b[0m\u001b[0;34m\u001b[0m\u001b[0m\n\u001b[0m\u001b[1;32m      7\u001b[0m \u001b[0;34m\u001b[0m\u001b[0m\n\u001b[1;32m      8\u001b[0m   \u001b[0;32mif\u001b[0m \u001b[0mfn\u001b[0m\u001b[0;34m.\u001b[0m\u001b[0m__name__\u001b[0m \u001b[0;32mnot\u001b[0m \u001b[0;32min\u001b[0m \u001b[0;34m[\u001b[0m\u001b[0;34m'add'\u001b[0m\u001b[0;34m,\u001b[0m \u001b[0;34m'mult'\u001b[0m\u001b[0;34m,\u001b[0m \u001b[0;34m'div'\u001b[0m\u001b[0;34m]\u001b[0m\u001b[0;34m:\u001b[0m\u001b[0;34m\u001b[0m\u001b[0;34m\u001b[0m\u001b[0m\n",
            "\u001b[0;31mTypeError\u001b[0m: The input 10 is not a function type."
          ]
        }
      ]
    },
    {
      "cell_type": "code",
      "metadata": {
        "id": "9OJ5DXJVX-ni"
      },
      "source": [
        "## Different implementation\n",
        "def add(x, y):\n",
        "    '''\n",
        "    Function which adds two numbers.\n",
        "    '''\n",
        "    return x + y\n",
        "\n",
        "def mult(x, y):\n",
        "    '''\n",
        "    Function which multiplies two numbers.\n",
        "    '''\n",
        "    return x * y\n",
        "\n",
        "def div(x, y):\n",
        "    '''\n",
        "    Function which divides two numbers.\n",
        "    '''\n",
        "    if y == 0:\n",
        "        raise ValueError('Denominator can not be zero!')\n",
        "    else:\n",
        "        return x/y\n",
        "\n",
        "counter_dict = dict()\n",
        "\n",
        "def counter(fn : 'function'):\n",
        "    '''\n",
        "    This is a closure function to track how many times a function is called.\n",
        "\n",
        "    Input: \n",
        "        fn : function which needs to tracked\n",
        "\n",
        "    Returns:\n",
        "        inner closure function.\n",
        "    '''\n",
        "    cnt = 0\n",
        "\n",
        "    def inner(*args, **kwargs):\n",
        "        nonlocal cnt\n",
        "\n",
        "        cnt += 1\n",
        "        counter_dict[fn.__name__] = cnt\n",
        "        return fn(*args, **kwargs)\n",
        "\n",
        "    return inner\n",
        "  "
      ],
      "execution_count": 3,
      "outputs": []
    },
    {
      "cell_type": "code",
      "metadata": {
        "id": "wkjOYYrnYJHb"
      },
      "source": [
        "cnt_add = counter(add)\n",
        "cnt_mult = counter(mult)\n",
        "cnt_div = counter(div)"
      ],
      "execution_count": 65,
      "outputs": []
    },
    {
      "cell_type": "code",
      "metadata": {
        "colab": {
          "base_uri": "https://localhost:8080/"
        },
        "id": "MYbz7B3fYcSc",
        "outputId": "5ffbc043-d82b-4c3b-af2a-b1665b6e8685"
      },
      "source": [
        "cnt_add(10, 20), cnt_add(2, 3), cnt_add(4, 5), cnt_mult(2, 5), cnt_mult(40, 20), cnt_div(8,4)"
      ],
      "execution_count": 66,
      "outputs": [
        {
          "output_type": "execute_result",
          "data": {
            "text/plain": [
              "(30, 5, 9, 10, 800, 2.0)"
            ]
          },
          "metadata": {},
          "execution_count": 66
        }
      ]
    },
    {
      "cell_type": "code",
      "metadata": {
        "colab": {
          "base_uri": "https://localhost:8080/"
        },
        "id": "Tnbc72rZYpX7",
        "outputId": "17a2f4c1-7e32-48a7-d7b5-2aadd1cbdba5"
      },
      "source": [
        "counter_dict"
      ],
      "execution_count": 67,
      "outputs": [
        {
          "output_type": "execute_result",
          "data": {
            "text/plain": [
              "{'add': 3, 'div': 1, 'mult': 2}"
            ]
          },
          "metadata": {},
          "execution_count": 67
        }
      ]
    },
    {
      "cell_type": "code",
      "metadata": {
        "colab": {
          "base_uri": "https://localhost:8080/"
        },
        "id": "yD_MK1YQYzWp",
        "outputId": "f29e3def-1d85-494e-d11e-6f60747385d6"
      },
      "source": [
        "help(counter)"
      ],
      "execution_count": 70,
      "outputs": [
        {
          "output_type": "stream",
          "name": "stdout",
          "text": [
            "Help on function counter in module __main__:\n",
            "\n",
            "counter(fn: 'function')\n",
            "    This is a closure function to track how many times a function is called.\n",
            "    \n",
            "    Input: \n",
            "        fn : function which needs to tracked\n",
            "    \n",
            "    Returns:\n",
            "        inner closure function.\n",
            "\n"
          ]
        }
      ]
    },
    {
      "cell_type": "code",
      "metadata": {
        "colab": {
          "base_uri": "https://localhost:8080/"
        },
        "id": "vO20pc-3ZEPF",
        "outputId": "52f47796-78ed-484d-a132-502e46f917db"
      },
      "source": [
        "help(add)"
      ],
      "execution_count": 71,
      "outputs": [
        {
          "output_type": "stream",
          "name": "stdout",
          "text": [
            "Help on function add in module __main__:\n",
            "\n",
            "add(x, y)\n",
            "    Function which adds two numbers.\n",
            "\n"
          ]
        }
      ]
    },
    {
      "cell_type": "code",
      "metadata": {
        "colab": {
          "base_uri": "https://localhost:8080/"
        },
        "id": "ClguBna4ZHZN",
        "outputId": "43c2f611-e502-4592-9b3f-b9c04f6fd072"
      },
      "source": [
        "help(mult)"
      ],
      "execution_count": 73,
      "outputs": [
        {
          "output_type": "stream",
          "name": "stdout",
          "text": [
            "Help on function mult in module __main__:\n",
            "\n",
            "mult(x, y)\n",
            "    Function which multiplies two numbers.\n",
            "\n"
          ]
        }
      ]
    },
    {
      "cell_type": "code",
      "metadata": {
        "colab": {
          "base_uri": "https://localhost:8080/"
        },
        "id": "5s9uPxqJZMSC",
        "outputId": "7536c79b-1c88-426c-b6c6-838ac15cb58e"
      },
      "source": [
        "help(div)"
      ],
      "execution_count": 77,
      "outputs": [
        {
          "output_type": "stream",
          "name": "stdout",
          "text": [
            "Help on function div in module __main__:\n",
            "\n",
            "div(x, y)\n",
            "    Function which divides two numbers.\n",
            "\n"
          ]
        }
      ]
    },
    {
      "cell_type": "markdown",
      "metadata": {
        "id": "t_SUb1p4YKXF"
      },
      "source": [
        "## Another Implementation"
      ]
    },
    {
      "cell_type": "code",
      "metadata": {
        "id": "4KmZP0g-Jqx0"
      },
      "source": [
        "\n",
        "counter_dict = { 'add': 0, 'mult': 0, 'div': 0 }\n",
        "\n",
        "def counter():\n",
        "  add_cnt = 0\n",
        "  mult_cnt = 0\n",
        "  div_cnt  = 0\n",
        "\n",
        "  def add(x, y):\n",
        "    nonlocal add_cnt\n",
        "    add_cnt += 1\n",
        "    counter_dict['add'] = add_cnt\n",
        "    return x + y\n",
        "\n",
        "  def mult(x, y):\n",
        "    nonlocal mult_cnt\n",
        "    mult_cnt += 1\n",
        "    counter_dict['mult'] = mult_cnt\n",
        "    return x * y\n",
        "\n",
        "  def div(x, y):\n",
        "    nonlocal div_cnt\n",
        "    div_cnt += 1\n",
        "    counter_dict['div'] = div_cnt\n",
        "    return x/y\n",
        "\n",
        "  return add, mult, div\n",
        "\n",
        "add, mult, div = counter()\n"
      ],
      "execution_count": 1,
      "outputs": []
    },
    {
      "cell_type": "code",
      "metadata": {
        "colab": {
          "base_uri": "https://localhost:8080/"
        },
        "id": "QUgBPLR8wyiO",
        "outputId": "cafc8f0c-7f5b-44b2-e7f6-81bb615abf5c"
      },
      "source": [
        "add(2, 3), add(3,5), add(10, 45), mult(2, 5), mult(9,5), div(8, 2), div(16,4), div(18, 4)"
      ],
      "execution_count": 2,
      "outputs": [
        {
          "output_type": "execute_result",
          "data": {
            "text/plain": [
              "(5, 8, 55, 10, 45, 4.0, 4.0, 4.5)"
            ]
          },
          "metadata": {},
          "execution_count": 2
        }
      ]
    },
    {
      "cell_type": "code",
      "metadata": {
        "colab": {
          "base_uri": "https://localhost:8080/"
        },
        "id": "usx51KbNxB_R",
        "outputId": "a47bada3-0701-4a4a-eca5-cda622b24a7b"
      },
      "source": [
        "counter_dict"
      ],
      "execution_count": 3,
      "outputs": [
        {
          "output_type": "execute_result",
          "data": {
            "text/plain": [
              "{'add': 3, 'div': 3, 'mult': 2}"
            ]
          },
          "metadata": {},
          "execution_count": 3
        }
      ]
    },
    {
      "cell_type": "code",
      "metadata": {
        "colab": {
          "base_uri": "https://localhost:8080/"
        },
        "id": "8hPbfNP63MSM",
        "outputId": "7dcd2c9b-a6ae-4132-993a-67e006779099"
      },
      "source": [
        "type(counter_dict)"
      ],
      "execution_count": 4,
      "outputs": [
        {
          "output_type": "execute_result",
          "data": {
            "text/plain": [
              "dict"
            ]
          },
          "metadata": {},
          "execution_count": 4
        }
      ]
    },
    {
      "cell_type": "markdown",
      "metadata": {
        "id": "cbWJZtVo2hyS"
      },
      "source": [
        "## Modify above closure to take a counter dictionary."
      ]
    },
    {
      "cell_type": "code",
      "metadata": {
        "id": "qgr4mobi-SE-"
      },
      "source": [
        "def counter_with_dict(fn : 'function', cnt_dict: 'dict'):\n",
        "    '''\n",
        "    This is a counter wrapper which can take the dictionary.\n",
        "    This updates the passed in dictionary with the number of times \n",
        "    the input function being called.\n",
        "\n",
        "    Inputs:\n",
        "        fn : function to be tracked\n",
        "        cnt_dict: dictionary to store count\n",
        "\n",
        "    Returns:\n",
        "        inner closure function\n",
        "    '''\n",
        "    if type(cnt_dict) is not dict:\n",
        "        raise TypeError(f'The input {cnt_dict} is not dictionary type.')\n",
        "\n",
        "    if callable(fn) == False:\n",
        "        raise TypeError(f'The input {fn} is not a function!')\n",
        "\n",
        "    cnt = 0\n",
        "    def inner(*args, **kwargs):\n",
        "        nonlocal cnt\n",
        "        cnt += 1\n",
        "        cnt_dict[fn.__name__] = cnt\n",
        "        return fn(*args, **kwargs)\n",
        "\n",
        "    return inner"
      ],
      "execution_count": 6,
      "outputs": []
    },
    {
      "cell_type": "code",
      "metadata": {
        "colab": {
          "base_uri": "https://localhost:8080/"
        },
        "id": "m26Cv9w_-UF_",
        "outputId": "45f6c4d4-fe4c-4b54-e1e1-bdc244287a6a"
      },
      "source": [
        "help(counter_with_dict)"
      ],
      "execution_count": 2,
      "outputs": [
        {
          "output_type": "stream",
          "name": "stdout",
          "text": [
            "Help on function counter_with_dict in module __main__:\n",
            "\n",
            "counter_with_dict(fn: 'function', cnt_dict: 'dict')\n",
            "    This is a counter wrapper which can take the dictionary.\n",
            "    This updates the passed in dictionary with the number of times \n",
            "    the input function being called.\n",
            "    \n",
            "    Inputs:\n",
            "        fn : function to be tracked\n",
            "        cnt_dict: dictionary to store count\n",
            "    \n",
            "    Returns:\n",
            "        inner closure function\n",
            "\n"
          ]
        }
      ]
    },
    {
      "cell_type": "code",
      "metadata": {
        "id": "W02dFch5_J26"
      },
      "source": [
        "dict1 = dict()\n",
        "dict2 = dict()\n",
        "\n",
        "add1 = counter_with_dict(add, dict1)\n",
        "mult1 = counter_with_dict(mult, dict1)\n",
        "div1 = counter_with_dict(div, dict1)\n",
        "\n",
        "add2 = counter_with_dict(add, dict2)\n",
        "mult2 = counter_with_dict(mult, dict2)\n",
        "div2 = counter_with_dict(div, dict2)"
      ],
      "execution_count": 7,
      "outputs": []
    },
    {
      "cell_type": "code",
      "metadata": {
        "colab": {
          "base_uri": "https://localhost:8080/"
        },
        "id": "tsn-AjuB_m_h",
        "outputId": "413c51e9-3fe3-4563-8320-19c4dcb12a92"
      },
      "source": [
        "[add1(20, 40) for _ in range(5)]\n",
        "[mult1(9, 5) for _ in range(4)]\n",
        "[div1(9,4) for _ in range(3)]\n",
        "\n",
        "## use second dictionary\n",
        "[add2(30, 40) for _ in range(4)]\n",
        "[mult2(30, 40) for _ in range(3)]\n",
        "[div2(40, 30) for _ in range(2)]"
      ],
      "execution_count": 8,
      "outputs": [
        {
          "output_type": "execute_result",
          "data": {
            "text/plain": [
              "[1.3333333333333333, 1.3333333333333333]"
            ]
          },
          "metadata": {},
          "execution_count": 8
        }
      ]
    },
    {
      "cell_type": "code",
      "metadata": {
        "colab": {
          "base_uri": "https://localhost:8080/"
        },
        "id": "vZDjwF8gATI6",
        "outputId": "33f77378-1826-4d41-ac9e-70f60f528614"
      },
      "source": [
        "dict1"
      ],
      "execution_count": 9,
      "outputs": [
        {
          "output_type": "execute_result",
          "data": {
            "text/plain": [
              "{'add': 5, 'div': 3, 'mult': 4}"
            ]
          },
          "metadata": {},
          "execution_count": 9
        }
      ]
    },
    {
      "cell_type": "code",
      "metadata": {
        "colab": {
          "base_uri": "https://localhost:8080/"
        },
        "id": "BxU4e6tlAYet",
        "outputId": "a0d76fb6-b040-4f21-a0eb-a592d09c64ff"
      },
      "source": [
        "dict2"
      ],
      "execution_count": 10,
      "outputs": [
        {
          "output_type": "execute_result",
          "data": {
            "text/plain": [
              "{'add': 4, 'div': 2, 'mult': 3}"
            ]
          },
          "metadata": {},
          "execution_count": 10
        }
      ]
    },
    {
      "cell_type": "code",
      "metadata": {
        "id": "ajnKtULU-_m1"
      },
      "source": [
        ""
      ],
      "execution_count": 2,
      "outputs": []
    },
    {
      "cell_type": "markdown",
      "metadata": {
        "id": "Eui2veaN-RY-"
      },
      "source": [
        ""
      ]
    },
    {
      "cell_type": "markdown",
      "metadata": {
        "id": "7w1WIrU_-MQT"
      },
      "source": [
        "### Another implementation"
      ]
    },
    {
      "cell_type": "code",
      "metadata": {
        "id": "hWH7HeBXxDsr"
      },
      "source": [
        "def counter(cnt_dict):\n",
        "  '''\n",
        "  Closure to track how many times add / mult/ div are called.\n",
        "  '''\n",
        "  if type(cnt_dict) is not dict:\n",
        "    raise TypeError(f'Input {cnt_dict} is not dictionary type.')\n",
        "\n",
        "  # initialize the dictionary\n",
        "  cnt_dict['add'] = 0\n",
        "  cnt_dict['mult'] = 0\n",
        "  cnt_dict['div'] = 0\n",
        "  \n",
        "  def add(x, y):\n",
        "    cnt_dict['add'] +=1\n",
        "    return x + y\n",
        "\n",
        "  def mult(x, y):\n",
        "    cnt_dict['mult'] += 1\n",
        "    return x * y\n",
        "\n",
        "  def div(x, y):\n",
        "    cnt_dict['div'] += 1\n",
        "    return x/y\n",
        "\n",
        "  return add, mult, div\n",
        "\n"
      ],
      "execution_count": 28,
      "outputs": []
    },
    {
      "cell_type": "code",
      "metadata": {
        "colab": {
          "base_uri": "https://localhost:8080/"
        },
        "id": "D9xQGkAd4-lA",
        "outputId": "9717aaef-0151-4855-d506-12f5c9d5bce2"
      },
      "source": [
        "pgm1_dict = {}\n",
        "type(pgm1_dict)"
      ],
      "execution_count": 29,
      "outputs": [
        {
          "output_type": "execute_result",
          "data": {
            "text/plain": [
              "dict"
            ]
          },
          "metadata": {},
          "execution_count": 29
        }
      ]
    },
    {
      "cell_type": "code",
      "metadata": {
        "id": "g28OHmdy4UvJ"
      },
      "source": [
        "pgm1_dict = {}\n",
        "pgm1_add, pgm1_mult, pgm1_div = counter(pgm1_dict)\n",
        "\n",
        "pgm2_dict = {}\n",
        "pgm2_add, pgm2_mult, pgm2_div = counter(pgm2_dict)"
      ],
      "execution_count": 30,
      "outputs": []
    },
    {
      "cell_type": "code",
      "metadata": {
        "colab": {
          "base_uri": "https://localhost:8080/"
        },
        "id": "7UY0czay48i2",
        "outputId": "0e426365-81f8-4b07-88be-b0eaef25dfc2"
      },
      "source": [
        "pgm1_add(2, 4), pgm1_add(4, 6), pgm1_mult(8,5), pgm1_mult(3.0, 4.6), pgm1_div(895, 100)"
      ],
      "execution_count": 31,
      "outputs": [
        {
          "output_type": "execute_result",
          "data": {
            "text/plain": [
              "(6, 10, 40, 13.799999999999999, 8.95)"
            ]
          },
          "metadata": {},
          "execution_count": 31
        }
      ]
    },
    {
      "cell_type": "code",
      "metadata": {
        "colab": {
          "base_uri": "https://localhost:8080/"
        },
        "id": "YRHCFY3_6-VU",
        "outputId": "94290ef5-b3d0-436f-d2d8-300e1ce7010b"
      },
      "source": [
        "pgm2_add(2, 4), pgm2_add(4, 6), pgm2_mult(8,5), pgm2_mult(3.0, 4.6), pgm2_div(895, 100)"
      ],
      "execution_count": 32,
      "outputs": [
        {
          "output_type": "execute_result",
          "data": {
            "text/plain": [
              "(6, 10, 40, 13.799999999999999, 8.95)"
            ]
          },
          "metadata": {},
          "execution_count": 32
        }
      ]
    },
    {
      "cell_type": "code",
      "metadata": {
        "colab": {
          "base_uri": "https://localhost:8080/"
        },
        "id": "hV-s1-pI7hGx",
        "outputId": "48e9bf1c-8a07-4e8b-c336-9c5130231bab"
      },
      "source": [
        "print(pgm1_dict)\n",
        "print(pgm2_dict)"
      ],
      "execution_count": 33,
      "outputs": [
        {
          "output_type": "stream",
          "name": "stdout",
          "text": [
            "{'add': 2, 'mult': 2, 'div': 1}\n",
            "{'add': 2, 'mult': 2, 'div': 1}\n"
          ]
        }
      ]
    },
    {
      "cell_type": "markdown",
      "metadata": {
        "id": "U2eIcTvH6_xP"
      },
      "source": [
        "## Another implementation"
      ]
    },
    {
      "cell_type": "code",
      "metadata": {
        "id": "BIEUhrzM7lN_"
      },
      "source": [
        ""
      ],
      "execution_count": null,
      "outputs": []
    }
  ]
}