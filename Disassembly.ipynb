{
  "nbformat": 4,
  "nbformat_minor": 0,
  "metadata": {
    "colab": {
      "name": "Disassembly.ipynb",
      "provenance": [],
      "collapsed_sections": [],
      "authorship_tag": "ABX9TyNpELlbs55wsq6HTsVTo+1e",
      "include_colab_link": true
    },
    "kernelspec": {
      "name": "python3",
      "display_name": "Python 3"
    },
    "language_info": {
      "name": "python"
    }
  },
  "cells": [
    {
      "cell_type": "markdown",
      "metadata": {
        "id": "view-in-github",
        "colab_type": "text"
      },
      "source": [
        "<a href=\"https://colab.research.google.com/github/abalaji-blr/PythonLang/blob/main/Disassembly.ipynb\" target=\"_parent\"><img src=\"https://colab.research.google.com/assets/colab-badge.svg\" alt=\"Open In Colab\"/></a>"
      ]
    },
    {
      "cell_type": "markdown",
      "metadata": {
        "id": "A_mmWti3Fl-2"
      },
      "source": [
        "## Dis-assembly\n",
        "\n",
        "Ptyhon is interpreted language. However, they are compilied and interpreted.\n",
        "\n",
        "The python source code is compiled to **byte-code** and **interpreted** by the Ptyhon Virtual Machine (PVM). Note that byte-code is machine **independent**.\n",
        "\n",
        "**Python (.py) code --> compilation (byte code) --> Virtual Machine (interpreter)**\n",
        "\n",
        "More Resources:\n",
        "\n",
        "[Understanding Python Bytecode](https://towardsdatascience.com/understanding-python-bytecode-e7edaae8734d)\n",
        "\n",
        "\n",
        "\n"
      ]
    },
    {
      "cell_type": "code",
      "metadata": {
        "id": "8tXn1xY-FirQ"
      },
      "source": [
        "from dis import dis\n",
        "from timeit import timeit"
      ],
      "execution_count": 12,
      "outputs": []
    },
    {
      "cell_type": "code",
      "metadata": {
        "colab": {
          "base_uri": "https://localhost:8080/"
        },
        "id": "cI9F1tbtIban",
        "outputId": "67755d24-51a6-436f-ac60-f802794ed273"
      },
      "source": [
        "help(dis)"
      ],
      "execution_count": 2,
      "outputs": [
        {
          "output_type": "stream",
          "name": "stdout",
          "text": [
            "Help on function dis in module dis:\n",
            "\n",
            "dis(x=None, *, file=None, depth=None)\n",
            "    Disassemble classes, methods, functions, and other compiled objects.\n",
            "    \n",
            "    With no argument, disassemble the last traceback.\n",
            "    \n",
            "    Compiled objects currently include generator objects, async generator\n",
            "    objects, and coroutine objects, all of which store their code object\n",
            "    in a special attribute.\n",
            "\n"
          ]
        }
      ]
    },
    {
      "cell_type": "code",
      "metadata": {
        "colab": {
          "base_uri": "https://localhost:8080/"
        },
        "id": "yqez3pOEIxO-",
        "outputId": "c4eb9868-ee78-40f9-e581-ba8a03ccc3c8"
      },
      "source": [
        "help(compile)"
      ],
      "execution_count": 3,
      "outputs": [
        {
          "output_type": "stream",
          "name": "stdout",
          "text": [
            "Help on built-in function compile in module builtins:\n",
            "\n",
            "compile(source, filename, mode, flags=0, dont_inherit=False, optimize=-1)\n",
            "    Compile source into a code object that can be executed by exec() or eval().\n",
            "    \n",
            "    The source code may represent a Python module, statement or expression.\n",
            "    The filename will be used for run-time error messages.\n",
            "    The mode must be 'exec' to compile a module, 'single' to compile a\n",
            "    single (interactive) statement, or 'eval' to compile an expression.\n",
            "    The flags argument, if present, controls which future statements influence\n",
            "    the compilation of the code.\n",
            "    The dont_inherit argument, if true, stops the compilation inheriting\n",
            "    the effects of any future statements in effect in the code calling\n",
            "    compile; if absent or false these statements do influence the compilation,\n",
            "    in addition to any features explicitly specified.\n",
            "\n"
          ]
        }
      ]
    },
    {
      "cell_type": "code",
      "metadata": {
        "colab": {
          "base_uri": "https://localhost:8080/"
        },
        "id": "s2Pzc_81I3WK",
        "outputId": "86fa4482-6898-4523-9fd2-42703927ab51"
      },
      "source": [
        "def func():\n",
        "  return 10\n",
        "\n",
        "dis(func)"
      ],
      "execution_count": 5,
      "outputs": [
        {
          "output_type": "stream",
          "name": "stdout",
          "text": [
            "  2           0 LOAD_CONST               1 (10)\n",
            "              2 RETURN_VALUE\n"
          ]
        }
      ]
    },
    {
      "cell_type": "code",
      "metadata": {
        "colab": {
          "base_uri": "https://localhost:8080/"
        },
        "id": "6y8v1v00JUNf",
        "outputId": "97a6e355-2322-4e29-9208-ae20edd2ab8b"
      },
      "source": [
        "c = compile('[1, 2, 3, 4, 5, 6]', 'fname2', 'eval')\n",
        "dis(c)"
      ],
      "execution_count": 11,
      "outputs": [
        {
          "output_type": "stream",
          "name": "stdout",
          "text": [
            "  1           0 LOAD_CONST               0 (1)\n",
            "              2 LOAD_CONST               1 (2)\n",
            "              4 LOAD_CONST               2 (3)\n",
            "              6 LOAD_CONST               3 (4)\n",
            "              8 LOAD_CONST               4 (5)\n",
            "             10 LOAD_CONST               5 (6)\n",
            "             12 BUILD_LIST               6\n",
            "             14 RETURN_VALUE\n"
          ]
        }
      ]
    },
    {
      "cell_type": "code",
      "metadata": {
        "colab": {
          "base_uri": "https://localhost:8080/"
        },
        "id": "X10RXXqnJh-m",
        "outputId": "73794639-88d7-45e6-c862-6aee1162b7b6"
      },
      "source": [
        "compile('(1,2,3, \"a\")', 'fname', 'eval')"
      ],
      "execution_count": 8,
      "outputs": [
        {
          "output_type": "execute_result",
          "data": {
            "text/plain": [
              "<code object <module> at 0x7fddfb7dc390, file \"fname\", line 1>"
            ]
          },
          "metadata": {},
          "execution_count": 8
        }
      ]
    },
    {
      "cell_type": "code",
      "metadata": {
        "colab": {
          "base_uri": "https://localhost:8080/"
        },
        "id": "sdtbKv2rJ-zt",
        "outputId": "fea830fc-ae67-45c8-a32a-a2eb082de102"
      },
      "source": [
        "dis(compile('(1,2,3, \"a\")', 'fname', 'eval'))"
      ],
      "execution_count": 9,
      "outputs": [
        {
          "output_type": "stream",
          "name": "stdout",
          "text": [
            "  1           0 LOAD_CONST               0 ((1, 2, 3, 'a'))\n",
            "              2 RETURN_VALUE\n"
          ]
        }
      ]
    },
    {
      "cell_type": "markdown",
      "metadata": {
        "id": "4_QBwwuNUdfi"
      },
      "source": [
        "## timeit"
      ]
    },
    {
      "cell_type": "code",
      "metadata": {
        "colab": {
          "base_uri": "https://localhost:8080/"
        },
        "id": "5bpvbHi6KIY_",
        "outputId": "241be9ce-0a7e-4b95-affc-a41f5e873aae"
      },
      "source": [
        "help(timeit)"
      ],
      "execution_count": 13,
      "outputs": [
        {
          "output_type": "stream",
          "name": "stdout",
          "text": [
            "Help on function timeit in module timeit:\n",
            "\n",
            "timeit(stmt='pass', setup='pass', timer=<built-in function perf_counter>, number=1000000, globals=None)\n",
            "    Convenience function to create Timer object and call timeit method.\n",
            "\n"
          ]
        }
      ]
    },
    {
      "cell_type": "code",
      "metadata": {
        "colab": {
          "base_uri": "https://localhost:8080/"
        },
        "id": "16I04iMaUfkl",
        "outputId": "93360e39-d359-4929-b995-19e83a0cb4e5"
      },
      "source": [
        "timeit(\"(1, 2, 3, 4, 5, 6, 7)\", number=10_000_000)"
      ],
      "execution_count": 18,
      "outputs": [
        {
          "output_type": "execute_result",
          "data": {
            "text/plain": [
              "0.1411014779996549"
            ]
          },
          "metadata": {},
          "execution_count": 18
        }
      ]
    },
    {
      "cell_type": "code",
      "metadata": {
        "colab": {
          "base_uri": "https://localhost:8080/"
        },
        "id": "2hREgHzTUrRl",
        "outputId": "15e254ed-998b-422e-a94a-51107ca4941d"
      },
      "source": [
        "timeit(stmt='[1, 2, 3, 4, 5, 6, 7]', number=10_000_000)"
      ],
      "execution_count": 19,
      "outputs": [
        {
          "output_type": "execute_result",
          "data": {
            "text/plain": [
              "1.093694547999803"
            ]
          },
          "metadata": {},
          "execution_count": 19
        }
      ]
    },
    {
      "cell_type": "code",
      "metadata": {
        "id": "EsuTlpTyU2ga"
      },
      "source": [
        ""
      ],
      "execution_count": null,
      "outputs": []
    }
  ]
}