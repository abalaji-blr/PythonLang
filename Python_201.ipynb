{
  "nbformat": 4,
  "nbformat_minor": 0,
  "metadata": {
    "colab": {
      "name": "Python_201",
      "provenance": [],
      "collapsed_sections": [],
      "authorship_tag": "ABX9TyNmjnNdnAZnekCzPXjDMr0E",
      "include_colab_link": true
    },
    "kernelspec": {
      "name": "python3",
      "display_name": "Python 3"
    },
    "language_info": {
      "name": "python"
    }
  },
  "cells": [
    {
      "cell_type": "markdown",
      "metadata": {
        "id": "view-in-github",
        "colab_type": "text"
      },
      "source": [
        "<a href=\"https://colab.research.google.com/github/abalaji-blr/PythonLang/blob/main/Python_201.ipynb\" target=\"_parent\"><img src=\"https://colab.research.google.com/assets/colab-badge.svg\" alt=\"Open In Colab\"/></a>"
      ]
    },
    {
      "cell_type": "markdown",
      "metadata": {
        "id": "AHa3PskBhlp6"
      },
      "source": [
        "# Python 201\n"
      ]
    },
    {
      "cell_type": "markdown",
      "metadata": {
        "id": "Ya27d2r-hwMJ"
      },
      "source": [
        "## Variables are Memory References"
      ]
    },
    {
      "cell_type": "code",
      "metadata": {
        "colab": {
          "base_uri": "https://localhost:8080/"
        },
        "id": "HY9zH3C2hfRi",
        "outputId": "cda10ec4-c3ea-4782-9392-85076d5d8107"
      },
      "source": [
        "var = 10\n",
        "var234 = 5\n",
        "_var = 6\n",
        "print(var, var234, _var)"
      ],
      "execution_count": 2,
      "outputs": [
        {
          "output_type": "stream",
          "name": "stdout",
          "text": [
            "10 5 6\n"
          ]
        }
      ]
    },
    {
      "cell_type": "code",
      "metadata": {
        "colab": {
          "base_uri": "https://localhost:8080/"
        },
        "id": "WWIFNXYXkU2f",
        "outputId": "527514f6-ea18-4e6e-e4cb-004e5ebcaab3"
      },
      "source": [
        "var = 10\n",
        "print(f'var = {var}')\n",
        "print(f'var referring to memory address: {id(var)}')\n",
        "print(f'var referring to memory address in hex format: {hex(id(var))}')"
      ],
      "execution_count": 4,
      "outputs": [
        {
          "output_type": "stream",
          "name": "stdout",
          "text": [
            "var = 10\n",
            "var referring to memory address: 94795766668064\n",
            "var referring to memory address in hex format: 0x56375bff9b20\n"
          ]
        }
      ]
    },
    {
      "cell_type": "code",
      "metadata": {
        "colab": {
          "base_uri": "https://localhost:8080/"
        },
        "id": "tpYdCxxwlAuk",
        "outputId": "6fb69cf8-5897-4e5d-8c4e-33612502b26c"
      },
      "source": [
        "var = \"hello\"\n",
        "print(var)\n",
        "print(f'var referring to memory address: {id(var)}')\n",
        "print(f'var referring to memory address in hex format: {hex(id(var))}')"
      ],
      "execution_count": 6,
      "outputs": [
        {
          "output_type": "stream",
          "name": "stdout",
          "text": [
            "hello\n",
            "var referring to memory address: 140145483241904\n",
            "var referring to memory address in hex format: 0x7f7629bed9b0\n"
          ]
        }
      ]
    },
    {
      "cell_type": "code",
      "metadata": {
        "colab": {
          "base_uri": "https://localhost:8080/"
        },
        "id": "-55RrZ3nmCt8",
        "outputId": "e5b90d4c-d06c-42c2-a796-2bf8019253ca"
      },
      "source": [
        "var2 = \"hello\"\n",
        "print(var2)\n",
        "print(f'var referring to memory address: {id(var2)}')\n",
        "print(f'var referring to memory address in hex format: {hex(id(var2))}')"
      ],
      "execution_count": 7,
      "outputs": [
        {
          "output_type": "stream",
          "name": "stdout",
          "text": [
            "hello\n",
            "var referring to memory address: 140145483241904\n",
            "var referring to memory address in hex format: 0x7f7629bed9b0\n"
          ]
        }
      ]
    },
    {
      "cell_type": "markdown",
      "metadata": {
        "id": "yz2YWyQlmzt2"
      },
      "source": [
        "Note that: var and var2 are referring to the same memory location : \"hello\".\n"
      ]
    },
    {
      "cell_type": "markdown",
      "metadata": {
        "id": "JWMmOfpenHVI"
      },
      "source": [
        "## Reference Counting\n",
        "\n",
        "Note: Use python terminal to get the exact ref counts. When you use python notebook, it may display ref counts based on the number of python notebook tabs."
      ]
    },
    {
      "cell_type": "code",
      "metadata": {
        "colab": {
          "base_uri": "https://localhost:8080/"
        },
        "id": "PMpjgbRPmrTc",
        "outputId": "dc6004ce-8f22-4d8f-b6a9-a01779d33aef"
      },
      "source": [
        "import sys\n",
        "sys.getrefcount(var) ## depends on var being referred/used in different cells in the notebook"
      ],
      "execution_count": 9,
      "outputs": [
        {
          "output_type": "execute_result",
          "data": {
            "text/plain": [
              "7"
            ]
          },
          "metadata": {},
          "execution_count": 9
        }
      ]
    },
    {
      "cell_type": "code",
      "metadata": {
        "id": "3gmJdAdnnO32"
      },
      "source": [
        "import ctypes\n",
        "\n",
        "def ref_count(address):\n",
        "  return ctypes.c_long.from_address(address).value"
      ],
      "execution_count": 10,
      "outputs": []
    },
    {
      "cell_type": "code",
      "metadata": {
        "colab": {
          "base_uri": "https://localhost:8080/"
        },
        "id": "PmgOFhtqnkqf",
        "outputId": "aa1ce45f-7d02-449a-c291-4ba80152e6b8"
      },
      "source": [
        "temp_var = 200\n",
        "ref_count(id(temp_var))"
      ],
      "execution_count": 13,
      "outputs": [
        {
          "output_type": "execute_result",
          "data": {
            "text/plain": [
              "32"
            ]
          },
          "metadata": {},
          "execution_count": 13
        }
      ]
    },
    {
      "cell_type": "code",
      "metadata": {
        "id": "NwBkAyPqnn95"
      },
      "source": [
        "import ctypes\n",
        "\n",
        "ctypes. "
      ],
      "execution_count": 1,
      "outputs": []
    },
    {
      "cell_type": "markdown",
      "metadata": {
        "id": "cGIH-bLAtdu-"
      },
      "source": [
        "## Garbage Collection"
      ]
    },
    {
      "cell_type": "code",
      "metadata": {
        "id": "Yxxg1gI5ly4J"
      },
      "source": [
        "import gc"
      ],
      "execution_count": 2,
      "outputs": []
    },
    {
      "cell_type": "code",
      "metadata": {
        "colab": {
          "base_uri": "https://localhost:8080/"
        },
        "id": "yjEtuImits37",
        "outputId": "2d8a9203-4426-4d36-d89d-4c17e0241343"
      },
      "source": [
        "print(len(gc.get_objects()))\n",
        "\n",
        "#for obj in gc.get_objects():\n",
        "#  print(id(obj))\n",
        "\n",
        "# gc.disable()"
      ],
      "execution_count": 7,
      "outputs": [
        {
          "output_type": "stream",
          "name": "stdout",
          "text": [
            "110694\n"
          ]
        }
      ]
    },
    {
      "cell_type": "code",
      "metadata": {
        "colab": {
          "base_uri": "https://localhost:8080/"
        },
        "id": "onrXw4x8uCh4",
        "outputId": "bdb27f35-cb47-4876-c0b4-65ec3a18ef87"
      },
      "source": [
        "# invoke garbage collector\n",
        "gc.collect()\n",
        "\n",
        "print(len(gc.get_objects()))"
      ],
      "execution_count": 8,
      "outputs": [
        {
          "output_type": "stream",
          "name": "stdout",
          "text": [
            "109338\n"
          ]
        }
      ]
    },
    {
      "cell_type": "markdown",
      "metadata": {
        "id": "AoYzXuc6vUWd"
      },
      "source": [
        "## Dynamic Typing"
      ]
    },
    {
      "cell_type": "code",
      "metadata": {
        "colab": {
          "base_uri": "https://localhost:8080/"
        },
        "id": "JIW3-ow-vBHv",
        "outputId": "6fb47eba-83bf-4084-b3e4-b36b871d65fa"
      },
      "source": [
        "a = 10\n",
        "b = \"hello\"\n",
        "c = 10.23\n",
        "d = True\n",
        "f = None\n",
        "g = lambda x, y: x+y\n",
        "\n",
        "class my_class:\n",
        "  pass\n",
        "\n",
        "mc = my_class\n",
        "\n",
        "def my_func():\n",
        "  pass\n",
        "\n",
        "\n",
        "h = mc\n",
        "j = my_func\n",
        "\n",
        "my_list = [a, b, c, d, f, g, h, j]\n",
        "for elem in my_list:\n",
        "  print(f'elem: {elem} type: {type(elem)}')\n"
      ],
      "execution_count": 16,
      "outputs": [
        {
          "output_type": "stream",
          "name": "stdout",
          "text": [
            "elem: 10 type: <class 'int'>\n",
            "elem: hello type: <class 'str'>\n",
            "elem: 10.23 type: <class 'float'>\n",
            "elem: True type: <class 'bool'>\n",
            "elem: None type: <class 'NoneType'>\n",
            "elem: <function <lambda> at 0x7f3a64b41050> type: <class 'function'>\n",
            "elem: <class '__main__.my_class'> type: <class 'type'>\n",
            "elem: <function my_func at 0x7f3a64b41200> type: <class 'function'>\n"
          ]
        }
      ]
    },
    {
      "cell_type": "markdown",
      "metadata": {
        "id": "6uBRMs_hznax"
      },
      "source": [
        "## Object Mutability"
      ]
    },
    {
      "cell_type": "markdown",
      "metadata": {
        "id": "bK1AfM2Q0gX8"
      },
      "source": [
        "### Lists - Mutable. ie., the contents are modifiable."
      ]
    },
    {
      "cell_type": "code",
      "metadata": {
        "colab": {
          "base_uri": "https://localhost:8080/"
        },
        "id": "ra4EON8lvqE_",
        "outputId": "d5347ead-9113-4cca-d79b-e4e050b79efb"
      },
      "source": [
        "my_list = [1, 2, 3]\n",
        "my_list, id(my_list)"
      ],
      "execution_count": 17,
      "outputs": [
        {
          "output_type": "execute_result",
          "data": {
            "text/plain": [
              "([1, 2, 3], 139888774831392)"
            ]
          },
          "metadata": {},
          "execution_count": 17
        }
      ]
    },
    {
      "cell_type": "code",
      "metadata": {
        "colab": {
          "base_uri": "https://localhost:8080/"
        },
        "id": "RRDW3LVz0uBt",
        "outputId": "2f4f97bc-6d2a-4f95-8f4b-c33d11b29883"
      },
      "source": [
        "my_list.append(4)\n",
        "my_list[0] = 20\n",
        "my_list, id(my_list)"
      ],
      "execution_count": 19,
      "outputs": [
        {
          "output_type": "execute_result",
          "data": {
            "text/plain": [
              "([20, 2, 3, 4, 4], 139888774831392)"
            ]
          },
          "metadata": {},
          "execution_count": 19
        }
      ]
    },
    {
      "cell_type": "markdown",
      "metadata": {
        "id": "6nf5fDLI1NZz"
      },
      "source": [
        "## Dictionaries - elements are mutable"
      ]
    },
    {
      "cell_type": "code",
      "metadata": {
        "colab": {
          "base_uri": "https://localhost:8080/"
        },
        "id": "A4jWgEIr0zEH",
        "outputId": "56606fe2-021e-43fb-d79b-0c643bffb594"
      },
      "source": [
        "my_tbl = dict(key1 = 'value 1')\n",
        "my_tbl, id(my_tbl)"
      ],
      "execution_count": 20,
      "outputs": [
        {
          "output_type": "execute_result",
          "data": {
            "text/plain": [
              "({'key1': 'value 1'}, 139888774756864)"
            ]
          },
          "metadata": {},
          "execution_count": 20
        }
      ]
    },
    {
      "cell_type": "code",
      "metadata": {
        "colab": {
          "base_uri": "https://localhost:8080/"
        },
        "id": "WxB_5nkL2DFs",
        "outputId": "6d5ae160-4410-4144-db20-02409aec2bb6"
      },
      "source": [
        "my_tbl['key1'] = 'value 2'\n",
        "my_tbl, id(my_tbl)"
      ],
      "execution_count": 22,
      "outputs": [
        {
          "output_type": "execute_result",
          "data": {
            "text/plain": [
              "({'key1': 'value 2'}, 139888774756864)"
            ]
          },
          "metadata": {},
          "execution_count": 22
        }
      ]
    },
    {
      "cell_type": "markdown",
      "metadata": {
        "id": "X6s6DGWkUEbv"
      },
      "source": [
        "### Tuples\n",
        "\n",
        "**Tuple object is immutable.**\n",
        "\n",
        "**Note that Tuple-object-element is mutable.**"
      ]
    },
    {
      "cell_type": "code",
      "metadata": {
        "id": "ChRwOPXr2KWv"
      },
      "source": [
        "t = (1,2, 3)"
      ],
      "execution_count": 1,
      "outputs": []
    },
    {
      "cell_type": "code",
      "metadata": {
        "colab": {
          "base_uri": "https://localhost:8080/",
          "height": 164
        },
        "id": "BKGyYvzhUIh4",
        "outputId": "a53f9669-7cb7-47f5-efd4-a28f7a992dea"
      },
      "source": [
        "t[0] = 4"
      ],
      "execution_count": 2,
      "outputs": [
        {
          "output_type": "error",
          "ename": "TypeError",
          "evalue": "ignored",
          "traceback": [
            "\u001b[0;31m---------------------------------------------------------------------------\u001b[0m",
            "\u001b[0;31mTypeError\u001b[0m                                 Traceback (most recent call last)",
            "\u001b[0;32m<ipython-input-2-08a0409f2124>\u001b[0m in \u001b[0;36m<module>\u001b[0;34m()\u001b[0m\n\u001b[0;32m----> 1\u001b[0;31m \u001b[0mt\u001b[0m\u001b[0;34m[\u001b[0m\u001b[0;36m0\u001b[0m\u001b[0;34m]\u001b[0m \u001b[0;34m=\u001b[0m \u001b[0;36m4\u001b[0m\u001b[0;34m\u001b[0m\u001b[0;34m\u001b[0m\u001b[0m\n\u001b[0m",
            "\u001b[0;31mTypeError\u001b[0m: 'tuple' object does not support item assignment"
          ]
        }
      ]
    },
    {
      "cell_type": "code",
      "metadata": {
        "id": "nm17NjkzUK4o"
      },
      "source": [
        "l1 = [4, 5, 6]\n",
        "l2 = [7, 8, 9]\n",
        "t2 =  ( l1, l2)"
      ],
      "execution_count": 4,
      "outputs": []
    },
    {
      "cell_type": "code",
      "metadata": {
        "colab": {
          "base_uri": "https://localhost:8080/"
        },
        "id": "5TCOopaIUljc",
        "outputId": "2d85059e-be96-41d3-dc7c-07d9b9a747ed"
      },
      "source": [
        "print(t2)\n",
        "\n",
        "t2[0].append(7)\n",
        "print(t2)"
      ],
      "execution_count": 5,
      "outputs": [
        {
          "output_type": "stream",
          "name": "stdout",
          "text": [
            "([4, 5, 6], [7, 8, 9])\n",
            "([4, 5, 6, 7], [7, 8, 9])\n"
          ]
        }
      ]
    },
    {
      "cell_type": "markdown",
      "metadata": {
        "id": "MKSgVXfTVlCs"
      },
      "source": [
        "## Variable Equality"
      ]
    },
    {
      "cell_type": "code",
      "metadata": {
        "colab": {
          "base_uri": "https://localhost:8080/"
        },
        "id": "jjB9l7EPUuN0",
        "outputId": "6a381690-0204-488d-853a-00f07ed8b877"
      },
      "source": [
        "a = 10\n",
        "b = 10\n",
        "# address will be same\n",
        "id(a), id(b)"
      ],
      "execution_count": 6,
      "outputs": [
        {
          "output_type": "execute_result",
          "data": {
            "text/plain": [
              "(94668936829728, 94668936829728)"
            ]
          },
          "metadata": {},
          "execution_count": 6
        }
      ]
    },
    {
      "cell_type": "code",
      "metadata": {
        "colab": {
          "base_uri": "https://localhost:8080/"
        },
        "id": "Q4S8yVHzVtUm",
        "outputId": "a11a1c6b-525d-49d1-e6ef-8ca7da18612a"
      },
      "source": [
        "# address comparison\n",
        "a is b"
      ],
      "execution_count": 7,
      "outputs": [
        {
          "output_type": "execute_result",
          "data": {
            "text/plain": [
              "True"
            ]
          },
          "metadata": {},
          "execution_count": 7
        }
      ]
    },
    {
      "cell_type": "code",
      "metadata": {
        "colab": {
          "base_uri": "https://localhost:8080/"
        },
        "id": "MsWN03YAV0xU",
        "outputId": "ae4e58ba-f9e7-41a4-9ac1-7359a9bb7081"
      },
      "source": [
        "## cotent comparison\n",
        "a == b"
      ],
      "execution_count": 9,
      "outputs": [
        {
          "output_type": "execute_result",
          "data": {
            "text/plain": [
              "True"
            ]
          },
          "metadata": {},
          "execution_count": 9
        }
      ]
    },
    {
      "cell_type": "code",
      "metadata": {
        "colab": {
          "base_uri": "https://localhost:8080/"
        },
        "id": "KRdcEAssV2CU",
        "outputId": "d1b4f0f7-04b1-44a1-a301-e50efa2d2abf"
      },
      "source": [
        "a = [1, 2, 3]\n",
        "b = [1, 2, 3]\n",
        "id(a), id(b)"
      ],
      "execution_count": 10,
      "outputs": [
        {
          "output_type": "execute_result",
          "data": {
            "text/plain": [
              "(140476209621824, 140476209619184)"
            ]
          },
          "metadata": {},
          "execution_count": 10
        }
      ]
    },
    {
      "cell_type": "code",
      "metadata": {
        "colab": {
          "base_uri": "https://localhost:8080/"
        },
        "id": "O2EoLX4MWEUp",
        "outputId": "52fd61be-ee3e-4692-8146-82ddd4bf3447"
      },
      "source": [
        "a is b"
      ],
      "execution_count": 11,
      "outputs": [
        {
          "output_type": "execute_result",
          "data": {
            "text/plain": [
              "False"
            ]
          },
          "metadata": {},
          "execution_count": 11
        }
      ]
    },
    {
      "cell_type": "code",
      "metadata": {
        "colab": {
          "base_uri": "https://localhost:8080/"
        },
        "id": "0i7fzlLdWGZe",
        "outputId": "64b8319d-0b0c-4989-fe2e-0a96578b778c"
      },
      "source": [
        "a == b"
      ],
      "execution_count": 12,
      "outputs": [
        {
          "output_type": "execute_result",
          "data": {
            "text/plain": [
              "True"
            ]
          },
          "metadata": {},
          "execution_count": 12
        }
      ]
    },
    {
      "cell_type": "markdown",
      "metadata": {
        "id": "vuWPEDXkWZMZ"
      },
      "source": [
        "## In Python - Everything is Object"
      ]
    },
    {
      "cell_type": "code",
      "metadata": {
        "colab": {
          "base_uri": "https://localhost:8080/"
        },
        "id": "rX3pDqG3WH8d",
        "outputId": "f04622b0-3e84-4cbb-dafa-34de4da1e6f3"
      },
      "source": [
        "a = 10\n",
        "type(a)"
      ],
      "execution_count": 13,
      "outputs": [
        {
          "output_type": "execute_result",
          "data": {
            "text/plain": [
              "int"
            ]
          },
          "metadata": {},
          "execution_count": 13
        }
      ]
    },
    {
      "cell_type": "code",
      "metadata": {
        "colab": {
          "base_uri": "https://localhost:8080/"
        },
        "id": "Yh1ltHJ6WfFr",
        "outputId": "3d84a108-058e-4650-9a8c-33416ff9b3e1"
      },
      "source": [
        "help(int)"
      ],
      "execution_count": 14,
      "outputs": [
        {
          "output_type": "stream",
          "name": "stdout",
          "text": [
            "Help on class int in module builtins:\n",
            "\n",
            "class int(object)\n",
            " |  int([x]) -> integer\n",
            " |  int(x, base=10) -> integer\n",
            " |  \n",
            " |  Convert a number or string to an integer, or return 0 if no arguments\n",
            " |  are given.  If x is a number, return x.__int__().  For floating point\n",
            " |  numbers, this truncates towards zero.\n",
            " |  \n",
            " |  If x is not a number or if base is given, then x must be a string,\n",
            " |  bytes, or bytearray instance representing an integer literal in the\n",
            " |  given base.  The literal can be preceded by '+' or '-' and be surrounded\n",
            " |  by whitespace.  The base defaults to 10.  Valid bases are 0 and 2-36.\n",
            " |  Base 0 means to interpret the base from the string as an integer literal.\n",
            " |  >>> int('0b100', base=0)\n",
            " |  4\n",
            " |  \n",
            " |  Methods defined here:\n",
            " |  \n",
            " |  __abs__(self, /)\n",
            " |      abs(self)\n",
            " |  \n",
            " |  __add__(self, value, /)\n",
            " |      Return self+value.\n",
            " |  \n",
            " |  __and__(self, value, /)\n",
            " |      Return self&value.\n",
            " |  \n",
            " |  __bool__(self, /)\n",
            " |      self != 0\n",
            " |  \n",
            " |  __ceil__(...)\n",
            " |      Ceiling of an Integral returns itself.\n",
            " |  \n",
            " |  __divmod__(self, value, /)\n",
            " |      Return divmod(self, value).\n",
            " |  \n",
            " |  __eq__(self, value, /)\n",
            " |      Return self==value.\n",
            " |  \n",
            " |  __float__(self, /)\n",
            " |      float(self)\n",
            " |  \n",
            " |  __floor__(...)\n",
            " |      Flooring an Integral returns itself.\n",
            " |  \n",
            " |  __floordiv__(self, value, /)\n",
            " |      Return self//value.\n",
            " |  \n",
            " |  __format__(self, format_spec, /)\n",
            " |      Default object formatter.\n",
            " |  \n",
            " |  __ge__(self, value, /)\n",
            " |      Return self>=value.\n",
            " |  \n",
            " |  __getattribute__(self, name, /)\n",
            " |      Return getattr(self, name).\n",
            " |  \n",
            " |  __getnewargs__(self, /)\n",
            " |  \n",
            " |  __gt__(self, value, /)\n",
            " |      Return self>value.\n",
            " |  \n",
            " |  __hash__(self, /)\n",
            " |      Return hash(self).\n",
            " |  \n",
            " |  __index__(self, /)\n",
            " |      Return self converted to an integer, if self is suitable for use as an index into a list.\n",
            " |  \n",
            " |  __int__(self, /)\n",
            " |      int(self)\n",
            " |  \n",
            " |  __invert__(self, /)\n",
            " |      ~self\n",
            " |  \n",
            " |  __le__(self, value, /)\n",
            " |      Return self<=value.\n",
            " |  \n",
            " |  __lshift__(self, value, /)\n",
            " |      Return self<<value.\n",
            " |  \n",
            " |  __lt__(self, value, /)\n",
            " |      Return self<value.\n",
            " |  \n",
            " |  __mod__(self, value, /)\n",
            " |      Return self%value.\n",
            " |  \n",
            " |  __mul__(self, value, /)\n",
            " |      Return self*value.\n",
            " |  \n",
            " |  __ne__(self, value, /)\n",
            " |      Return self!=value.\n",
            " |  \n",
            " |  __neg__(self, /)\n",
            " |      -self\n",
            " |  \n",
            " |  __or__(self, value, /)\n",
            " |      Return self|value.\n",
            " |  \n",
            " |  __pos__(self, /)\n",
            " |      +self\n",
            " |  \n",
            " |  __pow__(self, value, mod=None, /)\n",
            " |      Return pow(self, value, mod).\n",
            " |  \n",
            " |  __radd__(self, value, /)\n",
            " |      Return value+self.\n",
            " |  \n",
            " |  __rand__(self, value, /)\n",
            " |      Return value&self.\n",
            " |  \n",
            " |  __rdivmod__(self, value, /)\n",
            " |      Return divmod(value, self).\n",
            " |  \n",
            " |  __repr__(self, /)\n",
            " |      Return repr(self).\n",
            " |  \n",
            " |  __rfloordiv__(self, value, /)\n",
            " |      Return value//self.\n",
            " |  \n",
            " |  __rlshift__(self, value, /)\n",
            " |      Return value<<self.\n",
            " |  \n",
            " |  __rmod__(self, value, /)\n",
            " |      Return value%self.\n",
            " |  \n",
            " |  __rmul__(self, value, /)\n",
            " |      Return value*self.\n",
            " |  \n",
            " |  __ror__(self, value, /)\n",
            " |      Return value|self.\n",
            " |  \n",
            " |  __round__(...)\n",
            " |      Rounding an Integral returns itself.\n",
            " |      Rounding with an ndigits argument also returns an integer.\n",
            " |  \n",
            " |  __rpow__(self, value, mod=None, /)\n",
            " |      Return pow(value, self, mod).\n",
            " |  \n",
            " |  __rrshift__(self, value, /)\n",
            " |      Return value>>self.\n",
            " |  \n",
            " |  __rshift__(self, value, /)\n",
            " |      Return self>>value.\n",
            " |  \n",
            " |  __rsub__(self, value, /)\n",
            " |      Return value-self.\n",
            " |  \n",
            " |  __rtruediv__(self, value, /)\n",
            " |      Return value/self.\n",
            " |  \n",
            " |  __rxor__(self, value, /)\n",
            " |      Return value^self.\n",
            " |  \n",
            " |  __sizeof__(self, /)\n",
            " |      Returns size in memory, in bytes.\n",
            " |  \n",
            " |  __str__(self, /)\n",
            " |      Return str(self).\n",
            " |  \n",
            " |  __sub__(self, value, /)\n",
            " |      Return self-value.\n",
            " |  \n",
            " |  __truediv__(self, value, /)\n",
            " |      Return self/value.\n",
            " |  \n",
            " |  __trunc__(...)\n",
            " |      Truncating an Integral returns itself.\n",
            " |  \n",
            " |  __xor__(self, value, /)\n",
            " |      Return self^value.\n",
            " |  \n",
            " |  bit_length(self, /)\n",
            " |      Number of bits necessary to represent self in binary.\n",
            " |      \n",
            " |      >>> bin(37)\n",
            " |      '0b100101'\n",
            " |      >>> (37).bit_length()\n",
            " |      6\n",
            " |  \n",
            " |  conjugate(...)\n",
            " |      Returns self, the complex conjugate of any int.\n",
            " |  \n",
            " |  to_bytes(self, /, length, byteorder, *, signed=False)\n",
            " |      Return an array of bytes representing an integer.\n",
            " |      \n",
            " |      length\n",
            " |        Length of bytes object to use.  An OverflowError is raised if the\n",
            " |        integer is not representable with the given number of bytes.\n",
            " |      byteorder\n",
            " |        The byte order used to represent the integer.  If byteorder is 'big',\n",
            " |        the most significant byte is at the beginning of the byte array.  If\n",
            " |        byteorder is 'little', the most significant byte is at the end of the\n",
            " |        byte array.  To request the native byte order of the host system, use\n",
            " |        `sys.byteorder' as the byte order value.\n",
            " |      signed\n",
            " |        Determines whether two's complement is used to represent the integer.\n",
            " |        If signed is False and a negative integer is given, an OverflowError\n",
            " |        is raised.\n",
            " |  \n",
            " |  ----------------------------------------------------------------------\n",
            " |  Class methods defined here:\n",
            " |  \n",
            " |  from_bytes(bytes, byteorder, *, signed=False) from builtins.type\n",
            " |      Return the integer represented by the given array of bytes.\n",
            " |      \n",
            " |      bytes\n",
            " |        Holds the array of bytes to convert.  The argument must either\n",
            " |        support the buffer protocol or be an iterable object producing bytes.\n",
            " |        Bytes and bytearray are examples of built-in objects that support the\n",
            " |        buffer protocol.\n",
            " |      byteorder\n",
            " |        The byte order used to represent the integer.  If byteorder is 'big',\n",
            " |        the most significant byte is at the beginning of the byte array.  If\n",
            " |        byteorder is 'little', the most significant byte is at the end of the\n",
            " |        byte array.  To request the native byte order of the host system, use\n",
            " |        `sys.byteorder' as the byte order value.\n",
            " |      signed\n",
            " |        Indicates whether two's complement is used to represent the integer.\n",
            " |  \n",
            " |  ----------------------------------------------------------------------\n",
            " |  Static methods defined here:\n",
            " |  \n",
            " |  __new__(*args, **kwargs) from builtins.type\n",
            " |      Create and return a new object.  See help(type) for accurate signature.\n",
            " |  \n",
            " |  ----------------------------------------------------------------------\n",
            " |  Data descriptors defined here:\n",
            " |  \n",
            " |  denominator\n",
            " |      the denominator of a rational number in lowest terms\n",
            " |  \n",
            " |  imag\n",
            " |      the imaginary part of a complex number\n",
            " |  \n",
            " |  numerator\n",
            " |      the numerator of a rational number in lowest terms\n",
            " |  \n",
            " |  real\n",
            " |      the real part of a complex number\n",
            "\n"
          ]
        }
      ]
    },
    {
      "cell_type": "code",
      "metadata": {
        "colab": {
          "base_uri": "https://localhost:8080/"
        },
        "id": "PnVvexFYWgez",
        "outputId": "a9fb9ae4-8d3f-400e-980a-7fa912b74b87"
      },
      "source": [
        "a.__add__(20)"
      ],
      "execution_count": 15,
      "outputs": [
        {
          "output_type": "execute_result",
          "data": {
            "text/plain": [
              "30"
            ]
          },
          "metadata": {},
          "execution_count": 15
        }
      ]
    },
    {
      "cell_type": "code",
      "metadata": {
        "id": "7HK1se-IWv4L"
      },
      "source": [
        ""
      ],
      "execution_count": null,
      "outputs": []
    }
  ]
}